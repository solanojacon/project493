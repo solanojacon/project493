{
 "cells": [
  {
   "cell_type": "code",
   "execution_count": 1,
   "metadata": {},
   "outputs": [],
   "source": [
    "import pandas as pd\n",
    "import sys\n",
    "import os\n",
    "sys.path.append(os.path.dirname(os.getcwd()))\n",
<<<<<<< HEAD
    "import joblib\n",
    "from wanna_buy_house.data import final_treatment, get_data, clean_data\n",
    "from wanna_buy_house.utils import final_transformer\n",
    "from wanna_buy_house.trainer import Trainer\n",
    "import warnings"
=======
    "\n",
    "from wanna_buy_house.data import final_treatment, get_data, clean_data\n",
    "from wanna_buy_house.utils import final_transformer"
>>>>>>> 9696076df5745f74fba89ee1934b45f0acdcee76
   ]
  },
  {
   "cell_type": "code",
<<<<<<< HEAD
   "execution_count": 2,
   "metadata": {},
   "outputs": [
    {
     "name": "stdout",
     "output_type": "stream",
     "text": [
      "get_data 0.29\n"
     ]
    },
    {
     "data": {
      "text/html": [
       "<div>\n",
       "<style scoped>\n",
       "    .dataframe tbody tr th:only-of-type {\n",
       "        vertical-align: middle;\n",
       "    }\n",
       "\n",
       "    .dataframe tbody tr th {\n",
       "        vertical-align: top;\n",
       "    }\n",
       "\n",
       "    .dataframe thead th {\n",
       "        text-align: right;\n",
       "    }\n",
       "</style>\n",
       "<table border=\"1\" class=\"dataframe\">\n",
       "  <thead>\n",
       "    <tr style=\"text-align: right;\">\n",
       "      <th></th>\n",
       "      <th>Loan.ID</th>\n",
       "      <th>Current.Loan.Amount</th>\n",
       "      <th>Term</th>\n",
       "      <th>Credit.Score</th>\n",
       "      <th>Years.in.current.job</th>\n",
       "      <th>Home.Ownership</th>\n",
       "      <th>Annual.Income</th>\n",
       "      <th>Purpose</th>\n",
       "      <th>Monthly.Debt</th>\n",
       "      <th>Years.of.Credit.History</th>\n",
       "      <th>Months.since.last.delinquent</th>\n",
       "      <th>Number.of.Open.Accounts</th>\n",
       "      <th>Number.of.Credit.Problems</th>\n",
       "      <th>Current.Credit.Balance</th>\n",
       "      <th>Maximum.Open.Credit</th>\n",
       "      <th>Bankruptcies</th>\n",
       "      <th>Tax.Liens</th>\n",
       "      <th>Loan.Status</th>\n",
       "    </tr>\n",
       "  </thead>\n",
       "  <tbody>\n",
       "    <tr>\n",
       "      <th>0</th>\n",
       "      <td>0</td>\n",
       "      <td>17879</td>\n",
       "      <td>Short Term</td>\n",
       "      <td>739.0</td>\n",
       "      <td>6 years</td>\n",
       "      <td>Home Mortgage</td>\n",
       "      <td>95357.0</td>\n",
       "      <td>Debt Consolidation</td>\n",
       "      <td>1509.82</td>\n",
       "      <td>34.4</td>\n",
       "      <td>5.0</td>\n",
       "      <td>26</td>\n",
       "      <td>0</td>\n",
       "      <td>23986</td>\n",
       "      <td>40313</td>\n",
       "      <td>0.0</td>\n",
       "      <td>0.0</td>\n",
       "      <td>1</td>\n",
       "    </tr>\n",
       "    <tr>\n",
       "      <th>3</th>\n",
       "      <td>4</td>\n",
       "      <td>11200</td>\n",
       "      <td>Short Term</td>\n",
       "      <td>738.0</td>\n",
       "      <td>4 years</td>\n",
       "      <td>Rent</td>\n",
       "      <td>53965.0</td>\n",
       "      <td>Debt Consolidation</td>\n",
       "      <td>1358.11</td>\n",
       "      <td>15.8</td>\n",
       "      <td>NaN</td>\n",
       "      <td>8</td>\n",
       "      <td>1</td>\n",
       "      <td>11782</td>\n",
       "      <td>25951</td>\n",
       "      <td>1.0</td>\n",
       "      <td>0.0</td>\n",
       "      <td>1</td>\n",
       "    </tr>\n",
       "    <tr>\n",
       "      <th>4</th>\n",
       "      <td>5</td>\n",
       "      <td>3608</td>\n",
       "      <td>Short Term</td>\n",
       "      <td>731.0</td>\n",
       "      <td>10+ years</td>\n",
       "      <td>Home Mortgage</td>\n",
       "      <td>47709.0</td>\n",
       "      <td>Home Improvements</td>\n",
       "      <td>339.93</td>\n",
       "      <td>16.1</td>\n",
       "      <td>47.0</td>\n",
       "      <td>6</td>\n",
       "      <td>0</td>\n",
       "      <td>22909</td>\n",
       "      <td>25568</td>\n",
       "      <td>0.0</td>\n",
       "      <td>0.0</td>\n",
       "      <td>1</td>\n",
       "    </tr>\n",
       "    <tr>\n",
       "      <th>5</th>\n",
       "      <td>7</td>\n",
       "      <td>7877</td>\n",
       "      <td>Short Term</td>\n",
       "      <td>738.0</td>\n",
       "      <td>5 years</td>\n",
       "      <td>Home Mortgage</td>\n",
       "      <td>47707.0</td>\n",
       "      <td>Home Improvements</td>\n",
       "      <td>504.90</td>\n",
       "      <td>14.5</td>\n",
       "      <td>70.0</td>\n",
       "      <td>10</td>\n",
       "      <td>1</td>\n",
       "      <td>1837</td>\n",
       "      <td>6269</td>\n",
       "      <td>1.0</td>\n",
       "      <td>0.0</td>\n",
       "      <td>1</td>\n",
       "    </tr>\n",
       "    <tr>\n",
       "      <th>6</th>\n",
       "      <td>8</td>\n",
       "      <td>4732</td>\n",
       "      <td>Long Term</td>\n",
       "      <td>701.0</td>\n",
       "      <td>10+ years</td>\n",
       "      <td>Rent</td>\n",
       "      <td>62721.0</td>\n",
       "      <td>other</td>\n",
       "      <td>296.87</td>\n",
       "      <td>20.2</td>\n",
       "      <td>51.0</td>\n",
       "      <td>2</td>\n",
       "      <td>0</td>\n",
       "      <td>0</td>\n",
       "      <td>0</td>\n",
       "      <td>0.0</td>\n",
       "      <td>0.0</td>\n",
       "      <td>0</td>\n",
       "    </tr>\n",
       "    <tr>\n",
       "      <th>...</th>\n",
       "      <td>...</td>\n",
       "      <td>...</td>\n",
       "      <td>...</td>\n",
       "      <td>...</td>\n",
       "      <td>...</td>\n",
       "      <td>...</td>\n",
       "      <td>...</td>\n",
       "      <td>...</td>\n",
       "      <td>...</td>\n",
       "      <td>...</td>\n",
       "      <td>...</td>\n",
       "      <td>...</td>\n",
       "      <td>...</td>\n",
       "      <td>...</td>\n",
       "      <td>...</td>\n",
       "      <td>...</td>\n",
       "      <td>...</td>\n",
       "      <td>...</td>\n",
       "    </tr>\n",
       "    <tr>\n",
       "      <th>60794</th>\n",
       "      <td>84176</td>\n",
       "      <td>14885</td>\n",
       "      <td>Short Term</td>\n",
       "      <td>723.0</td>\n",
       "      <td>6 years</td>\n",
       "      <td>Rent</td>\n",
       "      <td>124875.0</td>\n",
       "      <td>Debt Consolidation</td>\n",
       "      <td>490.14</td>\n",
       "      <td>10.0</td>\n",
       "      <td>NaN</td>\n",
       "      <td>11</td>\n",
       "      <td>0</td>\n",
       "      <td>14684</td>\n",
       "      <td>16937</td>\n",
       "      <td>0.0</td>\n",
       "      <td>0.0</td>\n",
       "      <td>1</td>\n",
       "    </tr>\n",
       "    <tr>\n",
       "      <th>60795</th>\n",
       "      <td>84178</td>\n",
       "      <td>5086</td>\n",
       "      <td>Short Term</td>\n",
       "      <td>723.0</td>\n",
       "      <td>1 year</td>\n",
       "      <td>Home Mortgage</td>\n",
       "      <td>50855.0</td>\n",
       "      <td>Debt Consolidation</td>\n",
       "      <td>834.87</td>\n",
       "      <td>11.8</td>\n",
       "      <td>58.0</td>\n",
       "      <td>12</td>\n",
       "      <td>0</td>\n",
       "      <td>7671</td>\n",
       "      <td>12513</td>\n",
       "      <td>0.0</td>\n",
       "      <td>0.0</td>\n",
       "      <td>1</td>\n",
       "    </tr>\n",
       "    <tr>\n",
       "      <th>60797</th>\n",
       "      <td>84181</td>\n",
       "      <td>27840</td>\n",
       "      <td>Long Term</td>\n",
       "      <td>597.0</td>\n",
       "      <td>10+ years</td>\n",
       "      <td>Home Mortgage</td>\n",
       "      <td>99430.0</td>\n",
       "      <td>Debt Consolidation</td>\n",
       "      <td>2419.46</td>\n",
       "      <td>32.5</td>\n",
       "      <td>NaN</td>\n",
       "      <td>32</td>\n",
       "      <td>0</td>\n",
       "      <td>34938</td>\n",
       "      <td>42868</td>\n",
       "      <td>0.0</td>\n",
       "      <td>0.0</td>\n",
       "      <td>1</td>\n",
       "    </tr>\n",
       "    <tr>\n",
       "      <th>60800</th>\n",
       "      <td>84185</td>\n",
       "      <td>18229</td>\n",
       "      <td>Short Term</td>\n",
       "      <td>747.0</td>\n",
       "      <td>3 years</td>\n",
       "      <td>Rent</td>\n",
       "      <td>91143.0</td>\n",
       "      <td>Debt Consolidation</td>\n",
       "      <td>782.31</td>\n",
       "      <td>18.0</td>\n",
       "      <td>14.0</td>\n",
       "      <td>16</td>\n",
       "      <td>0</td>\n",
       "      <td>8328</td>\n",
       "      <td>51095</td>\n",
       "      <td>0.0</td>\n",
       "      <td>0.0</td>\n",
       "      <td>0</td>\n",
       "    </tr>\n",
       "    <tr>\n",
       "      <th>60803</th>\n",
       "      <td>84189</td>\n",
       "      <td>2866</td>\n",
       "      <td>Short Term</td>\n",
       "      <td>703.0</td>\n",
       "      <td>8 years</td>\n",
       "      <td>Home Mortgage</td>\n",
       "      <td>42991.0</td>\n",
       "      <td>Debt Consolidation</td>\n",
       "      <td>1164.35</td>\n",
       "      <td>23.0</td>\n",
       "      <td>67.0</td>\n",
       "      <td>6</td>\n",
       "      <td>0</td>\n",
       "      <td>39</td>\n",
       "      <td>9724</td>\n",
       "      <td>0.0</td>\n",
       "      <td>0.0</td>\n",
       "      <td>1</td>\n",
       "    </tr>\n",
       "  </tbody>\n",
       "</table>\n",
       "<p>41176 rows × 18 columns</p>\n",
       "</div>"
      ],
      "text/plain": [
       "       Loan.ID  Current.Loan.Amount        Term  Credit.Score  \\\n",
       "0            0                17879  Short Term         739.0   \n",
       "3            4                11200  Short Term         738.0   \n",
       "4            5                 3608  Short Term         731.0   \n",
       "5            7                 7877  Short Term         738.0   \n",
       "6            8                 4732   Long Term         701.0   \n",
       "...        ...                  ...         ...           ...   \n",
       "60794    84176                14885  Short Term         723.0   \n",
       "60795    84178                 5086  Short Term         723.0   \n",
       "60797    84181                27840   Long Term         597.0   \n",
       "60800    84185                18229  Short Term         747.0   \n",
       "60803    84189                 2866  Short Term         703.0   \n",
       "\n",
       "      Years.in.current.job Home.Ownership  Annual.Income             Purpose  \\\n",
       "0                  6 years  Home Mortgage        95357.0  Debt Consolidation   \n",
       "3                  4 years           Rent        53965.0  Debt Consolidation   \n",
       "4                10+ years  Home Mortgage        47709.0   Home Improvements   \n",
       "5                  5 years  Home Mortgage        47707.0   Home Improvements   \n",
       "6                10+ years           Rent        62721.0               other   \n",
       "...                    ...            ...            ...                 ...   \n",
       "60794              6 years           Rent       124875.0  Debt Consolidation   \n",
       "60795               1 year  Home Mortgage        50855.0  Debt Consolidation   \n",
       "60797            10+ years  Home Mortgage        99430.0  Debt Consolidation   \n",
       "60800              3 years           Rent        91143.0  Debt Consolidation   \n",
       "60803              8 years  Home Mortgage        42991.0  Debt Consolidation   \n",
       "\n",
       "       Monthly.Debt  Years.of.Credit.History  Months.since.last.delinquent  \\\n",
       "0           1509.82                     34.4                           5.0   \n",
       "3           1358.11                     15.8                           NaN   \n",
       "4            339.93                     16.1                          47.0   \n",
       "5            504.90                     14.5                          70.0   \n",
       "6            296.87                     20.2                          51.0   \n",
       "...             ...                      ...                           ...   \n",
       "60794        490.14                     10.0                           NaN   \n",
       "60795        834.87                     11.8                          58.0   \n",
       "60797       2419.46                     32.5                           NaN   \n",
       "60800        782.31                     18.0                          14.0   \n",
       "60803       1164.35                     23.0                          67.0   \n",
       "\n",
       "       Number.of.Open.Accounts  Number.of.Credit.Problems  \\\n",
       "0                           26                          0   \n",
       "3                            8                          1   \n",
       "4                            6                          0   \n",
       "5                           10                          1   \n",
       "6                            2                          0   \n",
       "...                        ...                        ...   \n",
       "60794                       11                          0   \n",
       "60795                       12                          0   \n",
       "60797                       32                          0   \n",
       "60800                       16                          0   \n",
       "60803                        6                          0   \n",
       "\n",
       "       Current.Credit.Balance  Maximum.Open.Credit  Bankruptcies  Tax.Liens  \\\n",
       "0                       23986                40313           0.0        0.0   \n",
       "3                       11782                25951           1.0        0.0   \n",
       "4                       22909                25568           0.0        0.0   \n",
       "5                        1837                 6269           1.0        0.0   \n",
       "6                           0                    0           0.0        0.0   \n",
       "...                       ...                  ...           ...        ...   \n",
       "60794                   14684                16937           0.0        0.0   \n",
       "60795                    7671                12513           0.0        0.0   \n",
       "60797                   34938                42868           0.0        0.0   \n",
       "60800                    8328                51095           0.0        0.0   \n",
       "60803                      39                 9724           0.0        0.0   \n",
       "\n",
       "       Loan.Status  \n",
       "0                1  \n",
       "3                1  \n",
       "4                1  \n",
       "5                1  \n",
       "6                0  \n",
       "...            ...  \n",
       "60794            1  \n",
       "60795            1  \n",
       "60797            1  \n",
       "60800            0  \n",
       "60803            1  \n",
       "\n",
       "[41176 rows x 18 columns]"
      ]
     },
     "execution_count": 2,
     "metadata": {},
     "output_type": "execute_result"
    }
   ],
   "source": [
    "#warnings.simplefilter(action='ignore')\n",
    "data = get_data()\n",
=======
   "execution_count": null,
   "metadata": {},
   "outputs": [],
   "source": [
    "data = get_data()"
   ]
  },
  {
   "cell_type": "code",
   "execution_count": null,
   "metadata": {},
   "outputs": [],
   "source": [
>>>>>>> 9696076df5745f74fba89ee1934b45f0acdcee76
    "data = clean_data(data)\n",
    "data"
   ]
  },
  {
   "cell_type": "code",
<<<<<<< HEAD
   "execution_count": 3,
   "metadata": {},
   "outputs": [
    {
     "data": {
      "text/plain": [
       "16.0    560\n",
       "17.0    518\n",
       "16.5    517\n",
       "15.0    512\n",
       "14.0    481\n",
       "       ... \n",
       "52.3      1\n",
       "49.4      1\n",
       "46.6      1\n",
       "47.7      1\n",
       "44.6      1\n",
       "Name: Years.of.Credit.History, Length: 474, dtype: int64"
      ]
     },
     "execution_count": 3,
     "metadata": {},
     "output_type": "execute_result"
    }
   ],
   "source": [
    "data['Years.of.Credit.History'].value_counts()"
=======
   "execution_count": null,
   "metadata": {},
   "outputs": [],
   "source": [
    "import pandas as pd\n",
    "import time\n",
    "\n",
    "from sklearn.preprocessing import RobustScaler\n",
    "from sklearn.preprocessing import OrdinalEncoder\n",
    "from sklearn.preprocessing import OneHotEncoder\n",
    "\n",
    "#####################################################\n",
    "#  Initial encodings and feature engineering  #\n",
    "#####################################################\n",
    "\n",
    "def encode_open_accounts(data):\n",
    "    #TODO --> Create a docstring\n",
    "    #Number of open accounts: buckets (0-10, 11-20, mais de 20)\n",
    "    data['Number.of.Open.Accounts.Buckets'] = data['Number.of.Open.Accounts']\n",
    "\n",
    "    def encoding_noab(x):\n",
    "        if x < 10:\n",
    "            return '0-10'\n",
    "        elif x > 20:\n",
    "            return 'mais de 20'\n",
    "        else:\n",
    "            return '11-20'\n",
    "\n",
    "    data['Number.of.Open.Accounts.Buckets'] = data['Number.of.Open.Accounts.Buckets'].apply(encoding_noab)\n",
    "    data = data.drop(columns='Number.of.Open.Accounts').copy()\n",
    "    return data\n",
    "\n",
    "def credit_minus_loan(data):\n",
    "    #TODO --> Create a docstring\n",
    "    #Calculating current credit balance minus current loan amount\n",
    "    #if 'Credit.Minus.Loan'> 0, then, 1 (esta pedindo emprestimo menor do que tem de saldo disponivel, entao, ok); otherwise, 0\n",
    "\n",
    "    data['Credit.Minus.Loan'] = data['Current.Credit.Balance'] - data['Current.Loan.Amount']\n",
    "\n",
    "    def encoding_cml(x):\n",
    "        if x > 0:\n",
    "            return 1\n",
    "        else:\n",
    "            return 0\n",
    "\n",
    "    data['Credit.Minus.Loan'] = data['Credit.Minus.Loan'].apply(encoding_cml)\n",
    "    return data\n",
    "\n",
    "def encode_credit_problems(data):\n",
    "    #TODO --> Create a docstring\n",
    "    #Number of Number.of.Credit.Problems: 0, 1 ou mais de 1\n",
    "    data['Number.of.Credit.Problems.Buckets'] = data['Number.of.Credit.Problems']\n",
    "\n",
    "    def encoding_nocp(x):\n",
    "        if x ==0:\n",
    "            return 0\n",
    "        elif x ==1:\n",
    "            return 1\n",
    "        else:\n",
    "            return 'mais de 1'\n",
    "\n",
    "    data['Number.of.Credit.Problems.Buckets'] = data['Number.of.Credit.Problems.Buckets'].apply(encoding_nocp)\n",
    "    data = data.drop(columns='Number.of.Credit.Problems').copy()\n",
    "    return data\n",
    "\n",
    "def encode_years_job(data):\n",
    "    #TODO --> Create a docstring\n",
    "    data['Years.current_job_enc'] = data['Years.in.current.job'].map({'less than 1 year': 0,\n",
    "                                                                             '1 year': 1,\n",
    "                                                                             '2 years': 2,\n",
    "                                                                             '3 years': 3,\n",
    "                                                                             '4 years': 4,\n",
    "                                                                             '5 years': 5,\n",
    "                                                                             '6 years': 6,\n",
    "                                                                             '7 years': 7,\n",
    "                                                                             '8 years': 8,\n",
    "                                                                             '9 years': 9,\n",
    "                                                                             '10+ years': 10})\n",
    "    data = data.drop(columns='Years.in.current.job').copy()\n",
    "    return data\n",
    "\n",
    "def encode_purpose(data):\n",
    "    #TODO --> Create Purpose\n",
    "\n",
    "    categories = ['other', 'moving', 'small_business', 'Take a Trip', 'major_purchase',\n",
    "                   'wedding', 'Educational Expenses', 'vacation', 'renewable_energy']\n",
    "\n",
    "    data['Purpose_enc'] = data['Purpose']\n",
    "\n",
    "    for cat in categories:\n",
    "        data.loc[data['Purpose_enc'] == cat, 'Purpose_enc'] = 'Other'\n",
    "\n",
    "    data = data.drop(columns='Purpose').copy()\n",
    "    return data\n",
    "\n",
    "def encode_tax_liens(data):\n",
    "    \n",
    "    def encode_tl(x):\n",
    "        if x == 0:\n",
    "            x_enc = 0\n",
    "        else:\n",
    "            x_enc = 1\n",
    "        return x_enc\n",
    "\n",
    "    data['Tax.Liens.Enc'] = data['Tax.Liens'].map(encode_tl)\n",
    "    data = data.drop(columns='Tax.Liens').copy()\n",
    "    return data\n",
    "\n",
    "def encode_leverage(data):\n",
    "    \n",
    "    data['leverage'] = (data['Monthly.Debt'] * 12) / data['Annual.Income']\n",
    "    data = data.drop(columns='Monthly.Debt').copy()\n",
    "    return data\n",
    "\n",
    "def encode_credit_score(data):\n",
    "    \n",
    "    def encode_cs(x):\n",
    "        if x >= 730:\n",
    "            x_enc = 'Good'\n",
    "        elif x >= 703:\n",
    "            x_enc = 'Average'\n",
    "        else:\n",
    "            x_enc = 'Below Average'\n",
    "        return x_enc\n",
    "\n",
    "    data['Credit.Score.Enc'] = data['Credit.Score'].map(encode_cs)\n",
    "    data = data.drop(columns='Credit.Score').copy()\n",
    "    return data\n",
    "\n",
    "def encode_years_credit_history(data):\n",
    "    \n",
    "    data['Year.Credit.History.Enc'] = pd.cut(x=data['Years.of.Credit.History'],\n",
    "                                  bins=[-1, 10, 20, 30, 100],\n",
    "                                  labels=['0 a 10', '10.1 a 20', '20.1 a 30', '30+'])\n",
    "\n",
    "    data = data.drop(columns='Years.of.Credit.History').copy()\n",
    "    return data\n",
    "\n",
    "def encode_barkruptcies(data):\n",
    "\n",
    "    def encode_ban(x):\n",
    "        if x == 0:\n",
    "            x_enc = 0\n",
    "        else:\n",
    "            x_enc = 1\n",
    "        return x_enc\n",
    "\n",
    "    data['Bankruptcies.enc'] = data['Bankruptcies'].map(encode_ban)\n",
    "    data = data.drop(columns='Bankruptcies').copy()\n",
    "    return data\n",
    "\n",
    "def encode_years_last_delinquent(data):\n",
    "    \n",
    "    data['Years.since.last.delinquent'] = data['Months.since.last.delinquent'] / 12\n",
    "    \n",
    "    data.loc[data['Years.since.last.delinquent'].isnull(), 'Years.since.last.delinquent'] = 100\n",
    "    data['Years.since.last.delinquent'].isnull().sum()\n",
    "\n",
    "    def encode_msld(x):\n",
    "        if x <= 3:\n",
    "            return 1\n",
    "        else:\n",
    "            return 0\n",
    "\n",
    "    data['Years.since.last.delinquent'] = data['Years.since.last.delinquent'].map(encode_msld)\n",
    "    data = data.drop(columns='Months.since.last.delinquent').copy()\n",
    "    return data\n",
    "\n",
    "def encode_loan_vs_income(data):\n",
    "    # (12) Current loan amount / Annual income\n",
    "    data['Loan.vs.Income'] = data['Current.Loan.Amount'] / data['Annual.Income']\n",
    "    data = data[data['Loan.vs.Income'] < 1]\n",
    "    return data\n",
    "\n",
    "def encode_total(data):\n",
    "\n",
    "    data = encode_open_accounts(data)\n",
    "    data = credit_minus_loan(data)\n",
    "    data = encode_credit_problems(data)\n",
    "    data = encode_years_job(data)\n",
    "    data = encode_purpose(data)\n",
    "    data = encode_tax_liens(data)\n",
    "    data = encode_leverage(data)\n",
    "    data = encode_credit_score(data)\n",
    "    data = encode_years_credit_history(data)\n",
    "    data = encode_barkruptcies(data)\n",
    "    data = encode_years_last_delinquent(data)\n",
    "    data = encode_loan_vs_income(data)\n",
    "    data = data.drop(columns=['Loan.ID', 'Maximum.Open.Credit', 'Current.Credit.Balance']).copy()\n",
    "    \n",
    "    return data"
>>>>>>> 9696076df5745f74fba89ee1934b45f0acdcee76
   ]
  },
  {
   "cell_type": "code",
<<<<<<< HEAD
   "execution_count": 4,
   "metadata": {
    "scrolled": true
   },
   "outputs": [],
   "source": [
    "X = data.drop(columns='Loan.Status')\n",
    "y = data['Loan.Status']"
=======
   "execution_count": null,
   "metadata": {},
   "outputs": [],
   "source": [
    "from sklearn.preprocessing import RobustScaler\n",
    "from sklearn.preprocessing import OrdinalEncoder\n",
    "from sklearn.preprocessing import OneHotEncoder\n",
    "from sklearn.pipeline import Pipeline, make_pipeline\n",
    "from sklearn.base import BaseEstimator, TransformerMixin"
>>>>>>> 9696076df5745f74fba89ee1934b45f0acdcee76
   ]
  },
  {
   "cell_type": "code",
<<<<<<< HEAD
   "execution_count": 5,
   "metadata": {},
   "outputs": [],
   "source": [
    "params = dict(nrows=None,\n",
    "                  upload=False,\n",
    "                  local=True,  # set to False to get data from GCP (Storage or BigQuery)\n",
    "                  gridsearch=False,\n",
    "                  estimator=\"Logistic\",\n",
    "                  mlflow=False,  # set to True to log params to mlflow\n",
    "                  experiment_name=None,\n",
    "                  split=False)\n",
    "t = Trainer(X=X, y=y, **params)"
=======
   "execution_count": null,
   "metadata": {},
   "outputs": [],
   "source": [
    "#Initial Cleaning\n",
    "\n",
    "class InitialCleaning(BaseEstimator, TransformerMixin):\n",
    "\n",
    "    def __init__(self):\n",
    "        self.X = None\n",
    "    \n",
    "    def fit(self, X, y=None):\n",
    "        return self\n",
    "\n",
    "    def transform(self, X, y=None):\n",
    "        assert isinstance(X, pd.DataFrame)\n",
    "        self.X = X\n",
    "        return clean_data(self.X)"
>>>>>>> 9696076df5745f74fba89ee1934b45f0acdcee76
   ]
  },
  {
   "cell_type": "code",
<<<<<<< HEAD
   "execution_count": 6,
=======
   "execution_count": null,
   "metadata": {},
   "outputs": [],
   "source": [
    "data = get_data()\n",
    "ic = InitialCleaning()\n",
    "data = ic.transform(data)\n",
    "data"
   ]
  },
  {
   "cell_type": "code",
   "execution_count": null,
   "metadata": {},
   "outputs": [],
   "source": [
    "#Encoder to clean Initial Encoding\n",
    "\n",
    "class InitialEncoder(BaseEstimator, TransformerMixin):\n",
    "\n",
    "    def __init__(self):\n",
    "        self.X = None\n",
    "    \n",
    "    def fit(self, X, y=None):\n",
    "        return self\n",
    "\n",
    "    def transform(self, X, y=None):\n",
    "        assert isinstance(X, pd.DataFrame)\n",
    "        self.X = X\n",
    "        return encode_total(self.X)\n"
   ]
  },
  {
   "cell_type": "code",
   "execution_count": null,
   "metadata": {},
   "outputs": [],
   "source": [
    "ie = InitialEncoder()"
   ]
  },
  {
   "cell_type": "code",
   "execution_count": null,
   "metadata": {},
   "outputs": [],
   "source": [
    "data = ie.transform(data)\n",
    "data"
   ]
  },
  {
   "cell_type": "code",
   "execution_count": null,
   "metadata": {},
   "outputs": [],
   "source": [
    "#Encoder to clean Final Encoding\n",
    "\n",
    "class TransformEncoder(BaseEstimator, TransformerMixin):\n",
    "\n",
    "    def __init__(self):\n",
    "        self.X = None\n",
    "    \n",
    "    def fit(self, X, y=None):\n",
    "        return self\n",
    "\n",
    "    def transform(self, X, y=None):\n",
    "        assert isinstance(X, pd.DataFrame)\n",
    "        self.X = X\n",
    "        return final_transformer(self.X)"
   ]
  },
  {
   "cell_type": "code",
   "execution_count": null,
   "metadata": {},
   "outputs": [],
   "source": [
    "te = TransformEncoder()\n",
    "data = te.transform(data)\n",
    "data"
   ]
  },
  {
   "cell_type": "code",
   "execution_count": 2,
   "metadata": {},
   "outputs": [],
   "source": [
    "from wanna_buy_house.trainer import Trainer"
   ]
  },
  {
   "cell_type": "code",
   "execution_count": 3,
>>>>>>> 9696076df5745f74fba89ee1934b45f0acdcee76
   "metadata": {},
   "outputs": [
    {
     "name": "stdout",
     "output_type": "stream",
     "text": [
<<<<<<< HEAD
      "\u001b[31mLogisticRegression\u001b[0m\n",
      "train 1.04\n"
     ]
    },
    {
     "name": "stderr",
     "output_type": "stream",
     "text": [
      "/Users/sanderiwase/.pyenv/versions/3.7.7/envs/lewagon/lib/python3.7/site-packages/sklearn/linear_model/_logistic.py:764: ConvergenceWarning: lbfgs failed to converge (status=1):\n",
      "STOP: TOTAL NO. of ITERATIONS REACHED LIMIT.\n",
      "\n",
      "Increase the number of iterations (max_iter) or scale the data as shown in:\n",
      "    https://scikit-learn.org/stable/modules/preprocessing.html\n",
      "Please also refer to the documentation for alternative solver options:\n",
      "    https://scikit-learn.org/stable/modules/linear_model.html#logistic-regression\n",
      "  extra_warning_msg=_LOGISTIC_SOLVER_CONVERGENCE_MSG)\n"
=======
      "get_data 0.23\n"
>>>>>>> 9696076df5745f74fba89ee1934b45f0acdcee76
     ]
    }
   ],
   "source": [
<<<<<<< HEAD
    "t.train()"
=======
    "data = get_data()"
>>>>>>> 9696076df5745f74fba89ee1934b45f0acdcee76
   ]
  },
  {
   "cell_type": "code",
<<<<<<< HEAD
   "execution_count": 7,
   "metadata": {},
   "outputs": [
    {
     "name": "stdout",
     "output_type": "stream",
     "text": [
      "\u001b[34mrmse train: 0.57\u001b[0m\n"
=======
   "execution_count": 4,
   "metadata": {},
   "outputs": [
    {
     "name": "stderr",
     "output_type": "stream",
     "text": [
      "/Users/sanderiwase/.pyenv/versions/3.7.7/envs/lewagon/lib/python3.7/site-packages/ipykernel/ipkernel.py:287: DeprecationWarning: `should_run_async` will not call `transform_cell` automatically in the future. Please pass the result to `transformed_cell` argument and any exception that happen during thetransform in `preprocessing_exc_tuple` in IPython 7.17 and above.\n",
      "  and should_run_async(code)\n"
>>>>>>> 9696076df5745f74fba89ee1934b45f0acdcee76
     ]
    }
   ],
   "source": [
<<<<<<< HEAD
    "t.evaluate()"
   ]
  },
  {
   "cell_type": "code",
   "execution_count": 8,
   "metadata": {},
   "outputs": [],
   "source": [
    "teste = X.iloc[0]\n",
    "teste = pd.DataFrame(teste).transpose()\n",
    "teste.to_dict()\n",
    "test1 = pd.DataFrame({'Loan.ID': [0],\n",
    " 'Current.Loan.Amount': [17879],\n",
    " 'Term': ['Short Term'],\n",
    " 'Credit.Score': [739.0],\n",
    " 'Years.in.current.job': ['6 years'],\n",
    " 'Home.Ownership': ['Home Mortgage'],\n",
    " 'Annual.Income': [95357.0],\n",
    " 'Purpose': ['Debt Consolidation'],\n",
    " 'Monthly.Debt': [1509.82],\n",
    " 'Years.of.Credit.History': [34.4],\n",
    " 'Months.since.last.delinquent': [5.0],\n",
    " 'Number.of.Open.Accounts': [26],\n",
    " 'Number.of.Credit.Problems': [0],\n",
    " 'Current.Credit.Balance': [23986],\n",
    " 'Maximum.Open.Credit': [40313],\n",
    " 'Bankruptcies': [0.0],\n",
    " 'Tax.Liens': [0.0]})"
=======
    "X = data.drop(columns='Loan.Status')\n",
    "y = data[['Loan.Status']]"
>>>>>>> 9696076df5745f74fba89ee1934b45f0acdcee76
   ]
  },
  {
   "cell_type": "code",
<<<<<<< HEAD
   "execution_count": 9,
   "metadata": {},
   "outputs": [
    {
     "data": {
      "text/plain": [
       "array([1])"
      ]
     },
     "execution_count": 9,
     "metadata": {},
     "output_type": "execute_result"
    }
   ],
   "source": [
    "loaded_model = joblib.load('../model.joblib')\n",
    "y_pred = loaded_model.predict(test1)\n",
    "y_pred"
=======
   "execution_count": 5,
   "metadata": {},
   "outputs": [
    {
     "name": "stderr",
     "output_type": "stream",
     "text": [
      "/Users/sanderiwase/.pyenv/versions/3.7.7/envs/lewagon/lib/python3.7/site-packages/ipykernel/ipkernel.py:287: DeprecationWarning: `should_run_async` will not call `transform_cell` automatically in the future. Please pass the result to `transformed_cell` argument and any exception that happen during thetransform in `preprocessing_exc_tuple` in IPython 7.17 and above.\n",
      "  and should_run_async(code)\n"
     ]
    }
   ],
   "source": [
    "params = dict(nrows=None,\n",
    "                  upload=False,\n",
    "                  local=False,  # set to False to get data from GCP (Storage or BigQuery)\n",
    "                  gridsearch=False,\n",
    "                  estimator=\"Logistic\",\n",
    "                  mlflow=False,  # set to True to log params to mlflow\n",
    "                  experiment_name=None)\n",
    "t = Trainer(X, y, **params)"
>>>>>>> 9696076df5745f74fba89ee1934b45f0acdcee76
   ]
  },
  {
   "cell_type": "code",
<<<<<<< HEAD
   "execution_count": 10,
   "metadata": {},
   "outputs": [],
   "source": [
    "with open('../requirements.txt') as f:\n",
    "    content = f.readlines()\n",
    "requirements = [x.strip() for x in content if 'git+' not in x]"
=======
   "execution_count": 6,
   "metadata": {},
   "outputs": [
    {
     "name": "stderr",
     "output_type": "stream",
     "text": [
      "/Users/sanderiwase/.pyenv/versions/3.7.7/envs/lewagon/lib/python3.7/site-packages/ipykernel/ipkernel.py:287: DeprecationWarning: `should_run_async` will not call `transform_cell` automatically in the future. Please pass the result to `transformed_cell` argument and any exception that happen during thetransform in `preprocessing_exc_tuple` in IPython 7.17 and above.\n",
      "  and should_run_async(code)\n"
     ]
    },
    {
     "name": "stdout",
     "output_type": "stream",
     "text": [
      "\u001b[31mLogisticRegression\u001b[0m\n"
     ]
    },
    {
     "name": "stderr",
     "output_type": "stream",
     "text": [
      "/Users/sanderiwase/.pyenv/versions/3.7.7/envs/lewagon/lib/python3.7/site-packages/sklearn/utils/validation.py:72: DataConversionWarning: A column-vector y was passed when a 1d array was expected. Please change the shape of y to (n_samples, ), for example using ravel().\n",
      "  return f(**kwargs)\n"
     ]
    },
    {
     "ename": "ValueError",
     "evalue": "Found input variables with inconsistent numbers of samples: [35046, 51683]",
     "output_type": "error",
     "traceback": [
      "\u001b[0;31m---------------------------------------------------------------------------\u001b[0m",
      "\u001b[0;31mValueError\u001b[0m                                Traceback (most recent call last)",
      "\u001b[0;32m<ipython-input-6-ec94b060c429>\u001b[0m in \u001b[0;36m<module>\u001b[0;34m\u001b[0m\n\u001b[0;32m----> 1\u001b[0;31m \u001b[0mt\u001b[0m\u001b[0;34m.\u001b[0m\u001b[0mtrain\u001b[0m\u001b[0;34m(\u001b[0m\u001b[0;34m)\u001b[0m\u001b[0;34m\u001b[0m\u001b[0;34m\u001b[0m\u001b[0m\n\u001b[0m",
      "\u001b[0;32m~/code/sanderiw/project493/wanna_buy_house/utils.py\u001b[0m in \u001b[0;36mtimed\u001b[0;34m(*args, **kw)\u001b[0m\n\u001b[1;32m    264\u001b[0m     \u001b[0;32mdef\u001b[0m \u001b[0mtimed\u001b[0m\u001b[0;34m(\u001b[0m\u001b[0;34m*\u001b[0m\u001b[0margs\u001b[0m\u001b[0;34m,\u001b[0m \u001b[0;34m**\u001b[0m\u001b[0mkw\u001b[0m\u001b[0;34m)\u001b[0m\u001b[0;34m:\u001b[0m\u001b[0;34m\u001b[0m\u001b[0;34m\u001b[0m\u001b[0m\n\u001b[1;32m    265\u001b[0m         \u001b[0mts\u001b[0m \u001b[0;34m=\u001b[0m \u001b[0mtime\u001b[0m\u001b[0;34m.\u001b[0m\u001b[0mtime\u001b[0m\u001b[0;34m(\u001b[0m\u001b[0;34m)\u001b[0m\u001b[0;34m\u001b[0m\u001b[0;34m\u001b[0m\u001b[0m\n\u001b[0;32m--> 266\u001b[0;31m         \u001b[0mresult\u001b[0m \u001b[0;34m=\u001b[0m \u001b[0mmethod\u001b[0m\u001b[0;34m(\u001b[0m\u001b[0;34m*\u001b[0m\u001b[0margs\u001b[0m\u001b[0;34m,\u001b[0m \u001b[0;34m**\u001b[0m\u001b[0mkw\u001b[0m\u001b[0;34m)\u001b[0m\u001b[0;34m\u001b[0m\u001b[0;34m\u001b[0m\u001b[0m\n\u001b[0m\u001b[1;32m    267\u001b[0m         \u001b[0mte\u001b[0m \u001b[0;34m=\u001b[0m \u001b[0mtime\u001b[0m\u001b[0;34m.\u001b[0m\u001b[0mtime\u001b[0m\u001b[0;34m(\u001b[0m\u001b[0;34m)\u001b[0m\u001b[0;34m\u001b[0m\u001b[0;34m\u001b[0m\u001b[0m\n\u001b[1;32m    268\u001b[0m         \u001b[0;32mif\u001b[0m \u001b[0;34m'log_time'\u001b[0m \u001b[0;32min\u001b[0m \u001b[0mkw\u001b[0m\u001b[0;34m:\u001b[0m\u001b[0;34m\u001b[0m\u001b[0;34m\u001b[0m\u001b[0m\n",
      "\u001b[0;32m~/code/sanderiw/project493/wanna_buy_house/trainer.py\u001b[0m in \u001b[0;36mtrain\u001b[0;34m(self, gridsearch)\u001b[0m\n\u001b[1;32m    113\u001b[0m         \u001b[0;32mif\u001b[0m \u001b[0mgridsearch\u001b[0m\u001b[0;34m:\u001b[0m\u001b[0;34m\u001b[0m\u001b[0;34m\u001b[0m\u001b[0m\n\u001b[1;32m    114\u001b[0m             \u001b[0mself\u001b[0m\u001b[0;34m.\u001b[0m\u001b[0madd_grid_search\u001b[0m\u001b[0;34m(\u001b[0m\u001b[0;34m)\u001b[0m\u001b[0;34m\u001b[0m\u001b[0;34m\u001b[0m\u001b[0m\n\u001b[0;32m--> 115\u001b[0;31m         \u001b[0mself\u001b[0m\u001b[0;34m.\u001b[0m\u001b[0mpipeline\u001b[0m\u001b[0;34m.\u001b[0m\u001b[0mfit\u001b[0m\u001b[0;34m(\u001b[0m\u001b[0mself\u001b[0m\u001b[0;34m.\u001b[0m\u001b[0mX_train\u001b[0m\u001b[0;34m,\u001b[0m \u001b[0mself\u001b[0m\u001b[0;34m.\u001b[0m\u001b[0my_train\u001b[0m\u001b[0;34m)\u001b[0m\u001b[0;34m\u001b[0m\u001b[0;34m\u001b[0m\u001b[0m\n\u001b[0m\u001b[1;32m    116\u001b[0m         \u001b[0;31m# mlflow logs\u001b[0m\u001b[0;34m\u001b[0m\u001b[0;34m\u001b[0m\u001b[0;34m\u001b[0m\u001b[0m\n\u001b[1;32m    117\u001b[0m         \u001b[0mself\u001b[0m\u001b[0;34m.\u001b[0m\u001b[0mmlflow_log_metric\u001b[0m\u001b[0;34m(\u001b[0m\u001b[0;34m\"train_time\"\u001b[0m\u001b[0;34m,\u001b[0m \u001b[0mint\u001b[0m\u001b[0;34m(\u001b[0m\u001b[0mtime\u001b[0m\u001b[0;34m.\u001b[0m\u001b[0mtime\u001b[0m\u001b[0;34m(\u001b[0m\u001b[0;34m)\u001b[0m \u001b[0;34m-\u001b[0m \u001b[0mtic\u001b[0m\u001b[0;34m)\u001b[0m\u001b[0;34m)\u001b[0m\u001b[0;34m\u001b[0m\u001b[0;34m\u001b[0m\u001b[0m\n",
      "\u001b[0;32m~/.pyenv/versions/3.7.7/envs/lewagon/lib/python3.7/site-packages/sklearn/pipeline.py\u001b[0m in \u001b[0;36mfit\u001b[0;34m(self, X, y, **fit_params)\u001b[0m\n\u001b[1;32m    333\u001b[0m             \u001b[0;32mif\u001b[0m \u001b[0mself\u001b[0m\u001b[0;34m.\u001b[0m\u001b[0m_final_estimator\u001b[0m \u001b[0;34m!=\u001b[0m \u001b[0;34m'passthrough'\u001b[0m\u001b[0;34m:\u001b[0m\u001b[0;34m\u001b[0m\u001b[0;34m\u001b[0m\u001b[0m\n\u001b[1;32m    334\u001b[0m                 \u001b[0mfit_params_last_step\u001b[0m \u001b[0;34m=\u001b[0m \u001b[0mfit_params_steps\u001b[0m\u001b[0;34m[\u001b[0m\u001b[0mself\u001b[0m\u001b[0;34m.\u001b[0m\u001b[0msteps\u001b[0m\u001b[0;34m[\u001b[0m\u001b[0;34m-\u001b[0m\u001b[0;36m1\u001b[0m\u001b[0;34m]\u001b[0m\u001b[0;34m[\u001b[0m\u001b[0;36m0\u001b[0m\u001b[0;34m]\u001b[0m\u001b[0;34m]\u001b[0m\u001b[0;34m\u001b[0m\u001b[0;34m\u001b[0m\u001b[0m\n\u001b[0;32m--> 335\u001b[0;31m                 \u001b[0mself\u001b[0m\u001b[0;34m.\u001b[0m\u001b[0m_final_estimator\u001b[0m\u001b[0;34m.\u001b[0m\u001b[0mfit\u001b[0m\u001b[0;34m(\u001b[0m\u001b[0mXt\u001b[0m\u001b[0;34m,\u001b[0m \u001b[0my\u001b[0m\u001b[0;34m,\u001b[0m \u001b[0;34m**\u001b[0m\u001b[0mfit_params_last_step\u001b[0m\u001b[0;34m)\u001b[0m\u001b[0;34m\u001b[0m\u001b[0;34m\u001b[0m\u001b[0m\n\u001b[0m\u001b[1;32m    336\u001b[0m \u001b[0;34m\u001b[0m\u001b[0m\n\u001b[1;32m    337\u001b[0m         \u001b[0;32mreturn\u001b[0m \u001b[0mself\u001b[0m\u001b[0;34m\u001b[0m\u001b[0;34m\u001b[0m\u001b[0m\n",
      "\u001b[0;32m~/.pyenv/versions/3.7.7/envs/lewagon/lib/python3.7/site-packages/sklearn/linear_model/_logistic.py\u001b[0m in \u001b[0;36mfit\u001b[0;34m(self, X, y, sample_weight)\u001b[0m\n\u001b[1;32m   1342\u001b[0m         X, y = self._validate_data(X, y, accept_sparse='csr', dtype=_dtype,\n\u001b[1;32m   1343\u001b[0m                                    \u001b[0morder\u001b[0m\u001b[0;34m=\u001b[0m\u001b[0;34m\"C\"\u001b[0m\u001b[0;34m,\u001b[0m\u001b[0;34m\u001b[0m\u001b[0;34m\u001b[0m\u001b[0m\n\u001b[0;32m-> 1344\u001b[0;31m                                    accept_large_sparse=solver != 'liblinear')\n\u001b[0m\u001b[1;32m   1345\u001b[0m         \u001b[0mcheck_classification_targets\u001b[0m\u001b[0;34m(\u001b[0m\u001b[0my\u001b[0m\u001b[0;34m)\u001b[0m\u001b[0;34m\u001b[0m\u001b[0;34m\u001b[0m\u001b[0m\n\u001b[1;32m   1346\u001b[0m         \u001b[0mself\u001b[0m\u001b[0;34m.\u001b[0m\u001b[0mclasses_\u001b[0m \u001b[0;34m=\u001b[0m \u001b[0mnp\u001b[0m\u001b[0;34m.\u001b[0m\u001b[0munique\u001b[0m\u001b[0;34m(\u001b[0m\u001b[0my\u001b[0m\u001b[0;34m)\u001b[0m\u001b[0;34m\u001b[0m\u001b[0;34m\u001b[0m\u001b[0m\n",
      "\u001b[0;32m~/.pyenv/versions/3.7.7/envs/lewagon/lib/python3.7/site-packages/sklearn/base.py\u001b[0m in \u001b[0;36m_validate_data\u001b[0;34m(self, X, y, reset, validate_separately, **check_params)\u001b[0m\n\u001b[1;32m    430\u001b[0m                 \u001b[0my\u001b[0m \u001b[0;34m=\u001b[0m \u001b[0mcheck_array\u001b[0m\u001b[0;34m(\u001b[0m\u001b[0my\u001b[0m\u001b[0;34m,\u001b[0m \u001b[0;34m**\u001b[0m\u001b[0mcheck_y_params\u001b[0m\u001b[0;34m)\u001b[0m\u001b[0;34m\u001b[0m\u001b[0;34m\u001b[0m\u001b[0m\n\u001b[1;32m    431\u001b[0m             \u001b[0;32melse\u001b[0m\u001b[0;34m:\u001b[0m\u001b[0;34m\u001b[0m\u001b[0;34m\u001b[0m\u001b[0m\n\u001b[0;32m--> 432\u001b[0;31m                 \u001b[0mX\u001b[0m\u001b[0;34m,\u001b[0m \u001b[0my\u001b[0m \u001b[0;34m=\u001b[0m \u001b[0mcheck_X_y\u001b[0m\u001b[0;34m(\u001b[0m\u001b[0mX\u001b[0m\u001b[0;34m,\u001b[0m \u001b[0my\u001b[0m\u001b[0;34m,\u001b[0m \u001b[0;34m**\u001b[0m\u001b[0mcheck_params\u001b[0m\u001b[0;34m)\u001b[0m\u001b[0;34m\u001b[0m\u001b[0;34m\u001b[0m\u001b[0m\n\u001b[0m\u001b[1;32m    433\u001b[0m             \u001b[0mout\u001b[0m \u001b[0;34m=\u001b[0m \u001b[0mX\u001b[0m\u001b[0;34m,\u001b[0m \u001b[0my\u001b[0m\u001b[0;34m\u001b[0m\u001b[0;34m\u001b[0m\u001b[0m\n\u001b[1;32m    434\u001b[0m \u001b[0;34m\u001b[0m\u001b[0m\n",
      "\u001b[0;32m~/.pyenv/versions/3.7.7/envs/lewagon/lib/python3.7/site-packages/sklearn/utils/validation.py\u001b[0m in \u001b[0;36minner_f\u001b[0;34m(*args, **kwargs)\u001b[0m\n\u001b[1;32m     70\u001b[0m                           FutureWarning)\n\u001b[1;32m     71\u001b[0m         \u001b[0mkwargs\u001b[0m\u001b[0;34m.\u001b[0m\u001b[0mupdate\u001b[0m\u001b[0;34m(\u001b[0m\u001b[0;34m{\u001b[0m\u001b[0mk\u001b[0m\u001b[0;34m:\u001b[0m \u001b[0marg\u001b[0m \u001b[0;32mfor\u001b[0m \u001b[0mk\u001b[0m\u001b[0;34m,\u001b[0m \u001b[0marg\u001b[0m \u001b[0;32min\u001b[0m \u001b[0mzip\u001b[0m\u001b[0;34m(\u001b[0m\u001b[0msig\u001b[0m\u001b[0;34m.\u001b[0m\u001b[0mparameters\u001b[0m\u001b[0;34m,\u001b[0m \u001b[0margs\u001b[0m\u001b[0;34m)\u001b[0m\u001b[0;34m}\u001b[0m\u001b[0;34m)\u001b[0m\u001b[0;34m\u001b[0m\u001b[0;34m\u001b[0m\u001b[0m\n\u001b[0;32m---> 72\u001b[0;31m         \u001b[0;32mreturn\u001b[0m \u001b[0mf\u001b[0m\u001b[0;34m(\u001b[0m\u001b[0;34m**\u001b[0m\u001b[0mkwargs\u001b[0m\u001b[0;34m)\u001b[0m\u001b[0;34m\u001b[0m\u001b[0;34m\u001b[0m\u001b[0m\n\u001b[0m\u001b[1;32m     73\u001b[0m     \u001b[0;32mreturn\u001b[0m \u001b[0minner_f\u001b[0m\u001b[0;34m\u001b[0m\u001b[0;34m\u001b[0m\u001b[0m\n\u001b[1;32m     74\u001b[0m \u001b[0;34m\u001b[0m\u001b[0m\n",
      "\u001b[0;32m~/.pyenv/versions/3.7.7/envs/lewagon/lib/python3.7/site-packages/sklearn/utils/validation.py\u001b[0m in \u001b[0;36mcheck_X_y\u001b[0;34m(X, y, accept_sparse, accept_large_sparse, dtype, order, copy, force_all_finite, ensure_2d, allow_nd, multi_output, ensure_min_samples, ensure_min_features, y_numeric, estimator)\u001b[0m\n\u001b[1;32m    810\u001b[0m         \u001b[0my\u001b[0m \u001b[0;34m=\u001b[0m \u001b[0my\u001b[0m\u001b[0;34m.\u001b[0m\u001b[0mastype\u001b[0m\u001b[0;34m(\u001b[0m\u001b[0mnp\u001b[0m\u001b[0;34m.\u001b[0m\u001b[0mfloat64\u001b[0m\u001b[0;34m)\u001b[0m\u001b[0;34m\u001b[0m\u001b[0;34m\u001b[0m\u001b[0m\n\u001b[1;32m    811\u001b[0m \u001b[0;34m\u001b[0m\u001b[0m\n\u001b[0;32m--> 812\u001b[0;31m     \u001b[0mcheck_consistent_length\u001b[0m\u001b[0;34m(\u001b[0m\u001b[0mX\u001b[0m\u001b[0;34m,\u001b[0m \u001b[0my\u001b[0m\u001b[0;34m)\u001b[0m\u001b[0;34m\u001b[0m\u001b[0;34m\u001b[0m\u001b[0m\n\u001b[0m\u001b[1;32m    813\u001b[0m \u001b[0;34m\u001b[0m\u001b[0m\n\u001b[1;32m    814\u001b[0m     \u001b[0;32mreturn\u001b[0m \u001b[0mX\u001b[0m\u001b[0;34m,\u001b[0m \u001b[0my\u001b[0m\u001b[0;34m\u001b[0m\u001b[0;34m\u001b[0m\u001b[0m\n",
      "\u001b[0;32m~/.pyenv/versions/3.7.7/envs/lewagon/lib/python3.7/site-packages/sklearn/utils/validation.py\u001b[0m in \u001b[0;36mcheck_consistent_length\u001b[0;34m(*arrays)\u001b[0m\n\u001b[1;32m    254\u001b[0m     \u001b[0;32mif\u001b[0m \u001b[0mlen\u001b[0m\u001b[0;34m(\u001b[0m\u001b[0muniques\u001b[0m\u001b[0;34m)\u001b[0m \u001b[0;34m>\u001b[0m \u001b[0;36m1\u001b[0m\u001b[0;34m:\u001b[0m\u001b[0;34m\u001b[0m\u001b[0;34m\u001b[0m\u001b[0m\n\u001b[1;32m    255\u001b[0m         raise ValueError(\"Found input variables with inconsistent numbers of\"\n\u001b[0;32m--> 256\u001b[0;31m                          \" samples: %r\" % [int(l) for l in lengths])\n\u001b[0m\u001b[1;32m    257\u001b[0m \u001b[0;34m\u001b[0m\u001b[0m\n\u001b[1;32m    258\u001b[0m \u001b[0;34m\u001b[0m\u001b[0m\n",
      "\u001b[0;31mValueError\u001b[0m: Found input variables with inconsistent numbers of samples: [35046, 51683]"
     ]
    }
   ],
   "source": [
    "t.train()"
>>>>>>> 9696076df5745f74fba89ee1934b45f0acdcee76
   ]
  },
  {
   "cell_type": "code",
<<<<<<< HEAD
   "execution_count": 11,
   "metadata": {},
   "outputs": [
    {
     "data": {
      "text/plain": [
       "['streamlit==0.71.0',\n",
       " 'joblib==0.14.1',\n",
       " 'pandas==1.1.4',\n",
       " 'category_encoders==2.2.2',\n",
       " 'memoized-property==1.0.3',\n",
       " 'termcolor==1.1.0',\n",
       " 'numpy==1.18.5',\n",
       " 'scikit-learn==0.23.2',\n",
       " 'scipy==1.5.4',\n",
       " 'seaborn==0.11.0',\n",
       " 'matplotlib==3.3.3',\n",
       " 'mlflow==1.8.0',\n",
       " 'numpy==1.18.5',\n",
       " 'xgboost==1.2.1',\n",
       " 'scipy==1.5.4',\n",
       " 'google-cloud-storage==1.26.0',\n",
       " 'mlflow==1.8.0',\n",
       " 'gcsfs==0.6.0',\n",
       " 'psutil==5.7.0',\n",
       " 'imblearn']"
      ]
     },
     "execution_count": 11,
=======
   "execution_count": 7,
   "metadata": {},
   "outputs": [
    {
     "name": "stderr",
     "output_type": "stream",
     "text": [
      "/Users/sanderiwase/.pyenv/versions/3.7.7/envs/lewagon/lib/python3.7/site-packages/ipykernel/ipkernel.py:287: DeprecationWarning: `should_run_async` will not call `transform_cell` automatically in the future. Please pass the result to `transformed_cell` argument and any exception that happen during thetransform in `preprocessing_exc_tuple` in IPython 7.17 and above.\n",
      "  and should_run_async(code)\n"
     ]
    },
    {
     "data": {
      "text/plain": [
       "Pipeline(steps=[('initial_clean', InitialCleaning()),\n",
       "                ('initial_encoding', InitialEncoder()),\n",
       "                ('transform', TransformEncoder()),\n",
       "                ('model', LogisticRegression())])"
      ]
     },
     "execution_count": 7,
>>>>>>> 9696076df5745f74fba89ee1934b45f0acdcee76
     "metadata": {},
     "output_type": "execute_result"
    }
   ],
   "source": [
<<<<<<< HEAD
    "requirements"
   ]
  },
  {
   "cell_type": "markdown",
   "metadata": {},
   "source": [
    "Lembrar que quando eu faco um Pipeline pela funcao Pipeline, eu nao posso deletar nenhuma linha."
   ]
=======
    "t.pipeline"
   ]
  },
  {
   "cell_type": "code",
   "execution_count": null,
   "metadata": {},
   "outputs": [],
   "source": []
>>>>>>> 9696076df5745f74fba89ee1934b45f0acdcee76
  }
 ],
 "metadata": {
  "kernelspec": {
   "display_name": "Python 3",
   "language": "python",
   "name": "python3"
  },
  "language_info": {
   "codemirror_mode": {
    "name": "ipython",
    "version": 3
   },
   "file_extension": ".py",
   "mimetype": "text/x-python",
   "name": "python",
   "nbconvert_exporter": "python",
   "pygments_lexer": "ipython3",
   "version": "3.7.7"
  },
  "toc": {
   "base_numbering": 1,
   "nav_menu": {},
   "number_sections": true,
   "sideBar": true,
   "skip_h1_title": false,
   "title_cell": "Table of Contents",
   "title_sidebar": "Contents",
   "toc_cell": false,
   "toc_position": {},
   "toc_section_display": true,
   "toc_window_display": false
  },
  "varInspector": {
   "cols": {
    "lenName": 16,
    "lenType": 16,
    "lenVar": 40
   },
   "kernels_config": {
    "python": {
     "delete_cmd_postfix": "",
     "delete_cmd_prefix": "del ",
     "library": "var_list.py",
     "varRefreshCmd": "print(var_dic_list())"
    },
    "r": {
     "delete_cmd_postfix": ") ",
     "delete_cmd_prefix": "rm(",
     "library": "var_list.r",
     "varRefreshCmd": "cat(var_dic_list()) "
    }
   },
   "types_to_exclude": [
    "module",
    "function",
    "builtin_function_or_method",
    "instance",
    "_Feature"
   ],
   "window_display": false
  }
 },
 "nbformat": 4,
 "nbformat_minor": 4
}
