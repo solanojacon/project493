{
 "cells": [
  {
   "cell_type": "code",
   "execution_count": 4,
   "metadata": {},
   "outputs": [],
   "source": [
    "import pandas as pd\n",
    "import matplotlib.pyplot as plt\n",
    "import seaborn as sns"
   ]
  },
  {
   "cell_type": "code",
   "execution_count": 2,
   "metadata": {},
   "outputs": [],
   "source": [
    "import sys\n",
    "import os\n",
    "sys.path.append(os.path.dirname(os.getcwd()))\n",
    "from wanna_buy_house.data import final_treatment\n",
    "from wanna_buy_house.utils import final_transformer"
   ]
  },
  {
   "cell_type": "code",
   "execution_count": 7,
   "metadata": {},
   "outputs": [
    {
     "name": "stdout",
     "output_type": "stream",
     "text": [
      "get_data 0.18\n"
     ]
    },
    {
     "data": {
      "text/plain": [
       "Loan.Status                            int64\n",
       "Credit.Minus.Loan                      int64\n",
       "Years.current_job_enc                  int64\n",
       "Tax.Liens.Enc                          int64\n",
       "Leverage                             float64\n",
       "Bankruptcies.enc                       int64\n",
       "Years.since.last.delinquent            int64\n",
       "Loan.vs.Income                       float64\n",
       "Term.Encoded                         float64\n",
       "Number.of.Open.Accounts.Labeled        int64\n",
       "Number.of.Credit.Problems.Labeled      int64\n",
       "Credit.Score.Labeled                   int64\n",
       "Year.Credit.History.Labeled            int64\n",
       "H.O.Home Mortgage                    float64\n",
       "H.O.Own Home                         float64\n",
       "H.O.Rent                             float64\n",
       "Purp.Business Loan                   float64\n",
       "Purp.Buy House                       float64\n",
       "Purp.Buy a Car                       float64\n",
       "Purp.Debt Consolidation              float64\n",
       "Purp.Home Improvements               float64\n",
       "Purp.Medical Bills                   float64\n",
       "Purp.Other                           float64\n",
       "dtype: object"
      ]
     },
     "execution_count": 7,
     "metadata": {},
     "output_type": "execute_result"
    }
   ],
   "source": [
    "data_cleaned = final_treatment()\n",
    "data= final_transformer(data_cleaned)\n",
    "#Converted Year.Credit.History.Labeled from category to int64\n",
    "data['Year.Credit.History.Labeled'] = data['Year.Credit.History.Labeled'].astype('int64')\n",
    "data.dtypes"
   ]
  },
  {
   "cell_type": "code",
   "execution_count": 5,
   "metadata": {},
   "outputs": [
    {
     "data": {
      "text/html": [
       "<div>\n",
       "<style scoped>\n",
       "    .dataframe tbody tr th:only-of-type {\n",
       "        vertical-align: middle;\n",
       "    }\n",
       "\n",
       "    .dataframe tbody tr th {\n",
       "        vertical-align: top;\n",
       "    }\n",
       "\n",
       "    .dataframe thead th {\n",
       "        text-align: right;\n",
       "    }\n",
       "</style>\n",
       "<table border=\"1\" class=\"dataframe\">\n",
       "  <thead>\n",
       "    <tr style=\"text-align: right;\">\n",
       "      <th></th>\n",
       "      <th>Loan.ID</th>\n",
       "      <th>Current.Loan.Amount</th>\n",
       "      <th>Term</th>\n",
       "      <th>Credit.Score</th>\n",
       "      <th>Years.in.current.job</th>\n",
       "      <th>Home.Ownership</th>\n",
       "      <th>Annual.Income</th>\n",
       "      <th>Purpose</th>\n",
       "      <th>Monthly.Debt</th>\n",
       "      <th>Years.of.Credit.History</th>\n",
       "      <th>Months.since.last.delinquent</th>\n",
       "      <th>Number.of.Open.Accounts</th>\n",
       "      <th>Number.of.Credit.Problems</th>\n",
       "      <th>Current.Credit.Balance</th>\n",
       "      <th>Maximum.Open.Credit</th>\n",
       "      <th>Bankruptcies</th>\n",
       "      <th>Tax.Liens</th>\n",
       "      <th>Loan.Status</th>\n",
       "    </tr>\n",
       "  </thead>\n",
       "  <tbody>\n",
       "    <tr>\n",
       "      <th>0</th>\n",
       "      <td>0</td>\n",
       "      <td>17879</td>\n",
       "      <td>Short Term</td>\n",
       "      <td>739.0</td>\n",
       "      <td>6 years</td>\n",
       "      <td>Home Mortgage</td>\n",
       "      <td>95357.0</td>\n",
       "      <td>Debt Consolidation</td>\n",
       "      <td>1509.82</td>\n",
       "      <td>34.4</td>\n",
       "      <td>5.0</td>\n",
       "      <td>26</td>\n",
       "      <td>0</td>\n",
       "      <td>23986</td>\n",
       "      <td>40313</td>\n",
       "      <td>0.0</td>\n",
       "      <td>0.0</td>\n",
       "      <td>1</td>\n",
       "    </tr>\n",
       "    <tr>\n",
       "      <th>1</th>\n",
       "      <td>1</td>\n",
       "      <td>99999999</td>\n",
       "      <td>Long Term</td>\n",
       "      <td>619.0</td>\n",
       "      <td>6 years</td>\n",
       "      <td>Rent</td>\n",
       "      <td>54406.0</td>\n",
       "      <td>Debt Consolidation</td>\n",
       "      <td>1065.45</td>\n",
       "      <td>12.7</td>\n",
       "      <td>NaN</td>\n",
       "      <td>8</td>\n",
       "      <td>0</td>\n",
       "      <td>22938</td>\n",
       "      <td>31250</td>\n",
       "      <td>0.0</td>\n",
       "      <td>0.0</td>\n",
       "      <td>1</td>\n",
       "    </tr>\n",
       "    <tr>\n",
       "      <th>2</th>\n",
       "      <td>3</td>\n",
       "      <td>99999999</td>\n",
       "      <td>Short Term</td>\n",
       "      <td>738.0</td>\n",
       "      <td>less than  1 year</td>\n",
       "      <td>Rent</td>\n",
       "      <td>40480.0</td>\n",
       "      <td>Medical Bills</td>\n",
       "      <td>573.47</td>\n",
       "      <td>32.7</td>\n",
       "      <td>60.0</td>\n",
       "      <td>9</td>\n",
       "      <td>1</td>\n",
       "      <td>3963</td>\n",
       "      <td>5669</td>\n",
       "      <td>1.0</td>\n",
       "      <td>0.0</td>\n",
       "      <td>1</td>\n",
       "    </tr>\n",
       "    <tr>\n",
       "      <th>3</th>\n",
       "      <td>4</td>\n",
       "      <td>11200</td>\n",
       "      <td>Short Term</td>\n",
       "      <td>738.0</td>\n",
       "      <td>4 years</td>\n",
       "      <td>Rent</td>\n",
       "      <td>53965.0</td>\n",
       "      <td>Debt Consolidation</td>\n",
       "      <td>1358.11</td>\n",
       "      <td>15.8</td>\n",
       "      <td>NaN</td>\n",
       "      <td>8</td>\n",
       "      <td>1</td>\n",
       "      <td>11782</td>\n",
       "      <td>25951</td>\n",
       "      <td>1.0</td>\n",
       "      <td>0.0</td>\n",
       "      <td>1</td>\n",
       "    </tr>\n",
       "    <tr>\n",
       "      <th>4</th>\n",
       "      <td>5</td>\n",
       "      <td>3608</td>\n",
       "      <td>Short Term</td>\n",
       "      <td>731.0</td>\n",
       "      <td>10+ years</td>\n",
       "      <td>Home Mortgage</td>\n",
       "      <td>47709.0</td>\n",
       "      <td>Home Improvements</td>\n",
       "      <td>339.93</td>\n",
       "      <td>16.1</td>\n",
       "      <td>47.0</td>\n",
       "      <td>6</td>\n",
       "      <td>0</td>\n",
       "      <td>22909</td>\n",
       "      <td>25568</td>\n",
       "      <td>0.0</td>\n",
       "      <td>0.0</td>\n",
       "      <td>1</td>\n",
       "    </tr>\n",
       "    <tr>\n",
       "      <th>...</th>\n",
       "      <td>...</td>\n",
       "      <td>...</td>\n",
       "      <td>...</td>\n",
       "      <td>...</td>\n",
       "      <td>...</td>\n",
       "      <td>...</td>\n",
       "      <td>...</td>\n",
       "      <td>...</td>\n",
       "      <td>...</td>\n",
       "      <td>...</td>\n",
       "      <td>...</td>\n",
       "      <td>...</td>\n",
       "      <td>...</td>\n",
       "      <td>...</td>\n",
       "      <td>...</td>\n",
       "      <td>...</td>\n",
       "      <td>...</td>\n",
       "      <td>...</td>\n",
       "    </tr>\n",
       "    <tr>\n",
       "      <th>60799</th>\n",
       "      <td>84184</td>\n",
       "      <td>99999999</td>\n",
       "      <td>Short Term</td>\n",
       "      <td>725.0</td>\n",
       "      <td>3 years</td>\n",
       "      <td>Rent</td>\n",
       "      <td>52589.0</td>\n",
       "      <td>Business Loan</td>\n",
       "      <td>128.84</td>\n",
       "      <td>14.5</td>\n",
       "      <td>21.0</td>\n",
       "      <td>6</td>\n",
       "      <td>0</td>\n",
       "      <td>6160</td>\n",
       "      <td>14736</td>\n",
       "      <td>0.0</td>\n",
       "      <td>0.0</td>\n",
       "      <td>1</td>\n",
       "    </tr>\n",
       "    <tr>\n",
       "      <th>60800</th>\n",
       "      <td>84185</td>\n",
       "      <td>18229</td>\n",
       "      <td>Short Term</td>\n",
       "      <td>747.0</td>\n",
       "      <td>3 years</td>\n",
       "      <td>Rent</td>\n",
       "      <td>91143.0</td>\n",
       "      <td>Debt Consolidation</td>\n",
       "      <td>782.31</td>\n",
       "      <td>18.0</td>\n",
       "      <td>14.0</td>\n",
       "      <td>16</td>\n",
       "      <td>0</td>\n",
       "      <td>8328</td>\n",
       "      <td>51095</td>\n",
       "      <td>0.0</td>\n",
       "      <td>0.0</td>\n",
       "      <td>0</td>\n",
       "    </tr>\n",
       "    <tr>\n",
       "      <th>60801</th>\n",
       "      <td>84186</td>\n",
       "      <td>10165</td>\n",
       "      <td>Short Term</td>\n",
       "      <td>NaN</td>\n",
       "      <td>5 years</td>\n",
       "      <td>Rent</td>\n",
       "      <td>NaN</td>\n",
       "      <td>Buy a Car</td>\n",
       "      <td>156.44</td>\n",
       "      <td>8.9</td>\n",
       "      <td>NaN</td>\n",
       "      <td>10</td>\n",
       "      <td>0</td>\n",
       "      <td>5954</td>\n",
       "      <td>24400</td>\n",
       "      <td>0.0</td>\n",
       "      <td>0.0</td>\n",
       "      <td>1</td>\n",
       "    </tr>\n",
       "    <tr>\n",
       "      <th>60802</th>\n",
       "      <td>84187</td>\n",
       "      <td>99999999</td>\n",
       "      <td>Short Term</td>\n",
       "      <td>744.0</td>\n",
       "      <td>9 years</td>\n",
       "      <td>Rent</td>\n",
       "      <td>30450.0</td>\n",
       "      <td>Debt Consolidation</td>\n",
       "      <td>725.73</td>\n",
       "      <td>16.0</td>\n",
       "      <td>NaN</td>\n",
       "      <td>8</td>\n",
       "      <td>1</td>\n",
       "      <td>4446</td>\n",
       "      <td>7813</td>\n",
       "      <td>1.0</td>\n",
       "      <td>0.0</td>\n",
       "      <td>1</td>\n",
       "    </tr>\n",
       "    <tr>\n",
       "      <th>60803</th>\n",
       "      <td>84189</td>\n",
       "      <td>2866</td>\n",
       "      <td>Short Term</td>\n",
       "      <td>703.0</td>\n",
       "      <td>8 years</td>\n",
       "      <td>Home Mortgage</td>\n",
       "      <td>42991.0</td>\n",
       "      <td>Debt Consolidation</td>\n",
       "      <td>1164.35</td>\n",
       "      <td>23.0</td>\n",
       "      <td>67.0</td>\n",
       "      <td>6</td>\n",
       "      <td>0</td>\n",
       "      <td>39</td>\n",
       "      <td>9724</td>\n",
       "      <td>0.0</td>\n",
       "      <td>0.0</td>\n",
       "      <td>1</td>\n",
       "    </tr>\n",
       "  </tbody>\n",
       "</table>\n",
       "<p>60804 rows × 18 columns</p>\n",
       "</div>"
      ],
      "text/plain": [
       "       Loan.ID  Current.Loan.Amount        Term  Credit.Score  \\\n",
       "0            0                17879  Short Term         739.0   \n",
       "1            1             99999999   Long Term         619.0   \n",
       "2            3             99999999  Short Term         738.0   \n",
       "3            4                11200  Short Term         738.0   \n",
       "4            5                 3608  Short Term         731.0   \n",
       "...        ...                  ...         ...           ...   \n",
       "60799    84184             99999999  Short Term         725.0   \n",
       "60800    84185                18229  Short Term         747.0   \n",
       "60801    84186                10165  Short Term           NaN   \n",
       "60802    84187             99999999  Short Term         744.0   \n",
       "60803    84189                 2866  Short Term         703.0   \n",
       "\n",
       "      Years.in.current.job Home.Ownership  Annual.Income             Purpose  \\\n",
       "0                  6 years  Home Mortgage        95357.0  Debt Consolidation   \n",
       "1                  6 years           Rent        54406.0  Debt Consolidation   \n",
       "2        less than  1 year           Rent        40480.0       Medical Bills   \n",
       "3                  4 years           Rent        53965.0  Debt Consolidation   \n",
       "4                10+ years  Home Mortgage        47709.0   Home Improvements   \n",
       "...                    ...            ...            ...                 ...   \n",
       "60799              3 years           Rent        52589.0       Business Loan   \n",
       "60800              3 years           Rent        91143.0  Debt Consolidation   \n",
       "60801              5 years           Rent            NaN           Buy a Car   \n",
       "60802              9 years           Rent        30450.0  Debt Consolidation   \n",
       "60803              8 years  Home Mortgage        42991.0  Debt Consolidation   \n",
       "\n",
       "       Monthly.Debt  Years.of.Credit.History  Months.since.last.delinquent  \\\n",
       "0           1509.82                     34.4                           5.0   \n",
       "1           1065.45                     12.7                           NaN   \n",
       "2            573.47                     32.7                          60.0   \n",
       "3           1358.11                     15.8                           NaN   \n",
       "4            339.93                     16.1                          47.0   \n",
       "...             ...                      ...                           ...   \n",
       "60799        128.84                     14.5                          21.0   \n",
       "60800        782.31                     18.0                          14.0   \n",
       "60801        156.44                      8.9                           NaN   \n",
       "60802        725.73                     16.0                           NaN   \n",
       "60803       1164.35                     23.0                          67.0   \n",
       "\n",
       "       Number.of.Open.Accounts  Number.of.Credit.Problems  \\\n",
       "0                           26                          0   \n",
       "1                            8                          0   \n",
       "2                            9                          1   \n",
       "3                            8                          1   \n",
       "4                            6                          0   \n",
       "...                        ...                        ...   \n",
       "60799                        6                          0   \n",
       "60800                       16                          0   \n",
       "60801                       10                          0   \n",
       "60802                        8                          1   \n",
       "60803                        6                          0   \n",
       "\n",
       "       Current.Credit.Balance  Maximum.Open.Credit  Bankruptcies  Tax.Liens  \\\n",
       "0                       23986                40313           0.0        0.0   \n",
       "1                       22938                31250           0.0        0.0   \n",
       "2                        3963                 5669           1.0        0.0   \n",
       "3                       11782                25951           1.0        0.0   \n",
       "4                       22909                25568           0.0        0.0   \n",
       "...                       ...                  ...           ...        ...   \n",
       "60799                    6160                14736           0.0        0.0   \n",
       "60800                    8328                51095           0.0        0.0   \n",
       "60801                    5954                24400           0.0        0.0   \n",
       "60802                    4446                 7813           1.0        0.0   \n",
       "60803                      39                 9724           0.0        0.0   \n",
       "\n",
       "       Loan.Status  \n",
       "0                1  \n",
       "1                1  \n",
       "2                1  \n",
       "3                1  \n",
       "4                1  \n",
       "...            ...  \n",
       "60799            1  \n",
       "60800            0  \n",
       "60801            1  \n",
       "60802            1  \n",
       "60803            1  \n",
       "\n",
       "[60804 rows x 18 columns]"
      ]
     },
     "execution_count": 5,
     "metadata": {},
     "output_type": "execute_result"
    }
   ],
   "source": [
    "df_old = pd.read_csv('raw_data/train.csv')\n",
    "df_old"
   ]
  },
  {
   "cell_type": "code",
   "execution_count": 22,
   "metadata": {},
   "outputs": [
    {
     "data": {
      "text/plain": [
       "Loan.ID                             0\n",
       "Current.Loan.Amount                 0\n",
       "Term                                0\n",
       "Credit.Score                    12229\n",
       "Years.in.current.job             2529\n",
       "Home.Ownership                      0\n",
       "Annual.Income                   12229\n",
       "Purpose                             0\n",
       "Monthly.Debt                        0\n",
       "Years.of.Credit.History             0\n",
       "Months.since.last.delinquent    32475\n",
       "Number.of.Open.Accounts             0\n",
       "Number.of.Credit.Problems           0\n",
       "Current.Credit.Balance              0\n",
       "Maximum.Open.Credit                 0\n",
       "Bankruptcies                      127\n",
       "Tax.Liens                           2\n",
       "Loan.Status                         0\n",
       "dtype: int64"
      ]
     },
     "execution_count": 22,
     "metadata": {},
     "output_type": "execute_result"
    }
   ],
   "source": [
    "df_old.isnull().sum()"
   ]
  },
  {
   "cell_type": "markdown",
   "metadata": {},
   "source": [
    "# Inferences"
   ]
  },
  {
   "cell_type": "markdown",
   "metadata": {},
   "source": [
    "### Current.Loan.Amount"
   ]
  },
  {
   "cell_type": "code",
   "execution_count": 21,
   "metadata": {},
   "outputs": [
    {
     "data": {
      "image/png": "[encoded data removed]",
      "text/plain": [
       "<Figure size 432x288 with 1 Axes>"
      ]
     },
     "metadata": {
      "needs_background": "light"
     },
     "output_type": "display_data"
    }
   ],
   "source": [
    "ax = sns.countplot(x=\"Loan.Status\", data=data)\n",
    "ax.set_title('Loan Status')\n",
    "ax.set_ylim(0, 35000)\n",
    "ax.set(xlabel='Loan status', ylabel='Count')\n",
    "for p in ax.patches:\n",
    "             ax.annotate(p.get_height(), (p.get_x() + p.get_width() / 2., p.get_height()),\n",
    "                 ha='center', va='center', fontsize=11, color='black', xytext=(0, 20),\n",
    "                 textcoords='offset points')\n",
    "        \n",
    "plt.show()"
   ]
  },
  {
   "cell_type": "markdown",
   "metadata": {},
   "source": [
    " ### Term"
   ]
  },
  {
   "cell_type": "code",
   "execution_count": null,
   "metadata": {},
   "outputs": [],
   "source": [
    "sns.catplot(y=\"Loan.Status\", kind=\"bar\", data=df)"
   ]
  },
  {
   "cell_type": "markdown",
   "metadata": {},
   "source": [
    "### Home.Ownership"
   ]
  },
  {
   "cell_type": "code",
   "execution_count": null,
   "metadata": {},
   "outputs": [],
   "source": [
    "sns.catplot(x=\"Home.Ownership\", y=\"Loan.Status\", kind=\"bar\", data=df, height=4, aspect=2)"
   ]
  },
  {
   "cell_type": "markdown",
   "metadata": {},
   "source": [
    "### Annual.Income"
   ]
  },
  {
   "cell_type": "code",
   "execution_count": null,
   "metadata": {},
   "outputs": [],
   "source": [
    "sns.barplot(data=df, y=\"Annual.Income\", x=\"Loan.Status\")"
   ]
  },
  {
   "cell_type": "markdown",
   "metadata": {},
   "source": [
    "### Current.Credit.Balance"
   ]
  },
  {
   "cell_type": "code",
   "execution_count": null,
   "metadata": {},
   "outputs": [],
   "source": [
    "sns.barplot(data=df_old, y=\"Current.Credit.Balance\", x=\"Loan.Status\")"
   ]
  },
  {
   "cell_type": "markdown",
   "metadata": {},
   "source": [
    "### Number.of.Open.Accounts.Buckets"
   ]
  },
  {
   "cell_type": "code",
   "execution_count": null,
   "metadata": {},
   "outputs": [],
   "source": [
    "df.loc[df[\"Number.of.Open.Accounts.Buckets\"] == 'mais de 20', \"Number.of.Open.Accounts.Buckets\"] = '> 20'\n",
    "list_accounts = df['Number.of.Open.Accounts.Buckets'].sort_values().unique()\n",
    "\n",
    "sns.catplot(x=\"Number.of.Open.Accounts.Buckets\", y=\"Loan.Status\", kind=\"bar\", data=df, height=4, aspect=2, order=list_accounts)"
   ]
  },
  {
   "cell_type": "markdown",
   "metadata": {},
   "source": [
    "### Credit.Minus.Loan"
   ]
  },
  {
   "cell_type": "code",
   "execution_count": null,
   "metadata": {},
   "outputs": [],
   "source": [
    "sns.catplot(x=\"Credit.Minus.Loan\", y=\"Loan.Status\", kind=\"bar\", data=df, height=4, aspect=2)"
   ]
  },
  {
   "cell_type": "markdown",
   "metadata": {},
   "source": [
    "### Number.of.Credit.Problems.Buckets"
   ]
  },
  {
   "cell_type": "code",
   "execution_count": null,
   "metadata": {},
   "outputs": [],
   "source": [
    "sns.catplot(x=\"Number.of.Credit.Problems.Buckets\", y=\"Loan.Status\", kind=\"bar\", data=df, height=4, aspect=2)"
   ]
  },
  {
   "cell_type": "markdown",
   "metadata": {},
   "source": [
    "### Years.in.current.job.enc"
   ]
  },
  {
   "cell_type": "code",
   "execution_count": null,
   "metadata": {},
   "outputs": [],
   "source": [
    "df.loc[df[\"Years.in.current.job\"] == 'less than  1 year', \"Years.in.current.job\"] = '0-1 year'\n",
    "df.loc[df[\"Years.in.current.job\"] == '10+ years', \"Years.in.current.job\"] = '> 10 years'\n",
    "\n",
    "list_years = df['Years.in.current.job'].sort_values().unique()\n",
    "\n",
    "\n",
    "g = sns.catplot(x=\"Years.in.current.job.enc\", hue=\"Loan.Status\", kind=\"count\", data=df)\n",
    "g.fig.set_size_inches(15,4)"
   ]
  },
  {
   "cell_type": "code",
   "execution_count": null,
   "metadata": {},
   "outputs": [],
   "source": [
    "sns.catplot(x=\"Years.in.current.job.enc\", y=\"Loan.Status\", kind=\"bar\", data=df, height=4, aspect=3)\n",
    "sns.catplot(x=\"Years.in.current.job\", y=\"Loan.Status\", kind=\"bar\", data=df_old, height=4, aspect=3)"
   ]
  },
  {
   "cell_type": "markdown",
   "metadata": {},
   "source": [
    "### Purpose.Categories"
   ]
  },
  {
   "cell_type": "code",
   "execution_count": null,
   "metadata": {},
   "outputs": [],
   "source": [
    "plot_order = df.groupby('Purpose.Categories')['Loan.Status'].mean().sort_values(ascending=False).index.values\n",
    "\n",
    "sns.catplot(x=\"Purpose.Categories\", y=\"Loan.Status\", kind=\"bar\", data=df, height=4, aspect=3, order=plot_order)"
   ]
  },
  {
   "cell_type": "markdown",
   "metadata": {},
   "source": [
    "### Tax.Liens.enc"
   ]
  },
  {
   "cell_type": "code",
   "execution_count": null,
   "metadata": {},
   "outputs": [],
   "source": [
    "sns.catplot(x=\"Tax.Liens.enc\", y=\"Loan.Status\", kind=\"bar\", data=df, height=4, aspect=1)"
   ]
  },
  {
   "cell_type": "markdown",
   "metadata": {},
   "source": [
    "### Leverage"
   ]
  },
  {
   "cell_type": "code",
   "execution_count": null,
   "metadata": {},
   "outputs": [],
   "source": [
    "sns.barplot(data=df, y=\"Leverage\", x=\"Loan.Status\")"
   ]
  },
  {
   "cell_type": "markdown",
   "metadata": {},
   "source": [
    "### Credit.Score.Buckets"
   ]
  },
  {
   "cell_type": "code",
   "execution_count": null,
   "metadata": {},
   "outputs": [],
   "source": [
    "sns.catplot(data=df, x=\"Credit.Score.Buckets\", y=\"Loan.Status\", kind='bar')"
   ]
  },
  {
   "cell_type": "markdown",
   "metadata": {},
   "source": [
    "### Years.of.Credit.History.enc"
   ]
  },
  {
   "cell_type": "code",
   "execution_count": null,
   "metadata": {},
   "outputs": [],
   "source": [
    "df.loc[df[\"Years.of.Credit.History.enc\"] == '30+', \"Years.of.Credit.History.enc\"] = '> 30'\n",
    "df.loc[df[\"Years.of.Credit.History.enc\"] == '0 a 10', \"Years.of.Credit.History.enc\"] = '0-10'\n",
    "df.loc[df[\"Years.of.Credit.History.enc\"] == '10.1 a 20', \"Years.of.Credit.History.enc\"] = '10-20'\n",
    "df.loc[df[\"Years.of.Credit.History.enc\"] == '20.1 a 30', \"Years.of.Credit.History.enc\"] = '20-30'\n",
    "\n",
    "list_credit = df['Years.of.Credit.History.enc'].sort_values().unique()\n",
    "\n",
    "sns.catplot(data=df, x=\"Years.of.Credit.History.enc\", y=\"Loan.Status\", kind='bar', order=list_credit)"
   ]
  },
  {
   "cell_type": "markdown",
   "metadata": {},
   "source": [
    "### Bankruptcies.enc"
   ]
  },
  {
   "cell_type": "code",
   "execution_count": null,
   "metadata": {},
   "outputs": [],
   "source": [
    "sns.catplot(data=df, x=\"Bankruptcies.enc\", y=\"Loan.Status\", kind='bar')"
   ]
  },
  {
   "cell_type": "markdown",
   "metadata": {},
   "source": [
    "### Years.since.last.delinquent"
   ]
  },
  {
   "cell_type": "code",
   "execution_count": null,
   "metadata": {},
   "outputs": [],
   "source": [
    "sns.catplot(data=df, x=\"Years.since.last.delinquent\", y=\"Loan.Status\", kind='bar')"
   ]
  },
  {
   "cell_type": "markdown",
   "metadata": {},
   "source": [
    "### Loan.vs.Income"
   ]
  },
  {
   "cell_type": "code",
   "execution_count": null,
   "metadata": {},
   "outputs": [],
   "source": [
    "sns.barplot(data=df, y=\"Loan.vs.Income\", x=\"Loan.Status\")"
   ]
  },
  {
   "cell_type": "markdown",
   "metadata": {},
   "source": [
    "# Boxplots and Distplots"
   ]
  },
  {
   "cell_type": "markdown",
   "metadata": {},
   "source": [
    "### Current.Loan.Amount"
   ]
  },
  {
   "cell_type": "code",
   "execution_count": null,
   "metadata": {},
   "outputs": [],
   "source": [
    "sns.boxplot(y= df['Current.Loan.Amount'], x=df['Loan.Status'])"
   ]
  },
  {
   "cell_type": "code",
   "execution_count": null,
   "metadata": {},
   "outputs": [],
   "source": [
    "sns.displot(df, x=\"Current.Loan.Amount\", hue='Loan.Status', kind='kde', fill=True)"
   ]
  },
  {
   "cell_type": "markdown",
   "metadata": {},
   "source": [
    "### Annual.Income"
   ]
  },
  {
   "cell_type": "code",
   "execution_count": null,
   "metadata": {},
   "outputs": [],
   "source": [
    "sns.boxplot(y= df['Annual.Income'], x=df['Loan.Status'])"
   ]
  },
  {
   "cell_type": "code",
   "execution_count": null,
   "metadata": {},
   "outputs": [],
   "source": [
    "sns.displot(df, x=\"Annual.Income\", hue='Loan.Status', kind='kde', fill=True)"
   ]
  },
  {
   "cell_type": "markdown",
   "metadata": {},
   "source": [
    "### Current.Credit.Balance"
   ]
  },
  {
   "cell_type": "code",
   "execution_count": null,
   "metadata": {},
   "outputs": [],
   "source": [
    "sns.boxplot(y= df['Current.Credit.Balance'], x=df['Loan.Status'])"
   ]
  },
  {
   "cell_type": "code",
   "execution_count": null,
   "metadata": {},
   "outputs": [],
   "source": [
    "sns.displot(df, x=\"Current.Credit.Balance\", hue='Loan.Status', kind='kde', fill=True)"
   ]
  },
  {
   "cell_type": "markdown",
   "metadata": {},
   "source": [
    "### Leverage"
   ]
  },
  {
   "cell_type": "code",
   "execution_count": null,
   "metadata": {},
   "outputs": [],
   "source": [
    "sns.boxplot(y= df['Leverage'], x=df['Loan.Status'])"
   ]
  },
  {
   "cell_type": "code",
   "execution_count": null,
   "metadata": {},
   "outputs": [],
   "source": [
    "sns.displot(df, x=\"Leverage\", hue='Loan.Status', kind='kde', fill=True)"
   ]
  },
  {
   "cell_type": "markdown",
   "metadata": {},
   "source": [
    "### Loan.vs.Income"
   ]
  },
  {
   "cell_type": "code",
   "execution_count": null,
   "metadata": {},
   "outputs": [],
   "source": [
    "sns.boxplot(y= df['Loan.vs.Income'], x=df['Loan.Status'])"
   ]
  },
  {
   "cell_type": "code",
   "execution_count": null,
   "metadata": {},
   "outputs": [],
   "source": [
    "sns.displot(df, x=\"Loan.vs.Income\", hue='Loan.Status', kind='kde', fill=True)"
   ]
  },
  {
   "cell_type": "markdown",
   "metadata": {},
   "source": [
    "# Correlation\n"
   ]
  },
  {
   "cell_type": "code",
   "execution_count": null,
   "metadata": {},
   "outputs": [],
   "source": [
    "# Correlation Marix\n",
    "\n",
    "plt.figure(figsize=(12,8))\n",
    "sns.heatmap(df.corr(), cmap='coolwarm', annot=True, fmt='.1f', linewidths=.1)\n",
    "plt.title(\"Variables Correlation Matrix\")\n",
    "plt.show()"
   ]
  },
  {
   "cell_type": "markdown",
   "metadata": {},
   "source": [
    "# Pandas Profiling"
   ]
  },
  {
   "cell_type": "code",
   "execution_count": null,
   "metadata": {},
   "outputs": [],
   "source": [
    "import pandas_profiling\n",
    "\n",
    "df.profile_report()"
   ]
  },
  {
   "cell_type": "code",
   "execution_count": null,
   "metadata": {},
   "outputs": [],
   "source": [
    "import pandas_profiling\n",
    "\n",
    "df_old.profile_report()"
   ]
  },
  {
   "cell_type": "code",
   "execution_count": null,
   "metadata": {},
   "outputs": [],
   "source": []
  }
 ],
 "metadata": {
  "kernelspec": {
   "display_name": "Python 3",
   "language": "python",
   "name": "python3"
  },
  "language_info": {
   "codemirror_mode": {
    "name": "ipython",
    "version": 3
   },
   "file_extension": ".py",
   "mimetype": "text/x-python",
   "name": "python",
   "nbconvert_exporter": "python",
   "pygments_lexer": "ipython3",
   "version": "3.7.7"
  },
  "toc": {
   "base_numbering": 1,
   "nav_menu": {},
   "number_sections": true,
   "sideBar": true,
   "skip_h1_title": false,
   "title_cell": "Table of Contents",
   "title_sidebar": "Contents",
   "toc_cell": false,
   "toc_position": {},
   "toc_section_display": true,
   "toc_window_display": true
  }
 },
 "nbformat": 4,
 "nbformat_minor": 4
}
