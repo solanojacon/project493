{
 "cells": [
  {
   "cell_type": "code",
   "execution_count": 1,
   "metadata": {},
   "outputs": [],
   "source": [
    "import sys\n",
    "import os\n",
    "sys.path.append(os.path.dirname(os.getcwd()))\n",
    "from wanna_buy_house.data import final_treatment\n",
    "from wanna_buy_house.utils import final_transformer"
   ]
  },
  {
   "cell_type": "code",
   "execution_count": 2,
   "metadata": {},
   "outputs": [],
   "source": [
    "import numpy as np\n",
    "import pandas as pd\n",
    "import seaborn as sns\n",
    "import matplotlib.pyplot as plt\n",
    "from sklearn.model_selection import train_test_split, cross_validate\n",
    "from sklearn.ensemble import RandomForestClassifier\n",
    "from sklearn.inspection import permutation_importance\n",
    "from sklearn import metrics\n",
    "from sklearn.metrics import classification_report\n",
    "from sklearn.inspection import permutation_importance\n",
    "from sklearn.model_selection import GridSearchCV\n",
    "from sklearn.tree import DecisionTreeClassifier\n",
    "from sklearn.ensemble import AdaBoostClassifier\n",
    "from xgboost import XGBClassifier\n",
    "from sklearn.ensemble import GradientBoostingClassifier\n",
    "from imblearn.over_sampling import SMOTE\n",
    "from sklearn.model_selection import cross_val_predict\n",
    "from sklearn.metrics import precision_recall_curve\n",
    "from sklearn.metrics import roc_curve\n",
    "from sklearn.metrics import roc_auc_score\n",
    "from sklearn.metrics import plot_confusion_matrix\n",
    "from sklearn.metrics import confusion_matrix"
   ]
  },
  {
   "cell_type": "code",
   "execution_count": 3,
   "metadata": {},
   "outputs": [
    {
     "name": "stdout",
     "output_type": "stream",
     "text": [
      "get_data 0.15\n"
     ]
    },
    {
     "data": {
      "text/html": [
       "<div>\n",
       "<style scoped>\n",
       "    .dataframe tbody tr th:only-of-type {\n",
       "        vertical-align: middle;\n",
       "    }\n",
       "\n",
       "    .dataframe tbody tr th {\n",
       "        vertical-align: top;\n",
       "    }\n",
       "\n",
       "    .dataframe thead th {\n",
       "        text-align: right;\n",
       "    }\n",
       "</style>\n",
       "<table border=\"1\" class=\"dataframe\">\n",
       "  <thead>\n",
       "    <tr style=\"text-align: right;\">\n",
       "      <th></th>\n",
       "      <th>Loan.Status</th>\n",
       "      <th>Credit.Minus.Loan</th>\n",
       "      <th>Years.current_job_enc</th>\n",
       "      <th>Tax.Liens.Enc</th>\n",
       "      <th>Leverage</th>\n",
       "      <th>Bankruptcies.enc</th>\n",
       "      <th>Years.since.last.delinquent</th>\n",
       "      <th>Loan.vs.Income</th>\n",
       "      <th>Term.Encoded</th>\n",
       "      <th>Number.of.Open.Accounts.Labeled</th>\n",
       "      <th>...</th>\n",
       "      <th>H.O.Home Mortgage</th>\n",
       "      <th>H.O.Own Home</th>\n",
       "      <th>H.O.Rent</th>\n",
       "      <th>Purp.Business Loan</th>\n",
       "      <th>Purp.Buy House</th>\n",
       "      <th>Purp.Buy a Car</th>\n",
       "      <th>Purp.Debt Consolidation</th>\n",
       "      <th>Purp.Home Improvements</th>\n",
       "      <th>Purp.Medical Bills</th>\n",
       "      <th>Purp.Other</th>\n",
       "    </tr>\n",
       "  </thead>\n",
       "  <tbody>\n",
       "    <tr>\n",
       "      <th>0</th>\n",
       "      <td>1</td>\n",
       "      <td>1</td>\n",
       "      <td>6</td>\n",
       "      <td>0</td>\n",
       "      <td>0.190000</td>\n",
       "      <td>0</td>\n",
       "      <td>1</td>\n",
       "      <td>0.187495</td>\n",
       "      <td>0.0</td>\n",
       "      <td>2</td>\n",
       "      <td>...</td>\n",
       "      <td>1.0</td>\n",
       "      <td>0.0</td>\n",
       "      <td>0.0</td>\n",
       "      <td>0.0</td>\n",
       "      <td>0.0</td>\n",
       "      <td>0.0</td>\n",
       "      <td>1.0</td>\n",
       "      <td>0.0</td>\n",
       "      <td>0.0</td>\n",
       "      <td>0.0</td>\n",
       "    </tr>\n",
       "    <tr>\n",
       "      <th>3</th>\n",
       "      <td>1</td>\n",
       "      <td>1</td>\n",
       "      <td>4</td>\n",
       "      <td>0</td>\n",
       "      <td>0.301998</td>\n",
       "      <td>1</td>\n",
       "      <td>0</td>\n",
       "      <td>0.207542</td>\n",
       "      <td>0.0</td>\n",
       "      <td>0</td>\n",
       "      <td>...</td>\n",
       "      <td>0.0</td>\n",
       "      <td>0.0</td>\n",
       "      <td>1.0</td>\n",
       "      <td>0.0</td>\n",
       "      <td>0.0</td>\n",
       "      <td>0.0</td>\n",
       "      <td>1.0</td>\n",
       "      <td>0.0</td>\n",
       "      <td>0.0</td>\n",
       "      <td>0.0</td>\n",
       "    </tr>\n",
       "    <tr>\n",
       "      <th>4</th>\n",
       "      <td>1</td>\n",
       "      <td>1</td>\n",
       "      <td>10</td>\n",
       "      <td>0</td>\n",
       "      <td>0.085501</td>\n",
       "      <td>0</td>\n",
       "      <td>0</td>\n",
       "      <td>0.075625</td>\n",
       "      <td>0.0</td>\n",
       "      <td>0</td>\n",
       "      <td>...</td>\n",
       "      <td>1.0</td>\n",
       "      <td>0.0</td>\n",
       "      <td>0.0</td>\n",
       "      <td>0.0</td>\n",
       "      <td>0.0</td>\n",
       "      <td>0.0</td>\n",
       "      <td>0.0</td>\n",
       "      <td>1.0</td>\n",
       "      <td>0.0</td>\n",
       "      <td>0.0</td>\n",
       "    </tr>\n",
       "    <tr>\n",
       "      <th>5</th>\n",
       "      <td>1</td>\n",
       "      <td>0</td>\n",
       "      <td>5</td>\n",
       "      <td>0</td>\n",
       "      <td>0.127000</td>\n",
       "      <td>1</td>\n",
       "      <td>0</td>\n",
       "      <td>0.165112</td>\n",
       "      <td>0.0</td>\n",
       "      <td>1</td>\n",
       "      <td>...</td>\n",
       "      <td>1.0</td>\n",
       "      <td>0.0</td>\n",
       "      <td>0.0</td>\n",
       "      <td>0.0</td>\n",
       "      <td>0.0</td>\n",
       "      <td>0.0</td>\n",
       "      <td>0.0</td>\n",
       "      <td>1.0</td>\n",
       "      <td>0.0</td>\n",
       "      <td>0.0</td>\n",
       "    </tr>\n",
       "    <tr>\n",
       "      <th>6</th>\n",
       "      <td>0</td>\n",
       "      <td>0</td>\n",
       "      <td>10</td>\n",
       "      <td>0</td>\n",
       "      <td>0.056798</td>\n",
       "      <td>0</td>\n",
       "      <td>0</td>\n",
       "      <td>0.075445</td>\n",
       "      <td>1.0</td>\n",
       "      <td>0</td>\n",
       "      <td>...</td>\n",
       "      <td>0.0</td>\n",
       "      <td>0.0</td>\n",
       "      <td>1.0</td>\n",
       "      <td>0.0</td>\n",
       "      <td>0.0</td>\n",
       "      <td>0.0</td>\n",
       "      <td>0.0</td>\n",
       "      <td>0.0</td>\n",
       "      <td>0.0</td>\n",
       "      <td>1.0</td>\n",
       "    </tr>\n",
       "    <tr>\n",
       "      <th>...</th>\n",
       "      <td>...</td>\n",
       "      <td>...</td>\n",
       "      <td>...</td>\n",
       "      <td>...</td>\n",
       "      <td>...</td>\n",
       "      <td>...</td>\n",
       "      <td>...</td>\n",
       "      <td>...</td>\n",
       "      <td>...</td>\n",
       "      <td>...</td>\n",
       "      <td>...</td>\n",
       "      <td>...</td>\n",
       "      <td>...</td>\n",
       "      <td>...</td>\n",
       "      <td>...</td>\n",
       "      <td>...</td>\n",
       "      <td>...</td>\n",
       "      <td>...</td>\n",
       "      <td>...</td>\n",
       "      <td>...</td>\n",
       "      <td>...</td>\n",
       "    </tr>\n",
       "    <tr>\n",
       "      <th>60794</th>\n",
       "      <td>1</td>\n",
       "      <td>0</td>\n",
       "      <td>6</td>\n",
       "      <td>0</td>\n",
       "      <td>0.047101</td>\n",
       "      <td>0</td>\n",
       "      <td>0</td>\n",
       "      <td>0.119199</td>\n",
       "      <td>0.0</td>\n",
       "      <td>1</td>\n",
       "      <td>...</td>\n",
       "      <td>0.0</td>\n",
       "      <td>0.0</td>\n",
       "      <td>1.0</td>\n",
       "      <td>0.0</td>\n",
       "      <td>0.0</td>\n",
       "      <td>0.0</td>\n",
       "      <td>1.0</td>\n",
       "      <td>0.0</td>\n",
       "      <td>0.0</td>\n",
       "      <td>0.0</td>\n",
       "    </tr>\n",
       "    <tr>\n",
       "      <th>60795</th>\n",
       "      <td>1</td>\n",
       "      <td>1</td>\n",
       "      <td>1</td>\n",
       "      <td>0</td>\n",
       "      <td>0.197000</td>\n",
       "      <td>0</td>\n",
       "      <td>0</td>\n",
       "      <td>0.100010</td>\n",
       "      <td>0.0</td>\n",
       "      <td>1</td>\n",
       "      <td>...</td>\n",
       "      <td>1.0</td>\n",
       "      <td>0.0</td>\n",
       "      <td>0.0</td>\n",
       "      <td>0.0</td>\n",
       "      <td>0.0</td>\n",
       "      <td>0.0</td>\n",
       "      <td>1.0</td>\n",
       "      <td>0.0</td>\n",
       "      <td>0.0</td>\n",
       "      <td>0.0</td>\n",
       "    </tr>\n",
       "    <tr>\n",
       "      <th>60797</th>\n",
       "      <td>1</td>\n",
       "      <td>1</td>\n",
       "      <td>10</td>\n",
       "      <td>0</td>\n",
       "      <td>0.292000</td>\n",
       "      <td>0</td>\n",
       "      <td>0</td>\n",
       "      <td>0.279996</td>\n",
       "      <td>1.0</td>\n",
       "      <td>2</td>\n",
       "      <td>...</td>\n",
       "      <td>1.0</td>\n",
       "      <td>0.0</td>\n",
       "      <td>0.0</td>\n",
       "      <td>0.0</td>\n",
       "      <td>0.0</td>\n",
       "      <td>0.0</td>\n",
       "      <td>1.0</td>\n",
       "      <td>0.0</td>\n",
       "      <td>0.0</td>\n",
       "      <td>0.0</td>\n",
       "    </tr>\n",
       "    <tr>\n",
       "      <th>60800</th>\n",
       "      <td>0</td>\n",
       "      <td>0</td>\n",
       "      <td>3</td>\n",
       "      <td>0</td>\n",
       "      <td>0.103000</td>\n",
       "      <td>0</td>\n",
       "      <td>1</td>\n",
       "      <td>0.200004</td>\n",
       "      <td>0.0</td>\n",
       "      <td>1</td>\n",
       "      <td>...</td>\n",
       "      <td>0.0</td>\n",
       "      <td>0.0</td>\n",
       "      <td>1.0</td>\n",
       "      <td>0.0</td>\n",
       "      <td>0.0</td>\n",
       "      <td>0.0</td>\n",
       "      <td>1.0</td>\n",
       "      <td>0.0</td>\n",
       "      <td>0.0</td>\n",
       "      <td>0.0</td>\n",
       "    </tr>\n",
       "    <tr>\n",
       "      <th>60803</th>\n",
       "      <td>1</td>\n",
       "      <td>0</td>\n",
       "      <td>8</td>\n",
       "      <td>0</td>\n",
       "      <td>0.325003</td>\n",
       "      <td>0</td>\n",
       "      <td>0</td>\n",
       "      <td>0.066665</td>\n",
       "      <td>0.0</td>\n",
       "      <td>0</td>\n",
       "      <td>...</td>\n",
       "      <td>1.0</td>\n",
       "      <td>0.0</td>\n",
       "      <td>0.0</td>\n",
       "      <td>0.0</td>\n",
       "      <td>0.0</td>\n",
       "      <td>0.0</td>\n",
       "      <td>1.0</td>\n",
       "      <td>0.0</td>\n",
       "      <td>0.0</td>\n",
       "      <td>0.0</td>\n",
       "    </tr>\n",
       "  </tbody>\n",
       "</table>\n",
       "<p>41176 rows × 23 columns</p>\n",
       "</div>"
      ],
      "text/plain": [
       "       Loan.Status  Credit.Minus.Loan  Years.current_job_enc  Tax.Liens.Enc  \\\n",
       "0                1                  1                      6              0   \n",
       "3                1                  1                      4              0   \n",
       "4                1                  1                     10              0   \n",
       "5                1                  0                      5              0   \n",
       "6                0                  0                     10              0   \n",
       "...            ...                ...                    ...            ...   \n",
       "60794            1                  0                      6              0   \n",
       "60795            1                  1                      1              0   \n",
       "60797            1                  1                     10              0   \n",
       "60800            0                  0                      3              0   \n",
       "60803            1                  0                      8              0   \n",
       "\n",
       "       Leverage  Bankruptcies.enc  Years.since.last.delinquent  \\\n",
       "0      0.190000                 0                            1   \n",
       "3      0.301998                 1                            0   \n",
       "4      0.085501                 0                            0   \n",
       "5      0.127000                 1                            0   \n",
       "6      0.056798                 0                            0   \n",
       "...         ...               ...                          ...   \n",
       "60794  0.047101                 0                            0   \n",
       "60795  0.197000                 0                            0   \n",
       "60797  0.292000                 0                            0   \n",
       "60800  0.103000                 0                            1   \n",
       "60803  0.325003                 0                            0   \n",
       "\n",
       "       Loan.vs.Income  Term.Encoded  Number.of.Open.Accounts.Labeled  ...  \\\n",
       "0            0.187495           0.0                                2  ...   \n",
       "3            0.207542           0.0                                0  ...   \n",
       "4            0.075625           0.0                                0  ...   \n",
       "5            0.165112           0.0                                1  ...   \n",
       "6            0.075445           1.0                                0  ...   \n",
       "...               ...           ...                              ...  ...   \n",
       "60794        0.119199           0.0                                1  ...   \n",
       "60795        0.100010           0.0                                1  ...   \n",
       "60797        0.279996           1.0                                2  ...   \n",
       "60800        0.200004           0.0                                1  ...   \n",
       "60803        0.066665           0.0                                0  ...   \n",
       "\n",
       "       H.O.Home Mortgage  H.O.Own Home H.O.Rent  Purp.Business Loan  \\\n",
       "0                    1.0           0.0      0.0                 0.0   \n",
       "3                    0.0           0.0      1.0                 0.0   \n",
       "4                    1.0           0.0      0.0                 0.0   \n",
       "5                    1.0           0.0      0.0                 0.0   \n",
       "6                    0.0           0.0      1.0                 0.0   \n",
       "...                  ...           ...      ...                 ...   \n",
       "60794                0.0           0.0      1.0                 0.0   \n",
       "60795                1.0           0.0      0.0                 0.0   \n",
       "60797                1.0           0.0      0.0                 0.0   \n",
       "60800                0.0           0.0      1.0                 0.0   \n",
       "60803                1.0           0.0      0.0                 0.0   \n",
       "\n",
       "       Purp.Buy House  Purp.Buy a Car  Purp.Debt Consolidation  \\\n",
       "0                 0.0             0.0                      1.0   \n",
       "3                 0.0             0.0                      1.0   \n",
       "4                 0.0             0.0                      0.0   \n",
       "5                 0.0             0.0                      0.0   \n",
       "6                 0.0             0.0                      0.0   \n",
       "...               ...             ...                      ...   \n",
       "60794             0.0             0.0                      1.0   \n",
       "60795             0.0             0.0                      1.0   \n",
       "60797             0.0             0.0                      1.0   \n",
       "60800             0.0             0.0                      1.0   \n",
       "60803             0.0             0.0                      1.0   \n",
       "\n",
       "       Purp.Home Improvements  Purp.Medical Bills  Purp.Other  \n",
       "0                         0.0                 0.0         0.0  \n",
       "3                         0.0                 0.0         0.0  \n",
       "4                         1.0                 0.0         0.0  \n",
       "5                         1.0                 0.0         0.0  \n",
       "6                         0.0                 0.0         1.0  \n",
       "...                       ...                 ...         ...  \n",
       "60794                     0.0                 0.0         0.0  \n",
       "60795                     0.0                 0.0         0.0  \n",
       "60797                     0.0                 0.0         0.0  \n",
       "60800                     0.0                 0.0         0.0  \n",
       "60803                     0.0                 0.0         0.0  \n",
       "\n",
       "[41176 rows x 23 columns]"
      ]
     },
     "execution_count": 3,
     "metadata": {},
     "output_type": "execute_result"
    }
   ],
   "source": [
    "data_cleaned = final_treatment()\n",
    "data = final_transformer(data_cleaned)\n",
    "data"
   ]
  },
  {
   "cell_type": "code",
   "execution_count": 4,
   "metadata": {},
   "outputs": [],
   "source": [
    "#Converted Year.Credit.History.Labeled from category to int64\n",
    "data['Year.Credit.History.Labeled'] = data['Year.Credit.History.Labeled'].astype('int64')"
   ]
  },
  {
   "cell_type": "markdown",
   "metadata": {},
   "source": [
    "# FEATURE SELECTION - tirando purpose of loan e outras variaveis \n",
    "# NOVO GRIDSEARCH"
   ]
  },
  {
   "cell_type": "code",
   "execution_count": 5,
   "metadata": {},
   "outputs": [],
   "source": [
    "# Defining variables considering results of feature selection\n",
    "X = data.drop(columns=['Loan.Status', 'Tax.Liens.Enc',\n",
    "                      'Bankruptcies.enc', 'Number.of.Open.Accounts.Labeled', 'Purp.Buy a Car',\n",
    "                      'Purp.Buy House', 'Purp.Medical Bills', 'Purp.Business Loan',\n",
    "                      'Purp.Home Improvements', 'Purp.Debt Consolidation','Purp.Other',\n",
    "                       'H.O.Own Home', 'H.O.Rent', 'H.O.Home Mortgage'])\n",
    "y = data['Loan.Status'] \n",
    "# Train Test Split both datasets\n",
    "X_train, X_test, y_train, y_test = train_test_split(X, y, test_size=0.3, random_state=42)\n",
    "# GERACAO DE DADOS ARTIFICIAIS PARA A CATEGORIA DO TARGET MINORITARIO 0 A PARTIR DOS DADOS EXISTENTES\n",
    "sm = SMOTE()\n",
    "X_train_bal, y_train_bal = sm.fit_resample(X_train, y_train)"
   ]
  },
  {
   "cell_type": "code",
   "execution_count": 6,
   "metadata": {},
   "outputs": [
    {
     "data": {
      "image/png": "[encoded data removed]",
      "text/plain": [
       "<Figure size 864x576 with 2 Axes>"
      ]
     },
     "metadata": {
      "needs_background": "light"
     },
     "output_type": "display_data"
    }
   ],
   "source": [
    "# Correlation matrix of features selected --> little multicollinearity\n",
    "plt.figure(figsize=(12,8))\n",
    "sns.heatmap(X.corr(), cmap='coolwarm', annot=True, fmt='.1f', linewidths=.1)\n",
    "plt.title(\"Variables Correlation Matrix\")\n",
    "plt.show()"
   ]
  },
  {
   "cell_type": "code",
   "execution_count": 7,
   "metadata": {},
   "outputs": [
    {
     "name": "stdout",
     "output_type": "stream",
     "text": [
      "RANDOM FOREST W/ FEATURE SELECTION & GRID SEARCH - CLASSIFICATION REPORT\n",
      "              precision    recall  f1-score   support\n",
      "\n",
      "           0       0.35      0.39      0.37      3373\n",
      "           1       0.76      0.72      0.74      8980\n",
      "\n",
      "    accuracy                           0.63     12353\n",
      "   macro avg       0.55      0.56      0.55     12353\n",
      "weighted avg       0.65      0.63      0.64     12353\n",
      "\n"
     ]
    }
   ],
   "source": [
    "#Applied GridSearchCV (rs)\n",
    "forest_rs = RandomForestClassifier(n_jobs=-1,\n",
    "                                   max_features='log2',\n",
    "                                   n_estimators=1950,\n",
    "                                   max_depth=32,\n",
    "                                   min_samples_split=2,\n",
    "                                   min_samples_leaf=1,\n",
    "                                   random_state=13)\n",
    "\n",
    "# Model fit, score and score metrics\n",
    "forest_rs.fit(X_train_bal, y_train_bal)\n",
    "forest_rs.score(X_test, y_test)\n",
    "y_pred_forest_rs = forest_rs.predict(X_test)\n",
    "cv_forest_rs = cross_validate(forest_rs,\n",
    "                          X_train_bal,\n",
    "                          y_train_bal,\n",
    "                          scoring='f1_weighted',\n",
    "                          cv=10)\n",
    "print('RANDOM FOREST W/ FEATURE SELECTION & GRID SEARCH - CLASSIFICATION REPORT')\n",
    "print(classification_report(y_test, y_pred_forest_rs))"
   ]
  },
  {
   "cell_type": "code",
   "execution_count": 8,
   "metadata": {},
   "outputs": [],
   "source": [
    "#Feature selection using permutation importance\n",
    "\n",
    "perm_score = permutation_importance(forest_rs, X_train_bal, y_train_bal, random_state=42, n_repeats=1)\n",
    "perm_score['importances_mean']\n",
    "df = pd.DataFrame({'features': X.columns, 'importance_mean': perm_score['importances_mean']}).sort_values('importance_mean')"
   ]
  },
  {
   "cell_type": "code",
   "execution_count": 9,
   "metadata": {},
   "outputs": [
    {
     "data": {
      "text/html": [
       "<div>\n",
       "<style scoped>\n",
       "    .dataframe tbody tr th:only-of-type {\n",
       "        vertical-align: middle;\n",
       "    }\n",
       "\n",
       "    .dataframe tbody tr th {\n",
       "        vertical-align: top;\n",
       "    }\n",
       "\n",
       "    .dataframe thead th {\n",
       "        text-align: right;\n",
       "    }\n",
       "</style>\n",
       "<table border=\"1\" class=\"dataframe\">\n",
       "  <thead>\n",
       "    <tr style=\"text-align: right;\">\n",
       "      <th></th>\n",
       "      <th>features</th>\n",
       "      <th>importance_mean</th>\n",
       "    </tr>\n",
       "  </thead>\n",
       "  <tbody>\n",
       "    <tr>\n",
       "      <th>6</th>\n",
       "      <td>Number.of.Credit.Problems.Labeled</td>\n",
       "      <td>0.052014</td>\n",
       "    </tr>\n",
       "    <tr>\n",
       "      <th>3</th>\n",
       "      <td>Years.since.last.delinquent</td>\n",
       "      <td>0.104075</td>\n",
       "    </tr>\n",
       "    <tr>\n",
       "      <th>0</th>\n",
       "      <td>Credit.Minus.Loan</td>\n",
       "      <td>0.131903</td>\n",
       "    </tr>\n",
       "    <tr>\n",
       "      <th>8</th>\n",
       "      <td>Year.Credit.History.Labeled</td>\n",
       "      <td>0.171253</td>\n",
       "    </tr>\n",
       "    <tr>\n",
       "      <th>5</th>\n",
       "      <td>Term.Encoded</td>\n",
       "      <td>0.178180</td>\n",
       "    </tr>\n",
       "    <tr>\n",
       "      <th>7</th>\n",
       "      <td>Credit.Score.Labeled</td>\n",
       "      <td>0.216435</td>\n",
       "    </tr>\n",
       "    <tr>\n",
       "      <th>1</th>\n",
       "      <td>Years.current_job_enc</td>\n",
       "      <td>0.253023</td>\n",
       "    </tr>\n",
       "    <tr>\n",
       "      <th>2</th>\n",
       "      <td>Leverage</td>\n",
       "      <td>0.342816</td>\n",
       "    </tr>\n",
       "    <tr>\n",
       "      <th>4</th>\n",
       "      <td>Loan.vs.Income</td>\n",
       "      <td>0.369215</td>\n",
       "    </tr>\n",
       "  </tbody>\n",
       "</table>\n",
       "</div>"
      ],
      "text/plain": [
       "                            features  importance_mean\n",
       "6  Number.of.Credit.Problems.Labeled         0.052014\n",
       "3        Years.since.last.delinquent         0.104075\n",
       "0                  Credit.Minus.Loan         0.131903\n",
       "8        Year.Credit.History.Labeled         0.171253\n",
       "5                       Term.Encoded         0.178180\n",
       "7               Credit.Score.Labeled         0.216435\n",
       "1              Years.current_job_enc         0.253023\n",
       "2                           Leverage         0.342816\n",
       "4                     Loan.vs.Income         0.369215"
      ]
     },
     "execution_count": 9,
     "metadata": {},
     "output_type": "execute_result"
    }
   ],
   "source": [
    "df"
   ]
  },
  {
   "cell_type": "code",
   "execution_count": 10,
   "metadata": {},
   "outputs": [
    {
     "data": {
      "image/png": "[encoded data removed]",
      "text/plain": [
       "<Figure size 432x288 with 1 Axes>"
      ]
     },
     "metadata": {
      "needs_background": "light"
     },
     "output_type": "display_data"
    }
   ],
   "source": [
    "ax=sns.barplot(x='importance_mean', y='features', data=df)\n",
    "ax.set(title='Feature importance')\n",
    "ax.set_xlim(0, 0.45)\n",
    "ax.set(xlabel='Importance mean', ylabel='Feature')\n",
    "\n",
    "for p in ax.patches:\n",
    "    ax.annotate(\"%.2f\" % p.get_width(), xy=(p.get_width(), p.get_y()+p.get_height()/2),\n",
    "            xytext=(5, 0), textcoords='offset points', ha=\"left\", va=\"center\")\n",
    "\n",
    "plt.show()"
   ]
  },
  {
   "cell_type": "code",
   "execution_count": 11,
   "metadata": {},
   "outputs": [
    {
     "name": "stdout",
     "output_type": "stream",
     "text": [
      "Fitting 3 folds for each of 1 candidates, totalling 3 fits\n"
     ]
    },
    {
     "name": "stderr",
     "output_type": "stream",
     "text": [
      "[Parallel(n_jobs=-1)]: Using backend LokyBackend with 8 concurrent workers.\n",
      "[Parallel(n_jobs=-1)]: Done   3 out of   3 | elapsed:  1.5min finished\n"
     ]
    },
    {
     "name": "stdout",
     "output_type": "stream",
     "text": [
      "{'max_depth': 32, 'max_features': 'log2', 'min_samples_leaf': 1, 'min_samples_split': 2, 'n_estimators': 1950, 'random_state': 13}\n"
     ]
    }
   ],
   "source": [
    "#GridSearch for random forest model\n",
    "\n",
    "param_grid = {'n_estimators': [1950],\n",
    "              'max_features': ['log2'],\n",
    "              'max_depth': [32],\n",
    "              'min_samples_split': [2],\n",
    "              'min_samples_leaf': [1],\n",
    "              'random_state': [13]\n",
    "}\n",
    "\n",
    "CV_forest_rs = GridSearchCV(forest_rs, \n",
    "                            param_grid,\n",
    "                            scoring='f1_weighted', \n",
    "                            cv=3, verbose=1, n_jobs=-1)\n",
    "CV_forest_rs.fit(X_train_bal, y_train_bal)\n",
    "print(CV_forest_rs.best_params_)"
   ]
  },
  {
   "cell_type": "code",
   "execution_count": 12,
   "metadata": {},
   "outputs": [
    {
     "name": "stdout",
     "output_type": "stream",
     "text": [
      "No Skill: ROC AUC=0.500\n",
      "Random Forest: ROC AUC=0.607\n"
     ]
    },
    {
     "data": {
      "image/png": "[encoded data removed]",
      "text/plain": [
       "<Figure size 432x288 with 1 Axes>"
      ]
     },
     "metadata": {
      "needs_background": "light"
     },
     "output_type": "display_data"
    }
   ],
   "source": [
    "#It returns the AUC score between 0.0 and 1.0 for no skill and perfect skill respectively.\n",
    "# ROC AUC for Random Forest with RandomSearch\n",
    "# generate a no skill prediction (majority class)\n",
    "ns_probs = [0 for _ in range(len(y_test))]\n",
    "# predict probabilities\n",
    "lr_probs = forest_rs.predict_proba(X_test)\n",
    "# keep probabilities for the positive outcome only\n",
    "lr_probs = lr_probs[:, 1]\n",
    "# calculate scores\n",
    "ns_auc = roc_auc_score(y_test, ns_probs)\n",
    "lr_auc = roc_auc_score(y_test, lr_probs)\n",
    "# summarize scores\n",
    "print('No Skill: ROC AUC=%.3f' % (ns_auc))\n",
    "print('Random Forest: ROC AUC=%.3f' % (lr_auc))\n",
    "# calculate roc curves\n",
    "ns_fpr, ns_tpr, _ = roc_curve(y_test, ns_probs)\n",
    "lr_fpr, lr_tpr, _ = roc_curve(y_test, lr_probs)\n",
    "# plot the roc curve for the model\n",
    "plt.plot(ns_fpr, ns_tpr, linestyle='--', label='No Skill Classifier')\n",
    "plt.plot(lr_fpr, lr_tpr, marker='.', label='Random Forest')\n",
    "# axis labels\n",
    "plt.xlabel('False Positive Rate')\n",
    "plt.ylabel('True Positive Rate')\n",
    "# show the legend\n",
    "plt.legend()\n",
    "# show the plot\n",
    "plt.show()"
   ]
  },
  {
   "cell_type": "code",
   "execution_count": 13,
   "metadata": {},
   "outputs": [],
   "source": [
    "y_pred_proba1_forest_rs = np.delete(forest_rs.predict_proba(X_test), 0, 1)"
   ]
  },
  {
   "cell_type": "code",
   "execution_count": 14,
   "metadata": {},
   "outputs": [
    {
     "name": "stderr",
     "output_type": "stream",
     "text": [
      "c:\\users\\m_day\\.venvs\\lewagon\\lib\\site-packages\\sklearn\\metrics\\_classification.py:1221: UndefinedMetricWarning: Precision and F-score are ill-defined and being set to 0.0 in labels with no predicted samples. Use `zero_division` parameter to control this behavior.\n",
      "  _warn_prf(average, modifier, msg_start, len(result))\n"
     ]
    },
    {
     "data": {
      "image/png": "[encoded data removed]",
      "text/plain": [
       "<Figure size 1080x360 with 2 Axes>"
      ]
     },
     "metadata": {
      "needs_background": "light"
     },
     "output_type": "display_data"
    }
   ],
   "source": [
    "thresholds = np.arange(0.0, 1.05, 0.05)\n",
    "metrics_per_threshold_forest_rs = []\n",
    "for threshold in thresholds:\n",
    "    y_pred_adj_forest_rs = y_pred_proba1_forest_rs.copy()\n",
    "    for row in range(len(y_pred_adj_forest_rs)):\n",
    "        if y_pred_adj_forest_rs[row] >= threshold:\n",
    "            y_pred_adj_forest_rs[row] = 1\n",
    "        else:\n",
    "            y_pred_adj_forest_rs[row] = 0\n",
    "    precision_0 = classification_report(y_true=y_test, y_pred=y_pred_adj_forest_rs, output_dict=True)['0']['precision']\n",
    "    precision_1 = classification_report(y_true=y_test, y_pred=y_pred_adj_forest_rs, output_dict=True)['1']['precision']\n",
    "    recall_0 = classification_report(y_true=y_test, y_pred=y_pred_adj_forest_rs, output_dict=True)['0']['recall']\n",
    "    recall_1 = classification_report(y_true=y_test, y_pred=y_pred_adj_forest_rs, output_dict=True)['1']['recall']\n",
    "    metrics_per_threshold_forest_rs.append([threshold, precision_0, precision_1, recall_0, recall_1])\n",
    "fig, (ax1, ax2) = plt.subplots(1, 2, figsize=(15, 5))\n",
    "fig.suptitle('***   RANDOM FOREST - COM SMOTE TARGET - THRESHOLD = 0 ~ 1   ***')\n",
    "ax1.plot(np.array(metrics_per_threshold_forest_rs)[:,0], np.array(metrics_per_threshold_forest_rs)[:,1])\n",
    "ax1.plot(np.array(metrics_per_threshold_forest_rs)[:,0], np.array(metrics_per_threshold_forest_rs)[:,2])\n",
    "ax1.legend(['Precision 0', 'Precision 1'], loc='best')\n",
    "ax1.set_ylabel('Metric')\n",
    "ax1.set_xlabel('Threshold')\n",
    "ax1.set_title('Precision')\n",
    "ax2.plot(np.array(metrics_per_threshold_forest_rs)[:,0], np.array(metrics_per_threshold_forest_rs)[:,3])\n",
    "ax2.plot(np.array(metrics_per_threshold_forest_rs)[:,0], np.array(metrics_per_threshold_forest_rs)[:,4])\n",
    "ax2.legend(['Recall 0', 'Recall 1'], loc='best')\n",
    "ax2.set_ylabel('Metric')\n",
    "ax2.set_xlabel('Threshold')\n",
    "ax2.set_title('Recall')\n",
    "plt.show()"
   ]
  },
  {
   "cell_type": "code",
   "execution_count": 15,
   "metadata": {},
   "outputs": [
    {
     "data": {
      "image/png": "[encoded data removed]",
      "text/plain": [
       "<Figure size 1080x360 with 2 Axes>"
      ]
     },
     "metadata": {
      "needs_background": "light"
     },
     "output_type": "display_data"
    }
   ],
   "source": [
    "proba1_min_lst = np.arange(0.1, 0.45, 0.05)\n",
    "proba1_max_lst = np.flip(np.arange(0.6, 0.95, 0.05))\n",
    "metrics_per_threshold_forest_rs = []\n",
    "for proba1_min, proba1_max in zip(proba1_min_lst, proba1_max_lst):\n",
    "    y_test_proba1_min_max = y_test.copy()\n",
    "    y_test_proba1_min_max = pd.DataFrame(y_test_proba1_min_max)\n",
    "    y_test_proba1_min_max['y_pred_proba1_forest_rs'] = y_pred_proba1_forest_rs\n",
    "    y_test_proba1_min_max = y_test_proba1_min_max.loc[(y_test_proba1_min_max['y_pred_proba1_forest_rs'] <= proba1_min) |\n",
    "                                                      (y_test_proba1_min_max['y_pred_proba1_forest_rs'] >= proba1_max)]\n",
    "    y_test_proba1_min_max = y_test_proba1_min_max.drop(columns='y_pred_proba1_forest_rs')\n",
    "    y_pred_forest_rs_proba1_min_max = pd.DataFrame(y_pred_forest_rs)\n",
    "    y_pred_forest_rs_proba1_min_max['y_pred_proba1_forest_rs'] = y_pred_proba1_forest_rs\n",
    "    y_pred_forest_rs_proba1_min_max = y_pred_forest_rs_proba1_min_max.loc[(y_pred_forest_rs_proba1_min_max['y_pred_proba1_forest_rs'] <= proba1_min) |\n",
    "                                                                          (y_pred_forest_rs_proba1_min_max['y_pred_proba1_forest_rs'] >= proba1_max)]\n",
    "    y_pred_forest_rs_proba1_min_max = y_pred_forest_rs_proba1_min_max.drop(columns='y_pred_proba1_forest_rs')\n",
    "    precision_0 = classification_report(y_true=y_test_proba1_min_max, y_pred=y_pred_forest_rs_proba1_min_max, output_dict=True)['0']['precision']\n",
    "    precision_1 = classification_report(y_true=y_test_proba1_min_max, y_pred=y_pred_forest_rs_proba1_min_max, output_dict=True)['1']['precision']\n",
    "    recall_0 = classification_report(y_true=y_test_proba1_min_max, y_pred=y_pred_forest_rs_proba1_min_max, output_dict=True)['0']['recall']\n",
    "    recall_1 = classification_report(y_true=y_test_proba1_min_max, y_pred=y_pred_forest_rs_proba1_min_max, output_dict=True)['1']['recall']\n",
    "    auto_rate = len(y_pred_forest_rs_proba1_min_max) / len(y_test)\n",
    "    metrics_per_threshold_forest_rs.append([proba1_min, proba1_max, auto_rate, precision_0, precision_1, recall_0, recall_1])\n",
    "fig, (ax1, ax2) = plt.subplots(1, 2, figsize=(15, 5))\n",
    "fig.suptitle('***   RANDOM FOREST - COM SMOTE TARGET - PROBA 1 ENTRE 0 ~ 0.4 OU PROBA 1 ENTRE 0.6 ~ 1   ***')\n",
    "ax1.plot(np.array(metrics_per_threshold_forest_rs)[:,2], np.array(metrics_per_threshold_forest_rs)[:,3])\n",
    "ax1.plot(np.array(metrics_per_threshold_forest_rs)[:,2], np.array(metrics_per_threshold_forest_rs)[:,4])\n",
    "ax1.legend(['Precision 0', 'Precision 1'], loc='best')\n",
    "ax1.set_ylabel('Metric')\n",
    "ax1.set_xlabel('Automation Rate')\n",
    "ax1.set_title('Precision')\n",
    "ax2.plot(np.array(metrics_per_threshold_forest_rs)[:,2], np.array(metrics_per_threshold_forest_rs)[:,5])\n",
    "ax2.plot(np.array(metrics_per_threshold_forest_rs)[:,2], np.array(metrics_per_threshold_forest_rs)[:,6])\n",
    "ax2.legend(['Recall 0', 'Recall 1'], loc='best')\n",
    "ax2.set_ylabel('Metric')\n",
    "ax2.set_xlabel('Automation Rate')\n",
    "ax2.set_title('Recall')\n",
    "plt.show()"
   ]
  },
  {
   "cell_type": "markdown",
   "metadata": {},
   "source": [
    "## Confusion matrix"
   ]
  },
  {
   "cell_type": "code",
   "execution_count": 16,
   "metadata": {},
   "outputs": [
    {
     "data": {
      "text/plain": [
       "array([[1323, 2050],\n",
       "       [2501, 6479]], dtype=int64)"
      ]
     },
     "execution_count": 16,
     "metadata": {},
     "output_type": "execute_result"
    }
   ],
   "source": [
    "confusion_matrix(y_test, y_pred_forest_rs)"
   ]
  },
  {
   "cell_type": "code",
   "execution_count": 17,
   "metadata": {
    "scrolled": true
   },
   "outputs": [
    {
     "data": {
      "image/png": "[encoded data removed]",
      "text/plain": [
       "<Figure size 432x288 with 2 Axes>"
      ]
     },
     "metadata": {
      "needs_background": "light"
     },
     "output_type": "display_data"
    }
   ],
   "source": [
    "plot_confusion_matrix(forest_rs, X_test, y_test)\n",
    "plt.title('Random Forest: Confusion matrix')\n",
    "plt.show()"
   ]
  },
  {
   "cell_type": "code",
   "execution_count": 18,
   "metadata": {},
   "outputs": [],
   "source": [
    "y_pred_probas_0, y_pred_probas_1 = cross_val_predict(forest_rs,\n",
    "                                                     X_train_bal, y_train_bal,\n",
    "                                                     method = \"predict_proba\").T"
   ]
  },
  {
   "cell_type": "code",
   "execution_count": 19,
   "metadata": {},
   "outputs": [
    {
     "data": {
      "text/plain": [
       "RandomForestClassifier(max_depth=32, max_features='log2', n_estimators=1950,\n",
       "                       n_jobs=-1, random_state=13)"
      ]
     },
     "execution_count": 19,
     "metadata": {},
     "output_type": "execute_result"
    }
   ],
   "source": [
    "forest_rs.fit(X_train_bal, y_train_bal)"
   ]
  },
  {
   "cell_type": "code",
   "execution_count": 20,
   "metadata": {},
   "outputs": [],
   "source": [
    "y_pred_probas_0, y_pred_probas_1 = forest_rs.predict_proba(X_test).T"
   ]
  },
  {
   "cell_type": "code",
   "execution_count": 37,
   "metadata": {},
   "outputs": [
    {
     "ename": "ValueError",
     "evalue": "Found input variables with inconsistent numbers of samples: [12353, 42008]",
     "output_type": "error",
     "traceback": [
      "\u001b[1;31m---------------------------------------------------------------------------\u001b[0m",
      "\u001b[1;31mValueError\u001b[0m                                Traceback (most recent call last)",
      "\u001b[1;32m<ipython-input-37-fda209ed5b7a>\u001b[0m in \u001b[0;36m<module>\u001b[1;34m\u001b[0m\n\u001b[0;32m      1\u001b[0m \u001b[0my_pred\u001b[0m\u001b[1;33m=\u001b[0m\u001b[1;36m1\u001b[0m\u001b[1;33m-\u001b[0m\u001b[1;33m(\u001b[0m\u001b[0my_pred_probas_0\u001b[0m\u001b[1;33m>\u001b[0m\u001b[1;36m1\u001b[0m\u001b[1;33m-\u001b[0m\u001b[0mthreshold0\u001b[0m\u001b[1;33m)\u001b[0m\u001b[1;33m.\u001b[0m\u001b[0mastype\u001b[0m\u001b[1;33m(\u001b[0m\u001b[0mint\u001b[0m\u001b[1;33m)\u001b[0m\u001b[1;33m\u001b[0m\u001b[1;33m\u001b[0m\u001b[0m\n\u001b[1;32m----> 2\u001b[1;33m \u001b[0mprint\u001b[0m\u001b[1;33m(\u001b[0m\u001b[0mclassification_report\u001b[0m\u001b[1;33m(\u001b[0m\u001b[0my_test\u001b[0m\u001b[1;33m,\u001b[0m \u001b[0my_pred\u001b[0m\u001b[1;33m)\u001b[0m\u001b[1;33m)\u001b[0m\u001b[1;33m\u001b[0m\u001b[1;33m\u001b[0m\u001b[0m\n\u001b[0m",
      "\u001b[1;32mc:\\users\\m_day\\.venvs\\lewagon\\lib\\site-packages\\sklearn\\utils\\validation.py\u001b[0m in \u001b[0;36minner_f\u001b[1;34m(*args, **kwargs)\u001b[0m\n\u001b[0;32m     70\u001b[0m                           FutureWarning)\n\u001b[0;32m     71\u001b[0m         \u001b[0mkwargs\u001b[0m\u001b[1;33m.\u001b[0m\u001b[0mupdate\u001b[0m\u001b[1;33m(\u001b[0m\u001b[1;33m{\u001b[0m\u001b[0mk\u001b[0m\u001b[1;33m:\u001b[0m \u001b[0marg\u001b[0m \u001b[1;32mfor\u001b[0m \u001b[0mk\u001b[0m\u001b[1;33m,\u001b[0m \u001b[0marg\u001b[0m \u001b[1;32min\u001b[0m \u001b[0mzip\u001b[0m\u001b[1;33m(\u001b[0m\u001b[0msig\u001b[0m\u001b[1;33m.\u001b[0m\u001b[0mparameters\u001b[0m\u001b[1;33m,\u001b[0m \u001b[0margs\u001b[0m\u001b[1;33m)\u001b[0m\u001b[1;33m}\u001b[0m\u001b[1;33m)\u001b[0m\u001b[1;33m\u001b[0m\u001b[1;33m\u001b[0m\u001b[0m\n\u001b[1;32m---> 72\u001b[1;33m         \u001b[1;32mreturn\u001b[0m \u001b[0mf\u001b[0m\u001b[1;33m(\u001b[0m\u001b[1;33m**\u001b[0m\u001b[0mkwargs\u001b[0m\u001b[1;33m)\u001b[0m\u001b[1;33m\u001b[0m\u001b[1;33m\u001b[0m\u001b[0m\n\u001b[0m\u001b[0;32m     73\u001b[0m     \u001b[1;32mreturn\u001b[0m \u001b[0minner_f\u001b[0m\u001b[1;33m\u001b[0m\u001b[1;33m\u001b[0m\u001b[0m\n\u001b[0;32m     74\u001b[0m \u001b[1;33m\u001b[0m\u001b[0m\n",
      "\u001b[1;32mc:\\users\\m_day\\.venvs\\lewagon\\lib\\site-packages\\sklearn\\metrics\\_classification.py\u001b[0m in \u001b[0;36mclassification_report\u001b[1;34m(y_true, y_pred, labels, target_names, sample_weight, digits, output_dict, zero_division)\u001b[0m\n\u001b[0;32m   1927\u001b[0m     \"\"\"\n\u001b[0;32m   1928\u001b[0m \u001b[1;33m\u001b[0m\u001b[0m\n\u001b[1;32m-> 1929\u001b[1;33m     \u001b[0my_type\u001b[0m\u001b[1;33m,\u001b[0m \u001b[0my_true\u001b[0m\u001b[1;33m,\u001b[0m \u001b[0my_pred\u001b[0m \u001b[1;33m=\u001b[0m \u001b[0m_check_targets\u001b[0m\u001b[1;33m(\u001b[0m\u001b[0my_true\u001b[0m\u001b[1;33m,\u001b[0m \u001b[0my_pred\u001b[0m\u001b[1;33m)\u001b[0m\u001b[1;33m\u001b[0m\u001b[1;33m\u001b[0m\u001b[0m\n\u001b[0m\u001b[0;32m   1930\u001b[0m \u001b[1;33m\u001b[0m\u001b[0m\n\u001b[0;32m   1931\u001b[0m     \u001b[0mlabels_given\u001b[0m \u001b[1;33m=\u001b[0m \u001b[1;32mTrue\u001b[0m\u001b[1;33m\u001b[0m\u001b[1;33m\u001b[0m\u001b[0m\n",
      "\u001b[1;32mc:\\users\\m_day\\.venvs\\lewagon\\lib\\site-packages\\sklearn\\metrics\\_classification.py\u001b[0m in \u001b[0;36m_check_targets\u001b[1;34m(y_true, y_pred)\u001b[0m\n\u001b[0;32m     79\u001b[0m     \u001b[0my_pred\u001b[0m \u001b[1;33m:\u001b[0m \u001b[0marray\u001b[0m \u001b[1;32mor\u001b[0m \u001b[0mindicator\u001b[0m \u001b[0mmatrix\u001b[0m\u001b[1;33m\u001b[0m\u001b[1;33m\u001b[0m\u001b[0m\n\u001b[0;32m     80\u001b[0m     \"\"\"\n\u001b[1;32m---> 81\u001b[1;33m     \u001b[0mcheck_consistent_length\u001b[0m\u001b[1;33m(\u001b[0m\u001b[0my_true\u001b[0m\u001b[1;33m,\u001b[0m \u001b[0my_pred\u001b[0m\u001b[1;33m)\u001b[0m\u001b[1;33m\u001b[0m\u001b[1;33m\u001b[0m\u001b[0m\n\u001b[0m\u001b[0;32m     82\u001b[0m     \u001b[0mtype_true\u001b[0m \u001b[1;33m=\u001b[0m \u001b[0mtype_of_target\u001b[0m\u001b[1;33m(\u001b[0m\u001b[0my_true\u001b[0m\u001b[1;33m)\u001b[0m\u001b[1;33m\u001b[0m\u001b[1;33m\u001b[0m\u001b[0m\n\u001b[0;32m     83\u001b[0m     \u001b[0mtype_pred\u001b[0m \u001b[1;33m=\u001b[0m \u001b[0mtype_of_target\u001b[0m\u001b[1;33m(\u001b[0m\u001b[0my_pred\u001b[0m\u001b[1;33m)\u001b[0m\u001b[1;33m\u001b[0m\u001b[1;33m\u001b[0m\u001b[0m\n",
      "\u001b[1;32mc:\\users\\m_day\\.venvs\\lewagon\\lib\\site-packages\\sklearn\\utils\\validation.py\u001b[0m in \u001b[0;36mcheck_consistent_length\u001b[1;34m(*arrays)\u001b[0m\n\u001b[0;32m    254\u001b[0m     \u001b[1;32mif\u001b[0m \u001b[0mlen\u001b[0m\u001b[1;33m(\u001b[0m\u001b[0muniques\u001b[0m\u001b[1;33m)\u001b[0m \u001b[1;33m>\u001b[0m \u001b[1;36m1\u001b[0m\u001b[1;33m:\u001b[0m\u001b[1;33m\u001b[0m\u001b[1;33m\u001b[0m\u001b[0m\n\u001b[0;32m    255\u001b[0m         raise ValueError(\"Found input variables with inconsistent numbers of\"\n\u001b[1;32m--> 256\u001b[1;33m                          \" samples: %r\" % [int(l) for l in lengths])\n\u001b[0m\u001b[0;32m    257\u001b[0m \u001b[1;33m\u001b[0m\u001b[0m\n\u001b[0;32m    258\u001b[0m \u001b[1;33m\u001b[0m\u001b[0m\n",
      "\u001b[1;31mValueError\u001b[0m: Found input variables with inconsistent numbers of samples: [12353, 42008]"
     ]
    }
   ],
   "source": [
    "y_pred=1-(y_pred_probas_0>1-threshold0).astype(int)\n",
    "print(classification_report(y_test, y_pred))"
   ]
  },
  {
   "cell_type": "code",
   "execution_count": 38,
   "metadata": {},
   "outputs": [
    {
     "data": {
      "text/plain": [
       "2491.2000000000003"
      ]
     },
     "execution_count": 38,
     "metadata": {},
     "output_type": "execute_result"
    }
   ],
   "source": [
    "len(y_pred_probas_1[y_pred_probas_1>threshold1])*0.2"
   ]
  },
  {
   "cell_type": "code",
   "execution_count": 39,
   "metadata": {},
   "outputs": [
    {
     "data": {
      "text/plain": [
       "5688.27"
      ]
     },
     "execution_count": 39,
     "metadata": {},
     "output_type": "execute_result"
    }
   ],
   "source": [
    "len(y_pred_probas_0[y_pred_probas_0>1-threshold0])*0.63"
   ]
  },
  {
   "cell_type": "code",
   "execution_count": 40,
   "metadata": {},
   "outputs": [
    {
     "data": {
      "text/plain": [
       "29551"
      ]
     },
     "execution_count": 40,
     "metadata": {},
     "output_type": "execute_result"
    }
   ],
   "source": [
    "len(y_pred_probas_1[y_pred_probas_1<threshold1])"
   ]
  },
  {
   "cell_type": "code",
   "execution_count": 41,
   "metadata": {},
   "outputs": [
    {
     "data": {
      "text/plain": [
       "9029"
      ]
     },
     "execution_count": 41,
     "metadata": {},
     "output_type": "execute_result"
    }
   ],
   "source": [
    "len(y_pred_probas_1[y_pred_probas_1<threshold0])"
   ]
  },
  {
   "cell_type": "markdown",
   "metadata": {},
   "source": [
    "## Threshold adjustment"
   ]
  },
  {
   "cell_type": "code",
   "execution_count": 23,
   "metadata": {},
   "outputs": [],
   "source": [
    "from sklearn.model_selection import cross_val_predict\n",
    "from sklearn.metrics import precision_recall_curve\n",
    "\n",
    "# Predict probabilities\n",
    "y_pred_probas_0, y_pred_probas_1 = cross_val_predict(forest_rs,\n",
    "                                                     X_train_bal, y_train_bal,\n",
    "                                                     method = \"predict_proba\").T"
   ]
  },
  {
   "cell_type": "code",
   "execution_count": 36,
   "metadata": {},
   "outputs": [
    {
     "name": "stdout",
     "output_type": "stream",
     "text": [
      "              precision    recall  f1-score   support\n",
      "\n",
      "           0       0.15      0.05      0.08     21004\n",
      "           1       0.42      0.70      0.53     21004\n",
      "\n",
      "    accuracy                           0.38     42008\n",
      "   macro avg       0.29      0.38      0.30     42008\n",
      "weighted avg       0.29      0.38      0.30     42008\n",
      "\n"
     ]
    }
   ],
   "source": [
    "y_pred=(y_pred_probas_0>threshold0).astype(int)\n",
    "print(classification_report(y_train_bal, y_pred))"
   ]
  },
  {
   "cell_type": "code",
   "execution_count": 31,
   "metadata": {},
   "outputs": [
    {
     "data": {
      "text/plain": [
       "0    42008\n",
       "dtype: int64"
      ]
     },
     "execution_count": 31,
     "metadata": {},
     "output_type": "execute_result"
    }
   ],
   "source": [
    "pd.DataFrame(y_pred_probas_1).count()"
   ]
  },
  {
   "cell_type": "code",
   "execution_count": 30,
   "metadata": {},
   "outputs": [
    {
     "data": {
      "text/plain": [
       "0.6280338630816084"
      ]
     },
     "execution_count": 30,
     "metadata": {},
     "output_type": "execute_result"
    },
    {
     "data": {
      "image/png": "[encoded data removed]",
      "text/plain": [
       "<Figure size 432x288 with 1 Axes>"
      ]
     },
     "metadata": {
      "needs_background": "light"
     },
     "output_type": "display_data"
    }
   ],
   "source": [
    "# Generate precision and thresholds (and recalls) using probabilities for class 1\n",
    "precision, recall, thresholds = precision_recall_curve(y_train_bal, y_pred_probas_1)\n",
    "\n",
    "# Populate dataframe with precision and threshold\n",
    "df_precision1 = pd.DataFrame({\"precision\" : precision[:-1], \"threshold\" : thresholds})\n",
    "plt.plot(df_precision1['threshold'],df_precision1['precision'])\n",
    "\n",
    "# Classe 1: Find out which threshold guarantees a precision of 0.8\n",
    "threshold1 = df_precision1[df_precision1['precision'] >= 0.8]['threshold'].min()\n",
    "threshold1"
   ]
  },
  {
   "cell_type": "code",
   "execution_count": 32,
   "metadata": {},
   "outputs": [
    {
     "data": {
      "text/html": [
       "<div>\n",
       "<style scoped>\n",
       "    .dataframe tbody tr th:only-of-type {\n",
       "        vertical-align: middle;\n",
       "    }\n",
       "\n",
       "    .dataframe tbody tr th {\n",
       "        vertical-align: top;\n",
       "    }\n",
       "\n",
       "    .dataframe thead th {\n",
       "        text-align: right;\n",
       "    }\n",
       "</style>\n",
       "<table border=\"1\" class=\"dataframe\">\n",
       "  <thead>\n",
       "    <tr style=\"text-align: right;\">\n",
       "      <th></th>\n",
       "      <th>precision</th>\n",
       "      <th>threshold</th>\n",
       "    </tr>\n",
       "  </thead>\n",
       "  <tbody>\n",
       "    <tr>\n",
       "      <th>0</th>\n",
       "      <td>0.500727</td>\n",
       "      <td>0.022051</td>\n",
       "    </tr>\n",
       "    <tr>\n",
       "      <th>1</th>\n",
       "      <td>0.500739</td>\n",
       "      <td>0.022217</td>\n",
       "    </tr>\n",
       "    <tr>\n",
       "      <th>2</th>\n",
       "      <td>0.500751</td>\n",
       "      <td>0.022270</td>\n",
       "    </tr>\n",
       "    <tr>\n",
       "      <th>3</th>\n",
       "      <td>0.500763</td>\n",
       "      <td>0.022564</td>\n",
       "    </tr>\n",
       "    <tr>\n",
       "      <th>4</th>\n",
       "      <td>0.500775</td>\n",
       "      <td>0.022624</td>\n",
       "    </tr>\n",
       "  </tbody>\n",
       "</table>\n",
       "</div>"
      ],
      "text/plain": [
       "   precision  threshold\n",
       "0   0.500727   0.022051\n",
       "1   0.500739   0.022217\n",
       "2   0.500751   0.022270\n",
       "3   0.500763   0.022564\n",
       "4   0.500775   0.022624"
      ]
     },
     "execution_count": 32,
     "metadata": {},
     "output_type": "execute_result"
    }
   ],
   "source": [
    "df_precision1.head()"
   ]
  },
  {
   "cell_type": "code",
   "execution_count": 33,
   "metadata": {},
   "outputs": [
    {
     "data": {
      "text/plain": [
       "precision    7354\n",
       "threshold    7354\n",
       "dtype: int64"
      ]
     },
     "execution_count": 33,
     "metadata": {},
     "output_type": "execute_result"
    }
   ],
   "source": [
    "df_precision1[df_precision1['threshold'] > threshold1].count()"
   ]
  },
  {
   "cell_type": "code",
   "execution_count": 34,
   "metadata": {
    "scrolled": false
   },
   "outputs": [
    {
     "data": {
      "text/plain": [
       "0.2764102564102564"
      ]
     },
     "execution_count": 34,
     "metadata": {},
     "output_type": "execute_result"
    },
    {
     "data": {
      "image/png": "[encoded data removed]",
      "text/plain": [
       "<Figure size 432x288 with 1 Axes>"
      ]
     },
     "metadata": {
      "needs_background": "light"
     },
     "output_type": "display_data"
    }
   ],
   "source": [
    "# Generate precision and thresholds (and recalls) using probabilities for class 0\n",
    "precision, recall, thresholds = precision_recall_curve(y_train_bal, y_pred_probas_0)\n",
    "\n",
    "# Populate dataframe with precision and threshold\n",
    "df_precision0 = pd.DataFrame({\"precision\" : precision[:-1], \"threshold\" : thresholds})\n",
    "plt.plot(df_precision0['threshold'],df_precision0['precision'])\n",
    "\n",
    "# Classe 0: Find out which threshold guarantees a precision of 0.425\n",
    "threshold0 = df_precision0[df_precision0['precision'] >= 0.425]['threshold'].max()\n",
    "threshold0"
   ]
  },
  {
   "cell_type": "code",
   "execution_count": 35,
   "metadata": {},
   "outputs": [
    {
     "data": {
      "text/plain": [
       "precision    4163\n",
       "threshold    4163\n",
       "dtype: int64"
      ]
     },
     "execution_count": 35,
     "metadata": {},
     "output_type": "execute_result"
    }
   ],
   "source": [
    "df_precision0[df_precision0['threshold'] < threshold0].count()"
   ]
  },
  {
   "cell_type": "markdown",
   "metadata": {},
   "source": [
    "## Para uma solicitacao qualquer, a sequencia seria:\n",
    "\n",
    "### Scale using original scaler\n",
    "new_player_scaled = scaler.transform(new_player)\n",
    "\n",
    "### Train a Logistic Regression model on the preprocessed dataset\n",
    "log_model = LogisticRegression()\n",
    "log_model.fit(X_scaled, data['target_5y'])\n",
    "\n",
    "### Predict probabilities of new player belonging to each class\n",
    "probas = log_model.predict_proba(new_player_scaled)\n",
    "\n",
    "### Will the new player last at least 5 years as a pro?\n",
    "probas[0][1] > threshold"
   ]
  }
 ],
 "metadata": {
  "kernelspec": {
   "display_name": "Python 3",
   "language": "python",
   "name": "python3"
  },
  "language_info": {
   "codemirror_mode": {
    "name": "ipython",
    "version": 3
   },
   "file_extension": ".py",
   "mimetype": "text/x-python",
   "name": "python",
   "nbconvert_exporter": "python",
   "pygments_lexer": "ipython3",
   "version": "3.7.7"
  }
 },
 "nbformat": 4,
 "nbformat_minor": 4
}
