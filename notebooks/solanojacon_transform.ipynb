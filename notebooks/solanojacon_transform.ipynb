{
 "cells": [
  {
   "cell_type": "markdown",
   "metadata": {},
   "source": [
    "# Project493 - Data Engineering"
   ]
  },
  {
   "cell_type": "markdown",
   "metadata": {},
   "source": [
    "2) Transformers\n",
    "\n",
    "   2.1. Original encoder: Term\n",
    "\n",
    "   2.2. Label encoder (tem relacao de ordem):\n",
    "   \n",
    "               * Number.of.Open.Accounts.Bucket (0, 1, 2)\n",
    "               * Number.of.Credit.Problems.Buckets (0, 1, 2)\n",
    "               * Credit.Score.Buckets (0, 1, 2, 3, 4)\n",
    "               * Years.of.Credit.History.enc (0, 1, 2, 3)\n",
    "\n",
    "   2.3. One hot encoder (OHE): \n",
    "   \n",
    "              * Home.Ownership\n",
    "              * Purpose.Categories"
   ]
  },
  {
   "cell_type": "code",
   "execution_count": 1,
   "metadata": {},
   "outputs": [],
   "source": [
    "from sklearn.preprocessing import OrdinalEncoder\n",
    "from sklearn.preprocessing import OneHotEncoder"
   ]
  },
  {
   "cell_type": "code",
   "execution_count": 2,
   "metadata": {},
   "outputs": [
    {
     "name": "stdout",
     "output_type": "stream",
     "text": [
      "get_data 0.14\n"
     ]
    }
   ],
   "source": [
    "# BLOCO DE COMANDO PASSADO PELO SANDER P/ ACESSO AOS DADOS LIMPOS E ENCODADOS\n",
    "import sys\n",
    "import os\n",
    "sys.path.append(os.path.dirname(os.getcwd()))\n",
    "from wanna_buy_house import data\n",
    "from wanna_buy_house import utils\n",
    "data = data.final_treatment()"
   ]
  },
  {
   "cell_type": "code",
   "execution_count": 3,
   "metadata": {},
   "outputs": [
    {
     "data": {
      "text/html": [
       "<div>\n",
       "<style scoped>\n",
       "    .dataframe tbody tr th:only-of-type {\n",
       "        vertical-align: middle;\n",
       "    }\n",
       "\n",
       "    .dataframe tbody tr th {\n",
       "        vertical-align: top;\n",
       "    }\n",
       "\n",
       "    .dataframe thead th {\n",
       "        text-align: right;\n",
       "    }\n",
       "</style>\n",
       "<table border=\"1\" class=\"dataframe\">\n",
       "  <thead>\n",
       "    <tr style=\"text-align: right;\">\n",
       "      <th></th>\n",
       "      <th>Current.Loan.Amount</th>\n",
       "      <th>Term</th>\n",
       "      <th>Home.Ownership</th>\n",
       "      <th>Annual.Income</th>\n",
       "      <th>Current.Credit.Balance</th>\n",
       "      <th>Loan.Status</th>\n",
       "      <th>Number.of.Open.Accounts.Buckets</th>\n",
       "      <th>Credit.Minus.Loan</th>\n",
       "      <th>Number.of.Credit.Problems.Buckets</th>\n",
       "      <th>Years.current_job_enc</th>\n",
       "      <th>Purpose_enc</th>\n",
       "      <th>Tax.Liens.Enc</th>\n",
       "      <th>leverage</th>\n",
       "      <th>Credit.Score.Enc</th>\n",
       "      <th>Year.Credit.History.Enc</th>\n",
       "      <th>Bankruptcies.enc</th>\n",
       "      <th>Years.since.last.delinquent</th>\n",
       "      <th>Loan.vs.Income</th>\n",
       "    </tr>\n",
       "  </thead>\n",
       "  <tbody>\n",
       "    <tr>\n",
       "      <th>0</th>\n",
       "      <td>17879</td>\n",
       "      <td>Short Term</td>\n",
       "      <td>Home Mortgage</td>\n",
       "      <td>95357.0</td>\n",
       "      <td>23986</td>\n",
       "      <td>1</td>\n",
       "      <td>mais de 20</td>\n",
       "      <td>1</td>\n",
       "      <td>0</td>\n",
       "      <td>6</td>\n",
       "      <td>Debt Consolidation</td>\n",
       "      <td>0</td>\n",
       "      <td>0.190000</td>\n",
       "      <td>Excellent</td>\n",
       "      <td>30+</td>\n",
       "      <td>0</td>\n",
       "      <td>1</td>\n",
       "      <td>0.187495</td>\n",
       "    </tr>\n",
       "    <tr>\n",
       "      <th>3</th>\n",
       "      <td>11200</td>\n",
       "      <td>Short Term</td>\n",
       "      <td>Rent</td>\n",
       "      <td>53965.0</td>\n",
       "      <td>11782</td>\n",
       "      <td>1</td>\n",
       "      <td>0-10</td>\n",
       "      <td>1</td>\n",
       "      <td>1</td>\n",
       "      <td>4</td>\n",
       "      <td>Debt Consolidation</td>\n",
       "      <td>0</td>\n",
       "      <td>0.301998</td>\n",
       "      <td>Excellent</td>\n",
       "      <td>10.1 a 20</td>\n",
       "      <td>1</td>\n",
       "      <td>0</td>\n",
       "      <td>0.207542</td>\n",
       "    </tr>\n",
       "    <tr>\n",
       "      <th>4</th>\n",
       "      <td>3608</td>\n",
       "      <td>Short Term</td>\n",
       "      <td>Home Mortgage</td>\n",
       "      <td>47709.0</td>\n",
       "      <td>22909</td>\n",
       "      <td>1</td>\n",
       "      <td>0-10</td>\n",
       "      <td>1</td>\n",
       "      <td>0</td>\n",
       "      <td>10</td>\n",
       "      <td>Home Improvements</td>\n",
       "      <td>0</td>\n",
       "      <td>0.085501</td>\n",
       "      <td>Excellent</td>\n",
       "      <td>10.1 a 20</td>\n",
       "      <td>0</td>\n",
       "      <td>0</td>\n",
       "      <td>0.075625</td>\n",
       "    </tr>\n",
       "    <tr>\n",
       "      <th>5</th>\n",
       "      <td>7877</td>\n",
       "      <td>Short Term</td>\n",
       "      <td>Home Mortgage</td>\n",
       "      <td>47707.0</td>\n",
       "      <td>1837</td>\n",
       "      <td>1</td>\n",
       "      <td>11-20</td>\n",
       "      <td>0</td>\n",
       "      <td>1</td>\n",
       "      <td>5</td>\n",
       "      <td>Home Improvements</td>\n",
       "      <td>0</td>\n",
       "      <td>0.127000</td>\n",
       "      <td>Excellent</td>\n",
       "      <td>10.1 a 20</td>\n",
       "      <td>1</td>\n",
       "      <td>0</td>\n",
       "      <td>0.165112</td>\n",
       "    </tr>\n",
       "    <tr>\n",
       "      <th>6</th>\n",
       "      <td>4732</td>\n",
       "      <td>Long Term</td>\n",
       "      <td>Rent</td>\n",
       "      <td>62721.0</td>\n",
       "      <td>0</td>\n",
       "      <td>0</td>\n",
       "      <td>0-10</td>\n",
       "      <td>0</td>\n",
       "      <td>0</td>\n",
       "      <td>10</td>\n",
       "      <td>Other</td>\n",
       "      <td>0</td>\n",
       "      <td>0.056798</td>\n",
       "      <td>Good</td>\n",
       "      <td>20.1 a 30</td>\n",
       "      <td>0</td>\n",
       "      <td>0</td>\n",
       "      <td>0.075445</td>\n",
       "    </tr>\n",
       "    <tr>\n",
       "      <th>...</th>\n",
       "      <td>...</td>\n",
       "      <td>...</td>\n",
       "      <td>...</td>\n",
       "      <td>...</td>\n",
       "      <td>...</td>\n",
       "      <td>...</td>\n",
       "      <td>...</td>\n",
       "      <td>...</td>\n",
       "      <td>...</td>\n",
       "      <td>...</td>\n",
       "      <td>...</td>\n",
       "      <td>...</td>\n",
       "      <td>...</td>\n",
       "      <td>...</td>\n",
       "      <td>...</td>\n",
       "      <td>...</td>\n",
       "      <td>...</td>\n",
       "      <td>...</td>\n",
       "    </tr>\n",
       "    <tr>\n",
       "      <th>60794</th>\n",
       "      <td>14885</td>\n",
       "      <td>Short Term</td>\n",
       "      <td>Rent</td>\n",
       "      <td>124875.0</td>\n",
       "      <td>14684</td>\n",
       "      <td>1</td>\n",
       "      <td>11-20</td>\n",
       "      <td>0</td>\n",
       "      <td>0</td>\n",
       "      <td>6</td>\n",
       "      <td>Debt Consolidation</td>\n",
       "      <td>0</td>\n",
       "      <td>0.047101</td>\n",
       "      <td>Excellent</td>\n",
       "      <td>0 a 10</td>\n",
       "      <td>0</td>\n",
       "      <td>0</td>\n",
       "      <td>0.119199</td>\n",
       "    </tr>\n",
       "    <tr>\n",
       "      <th>60795</th>\n",
       "      <td>5086</td>\n",
       "      <td>Short Term</td>\n",
       "      <td>Home Mortgage</td>\n",
       "      <td>50855.0</td>\n",
       "      <td>7671</td>\n",
       "      <td>1</td>\n",
       "      <td>11-20</td>\n",
       "      <td>1</td>\n",
       "      <td>0</td>\n",
       "      <td>1</td>\n",
       "      <td>Debt Consolidation</td>\n",
       "      <td>0</td>\n",
       "      <td>0.197000</td>\n",
       "      <td>Excellent</td>\n",
       "      <td>10.1 a 20</td>\n",
       "      <td>0</td>\n",
       "      <td>0</td>\n",
       "      <td>0.100010</td>\n",
       "    </tr>\n",
       "    <tr>\n",
       "      <th>60797</th>\n",
       "      <td>27840</td>\n",
       "      <td>Long Term</td>\n",
       "      <td>Home Mortgage</td>\n",
       "      <td>99430.0</td>\n",
       "      <td>34938</td>\n",
       "      <td>1</td>\n",
       "      <td>mais de 20</td>\n",
       "      <td>1</td>\n",
       "      <td>0</td>\n",
       "      <td>10</td>\n",
       "      <td>Debt Consolidation</td>\n",
       "      <td>0</td>\n",
       "      <td>0.292000</td>\n",
       "      <td>Below Average</td>\n",
       "      <td>30+</td>\n",
       "      <td>0</td>\n",
       "      <td>0</td>\n",
       "      <td>0.279996</td>\n",
       "    </tr>\n",
       "    <tr>\n",
       "      <th>60800</th>\n",
       "      <td>18229</td>\n",
       "      <td>Short Term</td>\n",
       "      <td>Rent</td>\n",
       "      <td>91143.0</td>\n",
       "      <td>8328</td>\n",
       "      <td>0</td>\n",
       "      <td>11-20</td>\n",
       "      <td>0</td>\n",
       "      <td>0</td>\n",
       "      <td>3</td>\n",
       "      <td>Debt Consolidation</td>\n",
       "      <td>0</td>\n",
       "      <td>0.103000</td>\n",
       "      <td>Excellent</td>\n",
       "      <td>10.1 a 20</td>\n",
       "      <td>0</td>\n",
       "      <td>1</td>\n",
       "      <td>0.200004</td>\n",
       "    </tr>\n",
       "    <tr>\n",
       "      <th>60803</th>\n",
       "      <td>2866</td>\n",
       "      <td>Short Term</td>\n",
       "      <td>Home Mortgage</td>\n",
       "      <td>42991.0</td>\n",
       "      <td>39</td>\n",
       "      <td>1</td>\n",
       "      <td>0-10</td>\n",
       "      <td>0</td>\n",
       "      <td>0</td>\n",
       "      <td>8</td>\n",
       "      <td>Debt Consolidation</td>\n",
       "      <td>0</td>\n",
       "      <td>0.325003</td>\n",
       "      <td>Good</td>\n",
       "      <td>20.1 a 30</td>\n",
       "      <td>0</td>\n",
       "      <td>0</td>\n",
       "      <td>0.066665</td>\n",
       "    </tr>\n",
       "  </tbody>\n",
       "</table>\n",
       "<p>41178 rows × 18 columns</p>\n",
       "</div>"
      ],
      "text/plain": [
       "       Current.Loan.Amount        Term Home.Ownership  Annual.Income  \\\n",
       "0                    17879  Short Term  Home Mortgage        95357.0   \n",
       "3                    11200  Short Term           Rent        53965.0   \n",
       "4                     3608  Short Term  Home Mortgage        47709.0   \n",
       "5                     7877  Short Term  Home Mortgage        47707.0   \n",
       "6                     4732   Long Term           Rent        62721.0   \n",
       "...                    ...         ...            ...            ...   \n",
       "60794                14885  Short Term           Rent       124875.0   \n",
       "60795                 5086  Short Term  Home Mortgage        50855.0   \n",
       "60797                27840   Long Term  Home Mortgage        99430.0   \n",
       "60800                18229  Short Term           Rent        91143.0   \n",
       "60803                 2866  Short Term  Home Mortgage        42991.0   \n",
       "\n",
       "       Current.Credit.Balance  Loan.Status Number.of.Open.Accounts.Buckets  \\\n",
       "0                       23986            1                      mais de 20   \n",
       "3                       11782            1                            0-10   \n",
       "4                       22909            1                            0-10   \n",
       "5                        1837            1                           11-20   \n",
       "6                           0            0                            0-10   \n",
       "...                       ...          ...                             ...   \n",
       "60794                   14684            1                           11-20   \n",
       "60795                    7671            1                           11-20   \n",
       "60797                   34938            1                      mais de 20   \n",
       "60800                    8328            0                           11-20   \n",
       "60803                      39            1                            0-10   \n",
       "\n",
       "       Credit.Minus.Loan Number.of.Credit.Problems.Buckets  \\\n",
       "0                      1                                 0   \n",
       "3                      1                                 1   \n",
       "4                      1                                 0   \n",
       "5                      0                                 1   \n",
       "6                      0                                 0   \n",
       "...                  ...                               ...   \n",
       "60794                  0                                 0   \n",
       "60795                  1                                 0   \n",
       "60797                  1                                 0   \n",
       "60800                  0                                 0   \n",
       "60803                  0                                 0   \n",
       "\n",
       "       Years.current_job_enc         Purpose_enc  Tax.Liens.Enc  leverage  \\\n",
       "0                          6  Debt Consolidation              0  0.190000   \n",
       "3                          4  Debt Consolidation              0  0.301998   \n",
       "4                         10   Home Improvements              0  0.085501   \n",
       "5                          5   Home Improvements              0  0.127000   \n",
       "6                         10               Other              0  0.056798   \n",
       "...                      ...                 ...            ...       ...   \n",
       "60794                      6  Debt Consolidation              0  0.047101   \n",
       "60795                      1  Debt Consolidation              0  0.197000   \n",
       "60797                     10  Debt Consolidation              0  0.292000   \n",
       "60800                      3  Debt Consolidation              0  0.103000   \n",
       "60803                      8  Debt Consolidation              0  0.325003   \n",
       "\n",
       "      Credit.Score.Enc Year.Credit.History.Enc  Bankruptcies.enc  \\\n",
       "0            Excellent                     30+                 0   \n",
       "3            Excellent               10.1 a 20                 1   \n",
       "4            Excellent               10.1 a 20                 0   \n",
       "5            Excellent               10.1 a 20                 1   \n",
       "6                 Good               20.1 a 30                 0   \n",
       "...                ...                     ...               ...   \n",
       "60794        Excellent                  0 a 10                 0   \n",
       "60795        Excellent               10.1 a 20                 0   \n",
       "60797    Below Average                     30+                 0   \n",
       "60800        Excellent               10.1 a 20                 0   \n",
       "60803             Good               20.1 a 30                 0   \n",
       "\n",
       "       Years.since.last.delinquent  Loan.vs.Income  \n",
       "0                                1        0.187495  \n",
       "3                                0        0.207542  \n",
       "4                                0        0.075625  \n",
       "5                                0        0.165112  \n",
       "6                                0        0.075445  \n",
       "...                            ...             ...  \n",
       "60794                            0        0.119199  \n",
       "60795                            0        0.100010  \n",
       "60797                            0        0.279996  \n",
       "60800                            1        0.200004  \n",
       "60803                            0        0.066665  \n",
       "\n",
       "[41178 rows x 18 columns]"
      ]
     },
     "execution_count": 3,
     "metadata": {},
     "output_type": "execute_result"
    }
   ],
   "source": [
    "data"
   ]
  },
  {
   "cell_type": "code",
   "execution_count": 4,
   "metadata": {
    "scrolled": false
   },
   "outputs": [
    {
     "name": "stdout",
     "output_type": "stream",
     "text": [
      "<class 'pandas.core.frame.DataFrame'>\n",
      "Int64Index: 41178 entries, 0 to 60803\n",
      "Data columns (total 18 columns):\n",
      " #   Column                             Non-Null Count  Dtype   \n",
      "---  ------                             --------------  -----   \n",
      " 0   Current.Loan.Amount                41178 non-null  int64   \n",
      " 1   Term                               41178 non-null  object  \n",
      " 2   Home.Ownership                     41178 non-null  object  \n",
      " 3   Annual.Income                      41178 non-null  float64 \n",
      " 4   Current.Credit.Balance             41178 non-null  int64   \n",
      " 5   Loan.Status                        41178 non-null  int64   \n",
      " 6   Number.of.Open.Accounts.Buckets    41178 non-null  object  \n",
      " 7   Credit.Minus.Loan                  41178 non-null  int64   \n",
      " 8   Number.of.Credit.Problems.Buckets  41178 non-null  object  \n",
      " 9   Years.current_job_enc              41178 non-null  int64   \n",
      " 10  Purpose_enc                        41178 non-null  object  \n",
      " 11  Tax.Liens.Enc                      41178 non-null  int64   \n",
      " 12  leverage                           41178 non-null  float64 \n",
      " 13  Credit.Score.Enc                   41178 non-null  object  \n",
      " 14  Year.Credit.History.Enc            41178 non-null  category\n",
      " 15  Bankruptcies.enc                   41178 non-null  int64   \n",
      " 16  Years.since.last.delinquent        41178 non-null  int64   \n",
      " 17  Loan.vs.Income                     41178 non-null  float64 \n",
      "dtypes: category(1), float64(3), int64(8), object(6)\n",
      "memory usage: 5.7+ MB\n"
     ]
    }
   ],
   "source": [
    "data.info()"
   ]
  },
  {
   "cell_type": "code",
   "execution_count": 5,
   "metadata": {
    "scrolled": true
   },
   "outputs": [
    {
     "data": {
      "text/plain": [
       "Current.Loan.Amount                  0\n",
       "Term                                 0\n",
       "Home.Ownership                       0\n",
       "Annual.Income                        0\n",
       "Current.Credit.Balance               0\n",
       "Loan.Status                          0\n",
       "Number.of.Open.Accounts.Buckets      0\n",
       "Credit.Minus.Loan                    0\n",
       "Number.of.Credit.Problems.Buckets    0\n",
       "Years.current_job_enc                0\n",
       "Purpose_enc                          0\n",
       "Tax.Liens.Enc                        0\n",
       "leverage                             0\n",
       "Credit.Score.Enc                     0\n",
       "Year.Credit.History.Enc              0\n",
       "Bankruptcies.enc                     0\n",
       "Years.since.last.delinquent          0\n",
       "Loan.vs.Income                       0\n",
       "dtype: int64"
      ]
     },
     "execution_count": 5,
     "metadata": {},
     "output_type": "execute_result"
    }
   ],
   "source": [
    "data.isnull().sum()"
   ]
  },
  {
   "cell_type": "markdown",
   "metadata": {},
   "source": [
    "\n",
    "# 2.1. Original encoder: Term"
   ]
  },
  {
   "cell_type": "code",
   "execution_count": 6,
   "metadata": {},
   "outputs": [
    {
     "data": {
      "text/plain": [
       "array(['Short Term', 'Long Term'], dtype=object)"
      ]
     },
     "execution_count": 6,
     "metadata": {},
     "output_type": "execute_result"
    }
   ],
   "source": [
    "data['Term'].unique()"
   ]
  },
  {
   "cell_type": "code",
   "execution_count": 7,
   "metadata": {},
   "outputs": [],
   "source": [
    "# PIPELINE\n",
    "# OU\n",
    "# PIPELINE P/ DATA APENAS LIMPA (DATA CLEAN) USADA DIRETAMENTE NA PIPELINE (COM COLUNAS ORIGINAIS SEM ENCODING/SCALING)\n",
    "\n",
    "oe_ter = OrdinalEncoder(categories=[['Short Term', 'Long Term']])\n",
    "data['ter_enc'] = oe_ter.fit_transform(data[['Term']])"
   ]
  },
  {
   "cell_type": "code",
   "execution_count": 8,
   "metadata": {},
   "outputs": [
    {
     "data": {
      "text/plain": [
       "[array(['Short Term', 'Long Term'], dtype=object)]"
      ]
     },
     "execution_count": 8,
     "metadata": {},
     "output_type": "execute_result"
    }
   ],
   "source": [
    "oe_ter.categories_"
   ]
  },
  {
   "cell_type": "code",
   "execution_count": 9,
   "metadata": {
    "scrolled": true
   },
   "outputs": [
    {
     "data": {
      "text/plain": [
       "array([0., 1.])"
      ]
     },
     "execution_count": 9,
     "metadata": {},
     "output_type": "execute_result"
    }
   ],
   "source": [
    "data['ter_enc'].unique()"
   ]
  },
  {
   "cell_type": "code",
   "execution_count": 10,
   "metadata": {},
   "outputs": [
    {
     "data": {
      "text/html": [
       "<div>\n",
       "<style scoped>\n",
       "    .dataframe tbody tr th:only-of-type {\n",
       "        vertical-align: middle;\n",
       "    }\n",
       "\n",
       "    .dataframe tbody tr th {\n",
       "        vertical-align: top;\n",
       "    }\n",
       "\n",
       "    .dataframe thead th {\n",
       "        text-align: right;\n",
       "    }\n",
       "</style>\n",
       "<table border=\"1\" class=\"dataframe\">\n",
       "  <thead>\n",
       "    <tr style=\"text-align: right;\">\n",
       "      <th></th>\n",
       "      <th>Term</th>\n",
       "      <th>ter_enc</th>\n",
       "    </tr>\n",
       "  </thead>\n",
       "  <tbody>\n",
       "    <tr>\n",
       "      <th>0</th>\n",
       "      <td>Short Term</td>\n",
       "      <td>0.0</td>\n",
       "    </tr>\n",
       "    <tr>\n",
       "      <th>3</th>\n",
       "      <td>Short Term</td>\n",
       "      <td>0.0</td>\n",
       "    </tr>\n",
       "    <tr>\n",
       "      <th>4</th>\n",
       "      <td>Short Term</td>\n",
       "      <td>0.0</td>\n",
       "    </tr>\n",
       "    <tr>\n",
       "      <th>5</th>\n",
       "      <td>Short Term</td>\n",
       "      <td>0.0</td>\n",
       "    </tr>\n",
       "    <tr>\n",
       "      <th>6</th>\n",
       "      <td>Long Term</td>\n",
       "      <td>1.0</td>\n",
       "    </tr>\n",
       "    <tr>\n",
       "      <th>...</th>\n",
       "      <td>...</td>\n",
       "      <td>...</td>\n",
       "    </tr>\n",
       "    <tr>\n",
       "      <th>60794</th>\n",
       "      <td>Short Term</td>\n",
       "      <td>0.0</td>\n",
       "    </tr>\n",
       "    <tr>\n",
       "      <th>60795</th>\n",
       "      <td>Short Term</td>\n",
       "      <td>0.0</td>\n",
       "    </tr>\n",
       "    <tr>\n",
       "      <th>60797</th>\n",
       "      <td>Long Term</td>\n",
       "      <td>1.0</td>\n",
       "    </tr>\n",
       "    <tr>\n",
       "      <th>60800</th>\n",
       "      <td>Short Term</td>\n",
       "      <td>0.0</td>\n",
       "    </tr>\n",
       "    <tr>\n",
       "      <th>60803</th>\n",
       "      <td>Short Term</td>\n",
       "      <td>0.0</td>\n",
       "    </tr>\n",
       "  </tbody>\n",
       "</table>\n",
       "<p>41178 rows × 2 columns</p>\n",
       "</div>"
      ],
      "text/plain": [
       "             Term  ter_enc\n",
       "0      Short Term      0.0\n",
       "3      Short Term      0.0\n",
       "4      Short Term      0.0\n",
       "5      Short Term      0.0\n",
       "6       Long Term      1.0\n",
       "...           ...      ...\n",
       "60794  Short Term      0.0\n",
       "60795  Short Term      0.0\n",
       "60797   Long Term      1.0\n",
       "60800  Short Term      0.0\n",
       "60803  Short Term      0.0\n",
       "\n",
       "[41178 rows x 2 columns]"
      ]
     },
     "execution_count": 10,
     "metadata": {},
     "output_type": "execute_result"
    }
   ],
   "source": [
    "data[['Term', 'ter_enc']]"
   ]
  },
  {
   "cell_type": "markdown",
   "metadata": {},
   "source": [
    "# 2.2. Label encoder (tem relacao de ordem):\n",
    "# * Number.of.Open.Accounts.Bucket (0, 1, 2)"
   ]
  },
  {
   "cell_type": "code",
   "execution_count": 11,
   "metadata": {},
   "outputs": [
    {
     "data": {
      "text/plain": [
       "array(['mais de 20', '0-10', '11-20'], dtype=object)"
      ]
     },
     "execution_count": 11,
     "metadata": {},
     "output_type": "execute_result"
    }
   ],
   "source": [
    "data['Number.of.Open.Accounts.Buckets'].unique()"
   ]
  },
  {
   "cell_type": "code",
   "execution_count": 12,
   "metadata": {},
   "outputs": [],
   "source": [
    "# FUNCTION UTILS\n",
    "\n",
    "data['nooab_enc'] = data['Number.of.Open.Accounts.Buckets'].map({'0-10': 0,\n",
    "                                                                 '11-20': 1,\n",
    "                                                                 'mais de 20': 2})"
   ]
  },
  {
   "cell_type": "code",
   "execution_count": 13,
   "metadata": {},
   "outputs": [],
   "source": [
    "# PIPELINE P/ DATA APENAS LIMPA (DATA CLEAN) USADA DIRETAMENTE NA PIPELINE (COM COLUNAS ORIGINAIS SEM ENCODING/SCALING)\n",
    "\n",
    "# def encode_nooab(x):\n",
    "#     if x > 20:\n",
    "#         x_enc = 2\n",
    "#     elif x >= 11:\n",
    "#         x_enc = 1\n",
    "#     else:\n",
    "#         x_enc = 0\n",
    "#     return x_enc\n",
    "\n",
    "# data['nooa_enc'] = data['Number.of.Open.Accounts'].map(encode_nooab)"
   ]
  },
  {
   "cell_type": "code",
   "execution_count": 14,
   "metadata": {},
   "outputs": [
    {
     "data": {
      "text/plain": [
       "array([2, 0, 1], dtype=int64)"
      ]
     },
     "execution_count": 14,
     "metadata": {},
     "output_type": "execute_result"
    }
   ],
   "source": [
    "data['nooab_enc'].unique()"
   ]
  },
  {
   "cell_type": "code",
   "execution_count": 15,
   "metadata": {
    "scrolled": false
   },
   "outputs": [
    {
     "data": {
      "text/html": [
       "<div>\n",
       "<style scoped>\n",
       "    .dataframe tbody tr th:only-of-type {\n",
       "        vertical-align: middle;\n",
       "    }\n",
       "\n",
       "    .dataframe tbody tr th {\n",
       "        vertical-align: top;\n",
       "    }\n",
       "\n",
       "    .dataframe thead th {\n",
       "        text-align: right;\n",
       "    }\n",
       "</style>\n",
       "<table border=\"1\" class=\"dataframe\">\n",
       "  <thead>\n",
       "    <tr style=\"text-align: right;\">\n",
       "      <th></th>\n",
       "      <th>Number.of.Open.Accounts.Buckets</th>\n",
       "      <th>nooab_enc</th>\n",
       "    </tr>\n",
       "  </thead>\n",
       "  <tbody>\n",
       "    <tr>\n",
       "      <th>0</th>\n",
       "      <td>mais de 20</td>\n",
       "      <td>2</td>\n",
       "    </tr>\n",
       "    <tr>\n",
       "      <th>3</th>\n",
       "      <td>0-10</td>\n",
       "      <td>0</td>\n",
       "    </tr>\n",
       "    <tr>\n",
       "      <th>4</th>\n",
       "      <td>0-10</td>\n",
       "      <td>0</td>\n",
       "    </tr>\n",
       "    <tr>\n",
       "      <th>5</th>\n",
       "      <td>11-20</td>\n",
       "      <td>1</td>\n",
       "    </tr>\n",
       "    <tr>\n",
       "      <th>6</th>\n",
       "      <td>0-10</td>\n",
       "      <td>0</td>\n",
       "    </tr>\n",
       "    <tr>\n",
       "      <th>...</th>\n",
       "      <td>...</td>\n",
       "      <td>...</td>\n",
       "    </tr>\n",
       "    <tr>\n",
       "      <th>60794</th>\n",
       "      <td>11-20</td>\n",
       "      <td>1</td>\n",
       "    </tr>\n",
       "    <tr>\n",
       "      <th>60795</th>\n",
       "      <td>11-20</td>\n",
       "      <td>1</td>\n",
       "    </tr>\n",
       "    <tr>\n",
       "      <th>60797</th>\n",
       "      <td>mais de 20</td>\n",
       "      <td>2</td>\n",
       "    </tr>\n",
       "    <tr>\n",
       "      <th>60800</th>\n",
       "      <td>11-20</td>\n",
       "      <td>1</td>\n",
       "    </tr>\n",
       "    <tr>\n",
       "      <th>60803</th>\n",
       "      <td>0-10</td>\n",
       "      <td>0</td>\n",
       "    </tr>\n",
       "  </tbody>\n",
       "</table>\n",
       "<p>41178 rows × 2 columns</p>\n",
       "</div>"
      ],
      "text/plain": [
       "      Number.of.Open.Accounts.Buckets  nooab_enc\n",
       "0                          mais de 20          2\n",
       "3                                0-10          0\n",
       "4                                0-10          0\n",
       "5                               11-20          1\n",
       "6                                0-10          0\n",
       "...                               ...        ...\n",
       "60794                           11-20          1\n",
       "60795                           11-20          1\n",
       "60797                      mais de 20          2\n",
       "60800                           11-20          1\n",
       "60803                            0-10          0\n",
       "\n",
       "[41178 rows x 2 columns]"
      ]
     },
     "execution_count": 15,
     "metadata": {},
     "output_type": "execute_result"
    }
   ],
   "source": [
    "data[['Number.of.Open.Accounts.Buckets', 'nooab_enc']]"
   ]
  },
  {
   "cell_type": "markdown",
   "metadata": {},
   "source": [
    "# 2.2. Label encoder (tem relacao de ordem):\n",
    "# * Number.of.Credit.Problems.Buckets (0, 1, 2)"
   ]
  },
  {
   "cell_type": "code",
   "execution_count": 16,
   "metadata": {},
   "outputs": [
    {
     "data": {
      "text/plain": [
       "array([0, 1, 'mais de 1'], dtype=object)"
      ]
     },
     "execution_count": 16,
     "metadata": {},
     "output_type": "execute_result"
    }
   ],
   "source": [
    "data['Number.of.Credit.Problems.Buckets'].unique()"
   ]
  },
  {
   "cell_type": "code",
   "execution_count": 17,
   "metadata": {},
   "outputs": [],
   "source": [
    "# FUNCTION UTILS\n",
    "\n",
    "data['nocpb_enc'] = data['Number.of.Credit.Problems.Buckets'].map({0: 0,\n",
    "                                                                   1: 1,\n",
    "                                                                   'mais de 1': 2})"
   ]
  },
  {
   "cell_type": "code",
   "execution_count": 18,
   "metadata": {},
   "outputs": [],
   "source": [
    "# PIPELINE P/ DATA APENAS LIMPA (DATA CLEAN) USADA DIRETAMENTE NA PIPELINE (COM COLUNAS ORIGINAIS SEM ENCODING/SCALING)\n",
    "\n",
    "# def encode_nocp(x):\n",
    "#     if x > 1:\n",
    "#         x_enc = 2\n",
    "#     elif x = 1:\n",
    "#         x_enc = 1\n",
    "#     else:\n",
    "#         x_enc = 0\n",
    "#     return x_enc\n",
    "\n",
    "# data['nocp_enc'] = data['Number.of.Credit.Problems'].map(encode_nocp)"
   ]
  },
  {
   "cell_type": "code",
   "execution_count": 19,
   "metadata": {},
   "outputs": [
    {
     "data": {
      "text/plain": [
       "array([0, 1, 2], dtype=int64)"
      ]
     },
     "execution_count": 19,
     "metadata": {},
     "output_type": "execute_result"
    }
   ],
   "source": [
    "data['nocpb_enc'].unique()"
   ]
  },
  {
   "cell_type": "code",
   "execution_count": 20,
   "metadata": {
    "scrolled": false
   },
   "outputs": [
    {
     "data": {
      "text/html": [
       "<div>\n",
       "<style scoped>\n",
       "    .dataframe tbody tr th:only-of-type {\n",
       "        vertical-align: middle;\n",
       "    }\n",
       "\n",
       "    .dataframe tbody tr th {\n",
       "        vertical-align: top;\n",
       "    }\n",
       "\n",
       "    .dataframe thead th {\n",
       "        text-align: right;\n",
       "    }\n",
       "</style>\n",
       "<table border=\"1\" class=\"dataframe\">\n",
       "  <thead>\n",
       "    <tr style=\"text-align: right;\">\n",
       "      <th></th>\n",
       "      <th>Number.of.Credit.Problems.Buckets</th>\n",
       "      <th>nocpb_enc</th>\n",
       "    </tr>\n",
       "  </thead>\n",
       "  <tbody>\n",
       "    <tr>\n",
       "      <th>0</th>\n",
       "      <td>0</td>\n",
       "      <td>0</td>\n",
       "    </tr>\n",
       "    <tr>\n",
       "      <th>3</th>\n",
       "      <td>1</td>\n",
       "      <td>1</td>\n",
       "    </tr>\n",
       "    <tr>\n",
       "      <th>4</th>\n",
       "      <td>0</td>\n",
       "      <td>0</td>\n",
       "    </tr>\n",
       "    <tr>\n",
       "      <th>5</th>\n",
       "      <td>1</td>\n",
       "      <td>1</td>\n",
       "    </tr>\n",
       "    <tr>\n",
       "      <th>6</th>\n",
       "      <td>0</td>\n",
       "      <td>0</td>\n",
       "    </tr>\n",
       "    <tr>\n",
       "      <th>...</th>\n",
       "      <td>...</td>\n",
       "      <td>...</td>\n",
       "    </tr>\n",
       "    <tr>\n",
       "      <th>60794</th>\n",
       "      <td>0</td>\n",
       "      <td>0</td>\n",
       "    </tr>\n",
       "    <tr>\n",
       "      <th>60795</th>\n",
       "      <td>0</td>\n",
       "      <td>0</td>\n",
       "    </tr>\n",
       "    <tr>\n",
       "      <th>60797</th>\n",
       "      <td>0</td>\n",
       "      <td>0</td>\n",
       "    </tr>\n",
       "    <tr>\n",
       "      <th>60800</th>\n",
       "      <td>0</td>\n",
       "      <td>0</td>\n",
       "    </tr>\n",
       "    <tr>\n",
       "      <th>60803</th>\n",
       "      <td>0</td>\n",
       "      <td>0</td>\n",
       "    </tr>\n",
       "  </tbody>\n",
       "</table>\n",
       "<p>41178 rows × 2 columns</p>\n",
       "</div>"
      ],
      "text/plain": [
       "      Number.of.Credit.Problems.Buckets  nocpb_enc\n",
       "0                                     0          0\n",
       "3                                     1          1\n",
       "4                                     0          0\n",
       "5                                     1          1\n",
       "6                                     0          0\n",
       "...                                 ...        ...\n",
       "60794                                 0          0\n",
       "60795                                 0          0\n",
       "60797                                 0          0\n",
       "60800                                 0          0\n",
       "60803                                 0          0\n",
       "\n",
       "[41178 rows x 2 columns]"
      ]
     },
     "execution_count": 20,
     "metadata": {},
     "output_type": "execute_result"
    }
   ],
   "source": [
    "data[['Number.of.Credit.Problems.Buckets', 'nocpb_enc']]"
   ]
  },
  {
   "cell_type": "markdown",
   "metadata": {},
   "source": [
    "# 2.2. Label encoder (tem relacao de ordem):\n",
    "# * Credit.Score.Buckets (0, 1, 2, 3, 4)"
   ]
  },
  {
   "cell_type": "code",
   "execution_count": 21,
   "metadata": {},
   "outputs": [
    {
     "data": {
      "text/plain": [
       "array(['Excellent', 'Good', 'Average', 'Below Average'], dtype=object)"
      ]
     },
     "execution_count": 21,
     "metadata": {},
     "output_type": "execute_result"
    }
   ],
   "source": [
    "data['Credit.Score.Enc'].unique()"
   ]
  },
  {
   "cell_type": "code",
   "execution_count": 22,
   "metadata": {},
   "outputs": [],
   "source": [
    "# FUNCTION UTILS\n",
    "\n",
    "data['cse_enc'] = data['Credit.Score.Enc'].map({'Below Average': 0,\n",
    "                                                'Average': 1,\n",
    "                                                'Good': 2,\n",
    "                                                'Excellent': 3})"
   ]
  },
  {
   "cell_type": "code",
   "execution_count": 23,
   "metadata": {},
   "outputs": [],
   "source": [
    "# PIPELINE P/ DATA APENAS LIMPA (DATA CLEAN) USADA DIRETAMENTE NA PIPELINE (COM COLUNAS ORIGINAIS SEM ENCODING/SCALING)\n",
    "\n",
    "# def encode_cs(x):\n",
    "#     if x >= 720:\n",
    "#         x_enc = 3\n",
    "#     elif x >= 660:\n",
    "#         x_enc = 2\n",
    "#     elif x >= 620:\n",
    "#         x_enc = 1\n",
    "#     else:\n",
    "#         x_enc = 0\n",
    "#     return x_enc\n",
    "\n",
    "# data['cs_enc'] = data['Credit.Score'].map(encode_cs)"
   ]
  },
  {
   "cell_type": "code",
   "execution_count": 24,
   "metadata": {},
   "outputs": [
    {
     "data": {
      "text/plain": [
       "array([3, 2, 1, 0], dtype=int64)"
      ]
     },
     "execution_count": 24,
     "metadata": {},
     "output_type": "execute_result"
    }
   ],
   "source": [
    "data['cse_enc'].unique()"
   ]
  },
  {
   "cell_type": "code",
   "execution_count": 25,
   "metadata": {},
   "outputs": [
    {
     "data": {
      "text/html": [
       "<div>\n",
       "<style scoped>\n",
       "    .dataframe tbody tr th:only-of-type {\n",
       "        vertical-align: middle;\n",
       "    }\n",
       "\n",
       "    .dataframe tbody tr th {\n",
       "        vertical-align: top;\n",
       "    }\n",
       "\n",
       "    .dataframe thead th {\n",
       "        text-align: right;\n",
       "    }\n",
       "</style>\n",
       "<table border=\"1\" class=\"dataframe\">\n",
       "  <thead>\n",
       "    <tr style=\"text-align: right;\">\n",
       "      <th></th>\n",
       "      <th>Credit.Score.Enc</th>\n",
       "      <th>cse_enc</th>\n",
       "    </tr>\n",
       "  </thead>\n",
       "  <tbody>\n",
       "    <tr>\n",
       "      <th>0</th>\n",
       "      <td>Excellent</td>\n",
       "      <td>3</td>\n",
       "    </tr>\n",
       "    <tr>\n",
       "      <th>3</th>\n",
       "      <td>Excellent</td>\n",
       "      <td>3</td>\n",
       "    </tr>\n",
       "    <tr>\n",
       "      <th>4</th>\n",
       "      <td>Excellent</td>\n",
       "      <td>3</td>\n",
       "    </tr>\n",
       "    <tr>\n",
       "      <th>5</th>\n",
       "      <td>Excellent</td>\n",
       "      <td>3</td>\n",
       "    </tr>\n",
       "    <tr>\n",
       "      <th>6</th>\n",
       "      <td>Good</td>\n",
       "      <td>2</td>\n",
       "    </tr>\n",
       "    <tr>\n",
       "      <th>...</th>\n",
       "      <td>...</td>\n",
       "      <td>...</td>\n",
       "    </tr>\n",
       "    <tr>\n",
       "      <th>60794</th>\n",
       "      <td>Excellent</td>\n",
       "      <td>3</td>\n",
       "    </tr>\n",
       "    <tr>\n",
       "      <th>60795</th>\n",
       "      <td>Excellent</td>\n",
       "      <td>3</td>\n",
       "    </tr>\n",
       "    <tr>\n",
       "      <th>60797</th>\n",
       "      <td>Below Average</td>\n",
       "      <td>0</td>\n",
       "    </tr>\n",
       "    <tr>\n",
       "      <th>60800</th>\n",
       "      <td>Excellent</td>\n",
       "      <td>3</td>\n",
       "    </tr>\n",
       "    <tr>\n",
       "      <th>60803</th>\n",
       "      <td>Good</td>\n",
       "      <td>2</td>\n",
       "    </tr>\n",
       "  </tbody>\n",
       "</table>\n",
       "<p>41178 rows × 2 columns</p>\n",
       "</div>"
      ],
      "text/plain": [
       "      Credit.Score.Enc  cse_enc\n",
       "0            Excellent        3\n",
       "3            Excellent        3\n",
       "4            Excellent        3\n",
       "5            Excellent        3\n",
       "6                 Good        2\n",
       "...                ...      ...\n",
       "60794        Excellent        3\n",
       "60795        Excellent        3\n",
       "60797    Below Average        0\n",
       "60800        Excellent        3\n",
       "60803             Good        2\n",
       "\n",
       "[41178 rows x 2 columns]"
      ]
     },
     "execution_count": 25,
     "metadata": {},
     "output_type": "execute_result"
    }
   ],
   "source": [
    "data[['Credit.Score.Enc', 'cse_enc']]"
   ]
  },
  {
   "cell_type": "markdown",
   "metadata": {},
   "source": [
    "# 2.2. Label encoder (tem relacao de ordem):\n",
    "# * Years.of.Credit.History.enc (0, 1, 2, 3)"
   ]
  },
  {
   "cell_type": "code",
   "execution_count": 26,
   "metadata": {},
   "outputs": [
    {
     "data": {
      "text/plain": [
       "['30+', '10.1 a 20', '20.1 a 30', '0 a 10']\n",
       "Categories (4, object): ['0 a 10' < '10.1 a 20' < '20.1 a 30' < '30+']"
      ]
     },
     "execution_count": 26,
     "metadata": {},
     "output_type": "execute_result"
    }
   ],
   "source": [
    "data['Year.Credit.History.Enc'].unique()"
   ]
  },
  {
   "cell_type": "code",
   "execution_count": 27,
   "metadata": {},
   "outputs": [],
   "source": [
    "# FUNCTION UTILS\n",
    "\n",
    "data['yche_enc'] = data['Year.Credit.History.Enc'].map({'0 a 10': 0,\n",
    "                                                        '10.1 a 20': 1,\n",
    "                                                        '20.1 a 30': 2,\n",
    "                                                        '30+': 3})"
   ]
  },
  {
   "cell_type": "code",
   "execution_count": 28,
   "metadata": {},
   "outputs": [],
   "source": [
    "# PIPELINE P/ DATA APENAS LIMPA (DATA CLEAN) USADA DIRETAMENTE NA PIPELINE (COM COLUNAS ORIGINAIS SEM ENCODING/SCALING)\n",
    "\n",
    "# data['yoch_enc'] = pd.cut(x=data['Years.of.Credit.History'],\n",
    "#                           bins=[-1, 10, 20, 30, 100],\n",
    "#                           labels=[0, 1, 2, 3])"
   ]
  },
  {
   "cell_type": "code",
   "execution_count": 29,
   "metadata": {},
   "outputs": [
    {
     "data": {
      "text/plain": [
       "[3, 1, 2, 0]\n",
       "Categories (4, int64): [0 < 1 < 2 < 3]"
      ]
     },
     "execution_count": 29,
     "metadata": {},
     "output_type": "execute_result"
    }
   ],
   "source": [
    "data['yche_enc'].unique()"
   ]
  },
  {
   "cell_type": "code",
   "execution_count": 30,
   "metadata": {
    "scrolled": false
   },
   "outputs": [
    {
     "data": {
      "text/html": [
       "<div>\n",
       "<style scoped>\n",
       "    .dataframe tbody tr th:only-of-type {\n",
       "        vertical-align: middle;\n",
       "    }\n",
       "\n",
       "    .dataframe tbody tr th {\n",
       "        vertical-align: top;\n",
       "    }\n",
       "\n",
       "    .dataframe thead th {\n",
       "        text-align: right;\n",
       "    }\n",
       "</style>\n",
       "<table border=\"1\" class=\"dataframe\">\n",
       "  <thead>\n",
       "    <tr style=\"text-align: right;\">\n",
       "      <th></th>\n",
       "      <th>Year.Credit.History.Enc</th>\n",
       "      <th>yche_enc</th>\n",
       "    </tr>\n",
       "  </thead>\n",
       "  <tbody>\n",
       "    <tr>\n",
       "      <th>0</th>\n",
       "      <td>30+</td>\n",
       "      <td>3</td>\n",
       "    </tr>\n",
       "    <tr>\n",
       "      <th>3</th>\n",
       "      <td>10.1 a 20</td>\n",
       "      <td>1</td>\n",
       "    </tr>\n",
       "    <tr>\n",
       "      <th>4</th>\n",
       "      <td>10.1 a 20</td>\n",
       "      <td>1</td>\n",
       "    </tr>\n",
       "    <tr>\n",
       "      <th>5</th>\n",
       "      <td>10.1 a 20</td>\n",
       "      <td>1</td>\n",
       "    </tr>\n",
       "    <tr>\n",
       "      <th>6</th>\n",
       "      <td>20.1 a 30</td>\n",
       "      <td>2</td>\n",
       "    </tr>\n",
       "    <tr>\n",
       "      <th>...</th>\n",
       "      <td>...</td>\n",
       "      <td>...</td>\n",
       "    </tr>\n",
       "    <tr>\n",
       "      <th>60794</th>\n",
       "      <td>0 a 10</td>\n",
       "      <td>0</td>\n",
       "    </tr>\n",
       "    <tr>\n",
       "      <th>60795</th>\n",
       "      <td>10.1 a 20</td>\n",
       "      <td>1</td>\n",
       "    </tr>\n",
       "    <tr>\n",
       "      <th>60797</th>\n",
       "      <td>30+</td>\n",
       "      <td>3</td>\n",
       "    </tr>\n",
       "    <tr>\n",
       "      <th>60800</th>\n",
       "      <td>10.1 a 20</td>\n",
       "      <td>1</td>\n",
       "    </tr>\n",
       "    <tr>\n",
       "      <th>60803</th>\n",
       "      <td>20.1 a 30</td>\n",
       "      <td>2</td>\n",
       "    </tr>\n",
       "  </tbody>\n",
       "</table>\n",
       "<p>41178 rows × 2 columns</p>\n",
       "</div>"
      ],
      "text/plain": [
       "      Year.Credit.History.Enc yche_enc\n",
       "0                         30+        3\n",
       "3                   10.1 a 20        1\n",
       "4                   10.1 a 20        1\n",
       "5                   10.1 a 20        1\n",
       "6                   20.1 a 30        2\n",
       "...                       ...      ...\n",
       "60794                  0 a 10        0\n",
       "60795               10.1 a 20        1\n",
       "60797                     30+        3\n",
       "60800               10.1 a 20        1\n",
       "60803               20.1 a 30        2\n",
       "\n",
       "[41178 rows x 2 columns]"
      ]
     },
     "execution_count": 30,
     "metadata": {},
     "output_type": "execute_result"
    }
   ],
   "source": [
    "data[['Year.Credit.History.Enc', 'yche_enc']]"
   ]
  },
  {
   "cell_type": "markdown",
   "metadata": {},
   "source": [
    "# 2.3. One hot encoder (OHE):\n",
    "# * Home.Ownership"
   ]
  },
  {
   "cell_type": "code",
   "execution_count": 31,
   "metadata": {},
   "outputs": [
    {
     "data": {
      "text/plain": [
       "array(['Home Mortgage', 'Rent', 'Own Home'], dtype=object)"
      ]
     },
     "execution_count": 31,
     "metadata": {},
     "output_type": "execute_result"
    }
   ],
   "source": [
    "data['Home.Ownership'].unique()"
   ]
  },
  {
   "cell_type": "code",
   "execution_count": 32,
   "metadata": {},
   "outputs": [],
   "source": [
    "# PIPELINE\n",
    "\n",
    "# OU\n",
    "\n",
    "# PIPELINE P/ DATA APENAS LIMPA (DATA CLEAN) USADA DIRETAMENTE NA PIPELINE (COM COLUNAS ORIGINAIS SEM ENCODING/SCALING)\n",
    "# NESTE CASO ESTÁ FALTANDO A CONVERSAO DA CATEGORIA \"HAVEMORTGAGE\" PARA \"HOME MORTGAGE\"\n",
    "\n",
    "ohe_ho = OneHotEncoder(sparse = False)\n",
    "ho_encoded = ohe_ho.fit_transform(data[['Home.Ownership']])\n",
    "data['ho_e_' + ohe_ho.categories_[0]] = ho_encoded"
   ]
  },
  {
   "cell_type": "code",
   "execution_count": 33,
   "metadata": {},
   "outputs": [
    {
     "data": {
      "text/plain": [
       "[array(['Home Mortgage', 'Own Home', 'Rent'], dtype=object)]"
      ]
     },
     "execution_count": 33,
     "metadata": {},
     "output_type": "execute_result"
    }
   ],
   "source": [
    "ohe_ho.categories_"
   ]
  },
  {
   "cell_type": "code",
   "execution_count": 34,
   "metadata": {},
   "outputs": [
    {
     "data": {
      "text/plain": [
       "Index(['Current.Loan.Amount', 'Term', 'Home.Ownership', 'Annual.Income',\n",
       "       'Current.Credit.Balance', 'Loan.Status',\n",
       "       'Number.of.Open.Accounts.Buckets', 'Credit.Minus.Loan',\n",
       "       'Number.of.Credit.Problems.Buckets', 'Years.current_job_enc',\n",
       "       'Purpose_enc', 'Tax.Liens.Enc', 'leverage', 'Credit.Score.Enc',\n",
       "       'Year.Credit.History.Enc', 'Bankruptcies.enc',\n",
       "       'Years.since.last.delinquent', 'Loan.vs.Income', 'ter_enc', 'nooab_enc',\n",
       "       'nocpb_enc', 'cse_enc', 'yche_enc', 'ho_e_Home Mortgage',\n",
       "       'ho_e_Own Home', 'ho_e_Rent'],\n",
       "      dtype='object')"
      ]
     },
     "execution_count": 34,
     "metadata": {},
     "output_type": "execute_result"
    }
   ],
   "source": [
    "data.columns"
   ]
  },
  {
   "cell_type": "code",
   "execution_count": 35,
   "metadata": {},
   "outputs": [
    {
     "data": {
      "text/html": [
       "<div>\n",
       "<style scoped>\n",
       "    .dataframe tbody tr th:only-of-type {\n",
       "        vertical-align: middle;\n",
       "    }\n",
       "\n",
       "    .dataframe tbody tr th {\n",
       "        vertical-align: top;\n",
       "    }\n",
       "\n",
       "    .dataframe thead th {\n",
       "        text-align: right;\n",
       "    }\n",
       "</style>\n",
       "<table border=\"1\" class=\"dataframe\">\n",
       "  <thead>\n",
       "    <tr style=\"text-align: right;\">\n",
       "      <th></th>\n",
       "      <th>Home.Ownership</th>\n",
       "      <th>ho_e_Home Mortgage</th>\n",
       "      <th>ho_e_Own Home</th>\n",
       "      <th>ho_e_Rent</th>\n",
       "    </tr>\n",
       "  </thead>\n",
       "  <tbody>\n",
       "    <tr>\n",
       "      <th>0</th>\n",
       "      <td>Home Mortgage</td>\n",
       "      <td>1.0</td>\n",
       "      <td>0.0</td>\n",
       "      <td>0.0</td>\n",
       "    </tr>\n",
       "    <tr>\n",
       "      <th>3</th>\n",
       "      <td>Rent</td>\n",
       "      <td>0.0</td>\n",
       "      <td>0.0</td>\n",
       "      <td>1.0</td>\n",
       "    </tr>\n",
       "    <tr>\n",
       "      <th>4</th>\n",
       "      <td>Home Mortgage</td>\n",
       "      <td>1.0</td>\n",
       "      <td>0.0</td>\n",
       "      <td>0.0</td>\n",
       "    </tr>\n",
       "    <tr>\n",
       "      <th>5</th>\n",
       "      <td>Home Mortgage</td>\n",
       "      <td>1.0</td>\n",
       "      <td>0.0</td>\n",
       "      <td>0.0</td>\n",
       "    </tr>\n",
       "    <tr>\n",
       "      <th>6</th>\n",
       "      <td>Rent</td>\n",
       "      <td>0.0</td>\n",
       "      <td>0.0</td>\n",
       "      <td>1.0</td>\n",
       "    </tr>\n",
       "    <tr>\n",
       "      <th>...</th>\n",
       "      <td>...</td>\n",
       "      <td>...</td>\n",
       "      <td>...</td>\n",
       "      <td>...</td>\n",
       "    </tr>\n",
       "    <tr>\n",
       "      <th>60794</th>\n",
       "      <td>Rent</td>\n",
       "      <td>0.0</td>\n",
       "      <td>0.0</td>\n",
       "      <td>1.0</td>\n",
       "    </tr>\n",
       "    <tr>\n",
       "      <th>60795</th>\n",
       "      <td>Home Mortgage</td>\n",
       "      <td>1.0</td>\n",
       "      <td>0.0</td>\n",
       "      <td>0.0</td>\n",
       "    </tr>\n",
       "    <tr>\n",
       "      <th>60797</th>\n",
       "      <td>Home Mortgage</td>\n",
       "      <td>1.0</td>\n",
       "      <td>0.0</td>\n",
       "      <td>0.0</td>\n",
       "    </tr>\n",
       "    <tr>\n",
       "      <th>60800</th>\n",
       "      <td>Rent</td>\n",
       "      <td>0.0</td>\n",
       "      <td>0.0</td>\n",
       "      <td>1.0</td>\n",
       "    </tr>\n",
       "    <tr>\n",
       "      <th>60803</th>\n",
       "      <td>Home Mortgage</td>\n",
       "      <td>1.0</td>\n",
       "      <td>0.0</td>\n",
       "      <td>0.0</td>\n",
       "    </tr>\n",
       "  </tbody>\n",
       "</table>\n",
       "<p>41178 rows × 4 columns</p>\n",
       "</div>"
      ],
      "text/plain": [
       "      Home.Ownership  ho_e_Home Mortgage  ho_e_Own Home  ho_e_Rent\n",
       "0      Home Mortgage                 1.0            0.0        0.0\n",
       "3               Rent                 0.0            0.0        1.0\n",
       "4      Home Mortgage                 1.0            0.0        0.0\n",
       "5      Home Mortgage                 1.0            0.0        0.0\n",
       "6               Rent                 0.0            0.0        1.0\n",
       "...              ...                 ...            ...        ...\n",
       "60794           Rent                 0.0            0.0        1.0\n",
       "60795  Home Mortgage                 1.0            0.0        0.0\n",
       "60797  Home Mortgage                 1.0            0.0        0.0\n",
       "60800           Rent                 0.0            0.0        1.0\n",
       "60803  Home Mortgage                 1.0            0.0        0.0\n",
       "\n",
       "[41178 rows x 4 columns]"
      ]
     },
     "execution_count": 35,
     "metadata": {},
     "output_type": "execute_result"
    }
   ],
   "source": [
    "data[['Home.Ownership', 'ho_e_Home Mortgage', 'ho_e_Own Home', 'ho_e_Rent']]"
   ]
  },
  {
   "cell_type": "markdown",
   "metadata": {},
   "source": [
    "# 2.3. One hot encoder (OHE):\n",
    "# * Purpose.Categories"
   ]
  },
  {
   "cell_type": "code",
   "execution_count": 36,
   "metadata": {
    "scrolled": true
   },
   "outputs": [
    {
     "data": {
      "text/plain": [
       "array(['Debt Consolidation', 'Home Improvements', 'Other',\n",
       "       'Business Loan', 'Buy a Car', 'Buy House', 'Medical Bills'],\n",
       "      dtype=object)"
      ]
     },
     "execution_count": 36,
     "metadata": {},
     "output_type": "execute_result"
    }
   ],
   "source": [
    "data['Purpose_enc'].unique()"
   ]
  },
  {
   "cell_type": "code",
   "execution_count": 37,
   "metadata": {},
   "outputs": [],
   "source": [
    "# PIPELINE\n",
    "\n",
    "ohe_pur = OneHotEncoder(sparse = False)\n",
    "pur_encoded = ohe_pur.fit_transform(data[['Purpose_enc']])\n",
    "data['pur_e_' + ohe_pur.categories_[0]] = pur_encoded"
   ]
  },
  {
   "cell_type": "code",
   "execution_count": 38,
   "metadata": {},
   "outputs": [],
   "source": [
    "# PIPELINE P/ DATA APENAS LIMPA (DATA CLEAN) USADA DIRETAMENTE NA PIPELINE (COM COLUNAS ORIGINAIS SEM ENCODING/SCALING)\n",
    "\n",
    "# AGRUPAMENTO DE CATEGORIAS EM OTHERS - EU JÁ HAVIA APRESENTADO ISTO\n",
    "# data['pur_alt'] = data['Purpose']\n",
    "# pur_cat_oth = ['other', 'moving', 'small_business', 'Take a Trip', 'major_purchase',\n",
    "#                'wedding', 'Educational Expenses', 'vacation', 'renewable_energy']\n",
    "# for cat_oth in pur_cat_oth:\n",
    "#     data.loc[data['pur_alt'] == cat_oth, 'pur_alt'] = 'Other'\n",
    "\n",
    "# ENCODING\n",
    "# ohe_pur = OneHotEncoder(sparse = False)\n",
    "# pur_encoded = ohe_pur.fit_transform(data[['pur_alt']])\n",
    "# data['pur_e_' + ohe_pur.categories_[0]] = pur_encoded"
   ]
  },
  {
   "cell_type": "code",
   "execution_count": 39,
   "metadata": {},
   "outputs": [
    {
     "data": {
      "text/plain": [
       "[array(['Business Loan', 'Buy House', 'Buy a Car', 'Debt Consolidation',\n",
       "        'Home Improvements', 'Medical Bills', 'Other'], dtype=object)]"
      ]
     },
     "execution_count": 39,
     "metadata": {},
     "output_type": "execute_result"
    }
   ],
   "source": [
    "ohe_pur.categories_"
   ]
  },
  {
   "cell_type": "code",
   "execution_count": 40,
   "metadata": {},
   "outputs": [
    {
     "data": {
      "text/html": [
       "<div>\n",
       "<style scoped>\n",
       "    .dataframe tbody tr th:only-of-type {\n",
       "        vertical-align: middle;\n",
       "    }\n",
       "\n",
       "    .dataframe tbody tr th {\n",
       "        vertical-align: top;\n",
       "    }\n",
       "\n",
       "    .dataframe thead th {\n",
       "        text-align: right;\n",
       "    }\n",
       "</style>\n",
       "<table border=\"1\" class=\"dataframe\">\n",
       "  <thead>\n",
       "    <tr style=\"text-align: right;\">\n",
       "      <th></th>\n",
       "      <th>Purpose_enc</th>\n",
       "      <th>pur_e_Debt Consolidation</th>\n",
       "      <th>pur_e_Medical Bills</th>\n",
       "      <th>pur_e_Home Improvements</th>\n",
       "      <th>pur_e_Other</th>\n",
       "      <th>pur_e_Business Loan</th>\n",
       "      <th>pur_e_Buy House</th>\n",
       "      <th>pur_e_Buy a Car</th>\n",
       "    </tr>\n",
       "  </thead>\n",
       "  <tbody>\n",
       "    <tr>\n",
       "      <th>0</th>\n",
       "      <td>Debt Consolidation</td>\n",
       "      <td>1.0</td>\n",
       "      <td>0.0</td>\n",
       "      <td>0.0</td>\n",
       "      <td>0.0</td>\n",
       "      <td>0.0</td>\n",
       "      <td>0.0</td>\n",
       "      <td>0.0</td>\n",
       "    </tr>\n",
       "    <tr>\n",
       "      <th>3</th>\n",
       "      <td>Debt Consolidation</td>\n",
       "      <td>1.0</td>\n",
       "      <td>0.0</td>\n",
       "      <td>0.0</td>\n",
       "      <td>0.0</td>\n",
       "      <td>0.0</td>\n",
       "      <td>0.0</td>\n",
       "      <td>0.0</td>\n",
       "    </tr>\n",
       "    <tr>\n",
       "      <th>4</th>\n",
       "      <td>Home Improvements</td>\n",
       "      <td>0.0</td>\n",
       "      <td>0.0</td>\n",
       "      <td>1.0</td>\n",
       "      <td>0.0</td>\n",
       "      <td>0.0</td>\n",
       "      <td>0.0</td>\n",
       "      <td>0.0</td>\n",
       "    </tr>\n",
       "    <tr>\n",
       "      <th>5</th>\n",
       "      <td>Home Improvements</td>\n",
       "      <td>0.0</td>\n",
       "      <td>0.0</td>\n",
       "      <td>1.0</td>\n",
       "      <td>0.0</td>\n",
       "      <td>0.0</td>\n",
       "      <td>0.0</td>\n",
       "      <td>0.0</td>\n",
       "    </tr>\n",
       "    <tr>\n",
       "      <th>6</th>\n",
       "      <td>Other</td>\n",
       "      <td>0.0</td>\n",
       "      <td>0.0</td>\n",
       "      <td>0.0</td>\n",
       "      <td>1.0</td>\n",
       "      <td>0.0</td>\n",
       "      <td>0.0</td>\n",
       "      <td>0.0</td>\n",
       "    </tr>\n",
       "    <tr>\n",
       "      <th>...</th>\n",
       "      <td>...</td>\n",
       "      <td>...</td>\n",
       "      <td>...</td>\n",
       "      <td>...</td>\n",
       "      <td>...</td>\n",
       "      <td>...</td>\n",
       "      <td>...</td>\n",
       "      <td>...</td>\n",
       "    </tr>\n",
       "    <tr>\n",
       "      <th>60794</th>\n",
       "      <td>Debt Consolidation</td>\n",
       "      <td>1.0</td>\n",
       "      <td>0.0</td>\n",
       "      <td>0.0</td>\n",
       "      <td>0.0</td>\n",
       "      <td>0.0</td>\n",
       "      <td>0.0</td>\n",
       "      <td>0.0</td>\n",
       "    </tr>\n",
       "    <tr>\n",
       "      <th>60795</th>\n",
       "      <td>Debt Consolidation</td>\n",
       "      <td>1.0</td>\n",
       "      <td>0.0</td>\n",
       "      <td>0.0</td>\n",
       "      <td>0.0</td>\n",
       "      <td>0.0</td>\n",
       "      <td>0.0</td>\n",
       "      <td>0.0</td>\n",
       "    </tr>\n",
       "    <tr>\n",
       "      <th>60797</th>\n",
       "      <td>Debt Consolidation</td>\n",
       "      <td>1.0</td>\n",
       "      <td>0.0</td>\n",
       "      <td>0.0</td>\n",
       "      <td>0.0</td>\n",
       "      <td>0.0</td>\n",
       "      <td>0.0</td>\n",
       "      <td>0.0</td>\n",
       "    </tr>\n",
       "    <tr>\n",
       "      <th>60800</th>\n",
       "      <td>Debt Consolidation</td>\n",
       "      <td>1.0</td>\n",
       "      <td>0.0</td>\n",
       "      <td>0.0</td>\n",
       "      <td>0.0</td>\n",
       "      <td>0.0</td>\n",
       "      <td>0.0</td>\n",
       "      <td>0.0</td>\n",
       "    </tr>\n",
       "    <tr>\n",
       "      <th>60803</th>\n",
       "      <td>Debt Consolidation</td>\n",
       "      <td>1.0</td>\n",
       "      <td>0.0</td>\n",
       "      <td>0.0</td>\n",
       "      <td>0.0</td>\n",
       "      <td>0.0</td>\n",
       "      <td>0.0</td>\n",
       "      <td>0.0</td>\n",
       "    </tr>\n",
       "  </tbody>\n",
       "</table>\n",
       "<p>41178 rows × 8 columns</p>\n",
       "</div>"
      ],
      "text/plain": [
       "              Purpose_enc  pur_e_Debt Consolidation  pur_e_Medical Bills  \\\n",
       "0      Debt Consolidation                       1.0                  0.0   \n",
       "3      Debt Consolidation                       1.0                  0.0   \n",
       "4       Home Improvements                       0.0                  0.0   \n",
       "5       Home Improvements                       0.0                  0.0   \n",
       "6                   Other                       0.0                  0.0   \n",
       "...                   ...                       ...                  ...   \n",
       "60794  Debt Consolidation                       1.0                  0.0   \n",
       "60795  Debt Consolidation                       1.0                  0.0   \n",
       "60797  Debt Consolidation                       1.0                  0.0   \n",
       "60800  Debt Consolidation                       1.0                  0.0   \n",
       "60803  Debt Consolidation                       1.0                  0.0   \n",
       "\n",
       "       pur_e_Home Improvements  pur_e_Other  pur_e_Business Loan  \\\n",
       "0                          0.0          0.0                  0.0   \n",
       "3                          0.0          0.0                  0.0   \n",
       "4                          1.0          0.0                  0.0   \n",
       "5                          1.0          0.0                  0.0   \n",
       "6                          0.0          1.0                  0.0   \n",
       "...                        ...          ...                  ...   \n",
       "60794                      0.0          0.0                  0.0   \n",
       "60795                      0.0          0.0                  0.0   \n",
       "60797                      0.0          0.0                  0.0   \n",
       "60800                      0.0          0.0                  0.0   \n",
       "60803                      0.0          0.0                  0.0   \n",
       "\n",
       "       pur_e_Buy House  pur_e_Buy a Car  \n",
       "0                  0.0              0.0  \n",
       "3                  0.0              0.0  \n",
       "4                  0.0              0.0  \n",
       "5                  0.0              0.0  \n",
       "6                  0.0              0.0  \n",
       "...                ...              ...  \n",
       "60794              0.0              0.0  \n",
       "60795              0.0              0.0  \n",
       "60797              0.0              0.0  \n",
       "60800              0.0              0.0  \n",
       "60803              0.0              0.0  \n",
       "\n",
       "[41178 rows x 8 columns]"
      ]
     },
     "execution_count": 40,
     "metadata": {},
     "output_type": "execute_result"
    }
   ],
   "source": [
    "data[['Purpose_enc', 'pur_e_Debt Consolidation', 'pur_e_Medical Bills', 'pur_e_Home Improvements',\n",
    "      'pur_e_Other', 'pur_e_Business Loan', 'pur_e_Buy House', 'pur_e_Buy a Car']]"
   ]
  },
  {
   "cell_type": "markdown",
   "metadata": {},
   "source": [
    "## FINALIZADO!!!"
   ]
  }
 ],
 "metadata": {
  "kernelspec": {
   "display_name": "Python 3",
   "language": "python",
   "name": "python3"
  },
  "language_info": {
   "codemirror_mode": {
    "name": "ipython",
    "version": 3
   },
   "file_extension": ".py",
   "mimetype": "text/x-python",
   "name": "python",
   "nbconvert_exporter": "python",
   "pygments_lexer": "ipython3",
   "version": "3.7.7"
  }
 },
 "nbformat": 4,
 "nbformat_minor": 4
}
