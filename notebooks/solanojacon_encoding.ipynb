{
 "cells": [
  {
   "cell_type": "markdown",
   "metadata": {},
   "source": [
    "# Project493 - Encoding"
   ]
  },
  {
   "cell_type": "code",
   "execution_count": 1,
   "metadata": {},
   "outputs": [],
   "source": [
    "import pandas as pd\n",
    "from sklearn.preprocessing import OrdinalEncoder\n",
    "from sklearn.preprocessing import OneHotEncoder"
   ]
  },
  {
   "cell_type": "code",
   "execution_count": 57,
   "metadata": {
    "scrolled": false
   },
   "outputs": [
    {
     "data": {
      "text/html": [
       "<div>\n",
       "<style scoped>\n",
       "    .dataframe tbody tr th:only-of-type {\n",
       "        vertical-align: middle;\n",
       "    }\n",
       "\n",
       "    .dataframe tbody tr th {\n",
       "        vertical-align: top;\n",
       "    }\n",
       "\n",
       "    .dataframe thead th {\n",
       "        text-align: right;\n",
       "    }\n",
       "</style>\n",
       "<table border=\"1\" class=\"dataframe\">\n",
       "  <thead>\n",
       "    <tr style=\"text-align: right;\">\n",
       "      <th></th>\n",
       "      <th>Loan.ID</th>\n",
       "      <th>Current.Loan.Amount</th>\n",
       "      <th>Term</th>\n",
       "      <th>Credit.Score</th>\n",
       "      <th>Years.in.current.job</th>\n",
       "      <th>Home.Ownership</th>\n",
       "      <th>Annual.Income</th>\n",
       "      <th>Purpose</th>\n",
       "      <th>Monthly.Debt</th>\n",
       "      <th>Years.of.Credit.History</th>\n",
       "      <th>Months.since.last.delinquent</th>\n",
       "      <th>Number.of.Open.Accounts</th>\n",
       "      <th>Number.of.Credit.Problems</th>\n",
       "      <th>Current.Credit.Balance</th>\n",
       "      <th>Maximum.Open.Credit</th>\n",
       "      <th>Bankruptcies</th>\n",
       "      <th>Tax.Liens</th>\n",
       "      <th>Loan.Status</th>\n",
       "    </tr>\n",
       "  </thead>\n",
       "  <tbody>\n",
       "    <tr>\n",
       "      <th>0</th>\n",
       "      <td>0</td>\n",
       "      <td>17879</td>\n",
       "      <td>Short Term</td>\n",
       "      <td>739.0</td>\n",
       "      <td>6 years</td>\n",
       "      <td>Home Mortgage</td>\n",
       "      <td>95357.0</td>\n",
       "      <td>Debt Consolidation</td>\n",
       "      <td>1509.82</td>\n",
       "      <td>34.4</td>\n",
       "      <td>5.0</td>\n",
       "      <td>26</td>\n",
       "      <td>0</td>\n",
       "      <td>23986</td>\n",
       "      <td>40313</td>\n",
       "      <td>0.0</td>\n",
       "      <td>0.0</td>\n",
       "      <td>1</td>\n",
       "    </tr>\n",
       "    <tr>\n",
       "      <th>1</th>\n",
       "      <td>1</td>\n",
       "      <td>99999999</td>\n",
       "      <td>Long Term</td>\n",
       "      <td>619.0</td>\n",
       "      <td>6 years</td>\n",
       "      <td>Rent</td>\n",
       "      <td>54406.0</td>\n",
       "      <td>Debt Consolidation</td>\n",
       "      <td>1065.45</td>\n",
       "      <td>12.7</td>\n",
       "      <td>NaN</td>\n",
       "      <td>8</td>\n",
       "      <td>0</td>\n",
       "      <td>22938</td>\n",
       "      <td>31250</td>\n",
       "      <td>0.0</td>\n",
       "      <td>0.0</td>\n",
       "      <td>1</td>\n",
       "    </tr>\n",
       "    <tr>\n",
       "      <th>2</th>\n",
       "      <td>3</td>\n",
       "      <td>99999999</td>\n",
       "      <td>Short Term</td>\n",
       "      <td>738.0</td>\n",
       "      <td>less than  1 year</td>\n",
       "      <td>Rent</td>\n",
       "      <td>40480.0</td>\n",
       "      <td>Medical Bills</td>\n",
       "      <td>573.47</td>\n",
       "      <td>32.7</td>\n",
       "      <td>60.0</td>\n",
       "      <td>9</td>\n",
       "      <td>1</td>\n",
       "      <td>3963</td>\n",
       "      <td>5669</td>\n",
       "      <td>1.0</td>\n",
       "      <td>0.0</td>\n",
       "      <td>1</td>\n",
       "    </tr>\n",
       "    <tr>\n",
       "      <th>3</th>\n",
       "      <td>4</td>\n",
       "      <td>11200</td>\n",
       "      <td>Short Term</td>\n",
       "      <td>738.0</td>\n",
       "      <td>4 years</td>\n",
       "      <td>Rent</td>\n",
       "      <td>53965.0</td>\n",
       "      <td>Debt Consolidation</td>\n",
       "      <td>1358.11</td>\n",
       "      <td>15.8</td>\n",
       "      <td>NaN</td>\n",
       "      <td>8</td>\n",
       "      <td>1</td>\n",
       "      <td>11782</td>\n",
       "      <td>25951</td>\n",
       "      <td>1.0</td>\n",
       "      <td>0.0</td>\n",
       "      <td>1</td>\n",
       "    </tr>\n",
       "    <tr>\n",
       "      <th>4</th>\n",
       "      <td>5</td>\n",
       "      <td>3608</td>\n",
       "      <td>Short Term</td>\n",
       "      <td>731.0</td>\n",
       "      <td>10+ years</td>\n",
       "      <td>Home Mortgage</td>\n",
       "      <td>47709.0</td>\n",
       "      <td>Home Improvements</td>\n",
       "      <td>339.93</td>\n",
       "      <td>16.1</td>\n",
       "      <td>47.0</td>\n",
       "      <td>6</td>\n",
       "      <td>0</td>\n",
       "      <td>22909</td>\n",
       "      <td>25568</td>\n",
       "      <td>0.0</td>\n",
       "      <td>0.0</td>\n",
       "      <td>1</td>\n",
       "    </tr>\n",
       "    <tr>\n",
       "      <th>...</th>\n",
       "      <td>...</td>\n",
       "      <td>...</td>\n",
       "      <td>...</td>\n",
       "      <td>...</td>\n",
       "      <td>...</td>\n",
       "      <td>...</td>\n",
       "      <td>...</td>\n",
       "      <td>...</td>\n",
       "      <td>...</td>\n",
       "      <td>...</td>\n",
       "      <td>...</td>\n",
       "      <td>...</td>\n",
       "      <td>...</td>\n",
       "      <td>...</td>\n",
       "      <td>...</td>\n",
       "      <td>...</td>\n",
       "      <td>...</td>\n",
       "      <td>...</td>\n",
       "    </tr>\n",
       "    <tr>\n",
       "      <th>60799</th>\n",
       "      <td>84184</td>\n",
       "      <td>99999999</td>\n",
       "      <td>Short Term</td>\n",
       "      <td>725.0</td>\n",
       "      <td>3 years</td>\n",
       "      <td>Rent</td>\n",
       "      <td>52589.0</td>\n",
       "      <td>Business Loan</td>\n",
       "      <td>128.84</td>\n",
       "      <td>14.5</td>\n",
       "      <td>21.0</td>\n",
       "      <td>6</td>\n",
       "      <td>0</td>\n",
       "      <td>6160</td>\n",
       "      <td>14736</td>\n",
       "      <td>0.0</td>\n",
       "      <td>0.0</td>\n",
       "      <td>1</td>\n",
       "    </tr>\n",
       "    <tr>\n",
       "      <th>60800</th>\n",
       "      <td>84185</td>\n",
       "      <td>18229</td>\n",
       "      <td>Short Term</td>\n",
       "      <td>747.0</td>\n",
       "      <td>3 years</td>\n",
       "      <td>Rent</td>\n",
       "      <td>91143.0</td>\n",
       "      <td>Debt Consolidation</td>\n",
       "      <td>782.31</td>\n",
       "      <td>18.0</td>\n",
       "      <td>14.0</td>\n",
       "      <td>16</td>\n",
       "      <td>0</td>\n",
       "      <td>8328</td>\n",
       "      <td>51095</td>\n",
       "      <td>0.0</td>\n",
       "      <td>0.0</td>\n",
       "      <td>0</td>\n",
       "    </tr>\n",
       "    <tr>\n",
       "      <th>60801</th>\n",
       "      <td>84186</td>\n",
       "      <td>10165</td>\n",
       "      <td>Short Term</td>\n",
       "      <td>NaN</td>\n",
       "      <td>5 years</td>\n",
       "      <td>Rent</td>\n",
       "      <td>NaN</td>\n",
       "      <td>Buy a Car</td>\n",
       "      <td>156.44</td>\n",
       "      <td>8.9</td>\n",
       "      <td>NaN</td>\n",
       "      <td>10</td>\n",
       "      <td>0</td>\n",
       "      <td>5954</td>\n",
       "      <td>24400</td>\n",
       "      <td>0.0</td>\n",
       "      <td>0.0</td>\n",
       "      <td>1</td>\n",
       "    </tr>\n",
       "    <tr>\n",
       "      <th>60802</th>\n",
       "      <td>84187</td>\n",
       "      <td>99999999</td>\n",
       "      <td>Short Term</td>\n",
       "      <td>744.0</td>\n",
       "      <td>9 years</td>\n",
       "      <td>Rent</td>\n",
       "      <td>30450.0</td>\n",
       "      <td>Debt Consolidation</td>\n",
       "      <td>725.73</td>\n",
       "      <td>16.0</td>\n",
       "      <td>NaN</td>\n",
       "      <td>8</td>\n",
       "      <td>1</td>\n",
       "      <td>4446</td>\n",
       "      <td>7813</td>\n",
       "      <td>1.0</td>\n",
       "      <td>0.0</td>\n",
       "      <td>1</td>\n",
       "    </tr>\n",
       "    <tr>\n",
       "      <th>60803</th>\n",
       "      <td>84189</td>\n",
       "      <td>2866</td>\n",
       "      <td>Short Term</td>\n",
       "      <td>703.0</td>\n",
       "      <td>8 years</td>\n",
       "      <td>Home Mortgage</td>\n",
       "      <td>42991.0</td>\n",
       "      <td>Debt Consolidation</td>\n",
       "      <td>1164.35</td>\n",
       "      <td>23.0</td>\n",
       "      <td>67.0</td>\n",
       "      <td>6</td>\n",
       "      <td>0</td>\n",
       "      <td>39</td>\n",
       "      <td>9724</td>\n",
       "      <td>0.0</td>\n",
       "      <td>0.0</td>\n",
       "      <td>1</td>\n",
       "    </tr>\n",
       "  </tbody>\n",
       "</table>\n",
       "<p>60804 rows × 18 columns</p>\n",
       "</div>"
      ],
      "text/plain": [
       "       Loan.ID  Current.Loan.Amount        Term  Credit.Score  \\\n",
       "0            0                17879  Short Term         739.0   \n",
       "1            1             99999999   Long Term         619.0   \n",
       "2            3             99999999  Short Term         738.0   \n",
       "3            4                11200  Short Term         738.0   \n",
       "4            5                 3608  Short Term         731.0   \n",
       "...        ...                  ...         ...           ...   \n",
       "60799    84184             99999999  Short Term         725.0   \n",
       "60800    84185                18229  Short Term         747.0   \n",
       "60801    84186                10165  Short Term           NaN   \n",
       "60802    84187             99999999  Short Term         744.0   \n",
       "60803    84189                 2866  Short Term         703.0   \n",
       "\n",
       "      Years.in.current.job Home.Ownership  Annual.Income             Purpose  \\\n",
       "0                  6 years  Home Mortgage        95357.0  Debt Consolidation   \n",
       "1                  6 years           Rent        54406.0  Debt Consolidation   \n",
       "2        less than  1 year           Rent        40480.0       Medical Bills   \n",
       "3                  4 years           Rent        53965.0  Debt Consolidation   \n",
       "4                10+ years  Home Mortgage        47709.0   Home Improvements   \n",
       "...                    ...            ...            ...                 ...   \n",
       "60799              3 years           Rent        52589.0       Business Loan   \n",
       "60800              3 years           Rent        91143.0  Debt Consolidation   \n",
       "60801              5 years           Rent            NaN           Buy a Car   \n",
       "60802              9 years           Rent        30450.0  Debt Consolidation   \n",
       "60803              8 years  Home Mortgage        42991.0  Debt Consolidation   \n",
       "\n",
       "       Monthly.Debt  Years.of.Credit.History  Months.since.last.delinquent  \\\n",
       "0           1509.82                     34.4                           5.0   \n",
       "1           1065.45                     12.7                           NaN   \n",
       "2            573.47                     32.7                          60.0   \n",
       "3           1358.11                     15.8                           NaN   \n",
       "4            339.93                     16.1                          47.0   \n",
       "...             ...                      ...                           ...   \n",
       "60799        128.84                     14.5                          21.0   \n",
       "60800        782.31                     18.0                          14.0   \n",
       "60801        156.44                      8.9                           NaN   \n",
       "60802        725.73                     16.0                           NaN   \n",
       "60803       1164.35                     23.0                          67.0   \n",
       "\n",
       "       Number.of.Open.Accounts  Number.of.Credit.Problems  \\\n",
       "0                           26                          0   \n",
       "1                            8                          0   \n",
       "2                            9                          1   \n",
       "3                            8                          1   \n",
       "4                            6                          0   \n",
       "...                        ...                        ...   \n",
       "60799                        6                          0   \n",
       "60800                       16                          0   \n",
       "60801                       10                          0   \n",
       "60802                        8                          1   \n",
       "60803                        6                          0   \n",
       "\n",
       "       Current.Credit.Balance  Maximum.Open.Credit  Bankruptcies  Tax.Liens  \\\n",
       "0                       23986                40313           0.0        0.0   \n",
       "1                       22938                31250           0.0        0.0   \n",
       "2                        3963                 5669           1.0        0.0   \n",
       "3                       11782                25951           1.0        0.0   \n",
       "4                       22909                25568           0.0        0.0   \n",
       "...                       ...                  ...           ...        ...   \n",
       "60799                    6160                14736           0.0        0.0   \n",
       "60800                    8328                51095           0.0        0.0   \n",
       "60801                    5954                24400           0.0        0.0   \n",
       "60802                    4446                 7813           1.0        0.0   \n",
       "60803                      39                 9724           0.0        0.0   \n",
       "\n",
       "       Loan.Status  \n",
       "0                1  \n",
       "1                1  \n",
       "2                1  \n",
       "3                1  \n",
       "4                1  \n",
       "...            ...  \n",
       "60799            1  \n",
       "60800            0  \n",
       "60801            1  \n",
       "60802            1  \n",
       "60803            1  \n",
       "\n",
       "[60804 rows x 18 columns]"
      ]
     },
     "execution_count": 57,
     "metadata": {},
     "output_type": "execute_result"
    }
   ],
   "source": [
    "train_csv = '../raw_data/train.csv'\n",
    "df_train = pd.read_csv(train_csv)\n",
    "df_train"
   ]
  },
  {
   "cell_type": "code",
   "execution_count": 3,
   "metadata": {},
   "outputs": [
    {
     "name": "stdout",
     "output_type": "stream",
     "text": [
      "<class 'pandas.core.frame.DataFrame'>\n",
      "RangeIndex: 60804 entries, 0 to 60803\n",
      "Data columns (total 18 columns):\n",
      " #   Column                        Non-Null Count  Dtype  \n",
      "---  ------                        --------------  -----  \n",
      " 0   Loan.ID                       60804 non-null  int64  \n",
      " 1   Current.Loan.Amount           60804 non-null  int64  \n",
      " 2   Term                          60804 non-null  object \n",
      " 3   Credit.Score                  48575 non-null  float64\n",
      " 4   Years.in.current.job          58275 non-null  object \n",
      " 5   Home.Ownership                60804 non-null  object \n",
      " 6   Annual.Income                 48575 non-null  float64\n",
      " 7   Purpose                       60804 non-null  object \n",
      " 8   Monthly.Debt                  60804 non-null  float64\n",
      " 9   Years.of.Credit.History       60804 non-null  float64\n",
      " 10  Months.since.last.delinquent  28329 non-null  float64\n",
      " 11  Number.of.Open.Accounts       60804 non-null  int64  \n",
      " 12  Number.of.Credit.Problems     60804 non-null  int64  \n",
      " 13  Current.Credit.Balance        60804 non-null  int64  \n",
      " 14  Maximum.Open.Credit           60804 non-null  int64  \n",
      " 15  Bankruptcies                  60677 non-null  float64\n",
      " 16  Tax.Liens                     60802 non-null  float64\n",
      " 17  Loan.Status                   60804 non-null  int64  \n",
      "dtypes: float64(7), int64(7), object(4)\n",
      "memory usage: 8.4+ MB\n"
     ]
    }
   ],
   "source": [
    "df_train.info()"
   ]
  },
  {
   "cell_type": "code",
   "execution_count": 4,
   "metadata": {},
   "outputs": [
    {
     "data": {
      "text/plain": [
       "Loan.ID                             0\n",
       "Current.Loan.Amount                 0\n",
       "Term                                0\n",
       "Credit.Score                    12229\n",
       "Years.in.current.job             2529\n",
       "Home.Ownership                      0\n",
       "Annual.Income                   12229\n",
       "Purpose                             0\n",
       "Monthly.Debt                        0\n",
       "Years.of.Credit.History             0\n",
       "Months.since.last.delinquent    32475\n",
       "Number.of.Open.Accounts             0\n",
       "Number.of.Credit.Problems           0\n",
       "Current.Credit.Balance              0\n",
       "Maximum.Open.Credit                 0\n",
       "Bankruptcies                      127\n",
       "Tax.Liens                           2\n",
       "Loan.Status                         0\n",
       "dtype: int64"
      ]
     },
     "execution_count": 4,
     "metadata": {},
     "output_type": "execute_result"
    }
   ],
   "source": [
    "df_train.isnull().sum()"
   ]
  },
  {
   "cell_type": "markdown",
   "metadata": {},
   "source": [
    "## 16) Encoding campo Term"
   ]
  },
  {
   "cell_type": "markdown",
   "metadata": {},
   "source": [
    "16. Label encoder Term\n",
    "\n",
    "FEITO: 'Short Term' = 0 E 'Long Term' = 1 NO CAMPO NOVO 'ter_enc'"
   ]
  },
  {
   "cell_type": "code",
   "execution_count": 5,
   "metadata": {},
   "outputs": [
    {
     "data": {
      "text/plain": [
       "array(['Short Term', 'Long Term'], dtype=object)"
      ]
     },
     "execution_count": 5,
     "metadata": {},
     "output_type": "execute_result"
    }
   ],
   "source": [
    "df_train['Term'].unique()"
   ]
  },
  {
   "cell_type": "code",
   "execution_count": 6,
   "metadata": {},
   "outputs": [],
   "source": [
    "# PIPELINE -- Nao feito\n",
    "\n",
    "oe_ter = OrdinalEncoder(categories=[['Short Term', 'Long Term']])\n",
    "df_train['ter_enc'] = oe_ter.fit_transform(df_train[['Term']])"
   ]
  },
  {
   "cell_type": "code",
   "execution_count": 7,
   "metadata": {},
   "outputs": [
    {
     "data": {
      "text/plain": [
       "[array(['Short Term', 'Long Term'], dtype=object)]"
      ]
     },
     "execution_count": 7,
     "metadata": {},
     "output_type": "execute_result"
    }
   ],
   "source": [
    "oe_ter.categories_"
   ]
  },
  {
   "cell_type": "code",
   "execution_count": 8,
   "metadata": {},
   "outputs": [
    {
     "data": {
      "text/plain": [
       "array([0., 1.])"
      ]
     },
     "execution_count": 8,
     "metadata": {},
     "output_type": "execute_result"
    }
   ],
   "source": [
    "df_train['ter_enc'].unique()"
   ]
  },
  {
   "cell_type": "code",
   "execution_count": 9,
   "metadata": {
    "scrolled": false
   },
   "outputs": [
    {
     "data": {
      "text/html": [
       "<div>\n",
       "<style scoped>\n",
       "    .dataframe tbody tr th:only-of-type {\n",
       "        vertical-align: middle;\n",
       "    }\n",
       "\n",
       "    .dataframe tbody tr th {\n",
       "        vertical-align: top;\n",
       "    }\n",
       "\n",
       "    .dataframe thead th {\n",
       "        text-align: right;\n",
       "    }\n",
       "</style>\n",
       "<table border=\"1\" class=\"dataframe\">\n",
       "  <thead>\n",
       "    <tr style=\"text-align: right;\">\n",
       "      <th></th>\n",
       "      <th>Term</th>\n",
       "      <th>ter_enc</th>\n",
       "    </tr>\n",
       "  </thead>\n",
       "  <tbody>\n",
       "    <tr>\n",
       "      <th>0</th>\n",
       "      <td>Short Term</td>\n",
       "      <td>0.0</td>\n",
       "    </tr>\n",
       "    <tr>\n",
       "      <th>1</th>\n",
       "      <td>Long Term</td>\n",
       "      <td>1.0</td>\n",
       "    </tr>\n",
       "    <tr>\n",
       "      <th>2</th>\n",
       "      <td>Short Term</td>\n",
       "      <td>0.0</td>\n",
       "    </tr>\n",
       "    <tr>\n",
       "      <th>3</th>\n",
       "      <td>Short Term</td>\n",
       "      <td>0.0</td>\n",
       "    </tr>\n",
       "    <tr>\n",
       "      <th>4</th>\n",
       "      <td>Short Term</td>\n",
       "      <td>0.0</td>\n",
       "    </tr>\n",
       "    <tr>\n",
       "      <th>...</th>\n",
       "      <td>...</td>\n",
       "      <td>...</td>\n",
       "    </tr>\n",
       "    <tr>\n",
       "      <th>60799</th>\n",
       "      <td>Short Term</td>\n",
       "      <td>0.0</td>\n",
       "    </tr>\n",
       "    <tr>\n",
       "      <th>60800</th>\n",
       "      <td>Short Term</td>\n",
       "      <td>0.0</td>\n",
       "    </tr>\n",
       "    <tr>\n",
       "      <th>60801</th>\n",
       "      <td>Short Term</td>\n",
       "      <td>0.0</td>\n",
       "    </tr>\n",
       "    <tr>\n",
       "      <th>60802</th>\n",
       "      <td>Short Term</td>\n",
       "      <td>0.0</td>\n",
       "    </tr>\n",
       "    <tr>\n",
       "      <th>60803</th>\n",
       "      <td>Short Term</td>\n",
       "      <td>0.0</td>\n",
       "    </tr>\n",
       "  </tbody>\n",
       "</table>\n",
       "<p>60804 rows × 2 columns</p>\n",
       "</div>"
      ],
      "text/plain": [
       "             Term  ter_enc\n",
       "0      Short Term      0.0\n",
       "1       Long Term      1.0\n",
       "2      Short Term      0.0\n",
       "3      Short Term      0.0\n",
       "4      Short Term      0.0\n",
       "...           ...      ...\n",
       "60799  Short Term      0.0\n",
       "60800  Short Term      0.0\n",
       "60801  Short Term      0.0\n",
       "60802  Short Term      0.0\n",
       "60803  Short Term      0.0\n",
       "\n",
       "[60804 rows x 2 columns]"
      ]
     },
     "execution_count": 9,
     "metadata": {},
     "output_type": "execute_result"
    }
   ],
   "source": [
    "df_train[['Term', 'ter_enc']]"
   ]
  },
  {
   "cell_type": "markdown",
   "metadata": {},
   "source": [
    "## 1) Encoding campo Years.in.current.job"
   ]
  },
  {
   "cell_type": "markdown",
   "metadata": {},
   "source": [
    "1) Yrs in current jobs\n",
    "\n",
    "FEITO: STRINGS CONVERTIDAS P/ INTEIROS DE 0 A 10 SENDO 'less than  1 year' E '10+ years' RESPECTIVAMENTE\n",
    "NO CAMPO NOVO 'yicj_enc', OS NANS DEVERAO SUMIR APOS O DATA CLEANING\n",
    "\n",
    "OBSERVACAO: VALORES NULOS PRECISAM SER SUBSTITUIDOS POR 0"
   ]
  },
  {
   "cell_type": "code",
   "execution_count": 10,
   "metadata": {
    "scrolled": true
   },
   "outputs": [
    {
     "data": {
      "text/plain": [
       "array(['6 years', 'less than  1 year', '4 years', '10+ years', '5 years',\n",
       "       '3 years', '8 years', '1 year', '2 years', '9 years', '7 years',\n",
       "       nan], dtype=object)"
      ]
     },
     "execution_count": 10,
     "metadata": {},
     "output_type": "execute_result"
    }
   ],
   "source": [
    "df_train['Years.in.current.job'].unique()"
   ]
  },
  {
   "cell_type": "code",
   "execution_count": 11,
   "metadata": {},
   "outputs": [],
   "source": [
    "# FUNCTION UTILS -- Feito\n",
    "\n",
    "df_train['yicj_enc'] = df_train['Years.in.current.job'].map({'less than 1 year': 0,\n",
    "                                                             '1 year': 1,\n",
    "                                                             '2 years': 2,\n",
    "                                                             '3 years': 3,\n",
    "                                                             '4 years': 4,\n",
    "                                                             '5 years': 5,\n",
    "                                                             '6 years': 6,\n",
    "                                                             '7 years': 7,\n",
    "                                                             '8 years': 8,\n",
    "                                                             '9 years': 9,\n",
    "                                                             '10+ years': 10})"
   ]
  },
  {
   "cell_type": "code",
   "execution_count": 12,
   "metadata": {},
   "outputs": [
    {
     "data": {
      "text/plain": [
       "array([ 6., nan,  4., 10.,  5.,  3.,  8.,  1.,  2.,  9.,  7.])"
      ]
     },
     "execution_count": 12,
     "metadata": {},
     "output_type": "execute_result"
    }
   ],
   "source": [
    "df_train['yicj_enc'].unique()"
   ]
  },
  {
   "cell_type": "code",
   "execution_count": 13,
   "metadata": {
    "scrolled": false
   },
   "outputs": [
    {
     "data": {
      "text/html": [
       "<div>\n",
       "<style scoped>\n",
       "    .dataframe tbody tr th:only-of-type {\n",
       "        vertical-align: middle;\n",
       "    }\n",
       "\n",
       "    .dataframe tbody tr th {\n",
       "        vertical-align: top;\n",
       "    }\n",
       "\n",
       "    .dataframe thead th {\n",
       "        text-align: right;\n",
       "    }\n",
       "</style>\n",
       "<table border=\"1\" class=\"dataframe\">\n",
       "  <thead>\n",
       "    <tr style=\"text-align: right;\">\n",
       "      <th></th>\n",
       "      <th>Years.in.current.job</th>\n",
       "      <th>yicj_enc</th>\n",
       "    </tr>\n",
       "  </thead>\n",
       "  <tbody>\n",
       "    <tr>\n",
       "      <th>0</th>\n",
       "      <td>6 years</td>\n",
       "      <td>6.0</td>\n",
       "    </tr>\n",
       "    <tr>\n",
       "      <th>1</th>\n",
       "      <td>6 years</td>\n",
       "      <td>6.0</td>\n",
       "    </tr>\n",
       "    <tr>\n",
       "      <th>2</th>\n",
       "      <td>less than  1 year</td>\n",
       "      <td>NaN</td>\n",
       "    </tr>\n",
       "    <tr>\n",
       "      <th>3</th>\n",
       "      <td>4 years</td>\n",
       "      <td>4.0</td>\n",
       "    </tr>\n",
       "    <tr>\n",
       "      <th>4</th>\n",
       "      <td>10+ years</td>\n",
       "      <td>10.0</td>\n",
       "    </tr>\n",
       "    <tr>\n",
       "      <th>...</th>\n",
       "      <td>...</td>\n",
       "      <td>...</td>\n",
       "    </tr>\n",
       "    <tr>\n",
       "      <th>60799</th>\n",
       "      <td>3 years</td>\n",
       "      <td>3.0</td>\n",
       "    </tr>\n",
       "    <tr>\n",
       "      <th>60800</th>\n",
       "      <td>3 years</td>\n",
       "      <td>3.0</td>\n",
       "    </tr>\n",
       "    <tr>\n",
       "      <th>60801</th>\n",
       "      <td>5 years</td>\n",
       "      <td>5.0</td>\n",
       "    </tr>\n",
       "    <tr>\n",
       "      <th>60802</th>\n",
       "      <td>9 years</td>\n",
       "      <td>9.0</td>\n",
       "    </tr>\n",
       "    <tr>\n",
       "      <th>60803</th>\n",
       "      <td>8 years</td>\n",
       "      <td>8.0</td>\n",
       "    </tr>\n",
       "  </tbody>\n",
       "</table>\n",
       "<p>60804 rows × 2 columns</p>\n",
       "</div>"
      ],
      "text/plain": [
       "      Years.in.current.job  yicj_enc\n",
       "0                  6 years       6.0\n",
       "1                  6 years       6.0\n",
       "2        less than  1 year       NaN\n",
       "3                  4 years       4.0\n",
       "4                10+ years      10.0\n",
       "...                    ...       ...\n",
       "60799              3 years       3.0\n",
       "60800              3 years       3.0\n",
       "60801              5 years       5.0\n",
       "60802              9 years       9.0\n",
       "60803              8 years       8.0\n",
       "\n",
       "[60804 rows x 2 columns]"
      ]
     },
     "execution_count": 13,
     "metadata": {},
     "output_type": "execute_result"
    }
   ],
   "source": [
    "df_train[['Years.in.current.job', 'yicj_enc']]"
   ]
  },
  {
   "cell_type": "markdown",
   "metadata": {},
   "source": [
    "## 9) Encoding campo Purpose"
   ]
  },
  {
   "cell_type": "markdown",
   "metadata": {},
   "source": [
    "9) Tipo de credito:\n",
    "   a) Debt consolidation\n",
    "   b) Home improvement\n",
    "   c) Business loan\n",
    "   d) Buy a car\n",
    "   e) Medical bills\n",
    "   f) Buy a house\n",
    "   g) Others (juntar other + Other + o que sobrou, como moving, etc)\n",
    "\n",
    "FEITO: CATEGORIAS ALTERADAS NO CAMPO NOVO 'pur_alt'\n",
    "\n",
    "FEITO POREM NAO ESTA NO ESCOPO: STRINGS CONVERTIDAS P/ FEATURES BINÁRIAS NOS CAMPOS NOVOS\n",
    "'pur_e_Debt Consolidation', 'pur_e_Medical Bills', 'pur_e_Home Improvements',\n",
    "'pur_e_Other', 'pur_e_Business Loan', 'pur_e_Buy House', 'pur_e_Buy a Car'"
   ]
  },
  {
   "cell_type": "code",
   "execution_count": 14,
   "metadata": {},
   "outputs": [
    {
     "data": {
      "text/plain": [
       "array(['Debt Consolidation', 'Medical Bills', 'Home Improvements',\n",
       "       'other', 'Business Loan', 'moving', 'small_business', 'Buy House',\n",
       "       'Buy a Car', 'Take a Trip', 'Other', 'major_purchase', 'wedding',\n",
       "       'Educational Expenses', 'vacation', 'renewable_energy'],\n",
       "      dtype=object)"
      ]
     },
     "execution_count": 14,
     "metadata": {},
     "output_type": "execute_result"
    }
   ],
   "source": [
    "df_train['Purpose'].unique()"
   ]
  },
  {
   "cell_type": "code",
   "execution_count": 15,
   "metadata": {},
   "outputs": [
    {
     "data": {
      "text/plain": [
       "Debt Consolidation      47888\n",
       "other                    3653\n",
       "Home Improvements        3535\n",
       "Other                    1975\n",
       "Business Loan             910\n",
       "Buy a Car                 765\n",
       "Medical Bills             695\n",
       "Buy House                 420\n",
       "Take a Trip               296\n",
       "major_purchase            213\n",
       "small_business            170\n",
       "moving                     83\n",
       "Educational Expenses       70\n",
       "vacation                   65\n",
       "wedding                    64\n",
       "renewable_energy            2\n",
       "Name: Purpose, dtype: int64"
      ]
     },
     "execution_count": 15,
     "metadata": {},
     "output_type": "execute_result"
    }
   ],
   "source": [
    "df_train['Purpose'].value_counts()"
   ]
  },
  {
   "cell_type": "code",
   "execution_count": 16,
   "metadata": {},
   "outputs": [],
   "source": [
    "# FUNCTION UTILS -- Feito\n",
    "\n",
    "pur_cat_oth = ['other', 'moving', 'small_business', 'Take a Trip', 'major_purchase',\n",
    "               'wedding', 'Educational Expenses', 'vacation', 'renewable_energy']\n",
    "\n",
    "df_train['pur_alt'] = df_train['Purpose']\n",
    "\n",
    "for cat_oth in pur_cat_oth:\n",
    "    df_train.loc[df_train['pur_alt'] == cat_oth, 'pur_alt'] = 'Other'"
   ]
  },
  {
   "cell_type": "code",
   "execution_count": 17,
   "metadata": {},
   "outputs": [
    {
     "data": {
      "text/plain": [
       "array(['Debt Consolidation', 'Medical Bills', 'Home Improvements',\n",
       "       'Other', 'Business Loan', 'Buy House', 'Buy a Car'], dtype=object)"
      ]
     },
     "execution_count": 17,
     "metadata": {},
     "output_type": "execute_result"
    }
   ],
   "source": [
    "df_train['pur_alt'].unique()"
   ]
  },
  {
   "cell_type": "code",
   "execution_count": 18,
   "metadata": {},
   "outputs": [
    {
     "data": {
      "text/plain": [
       "Debt Consolidation    47888\n",
       "Other                  6591\n",
       "Home Improvements      3535\n",
       "Business Loan           910\n",
       "Buy a Car               765\n",
       "Medical Bills           695\n",
       "Buy House               420\n",
       "Name: pur_alt, dtype: int64"
      ]
     },
     "execution_count": 18,
     "metadata": {},
     "output_type": "execute_result"
    }
   ],
   "source": [
    "df_train['pur_alt'].value_counts()"
   ]
  },
  {
   "cell_type": "code",
   "execution_count": 19,
   "metadata": {
    "scrolled": false
   },
   "outputs": [
    {
     "data": {
      "text/html": [
       "<div>\n",
       "<style scoped>\n",
       "    .dataframe tbody tr th:only-of-type {\n",
       "        vertical-align: middle;\n",
       "    }\n",
       "\n",
       "    .dataframe tbody tr th {\n",
       "        vertical-align: top;\n",
       "    }\n",
       "\n",
       "    .dataframe thead th {\n",
       "        text-align: right;\n",
       "    }\n",
       "</style>\n",
       "<table border=\"1\" class=\"dataframe\">\n",
       "  <thead>\n",
       "    <tr style=\"text-align: right;\">\n",
       "      <th></th>\n",
       "      <th>Purpose</th>\n",
       "      <th>pur_alt</th>\n",
       "    </tr>\n",
       "  </thead>\n",
       "  <tbody>\n",
       "    <tr>\n",
       "      <th>6</th>\n",
       "      <td>other</td>\n",
       "      <td>Other</td>\n",
       "    </tr>\n",
       "    <tr>\n",
       "      <th>8</th>\n",
       "      <td>other</td>\n",
       "      <td>Other</td>\n",
       "    </tr>\n",
       "    <tr>\n",
       "      <th>11</th>\n",
       "      <td>other</td>\n",
       "      <td>Other</td>\n",
       "    </tr>\n",
       "    <tr>\n",
       "      <th>19</th>\n",
       "      <td>moving</td>\n",
       "      <td>Other</td>\n",
       "    </tr>\n",
       "    <tr>\n",
       "      <th>21</th>\n",
       "      <td>other</td>\n",
       "      <td>Other</td>\n",
       "    </tr>\n",
       "    <tr>\n",
       "      <th>...</th>\n",
       "      <td>...</td>\n",
       "      <td>...</td>\n",
       "    </tr>\n",
       "    <tr>\n",
       "      <th>60747</th>\n",
       "      <td>other</td>\n",
       "      <td>Other</td>\n",
       "    </tr>\n",
       "    <tr>\n",
       "      <th>60755</th>\n",
       "      <td>other</td>\n",
       "      <td>Other</td>\n",
       "    </tr>\n",
       "    <tr>\n",
       "      <th>60763</th>\n",
       "      <td>other</td>\n",
       "      <td>Other</td>\n",
       "    </tr>\n",
       "    <tr>\n",
       "      <th>60766</th>\n",
       "      <td>other</td>\n",
       "      <td>Other</td>\n",
       "    </tr>\n",
       "    <tr>\n",
       "      <th>60778</th>\n",
       "      <td>other</td>\n",
       "      <td>Other</td>\n",
       "    </tr>\n",
       "  </tbody>\n",
       "</table>\n",
       "<p>6591 rows × 2 columns</p>\n",
       "</div>"
      ],
      "text/plain": [
       "      Purpose pur_alt\n",
       "6       other   Other\n",
       "8       other   Other\n",
       "11      other   Other\n",
       "19     moving   Other\n",
       "21      other   Other\n",
       "...       ...     ...\n",
       "60747   other   Other\n",
       "60755   other   Other\n",
       "60763   other   Other\n",
       "60766   other   Other\n",
       "60778   other   Other\n",
       "\n",
       "[6591 rows x 2 columns]"
      ]
     },
     "execution_count": 19,
     "metadata": {},
     "output_type": "execute_result"
    }
   ],
   "source": [
    "df_train.loc[df_train['pur_alt'] == 'Other', ['Purpose', 'pur_alt']]"
   ]
  },
  {
   "cell_type": "code",
   "execution_count": 20,
   "metadata": {},
   "outputs": [
    {
     "data": {
      "text/plain": [
       "[array(['Business Loan', 'Buy House', 'Buy a Car', 'Debt Consolidation',\n",
       "        'Home Improvements', 'Medical Bills', 'Other'], dtype=object)]"
      ]
     },
     "execution_count": 20,
     "metadata": {},
     "output_type": "execute_result"
    }
   ],
   "source": [
    "# PIPELINE - nao feito\n",
    "\n",
    "# NÃO ESTÁ NO ESCOPO DA MARIAM FAZER ESTE ENCODING!!!\n",
    "\n",
    "ohe_pur = OneHotEncoder(sparse = False)\n",
    "pur_encoded = ohe_pur.fit_transform(df_train[['pur_alt']])\n",
    "df_train['pur_e_' + ohe_pur.categories_[0]] = pur_encoded\n",
    "ohe_pur.categories_"
   ]
  },
  {
   "cell_type": "code",
   "execution_count": 21,
   "metadata": {},
   "outputs": [
    {
     "data": {
      "text/html": [
       "<div>\n",
       "<style scoped>\n",
       "    .dataframe tbody tr th:only-of-type {\n",
       "        vertical-align: middle;\n",
       "    }\n",
       "\n",
       "    .dataframe tbody tr th {\n",
       "        vertical-align: top;\n",
       "    }\n",
       "\n",
       "    .dataframe thead th {\n",
       "        text-align: right;\n",
       "    }\n",
       "</style>\n",
       "<table border=\"1\" class=\"dataframe\">\n",
       "  <thead>\n",
       "    <tr style=\"text-align: right;\">\n",
       "      <th></th>\n",
       "      <th>Purpose</th>\n",
       "      <th>pur_alt</th>\n",
       "      <th>pur_e_Debt Consolidation</th>\n",
       "      <th>pur_e_Medical Bills</th>\n",
       "      <th>pur_e_Home Improvements</th>\n",
       "      <th>pur_e_Other</th>\n",
       "      <th>pur_e_Business Loan</th>\n",
       "      <th>pur_e_Buy House</th>\n",
       "      <th>pur_e_Buy a Car</th>\n",
       "    </tr>\n",
       "  </thead>\n",
       "  <tbody>\n",
       "    <tr>\n",
       "      <th>0</th>\n",
       "      <td>Debt Consolidation</td>\n",
       "      <td>Debt Consolidation</td>\n",
       "      <td>1.0</td>\n",
       "      <td>0.0</td>\n",
       "      <td>0.0</td>\n",
       "      <td>0.0</td>\n",
       "      <td>0.0</td>\n",
       "      <td>0.0</td>\n",
       "      <td>0.0</td>\n",
       "    </tr>\n",
       "    <tr>\n",
       "      <th>1</th>\n",
       "      <td>Debt Consolidation</td>\n",
       "      <td>Debt Consolidation</td>\n",
       "      <td>1.0</td>\n",
       "      <td>0.0</td>\n",
       "      <td>0.0</td>\n",
       "      <td>0.0</td>\n",
       "      <td>0.0</td>\n",
       "      <td>0.0</td>\n",
       "      <td>0.0</td>\n",
       "    </tr>\n",
       "    <tr>\n",
       "      <th>2</th>\n",
       "      <td>Medical Bills</td>\n",
       "      <td>Medical Bills</td>\n",
       "      <td>0.0</td>\n",
       "      <td>1.0</td>\n",
       "      <td>0.0</td>\n",
       "      <td>0.0</td>\n",
       "      <td>0.0</td>\n",
       "      <td>0.0</td>\n",
       "      <td>0.0</td>\n",
       "    </tr>\n",
       "    <tr>\n",
       "      <th>3</th>\n",
       "      <td>Debt Consolidation</td>\n",
       "      <td>Debt Consolidation</td>\n",
       "      <td>1.0</td>\n",
       "      <td>0.0</td>\n",
       "      <td>0.0</td>\n",
       "      <td>0.0</td>\n",
       "      <td>0.0</td>\n",
       "      <td>0.0</td>\n",
       "      <td>0.0</td>\n",
       "    </tr>\n",
       "    <tr>\n",
       "      <th>4</th>\n",
       "      <td>Home Improvements</td>\n",
       "      <td>Home Improvements</td>\n",
       "      <td>0.0</td>\n",
       "      <td>0.0</td>\n",
       "      <td>1.0</td>\n",
       "      <td>0.0</td>\n",
       "      <td>0.0</td>\n",
       "      <td>0.0</td>\n",
       "      <td>0.0</td>\n",
       "    </tr>\n",
       "    <tr>\n",
       "      <th>...</th>\n",
       "      <td>...</td>\n",
       "      <td>...</td>\n",
       "      <td>...</td>\n",
       "      <td>...</td>\n",
       "      <td>...</td>\n",
       "      <td>...</td>\n",
       "      <td>...</td>\n",
       "      <td>...</td>\n",
       "      <td>...</td>\n",
       "    </tr>\n",
       "    <tr>\n",
       "      <th>60799</th>\n",
       "      <td>Business Loan</td>\n",
       "      <td>Business Loan</td>\n",
       "      <td>0.0</td>\n",
       "      <td>0.0</td>\n",
       "      <td>0.0</td>\n",
       "      <td>0.0</td>\n",
       "      <td>1.0</td>\n",
       "      <td>0.0</td>\n",
       "      <td>0.0</td>\n",
       "    </tr>\n",
       "    <tr>\n",
       "      <th>60800</th>\n",
       "      <td>Debt Consolidation</td>\n",
       "      <td>Debt Consolidation</td>\n",
       "      <td>1.0</td>\n",
       "      <td>0.0</td>\n",
       "      <td>0.0</td>\n",
       "      <td>0.0</td>\n",
       "      <td>0.0</td>\n",
       "      <td>0.0</td>\n",
       "      <td>0.0</td>\n",
       "    </tr>\n",
       "    <tr>\n",
       "      <th>60801</th>\n",
       "      <td>Buy a Car</td>\n",
       "      <td>Buy a Car</td>\n",
       "      <td>0.0</td>\n",
       "      <td>0.0</td>\n",
       "      <td>0.0</td>\n",
       "      <td>0.0</td>\n",
       "      <td>0.0</td>\n",
       "      <td>0.0</td>\n",
       "      <td>1.0</td>\n",
       "    </tr>\n",
       "    <tr>\n",
       "      <th>60802</th>\n",
       "      <td>Debt Consolidation</td>\n",
       "      <td>Debt Consolidation</td>\n",
       "      <td>1.0</td>\n",
       "      <td>0.0</td>\n",
       "      <td>0.0</td>\n",
       "      <td>0.0</td>\n",
       "      <td>0.0</td>\n",
       "      <td>0.0</td>\n",
       "      <td>0.0</td>\n",
       "    </tr>\n",
       "    <tr>\n",
       "      <th>60803</th>\n",
       "      <td>Debt Consolidation</td>\n",
       "      <td>Debt Consolidation</td>\n",
       "      <td>1.0</td>\n",
       "      <td>0.0</td>\n",
       "      <td>0.0</td>\n",
       "      <td>0.0</td>\n",
       "      <td>0.0</td>\n",
       "      <td>0.0</td>\n",
       "      <td>0.0</td>\n",
       "    </tr>\n",
       "  </tbody>\n",
       "</table>\n",
       "<p>60804 rows × 9 columns</p>\n",
       "</div>"
      ],
      "text/plain": [
       "                  Purpose             pur_alt  pur_e_Debt Consolidation  \\\n",
       "0      Debt Consolidation  Debt Consolidation                       1.0   \n",
       "1      Debt Consolidation  Debt Consolidation                       1.0   \n",
       "2           Medical Bills       Medical Bills                       0.0   \n",
       "3      Debt Consolidation  Debt Consolidation                       1.0   \n",
       "4       Home Improvements   Home Improvements                       0.0   \n",
       "...                   ...                 ...                       ...   \n",
       "60799       Business Loan       Business Loan                       0.0   \n",
       "60800  Debt Consolidation  Debt Consolidation                       1.0   \n",
       "60801           Buy a Car           Buy a Car                       0.0   \n",
       "60802  Debt Consolidation  Debt Consolidation                       1.0   \n",
       "60803  Debt Consolidation  Debt Consolidation                       1.0   \n",
       "\n",
       "       pur_e_Medical Bills  pur_e_Home Improvements  pur_e_Other  \\\n",
       "0                      0.0                      0.0          0.0   \n",
       "1                      0.0                      0.0          0.0   \n",
       "2                      1.0                      0.0          0.0   \n",
       "3                      0.0                      0.0          0.0   \n",
       "4                      0.0                      1.0          0.0   \n",
       "...                    ...                      ...          ...   \n",
       "60799                  0.0                      0.0          0.0   \n",
       "60800                  0.0                      0.0          0.0   \n",
       "60801                  0.0                      0.0          0.0   \n",
       "60802                  0.0                      0.0          0.0   \n",
       "60803                  0.0                      0.0          0.0   \n",
       "\n",
       "       pur_e_Business Loan  pur_e_Buy House  pur_e_Buy a Car  \n",
       "0                      0.0              0.0              0.0  \n",
       "1                      0.0              0.0              0.0  \n",
       "2                      0.0              0.0              0.0  \n",
       "3                      0.0              0.0              0.0  \n",
       "4                      0.0              0.0              0.0  \n",
       "...                    ...              ...              ...  \n",
       "60799                  1.0              0.0              0.0  \n",
       "60800                  0.0              0.0              0.0  \n",
       "60801                  0.0              0.0              1.0  \n",
       "60802                  0.0              0.0              0.0  \n",
       "60803                  0.0              0.0              0.0  \n",
       "\n",
       "[60804 rows x 9 columns]"
      ]
     },
     "execution_count": 21,
     "metadata": {},
     "output_type": "execute_result"
    }
   ],
   "source": [
    "df_train[['Purpose', 'pur_alt', 'pur_e_Debt Consolidation', 'pur_e_Medical Bills', 'pur_e_Home Improvements',\n",
    "          'pur_e_Other', 'pur_e_Business Loan', 'pur_e_Buy House', 'pur_e_Buy a Car']]"
   ]
  },
  {
   "cell_type": "markdown",
   "metadata": {},
   "source": [
    "## 2) Encoding campo Current.Loan.Amount / Annual.Income"
   ]
  },
  {
   "cell_type": "markdown",
   "metadata": {},
   "source": [
    "2) Current loan amount / annual income: ???\n",
    "\n",
    "NADA FOI FEITO CONFORME ACORDADO COM A MARIAM"
   ]
  },
  {
   "cell_type": "markdown",
   "metadata": {},
   "source": [
    "## 3) Encoding campo Tax.Liens"
   ]
  },
  {
   "cell_type": "markdown",
   "metadata": {},
   "source": [
    "3) Tax linens: 0 or 1\n",
    "\n",
    "FEITO: TL==0 = 0 E TL>=1 = 1 NO CAMPO NOVO 'tl_enc'\n",
    "\n",
    "OBSERVACAO: VALORES NULOS PRECISAM SER SUBSTITUIDOS POR 0"
   ]
  },
  {
   "cell_type": "code",
   "execution_count": 22,
   "metadata": {},
   "outputs": [
    {
     "data": {
      "text/plain": [
       "array([ 0.,  1.,  4.,  2., nan,  3.,  5., 15.,  6.,  7., 10.,  9., 11.])"
      ]
     },
     "execution_count": 22,
     "metadata": {},
     "output_type": "execute_result"
    }
   ],
   "source": [
    "df_train['Tax.Liens'].unique()"
   ]
  },
  {
   "cell_type": "code",
   "execution_count": 23,
   "metadata": {},
   "outputs": [],
   "source": [
    "# FUNCTION UTILS -- feito\n",
    "\n",
    "def encode_tl(x):\n",
    "    if x == 0:\n",
    "        x_enc = 0\n",
    "    else:\n",
    "        x_enc = 1\n",
    "    return x_enc\n",
    "\n",
    "df_train['tl_enc'] = df_train['Tax.Liens'].map(encode_tl)"
   ]
  },
  {
   "cell_type": "code",
   "execution_count": 24,
   "metadata": {},
   "outputs": [
    {
     "data": {
      "text/plain": [
       "array([0, 1], dtype=int64)"
      ]
     },
     "execution_count": 24,
     "metadata": {},
     "output_type": "execute_result"
    }
   ],
   "source": [
    "df_train['tl_enc'].unique()"
   ]
  },
  {
   "cell_type": "code",
   "execution_count": 25,
   "metadata": {
    "scrolled": false
   },
   "outputs": [
    {
     "data": {
      "text/html": [
       "<div>\n",
       "<style scoped>\n",
       "    .dataframe tbody tr th:only-of-type {\n",
       "        vertical-align: middle;\n",
       "    }\n",
       "\n",
       "    .dataframe tbody tr th {\n",
       "        vertical-align: top;\n",
       "    }\n",
       "\n",
       "    .dataframe thead th {\n",
       "        text-align: right;\n",
       "    }\n",
       "</style>\n",
       "<table border=\"1\" class=\"dataframe\">\n",
       "  <thead>\n",
       "    <tr style=\"text-align: right;\">\n",
       "      <th></th>\n",
       "      <th>Tax.Liens</th>\n",
       "      <th>tl_enc</th>\n",
       "    </tr>\n",
       "  </thead>\n",
       "  <tbody>\n",
       "    <tr>\n",
       "      <th>0</th>\n",
       "      <td>0.0</td>\n",
       "      <td>0</td>\n",
       "    </tr>\n",
       "    <tr>\n",
       "      <th>1</th>\n",
       "      <td>0.0</td>\n",
       "      <td>0</td>\n",
       "    </tr>\n",
       "    <tr>\n",
       "      <th>2</th>\n",
       "      <td>0.0</td>\n",
       "      <td>0</td>\n",
       "    </tr>\n",
       "    <tr>\n",
       "      <th>3</th>\n",
       "      <td>0.0</td>\n",
       "      <td>0</td>\n",
       "    </tr>\n",
       "    <tr>\n",
       "      <th>4</th>\n",
       "      <td>0.0</td>\n",
       "      <td>0</td>\n",
       "    </tr>\n",
       "    <tr>\n",
       "      <th>...</th>\n",
       "      <td>...</td>\n",
       "      <td>...</td>\n",
       "    </tr>\n",
       "    <tr>\n",
       "      <th>60799</th>\n",
       "      <td>0.0</td>\n",
       "      <td>0</td>\n",
       "    </tr>\n",
       "    <tr>\n",
       "      <th>60800</th>\n",
       "      <td>0.0</td>\n",
       "      <td>0</td>\n",
       "    </tr>\n",
       "    <tr>\n",
       "      <th>60801</th>\n",
       "      <td>0.0</td>\n",
       "      <td>0</td>\n",
       "    </tr>\n",
       "    <tr>\n",
       "      <th>60802</th>\n",
       "      <td>0.0</td>\n",
       "      <td>0</td>\n",
       "    </tr>\n",
       "    <tr>\n",
       "      <th>60803</th>\n",
       "      <td>0.0</td>\n",
       "      <td>0</td>\n",
       "    </tr>\n",
       "  </tbody>\n",
       "</table>\n",
       "<p>60804 rows × 2 columns</p>\n",
       "</div>"
      ],
      "text/plain": [
       "       Tax.Liens  tl_enc\n",
       "0            0.0       0\n",
       "1            0.0       0\n",
       "2            0.0       0\n",
       "3            0.0       0\n",
       "4            0.0       0\n",
       "...          ...     ...\n",
       "60799        0.0       0\n",
       "60800        0.0       0\n",
       "60801        0.0       0\n",
       "60802        0.0       0\n",
       "60803        0.0       0\n",
       "\n",
       "[60804 rows x 2 columns]"
      ]
     },
     "execution_count": 25,
     "metadata": {},
     "output_type": "execute_result"
    }
   ],
   "source": [
    "df_train[['Tax.Liens', 'tl_enc']]"
   ]
  },
  {
   "cell_type": "markdown",
   "metadata": {},
   "source": [
    "## 4) Feature Engineering campo leverage (alavancagem)"
   ]
  },
  {
   "cell_type": "markdown",
   "metadata": {},
   "source": [
    "4) Medida de alavancagem (leverage): Annual debt (monthly debt * 12) / annual income\n",
    "--> criar buckets? Ou deixar numero e fazer scaling\n",
    "\n",
    "FEITO: ALAVANCAGEM CALCULADA NO CAMPO NOVO 'leverage'\n",
    "\n",
    "OBSERVACAO: REGISTROS COM VALORES NULOS NO CAMPO 'Annual.Income' PRECISAM SER SUBSTITUIDOS ELIMINADOS"
   ]
  },
  {
   "cell_type": "code",
   "execution_count": 26,
   "metadata": {},
   "outputs": [
    {
     "data": {
      "text/plain": [
       "Monthly.Debt         0\n",
       "Annual.Income    12229\n",
       "dtype: int64"
      ]
     },
     "execution_count": 26,
     "metadata": {},
     "output_type": "execute_result"
    }
   ],
   "source": [
    "df_train[['Monthly.Debt', 'Annual.Income']].isnull().sum()"
   ]
  },
  {
   "cell_type": "code",
   "execution_count": 27,
   "metadata": {},
   "outputs": [],
   "source": [
    "# ENCODER - feito na funcao leverage\n",
    "\n",
    "df_train['leverage'] = (df_train['Monthly.Debt'] * 12) / df_train['Annual.Income']"
   ]
  },
  {
   "cell_type": "code",
   "execution_count": 28,
   "metadata": {
    "scrolled": false
   },
   "outputs": [
    {
     "data": {
      "text/html": [
       "<div>\n",
       "<style scoped>\n",
       "    .dataframe tbody tr th:only-of-type {\n",
       "        vertical-align: middle;\n",
       "    }\n",
       "\n",
       "    .dataframe tbody tr th {\n",
       "        vertical-align: top;\n",
       "    }\n",
       "\n",
       "    .dataframe thead th {\n",
       "        text-align: right;\n",
       "    }\n",
       "</style>\n",
       "<table border=\"1\" class=\"dataframe\">\n",
       "  <thead>\n",
       "    <tr style=\"text-align: right;\">\n",
       "      <th></th>\n",
       "      <th>Monthly.Debt</th>\n",
       "      <th>Annual.Income</th>\n",
       "      <th>leverage</th>\n",
       "    </tr>\n",
       "  </thead>\n",
       "  <tbody>\n",
       "    <tr>\n",
       "      <th>0</th>\n",
       "      <td>1509.82</td>\n",
       "      <td>95357.0</td>\n",
       "      <td>0.190000</td>\n",
       "    </tr>\n",
       "    <tr>\n",
       "      <th>1</th>\n",
       "      <td>1065.45</td>\n",
       "      <td>54406.0</td>\n",
       "      <td>0.235000</td>\n",
       "    </tr>\n",
       "    <tr>\n",
       "      <th>2</th>\n",
       "      <td>573.47</td>\n",
       "      <td>40480.0</td>\n",
       "      <td>0.170001</td>\n",
       "    </tr>\n",
       "    <tr>\n",
       "      <th>3</th>\n",
       "      <td>1358.11</td>\n",
       "      <td>53965.0</td>\n",
       "      <td>0.301998</td>\n",
       "    </tr>\n",
       "    <tr>\n",
       "      <th>4</th>\n",
       "      <td>339.93</td>\n",
       "      <td>47709.0</td>\n",
       "      <td>0.085501</td>\n",
       "    </tr>\n",
       "    <tr>\n",
       "      <th>...</th>\n",
       "      <td>...</td>\n",
       "      <td>...</td>\n",
       "      <td>...</td>\n",
       "    </tr>\n",
       "    <tr>\n",
       "      <th>60799</th>\n",
       "      <td>128.84</td>\n",
       "      <td>52589.0</td>\n",
       "      <td>0.029399</td>\n",
       "    </tr>\n",
       "    <tr>\n",
       "      <th>60800</th>\n",
       "      <td>782.31</td>\n",
       "      <td>91143.0</td>\n",
       "      <td>0.103000</td>\n",
       "    </tr>\n",
       "    <tr>\n",
       "      <th>60801</th>\n",
       "      <td>156.44</td>\n",
       "      <td>NaN</td>\n",
       "      <td>NaN</td>\n",
       "    </tr>\n",
       "    <tr>\n",
       "      <th>60802</th>\n",
       "      <td>725.73</td>\n",
       "      <td>30450.0</td>\n",
       "      <td>0.286002</td>\n",
       "    </tr>\n",
       "    <tr>\n",
       "      <th>60803</th>\n",
       "      <td>1164.35</td>\n",
       "      <td>42991.0</td>\n",
       "      <td>0.325003</td>\n",
       "    </tr>\n",
       "  </tbody>\n",
       "</table>\n",
       "<p>60804 rows × 3 columns</p>\n",
       "</div>"
      ],
      "text/plain": [
       "       Monthly.Debt  Annual.Income  leverage\n",
       "0           1509.82        95357.0  0.190000\n",
       "1           1065.45        54406.0  0.235000\n",
       "2            573.47        40480.0  0.170001\n",
       "3           1358.11        53965.0  0.301998\n",
       "4            339.93        47709.0  0.085501\n",
       "...             ...            ...       ...\n",
       "60799        128.84        52589.0  0.029399\n",
       "60800        782.31        91143.0  0.103000\n",
       "60801        156.44            NaN       NaN\n",
       "60802        725.73        30450.0  0.286002\n",
       "60803       1164.35        42991.0  0.325003\n",
       "\n",
       "[60804 rows x 3 columns]"
      ]
     },
     "execution_count": 28,
     "metadata": {},
     "output_type": "execute_result"
    }
   ],
   "source": [
    "df_train[['Monthly.Debt', 'Annual.Income', 'leverage']]"
   ]
  },
  {
   "cell_type": "markdown",
   "metadata": {},
   "source": [
    "## 5) Encoding campo Current.Credit.Balance / Maximum.Open.Credit"
   ]
  },
  {
   "cell_type": "markdown",
   "metadata": {},
   "source": [
    "5) Current credit balance / maximum open credit\n",
    "\n",
    "NADA FOI FEITO CONFORME ACORDADO COM A MARIAM"
   ]
  },
  {
   "cell_type": "markdown",
   "metadata": {},
   "source": [
    "## 6) Encoding campo Credit.Score"
   ]
  },
  {
   "cell_type": "markdown",
   "metadata": {},
   "source": [
    "6) Credit score: criar buckets: \n",
    " - Poor (579 and below)\n",
    " - Below Average (580-619)\n",
    " - Average (620-659)\n",
    " - Good (660-719)\n",
    " - Excellent (720 and above)\n",
    "\n",
    "FEITO: CATEGORIAS CRIADAS NO CAMPO NOVO 'cs_enc'\n",
    "\n",
    "OBSERVACAO: REGISTROS COM VALORES NULOS NESTE CAMPO PRECISAM SER SUBSTITUIDOS ELIMINADOS"
   ]
  },
  {
   "cell_type": "code",
   "execution_count": 29,
   "metadata": {},
   "outputs": [
    {
     "data": {
      "text/plain": [
       "12229"
      ]
     },
     "execution_count": 29,
     "metadata": {},
     "output_type": "execute_result"
    }
   ],
   "source": [
    "df_train['Credit.Score'].isnull().sum()"
   ]
  },
  {
   "cell_type": "code",
   "execution_count": 30,
   "metadata": {
    "scrolled": true
   },
   "outputs": [
    {
     "data": {
      "text/plain": [
       "count    48575.000000\n",
       "mean      1104.772331\n",
       "std       1526.402013\n",
       "min        585.000000\n",
       "25%        707.000000\n",
       "50%        726.000000\n",
       "75%        741.000000\n",
       "max       7510.000000\n",
       "Name: Credit.Score, dtype: float64"
      ]
     },
     "execution_count": 30,
     "metadata": {},
     "output_type": "execute_result"
    }
   ],
   "source": [
    "df_train['Credit.Score'].describe()"
   ]
  },
  {
   "cell_type": "code",
   "execution_count": 31,
   "metadata": {},
   "outputs": [],
   "source": [
    "# FUNCTION UTILS -- feito\n",
    "\n",
    "def encode_cs(x):\n",
    "    if x >= 720:\n",
    "        x_enc = 'Excellent'\n",
    "    elif x >= 660:\n",
    "        x_enc = 'Good'\n",
    "    elif x >= 620:\n",
    "        x_enc = 'Average'\n",
    "    elif x >= 580:\n",
    "        x_enc = 'Below Average'\n",
    "    else:\n",
    "        x_enc = 'Poor'\n",
    "    return x_enc\n",
    "\n",
    "df_train['cs_enc'] = df_train['Credit.Score'].map(encode_cs)"
   ]
  },
  {
   "cell_type": "code",
   "execution_count": 32,
   "metadata": {},
   "outputs": [
    {
     "data": {
      "text/plain": [
       "array(['Excellent', 'Below Average', 'Good', 'Poor', 'Average'],\n",
       "      dtype=object)"
      ]
     },
     "execution_count": 32,
     "metadata": {},
     "output_type": "execute_result"
    }
   ],
   "source": [
    "df_train['cs_enc'].unique()"
   ]
  },
  {
   "cell_type": "code",
   "execution_count": 33,
   "metadata": {},
   "outputs": [
    {
     "data": {
      "text/html": [
       "<div>\n",
       "<style scoped>\n",
       "    .dataframe tbody tr th:only-of-type {\n",
       "        vertical-align: middle;\n",
       "    }\n",
       "\n",
       "    .dataframe tbody tr th {\n",
       "        vertical-align: top;\n",
       "    }\n",
       "\n",
       "    .dataframe thead th {\n",
       "        text-align: right;\n",
       "    }\n",
       "</style>\n",
       "<table border=\"1\" class=\"dataframe\">\n",
       "  <thead>\n",
       "    <tr style=\"text-align: right;\">\n",
       "      <th></th>\n",
       "      <th>Credit.Score</th>\n",
       "      <th>cs_enc</th>\n",
       "    </tr>\n",
       "  </thead>\n",
       "  <tbody>\n",
       "    <tr>\n",
       "      <th>0</th>\n",
       "      <td>739.0</td>\n",
       "      <td>Excellent</td>\n",
       "    </tr>\n",
       "    <tr>\n",
       "      <th>1</th>\n",
       "      <td>619.0</td>\n",
       "      <td>Below Average</td>\n",
       "    </tr>\n",
       "    <tr>\n",
       "      <th>2</th>\n",
       "      <td>738.0</td>\n",
       "      <td>Excellent</td>\n",
       "    </tr>\n",
       "    <tr>\n",
       "      <th>3</th>\n",
       "      <td>738.0</td>\n",
       "      <td>Excellent</td>\n",
       "    </tr>\n",
       "    <tr>\n",
       "      <th>4</th>\n",
       "      <td>731.0</td>\n",
       "      <td>Excellent</td>\n",
       "    </tr>\n",
       "    <tr>\n",
       "      <th>...</th>\n",
       "      <td>...</td>\n",
       "      <td>...</td>\n",
       "    </tr>\n",
       "    <tr>\n",
       "      <th>60799</th>\n",
       "      <td>725.0</td>\n",
       "      <td>Excellent</td>\n",
       "    </tr>\n",
       "    <tr>\n",
       "      <th>60800</th>\n",
       "      <td>747.0</td>\n",
       "      <td>Excellent</td>\n",
       "    </tr>\n",
       "    <tr>\n",
       "      <th>60801</th>\n",
       "      <td>NaN</td>\n",
       "      <td>Poor</td>\n",
       "    </tr>\n",
       "    <tr>\n",
       "      <th>60802</th>\n",
       "      <td>744.0</td>\n",
       "      <td>Excellent</td>\n",
       "    </tr>\n",
       "    <tr>\n",
       "      <th>60803</th>\n",
       "      <td>703.0</td>\n",
       "      <td>Good</td>\n",
       "    </tr>\n",
       "  </tbody>\n",
       "</table>\n",
       "<p>60804 rows × 2 columns</p>\n",
       "</div>"
      ],
      "text/plain": [
       "       Credit.Score         cs_enc\n",
       "0             739.0      Excellent\n",
       "1             619.0  Below Average\n",
       "2             738.0      Excellent\n",
       "3             738.0      Excellent\n",
       "4             731.0      Excellent\n",
       "...             ...            ...\n",
       "60799         725.0      Excellent\n",
       "60800         747.0      Excellent\n",
       "60801           NaN           Poor\n",
       "60802         744.0      Excellent\n",
       "60803         703.0           Good\n",
       "\n",
       "[60804 rows x 2 columns]"
      ]
     },
     "execution_count": 33,
     "metadata": {},
     "output_type": "execute_result"
    }
   ],
   "source": [
    "df_train[['Credit.Score', 'cs_enc']]"
   ]
  },
  {
   "cell_type": "markdown",
   "metadata": {},
   "source": [
    "## 7) Encoding campo Years.of.Credit.History"
   ]
  },
  {
   "cell_type": "markdown",
   "metadata": {},
   "source": [
    "7) Yrs of credit history: criar 4 buckets? (0-10; 10.01-20; 20.01-30; > 30.01)\n",
    "\n",
    "FEITO: CATEGORIAS CRIADAS NO CAMPO NOVO 'yoch_enc'"
   ]
  },
  {
   "cell_type": "code",
   "execution_count": 34,
   "metadata": {},
   "outputs": [
    {
     "data": {
      "text/plain": [
       "0"
      ]
     },
     "execution_count": 34,
     "metadata": {},
     "output_type": "execute_result"
    }
   ],
   "source": [
    "df_train['Years.of.Credit.History'].isnull().sum()"
   ]
  },
  {
   "cell_type": "code",
   "execution_count": 35,
   "metadata": {},
   "outputs": [
    {
     "data": {
      "text/plain": [
       "count    60804.000000\n",
       "mean        18.235654\n",
       "std          7.030016\n",
       "min          3.600000\n",
       "25%         13.500000\n",
       "50%         17.000000\n",
       "75%         21.700000\n",
       "max         60.500000\n",
       "Name: Years.of.Credit.History, dtype: float64"
      ]
     },
     "execution_count": 35,
     "metadata": {},
     "output_type": "execute_result"
    }
   ],
   "source": [
    "df_train['Years.of.Credit.History'].describe()"
   ]
  },
  {
   "cell_type": "code",
   "execution_count": 36,
   "metadata": {},
   "outputs": [],
   "source": [
    "# bins = pd.IntervalIndex.from_tuples([(0, 10), (10.1, 20), (20.1, 30), (30.1, 100)])\n",
    "\n",
    "# df_train['yoch_enc'] = pd.cut(x=df_train['Years.of.Credit.History'],\n",
    "#                               bins=bins,\n",
    "#                               labels=['1', '2', '3', '4'])"
   ]
  },
  {
   "cell_type": "code",
   "execution_count": 37,
   "metadata": {},
   "outputs": [],
   "source": [
    "# FUNCTION UTILS -- feito\n",
    "\n",
    "df_train['yoch_enc'] = pd.cut(x=df_train['Years.of.Credit.History'],\n",
    "                              bins=[-1, 10, 20, 30, 100],\n",
    "                              labels=['0 a 10', '10.1 a 20', '20.1 a 30', '30+'])"
   ]
  },
  {
   "cell_type": "code",
   "execution_count": 38,
   "metadata": {},
   "outputs": [
    {
     "data": {
      "text/plain": [
       "['30+', '10.1 a 20', '20.1 a 30', '0 a 10']\n",
       "Categories (4, object): ['0 a 10' < '10.1 a 20' < '20.1 a 30' < '30+']"
      ]
     },
     "execution_count": 38,
     "metadata": {},
     "output_type": "execute_result"
    }
   ],
   "source": [
    "df_train['yoch_enc'].unique()"
   ]
  },
  {
   "cell_type": "code",
   "execution_count": 39,
   "metadata": {
    "scrolled": false
   },
   "outputs": [
    {
     "data": {
      "text/html": [
       "<div>\n",
       "<style scoped>\n",
       "    .dataframe tbody tr th:only-of-type {\n",
       "        vertical-align: middle;\n",
       "    }\n",
       "\n",
       "    .dataframe tbody tr th {\n",
       "        vertical-align: top;\n",
       "    }\n",
       "\n",
       "    .dataframe thead th {\n",
       "        text-align: right;\n",
       "    }\n",
       "</style>\n",
       "<table border=\"1\" class=\"dataframe\">\n",
       "  <thead>\n",
       "    <tr style=\"text-align: right;\">\n",
       "      <th></th>\n",
       "      <th>Years.of.Credit.History</th>\n",
       "      <th>yoch_enc</th>\n",
       "    </tr>\n",
       "  </thead>\n",
       "  <tbody>\n",
       "    <tr>\n",
       "      <th>0</th>\n",
       "      <td>34.4</td>\n",
       "      <td>30+</td>\n",
       "    </tr>\n",
       "    <tr>\n",
       "      <th>1</th>\n",
       "      <td>12.7</td>\n",
       "      <td>10.1 a 20</td>\n",
       "    </tr>\n",
       "    <tr>\n",
       "      <th>2</th>\n",
       "      <td>32.7</td>\n",
       "      <td>30+</td>\n",
       "    </tr>\n",
       "    <tr>\n",
       "      <th>3</th>\n",
       "      <td>15.8</td>\n",
       "      <td>10.1 a 20</td>\n",
       "    </tr>\n",
       "    <tr>\n",
       "      <th>4</th>\n",
       "      <td>16.1</td>\n",
       "      <td>10.1 a 20</td>\n",
       "    </tr>\n",
       "    <tr>\n",
       "      <th>...</th>\n",
       "      <td>...</td>\n",
       "      <td>...</td>\n",
       "    </tr>\n",
       "    <tr>\n",
       "      <th>60799</th>\n",
       "      <td>14.5</td>\n",
       "      <td>10.1 a 20</td>\n",
       "    </tr>\n",
       "    <tr>\n",
       "      <th>60800</th>\n",
       "      <td>18.0</td>\n",
       "      <td>10.1 a 20</td>\n",
       "    </tr>\n",
       "    <tr>\n",
       "      <th>60801</th>\n",
       "      <td>8.9</td>\n",
       "      <td>0 a 10</td>\n",
       "    </tr>\n",
       "    <tr>\n",
       "      <th>60802</th>\n",
       "      <td>16.0</td>\n",
       "      <td>10.1 a 20</td>\n",
       "    </tr>\n",
       "    <tr>\n",
       "      <th>60803</th>\n",
       "      <td>23.0</td>\n",
       "      <td>20.1 a 30</td>\n",
       "    </tr>\n",
       "  </tbody>\n",
       "</table>\n",
       "<p>60804 rows × 2 columns</p>\n",
       "</div>"
      ],
      "text/plain": [
       "       Years.of.Credit.History   yoch_enc\n",
       "0                         34.4        30+\n",
       "1                         12.7  10.1 a 20\n",
       "2                         32.7        30+\n",
       "3                         15.8  10.1 a 20\n",
       "4                         16.1  10.1 a 20\n",
       "...                        ...        ...\n",
       "60799                     14.5  10.1 a 20\n",
       "60800                     18.0  10.1 a 20\n",
       "60801                      8.9     0 a 10\n",
       "60802                     16.0  10.1 a 20\n",
       "60803                     23.0  20.1 a 30\n",
       "\n",
       "[60804 rows x 2 columns]"
      ]
     },
     "execution_count": 39,
     "metadata": {},
     "output_type": "execute_result"
    }
   ],
   "source": [
    "df_train[['Years.of.Credit.History', 'yoch_enc']]"
   ]
  },
  {
   "cell_type": "markdown",
   "metadata": {},
   "source": [
    "## 8) Encoding campo Bankruptcies"
   ]
  },
  {
   "cell_type": "markdown",
   "metadata": {},
   "source": [
    "8) Bankruptcies: ja decretou falencia? Sim (> = 1) ou nao (0)\n",
    "\n",
    "FEITO: CATEGORIAS CRIADAS NO CAMPO NOVO 'ban_enc'\n",
    "\n",
    "OBSERVACAO: VALORES NULOS PRECISAM SER SUBSTITUIDOS POR 0"
   ]
  },
  {
   "cell_type": "code",
   "execution_count": 40,
   "metadata": {},
   "outputs": [
    {
     "data": {
      "text/plain": [
       "array([ 0.,  1.,  3.,  2., nan,  5.,  4.,  6.])"
      ]
     },
     "execution_count": 40,
     "metadata": {},
     "output_type": "execute_result"
    }
   ],
   "source": [
    "df_train['Bankruptcies'].unique()"
   ]
  },
  {
   "cell_type": "code",
   "execution_count": 41,
   "metadata": {},
   "outputs": [],
   "source": [
    "# FUNCTION UTILS -- feito\n",
    "\n",
    "def encode_ban(x):\n",
    "    if x == 0:\n",
    "        x_enc = 0\n",
    "    else:\n",
    "        x_enc = 1\n",
    "    return x_enc\n",
    "\n",
    "df_train['ban_enc'] = df_train['Bankruptcies'].map(encode_ban)"
   ]
  },
  {
   "cell_type": "code",
   "execution_count": 42,
   "metadata": {},
   "outputs": [
    {
     "data": {
      "text/plain": [
       "array([0, 1], dtype=int64)"
      ]
     },
     "execution_count": 42,
     "metadata": {},
     "output_type": "execute_result"
    }
   ],
   "source": [
    "df_train['ban_enc'].unique()"
   ]
  },
  {
   "cell_type": "code",
   "execution_count": 43,
   "metadata": {},
   "outputs": [
    {
     "data": {
      "text/html": [
       "<div>\n",
       "<style scoped>\n",
       "    .dataframe tbody tr th:only-of-type {\n",
       "        vertical-align: middle;\n",
       "    }\n",
       "\n",
       "    .dataframe tbody tr th {\n",
       "        vertical-align: top;\n",
       "    }\n",
       "\n",
       "    .dataframe thead th {\n",
       "        text-align: right;\n",
       "    }\n",
       "</style>\n",
       "<table border=\"1\" class=\"dataframe\">\n",
       "  <thead>\n",
       "    <tr style=\"text-align: right;\">\n",
       "      <th></th>\n",
       "      <th>Bankruptcies</th>\n",
       "      <th>ban_enc</th>\n",
       "    </tr>\n",
       "  </thead>\n",
       "  <tbody>\n",
       "    <tr>\n",
       "      <th>0</th>\n",
       "      <td>0.0</td>\n",
       "      <td>0</td>\n",
       "    </tr>\n",
       "    <tr>\n",
       "      <th>1</th>\n",
       "      <td>0.0</td>\n",
       "      <td>0</td>\n",
       "    </tr>\n",
       "    <tr>\n",
       "      <th>2</th>\n",
       "      <td>1.0</td>\n",
       "      <td>1</td>\n",
       "    </tr>\n",
       "    <tr>\n",
       "      <th>3</th>\n",
       "      <td>1.0</td>\n",
       "      <td>1</td>\n",
       "    </tr>\n",
       "    <tr>\n",
       "      <th>4</th>\n",
       "      <td>0.0</td>\n",
       "      <td>0</td>\n",
       "    </tr>\n",
       "    <tr>\n",
       "      <th>...</th>\n",
       "      <td>...</td>\n",
       "      <td>...</td>\n",
       "    </tr>\n",
       "    <tr>\n",
       "      <th>60799</th>\n",
       "      <td>0.0</td>\n",
       "      <td>0</td>\n",
       "    </tr>\n",
       "    <tr>\n",
       "      <th>60800</th>\n",
       "      <td>0.0</td>\n",
       "      <td>0</td>\n",
       "    </tr>\n",
       "    <tr>\n",
       "      <th>60801</th>\n",
       "      <td>0.0</td>\n",
       "      <td>0</td>\n",
       "    </tr>\n",
       "    <tr>\n",
       "      <th>60802</th>\n",
       "      <td>1.0</td>\n",
       "      <td>1</td>\n",
       "    </tr>\n",
       "    <tr>\n",
       "      <th>60803</th>\n",
       "      <td>0.0</td>\n",
       "      <td>0</td>\n",
       "    </tr>\n",
       "  </tbody>\n",
       "</table>\n",
       "<p>60804 rows × 2 columns</p>\n",
       "</div>"
      ],
      "text/plain": [
       "       Bankruptcies  ban_enc\n",
       "0               0.0        0\n",
       "1               0.0        0\n",
       "2               1.0        1\n",
       "3               1.0        1\n",
       "4               0.0        0\n",
       "...             ...      ...\n",
       "60799           0.0        0\n",
       "60800           0.0        0\n",
       "60801           0.0        0\n",
       "60802           1.0        1\n",
       "60803           0.0        0\n",
       "\n",
       "[60804 rows x 2 columns]"
      ]
     },
     "execution_count": 43,
     "metadata": {},
     "output_type": "execute_result"
    }
   ],
   "source": [
    "df_train[['Bankruptcies', 'ban_enc']]"
   ]
  },
  {
   "cell_type": "markdown",
   "metadata": {},
   "source": [
    "## 10) Encoding campo Months.since.last.delinquent"
   ]
  },
  {
   "cell_type": "markdown",
   "metadata": {},
   "source": [
    "10. Any delinquency in the past 3 yrs? Dividir meses por 12 --> se o resultado for menor que 3 (0 a 3), resultado eh sim e vira \"1\".  Se for > 3 ou NA, vira \"0\".\n",
    "\n",
    "FEITO: CATEGORIAS CRIADAS NO CAMPO NOVO 'msld_enc'\n",
    "\n",
    "OBSERVACAO: ENTENDI QUE OS VALORES EM BRANCO CORRESPONDEM A NAO EXISTENCIA DE INADIMPLENCIA"
   ]
  },
  {
   "cell_type": "code",
   "execution_count": 44,
   "metadata": {
    "scrolled": true
   },
   "outputs": [
    {
     "data": {
      "text/plain": [
       "32475"
      ]
     },
     "execution_count": 44,
     "metadata": {},
     "output_type": "execute_result"
    }
   ],
   "source": [
    "df_train['Months.since.last.delinquent'].isnull().sum()"
   ]
  },
  {
   "cell_type": "code",
   "execution_count": 45,
   "metadata": {
    "scrolled": false
   },
   "outputs": [
    {
     "data": {
      "text/plain": [
       "count    28329.000000\n",
       "mean        34.859402\n",
       "std         21.976407\n",
       "min          0.000000\n",
       "25%         16.000000\n",
       "50%         32.000000\n",
       "75%         51.000000\n",
       "max        176.000000\n",
       "Name: Months.since.last.delinquent, dtype: float64"
      ]
     },
     "execution_count": 45,
     "metadata": {},
     "output_type": "execute_result"
    }
   ],
   "source": [
    "df_train['Months.since.last.delinquent'].describe()"
   ]
  },
  {
   "cell_type": "code",
   "execution_count": 46,
   "metadata": {},
   "outputs": [],
   "source": [
    "# ENCODE --feito\n",
    "\n",
    "df_train['Months.since.last.delinquent_years'] = df_train['Months.since.last.delinquent'] / 12"
   ]
  },
  {
   "cell_type": "code",
   "execution_count": 47,
   "metadata": {},
   "outputs": [
    {
     "data": {
      "text/plain": [
       "0"
      ]
     },
     "execution_count": 47,
     "metadata": {},
     "output_type": "execute_result"
    }
   ],
   "source": [
    "# CLEAN - feito\n",
    "\n",
    "df_train.loc[df_train['Months.since.last.delinquent_years'].isnull(), 'Months.since.last.delinquent_years'] = 100\n",
    "df_train['Months.since.last.delinquent_years'].isnull().sum()"
   ]
  },
  {
   "cell_type": "code",
   "execution_count": 48,
   "metadata": {},
   "outputs": [],
   "source": [
    "# FUNCTION UTILS -- feito junto com encode\n",
    "\n",
    "def encode_msld(x):\n",
    "    if x <= 3:\n",
    "        return 1\n",
    "    else:\n",
    "        return 0\n",
    "\n",
    "df_train['msld_enc'] = df_train['Months.since.last.delinquent_years'].map(encode_msld)"
   ]
  },
  {
   "cell_type": "code",
   "execution_count": 49,
   "metadata": {},
   "outputs": [
    {
     "data": {
      "text/html": [
       "<div>\n",
       "<style scoped>\n",
       "    .dataframe tbody tr th:only-of-type {\n",
       "        vertical-align: middle;\n",
       "    }\n",
       "\n",
       "    .dataframe tbody tr th {\n",
       "        vertical-align: top;\n",
       "    }\n",
       "\n",
       "    .dataframe thead th {\n",
       "        text-align: right;\n",
       "    }\n",
       "</style>\n",
       "<table border=\"1\" class=\"dataframe\">\n",
       "  <thead>\n",
       "    <tr style=\"text-align: right;\">\n",
       "      <th></th>\n",
       "      <th>Months.since.last.delinquent</th>\n",
       "      <th>Months.since.last.delinquent_years</th>\n",
       "      <th>msld_enc</th>\n",
       "    </tr>\n",
       "  </thead>\n",
       "  <tbody>\n",
       "    <tr>\n",
       "      <th>0</th>\n",
       "      <td>5.0</td>\n",
       "      <td>0.416667</td>\n",
       "      <td>1</td>\n",
       "    </tr>\n",
       "    <tr>\n",
       "      <th>1</th>\n",
       "      <td>NaN</td>\n",
       "      <td>100.000000</td>\n",
       "      <td>0</td>\n",
       "    </tr>\n",
       "    <tr>\n",
       "      <th>2</th>\n",
       "      <td>60.0</td>\n",
       "      <td>5.000000</td>\n",
       "      <td>0</td>\n",
       "    </tr>\n",
       "    <tr>\n",
       "      <th>3</th>\n",
       "      <td>NaN</td>\n",
       "      <td>100.000000</td>\n",
       "      <td>0</td>\n",
       "    </tr>\n",
       "    <tr>\n",
       "      <th>4</th>\n",
       "      <td>47.0</td>\n",
       "      <td>3.916667</td>\n",
       "      <td>0</td>\n",
       "    </tr>\n",
       "    <tr>\n",
       "      <th>...</th>\n",
       "      <td>...</td>\n",
       "      <td>...</td>\n",
       "      <td>...</td>\n",
       "    </tr>\n",
       "    <tr>\n",
       "      <th>60799</th>\n",
       "      <td>21.0</td>\n",
       "      <td>1.750000</td>\n",
       "      <td>1</td>\n",
       "    </tr>\n",
       "    <tr>\n",
       "      <th>60800</th>\n",
       "      <td>14.0</td>\n",
       "      <td>1.166667</td>\n",
       "      <td>1</td>\n",
       "    </tr>\n",
       "    <tr>\n",
       "      <th>60801</th>\n",
       "      <td>NaN</td>\n",
       "      <td>100.000000</td>\n",
       "      <td>0</td>\n",
       "    </tr>\n",
       "    <tr>\n",
       "      <th>60802</th>\n",
       "      <td>NaN</td>\n",
       "      <td>100.000000</td>\n",
       "      <td>0</td>\n",
       "    </tr>\n",
       "    <tr>\n",
       "      <th>60803</th>\n",
       "      <td>67.0</td>\n",
       "      <td>5.583333</td>\n",
       "      <td>0</td>\n",
       "    </tr>\n",
       "  </tbody>\n",
       "</table>\n",
       "<p>60804 rows × 3 columns</p>\n",
       "</div>"
      ],
      "text/plain": [
       "       Months.since.last.delinquent  Months.since.last.delinquent_years  \\\n",
       "0                               5.0                            0.416667   \n",
       "1                               NaN                          100.000000   \n",
       "2                              60.0                            5.000000   \n",
       "3                               NaN                          100.000000   \n",
       "4                              47.0                            3.916667   \n",
       "...                             ...                                 ...   \n",
       "60799                          21.0                            1.750000   \n",
       "60800                          14.0                            1.166667   \n",
       "60801                           NaN                          100.000000   \n",
       "60802                           NaN                          100.000000   \n",
       "60803                          67.0                            5.583333   \n",
       "\n",
       "       msld_enc  \n",
       "0             1  \n",
       "1             0  \n",
       "2             0  \n",
       "3             0  \n",
       "4             0  \n",
       "...         ...  \n",
       "60799         1  \n",
       "60800         1  \n",
       "60801         0  \n",
       "60802         0  \n",
       "60803         0  \n",
       "\n",
       "[60804 rows x 3 columns]"
      ]
     },
     "execution_count": 49,
     "metadata": {},
     "output_type": "execute_result"
    }
   ],
   "source": [
    "df_train[['Months.since.last.delinquent', 'Months.since.last.delinquent_years', 'msld_enc']]"
   ]
  },
  {
   "cell_type": "markdown",
   "metadata": {},
   "source": [
    "FINALIZADO!"
   ]
  }
 ],
 "metadata": {
  "kernelspec": {
   "display_name": "Python 3",
   "language": "python",
   "name": "python3"
  },
  "language_info": {
   "codemirror_mode": {
    "name": "ipython",
    "version": 3
   },
   "file_extension": ".py",
   "mimetype": "text/x-python",
   "name": "python",
   "nbconvert_exporter": "python",
   "pygments_lexer": "ipython3",
   "version": "3.7.7"
  },
  "toc": {
   "base_numbering": 1,
   "nav_menu": {},
   "number_sections": true,
   "sideBar": true,
   "skip_h1_title": false,
   "title_cell": "Table of Contents",
   "title_sidebar": "Contents",
   "toc_cell": false,
   "toc_position": {},
   "toc_section_display": true,
   "toc_window_display": false
  },
  "varInspector": {
   "cols": {
    "lenName": 16,
    "lenType": 16,
    "lenVar": 40
   },
   "kernels_config": {
    "python": {
     "delete_cmd_postfix": "",
     "delete_cmd_prefix": "del ",
     "library": "var_list.py",
     "varRefreshCmd": "print(var_dic_list())"
    },
    "r": {
     "delete_cmd_postfix": ") ",
     "delete_cmd_prefix": "rm(",
     "library": "var_list.r",
     "varRefreshCmd": "cat(var_dic_list()) "
    }
   },
   "types_to_exclude": [
    "module",
    "function",
    "builtin_function_or_method",
    "instance",
    "_Feature"
   ],
   "window_display": false
  }
 },
 "nbformat": 4,
 "nbformat_minor": 4
}
