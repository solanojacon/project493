{
 "cells": [
  {
   "cell_type": "markdown",
   "metadata": {},
   "source": [
    "## Project493 - Data Engineering"
   ]
  },
  {
   "cell_type": "markdown",
   "metadata": {},
   "source": [
    "Discutir modelos\n",
    " - (done) Baseline: 1 / (1 + 0) = 72.82% (% da amostra total que recebeu loans)\n",
    "\n",
    "Usar: \n",
    "* Train_test_split = 0.3\n",
    "* Random_state = 42\n",
    "* cv = 5\n",
    "* Fazer classification report\n",
    "* Fazer cross-validation?\n",
    "\n",
    "(Mando) 1. Logistic (testar feature selection?)\n",
    "\n",
    "(Solano) 2. KNN Classifier\n",
    "\n",
    "(Solano) 3. SGD Classifier\n",
    "\n",
    "(Mariam) 4. Random Forest Classifier\n",
    "\n",
    "(Mando) 5. Linear SVM\n",
    "\n",
    "(Mariam) 6. XGBoost\n",
    "\n",
    "7. Rede neural\n",
    "\n",
    "Fazer tambem:\n",
    "* Model tuning hyperparameters: GridSearch / RandomSearch\n",
    "* Tentar usar MLFlow para track as variacoes na performance dos modelos\n",
    "* Feature selection? (p.24 do documento com notas das semanas 4-5, enviado Slack)"
   ]
  },
  {
   "cell_type": "code",
<<<<<<< HEAD
   "execution_count": 1,
=======
   "execution_count": 2,
>>>>>>> 9696076df5745f74fba89ee1934b45f0acdcee76
   "metadata": {},
   "outputs": [],
   "source": [
    "import pandas as pd\n",
    "import numpy as np\n",
    "from sklearn.model_selection import train_test_split\n",
    "from imblearn.over_sampling import SMOTE\n",
    "from sklearn.neighbors import KNeighborsClassifier\n",
    "from sklearn.linear_model import SGDClassifier\n",
    "from sklearn.model_selection import cross_validate\n",
    "from sklearn.model_selection import GridSearchCV\n",
    "from sklearn.metrics import classification_report\n",
    "from sklearn.metrics import make_scorer\n",
<<<<<<< HEAD
=======
    "from sklearn.inspection import permutation_importance\n",
>>>>>>> 9696076df5745f74fba89ee1934b45f0acdcee76
    "import matplotlib.pyplot as plt\n",
    "%matplotlib inline"
   ]
  },
  {
   "cell_type": "code",
<<<<<<< HEAD
   "execution_count": 2,
=======
   "execution_count": 3,
>>>>>>> 9696076df5745f74fba89ee1934b45f0acdcee76
   "metadata": {},
   "outputs": [
    {
     "name": "stdout",
     "output_type": "stream",
     "text": [
<<<<<<< HEAD
      "get_data 0.12\n"
=======
      "get_data 0.16\n"
>>>>>>> 9696076df5745f74fba89ee1934b45f0acdcee76
     ]
    },
    {
     "data": {
      "text/html": [
       "<div>\n",
       "<style scoped>\n",
       "    .dataframe tbody tr th:only-of-type {\n",
       "        vertical-align: middle;\n",
       "    }\n",
       "\n",
       "    .dataframe tbody tr th {\n",
       "        vertical-align: top;\n",
       "    }\n",
       "\n",
       "    .dataframe thead th {\n",
       "        text-align: right;\n",
       "    }\n",
       "</style>\n",
       "<table border=\"1\" class=\"dataframe\">\n",
       "  <thead>\n",
       "    <tr style=\"text-align: right;\">\n",
       "      <th></th>\n",
       "      <th>Loan.Status</th>\n",
       "      <th>Credit.Minus.Loan</th>\n",
       "      <th>Years.current_job_enc</th>\n",
       "      <th>Tax.Liens.Enc</th>\n",
       "      <th>Leverage</th>\n",
       "      <th>Bankruptcies.enc</th>\n",
       "      <th>Years.since.last.delinquent</th>\n",
       "      <th>Loan.vs.Income</th>\n",
       "      <th>Term.Encoded</th>\n",
       "      <th>Number.of.Open.Accounts.Labeled</th>\n",
       "      <th>...</th>\n",
       "      <th>H.O.Home Mortgage</th>\n",
       "      <th>H.O.Own Home</th>\n",
       "      <th>H.O.Rent</th>\n",
       "      <th>Purp.Business Loan</th>\n",
       "      <th>Purp.Buy House</th>\n",
       "      <th>Purp.Buy a Car</th>\n",
       "      <th>Purp.Debt Consolidation</th>\n",
       "      <th>Purp.Home Improvements</th>\n",
       "      <th>Purp.Medical Bills</th>\n",
       "      <th>Purp.Other</th>\n",
       "    </tr>\n",
       "  </thead>\n",
       "  <tbody>\n",
       "    <tr>\n",
       "      <th>0</th>\n",
       "      <td>1</td>\n",
       "      <td>1</td>\n",
       "      <td>6</td>\n",
       "      <td>0</td>\n",
       "      <td>0.190000</td>\n",
       "      <td>0</td>\n",
       "      <td>1</td>\n",
       "      <td>0.187495</td>\n",
       "      <td>0.0</td>\n",
       "      <td>2</td>\n",
       "      <td>...</td>\n",
       "      <td>1.0</td>\n",
       "      <td>0.0</td>\n",
       "      <td>0.0</td>\n",
       "      <td>0.0</td>\n",
       "      <td>0.0</td>\n",
       "      <td>0.0</td>\n",
       "      <td>1.0</td>\n",
       "      <td>0.0</td>\n",
       "      <td>0.0</td>\n",
       "      <td>0.0</td>\n",
       "    </tr>\n",
       "    <tr>\n",
       "      <th>3</th>\n",
       "      <td>1</td>\n",
       "      <td>1</td>\n",
       "      <td>4</td>\n",
       "      <td>0</td>\n",
       "      <td>0.301998</td>\n",
       "      <td>1</td>\n",
       "      <td>0</td>\n",
       "      <td>0.207542</td>\n",
       "      <td>0.0</td>\n",
       "      <td>0</td>\n",
       "      <td>...</td>\n",
       "      <td>0.0</td>\n",
       "      <td>0.0</td>\n",
       "      <td>1.0</td>\n",
       "      <td>0.0</td>\n",
       "      <td>0.0</td>\n",
       "      <td>0.0</td>\n",
       "      <td>1.0</td>\n",
       "      <td>0.0</td>\n",
       "      <td>0.0</td>\n",
       "      <td>0.0</td>\n",
       "    </tr>\n",
       "    <tr>\n",
       "      <th>4</th>\n",
       "      <td>1</td>\n",
       "      <td>1</td>\n",
       "      <td>10</td>\n",
       "      <td>0</td>\n",
       "      <td>0.085501</td>\n",
       "      <td>0</td>\n",
       "      <td>0</td>\n",
       "      <td>0.075625</td>\n",
       "      <td>0.0</td>\n",
       "      <td>0</td>\n",
       "      <td>...</td>\n",
       "      <td>1.0</td>\n",
       "      <td>0.0</td>\n",
       "      <td>0.0</td>\n",
       "      <td>0.0</td>\n",
       "      <td>0.0</td>\n",
       "      <td>0.0</td>\n",
       "      <td>0.0</td>\n",
       "      <td>1.0</td>\n",
       "      <td>0.0</td>\n",
       "      <td>0.0</td>\n",
       "    </tr>\n",
       "    <tr>\n",
       "      <th>5</th>\n",
       "      <td>1</td>\n",
       "      <td>0</td>\n",
       "      <td>5</td>\n",
       "      <td>0</td>\n",
       "      <td>0.127000</td>\n",
       "      <td>1</td>\n",
       "      <td>0</td>\n",
       "      <td>0.165112</td>\n",
       "      <td>0.0</td>\n",
       "      <td>1</td>\n",
       "      <td>...</td>\n",
       "      <td>1.0</td>\n",
       "      <td>0.0</td>\n",
       "      <td>0.0</td>\n",
       "      <td>0.0</td>\n",
       "      <td>0.0</td>\n",
       "      <td>0.0</td>\n",
       "      <td>0.0</td>\n",
       "      <td>1.0</td>\n",
       "      <td>0.0</td>\n",
       "      <td>0.0</td>\n",
       "    </tr>\n",
       "    <tr>\n",
       "      <th>6</th>\n",
       "      <td>0</td>\n",
       "      <td>0</td>\n",
       "      <td>10</td>\n",
       "      <td>0</td>\n",
       "      <td>0.056798</td>\n",
       "      <td>0</td>\n",
       "      <td>0</td>\n",
       "      <td>0.075445</td>\n",
       "      <td>1.0</td>\n",
       "      <td>0</td>\n",
       "      <td>...</td>\n",
       "      <td>0.0</td>\n",
       "      <td>0.0</td>\n",
       "      <td>1.0</td>\n",
       "      <td>0.0</td>\n",
       "      <td>0.0</td>\n",
       "      <td>0.0</td>\n",
       "      <td>0.0</td>\n",
       "      <td>0.0</td>\n",
       "      <td>0.0</td>\n",
       "      <td>1.0</td>\n",
       "    </tr>\n",
       "    <tr>\n",
       "      <th>...</th>\n",
       "      <td>...</td>\n",
       "      <td>...</td>\n",
       "      <td>...</td>\n",
       "      <td>...</td>\n",
       "      <td>...</td>\n",
       "      <td>...</td>\n",
       "      <td>...</td>\n",
       "      <td>...</td>\n",
       "      <td>...</td>\n",
       "      <td>...</td>\n",
       "      <td>...</td>\n",
       "      <td>...</td>\n",
       "      <td>...</td>\n",
       "      <td>...</td>\n",
       "      <td>...</td>\n",
       "      <td>...</td>\n",
       "      <td>...</td>\n",
       "      <td>...</td>\n",
       "      <td>...</td>\n",
       "      <td>...</td>\n",
       "      <td>...</td>\n",
       "    </tr>\n",
       "    <tr>\n",
       "      <th>60794</th>\n",
       "      <td>1</td>\n",
       "      <td>0</td>\n",
       "      <td>6</td>\n",
       "      <td>0</td>\n",
       "      <td>0.047101</td>\n",
       "      <td>0</td>\n",
       "      <td>0</td>\n",
       "      <td>0.119199</td>\n",
       "      <td>0.0</td>\n",
       "      <td>1</td>\n",
       "      <td>...</td>\n",
       "      <td>0.0</td>\n",
       "      <td>0.0</td>\n",
       "      <td>1.0</td>\n",
       "      <td>0.0</td>\n",
       "      <td>0.0</td>\n",
       "      <td>0.0</td>\n",
       "      <td>1.0</td>\n",
       "      <td>0.0</td>\n",
       "      <td>0.0</td>\n",
       "      <td>0.0</td>\n",
       "    </tr>\n",
       "    <tr>\n",
       "      <th>60795</th>\n",
       "      <td>1</td>\n",
       "      <td>1</td>\n",
       "      <td>1</td>\n",
       "      <td>0</td>\n",
       "      <td>0.197000</td>\n",
       "      <td>0</td>\n",
       "      <td>0</td>\n",
       "      <td>0.100010</td>\n",
       "      <td>0.0</td>\n",
       "      <td>1</td>\n",
       "      <td>...</td>\n",
       "      <td>1.0</td>\n",
       "      <td>0.0</td>\n",
       "      <td>0.0</td>\n",
       "      <td>0.0</td>\n",
       "      <td>0.0</td>\n",
       "      <td>0.0</td>\n",
       "      <td>1.0</td>\n",
       "      <td>0.0</td>\n",
       "      <td>0.0</td>\n",
       "      <td>0.0</td>\n",
       "    </tr>\n",
       "    <tr>\n",
       "      <th>60797</th>\n",
       "      <td>1</td>\n",
       "      <td>1</td>\n",
       "      <td>10</td>\n",
       "      <td>0</td>\n",
       "      <td>0.292000</td>\n",
       "      <td>0</td>\n",
       "      <td>0</td>\n",
       "      <td>0.279996</td>\n",
       "      <td>1.0</td>\n",
       "      <td>2</td>\n",
       "      <td>...</td>\n",
       "      <td>1.0</td>\n",
       "      <td>0.0</td>\n",
       "      <td>0.0</td>\n",
       "      <td>0.0</td>\n",
       "      <td>0.0</td>\n",
       "      <td>0.0</td>\n",
       "      <td>1.0</td>\n",
       "      <td>0.0</td>\n",
       "      <td>0.0</td>\n",
       "      <td>0.0</td>\n",
       "    </tr>\n",
       "    <tr>\n",
       "      <th>60800</th>\n",
       "      <td>0</td>\n",
       "      <td>0</td>\n",
       "      <td>3</td>\n",
       "      <td>0</td>\n",
       "      <td>0.103000</td>\n",
       "      <td>0</td>\n",
       "      <td>1</td>\n",
       "      <td>0.200004</td>\n",
       "      <td>0.0</td>\n",
       "      <td>1</td>\n",
       "      <td>...</td>\n",
       "      <td>0.0</td>\n",
       "      <td>0.0</td>\n",
       "      <td>1.0</td>\n",
       "      <td>0.0</td>\n",
       "      <td>0.0</td>\n",
       "      <td>0.0</td>\n",
       "      <td>1.0</td>\n",
       "      <td>0.0</td>\n",
       "      <td>0.0</td>\n",
       "      <td>0.0</td>\n",
       "    </tr>\n",
       "    <tr>\n",
       "      <th>60803</th>\n",
       "      <td>1</td>\n",
       "      <td>0</td>\n",
       "      <td>8</td>\n",
       "      <td>0</td>\n",
       "      <td>0.325003</td>\n",
       "      <td>0</td>\n",
       "      <td>0</td>\n",
       "      <td>0.066665</td>\n",
       "      <td>0.0</td>\n",
       "      <td>0</td>\n",
       "      <td>...</td>\n",
       "      <td>1.0</td>\n",
       "      <td>0.0</td>\n",
       "      <td>0.0</td>\n",
       "      <td>0.0</td>\n",
       "      <td>0.0</td>\n",
       "      <td>0.0</td>\n",
       "      <td>1.0</td>\n",
       "      <td>0.0</td>\n",
       "      <td>0.0</td>\n",
       "      <td>0.0</td>\n",
       "    </tr>\n",
       "  </tbody>\n",
       "</table>\n",
       "<p>41176 rows × 23 columns</p>\n",
       "</div>"
      ],
      "text/plain": [
       "       Loan.Status  Credit.Minus.Loan  Years.current_job_enc  Tax.Liens.Enc  \\\n",
       "0                1                  1                      6              0   \n",
       "3                1                  1                      4              0   \n",
       "4                1                  1                     10              0   \n",
       "5                1                  0                      5              0   \n",
       "6                0                  0                     10              0   \n",
       "...            ...                ...                    ...            ...   \n",
       "60794            1                  0                      6              0   \n",
       "60795            1                  1                      1              0   \n",
       "60797            1                  1                     10              0   \n",
       "60800            0                  0                      3              0   \n",
       "60803            1                  0                      8              0   \n",
       "\n",
       "       Leverage  Bankruptcies.enc  Years.since.last.delinquent  \\\n",
       "0      0.190000                 0                            1   \n",
       "3      0.301998                 1                            0   \n",
       "4      0.085501                 0                            0   \n",
       "5      0.127000                 1                            0   \n",
       "6      0.056798                 0                            0   \n",
       "...         ...               ...                          ...   \n",
       "60794  0.047101                 0                            0   \n",
       "60795  0.197000                 0                            0   \n",
       "60797  0.292000                 0                            0   \n",
       "60800  0.103000                 0                            1   \n",
       "60803  0.325003                 0                            0   \n",
       "\n",
       "       Loan.vs.Income  Term.Encoded  Number.of.Open.Accounts.Labeled  ...  \\\n",
       "0            0.187495           0.0                                2  ...   \n",
       "3            0.207542           0.0                                0  ...   \n",
       "4            0.075625           0.0                                0  ...   \n",
       "5            0.165112           0.0                                1  ...   \n",
       "6            0.075445           1.0                                0  ...   \n",
       "...               ...           ...                              ...  ...   \n",
       "60794        0.119199           0.0                                1  ...   \n",
       "60795        0.100010           0.0                                1  ...   \n",
       "60797        0.279996           1.0                                2  ...   \n",
       "60800        0.200004           0.0                                1  ...   \n",
       "60803        0.066665           0.0                                0  ...   \n",
       "\n",
       "       H.O.Home Mortgage  H.O.Own Home H.O.Rent  Purp.Business Loan  \\\n",
       "0                    1.0           0.0      0.0                 0.0   \n",
       "3                    0.0           0.0      1.0                 0.0   \n",
       "4                    1.0           0.0      0.0                 0.0   \n",
       "5                    1.0           0.0      0.0                 0.0   \n",
       "6                    0.0           0.0      1.0                 0.0   \n",
       "...                  ...           ...      ...                 ...   \n",
       "60794                0.0           0.0      1.0                 0.0   \n",
       "60795                1.0           0.0      0.0                 0.0   \n",
       "60797                1.0           0.0      0.0                 0.0   \n",
       "60800                0.0           0.0      1.0                 0.0   \n",
       "60803                1.0           0.0      0.0                 0.0   \n",
       "\n",
       "       Purp.Buy House  Purp.Buy a Car  Purp.Debt Consolidation  \\\n",
       "0                 0.0             0.0                      1.0   \n",
       "3                 0.0             0.0                      1.0   \n",
       "4                 0.0             0.0                      0.0   \n",
       "5                 0.0             0.0                      0.0   \n",
       "6                 0.0             0.0                      0.0   \n",
       "...               ...             ...                      ...   \n",
       "60794             0.0             0.0                      1.0   \n",
       "60795             0.0             0.0                      1.0   \n",
       "60797             0.0             0.0                      1.0   \n",
       "60800             0.0             0.0                      1.0   \n",
       "60803             0.0             0.0                      1.0   \n",
       "\n",
       "       Purp.Home Improvements  Purp.Medical Bills  Purp.Other  \n",
       "0                         0.0                 0.0         0.0  \n",
       "3                         0.0                 0.0         0.0  \n",
       "4                         1.0                 0.0         0.0  \n",
       "5                         1.0                 0.0         0.0  \n",
       "6                         0.0                 0.0         1.0  \n",
       "...                       ...                 ...         ...  \n",
       "60794                     0.0                 0.0         0.0  \n",
       "60795                     0.0                 0.0         0.0  \n",
       "60797                     0.0                 0.0         0.0  \n",
       "60800                     0.0                 0.0         0.0  \n",
       "60803                     0.0                 0.0         0.0  \n",
       "\n",
       "[41176 rows x 23 columns]"
      ]
     },
<<<<<<< HEAD
     "execution_count": 2,
=======
     "execution_count": 3,
>>>>>>> 9696076df5745f74fba89ee1934b45f0acdcee76
     "metadata": {},
     "output_type": "execute_result"
    }
   ],
   "source": [
    "# BLOCO DE COMANDO PASSADO PELO SANDER P/ ACESSO AOS DADOS LIMPOS E ENCODADOS\n",
    "\n",
    "import sys\n",
    "import os\n",
    "sys.path.append(os.path.dirname(os.getcwd()))\n",
    "from wanna_buy_house.data import final_treatment\n",
    "from wanna_buy_house.utils import final_transformer\n",
    "data_cleaned = final_treatment()\n",
    "data = final_transformer(data_cleaned)\n",
    "data"
   ]
  },
  {
   "cell_type": "code",
<<<<<<< HEAD
   "execution_count": 3,
=======
   "execution_count": 4,
>>>>>>> 9696076df5745f74fba89ee1934b45f0acdcee76
   "metadata": {},
   "outputs": [
    {
     "name": "stdout",
     "output_type": "stream",
     "text": [
      "<class 'pandas.core.frame.DataFrame'>\n",
      "Int64Index: 41176 entries, 0 to 60803\n",
      "Data columns (total 23 columns):\n",
      " #   Column                             Non-Null Count  Dtype   \n",
      "---  ------                             --------------  -----   \n",
      " 0   Loan.Status                        41176 non-null  int64   \n",
      " 1   Credit.Minus.Loan                  41176 non-null  int64   \n",
      " 2   Years.current_job_enc              41176 non-null  int64   \n",
      " 3   Tax.Liens.Enc                      41176 non-null  int64   \n",
      " 4   Leverage                           41176 non-null  float64 \n",
      " 5   Bankruptcies.enc                   41176 non-null  int64   \n",
      " 6   Years.since.last.delinquent        41176 non-null  int64   \n",
      " 7   Loan.vs.Income                     41176 non-null  float64 \n",
      " 8   Term.Encoded                       41176 non-null  float64 \n",
      " 9   Number.of.Open.Accounts.Labeled    41176 non-null  int64   \n",
      " 10  Number.of.Credit.Problems.Labeled  41176 non-null  int64   \n",
      " 11  Credit.Score.Labeled               41176 non-null  int64   \n",
      " 12  Year.Credit.History.Labeled        41176 non-null  category\n",
      " 13  H.O.Home Mortgage                  41176 non-null  float64 \n",
      " 14  H.O.Own Home                       41176 non-null  float64 \n",
      " 15  H.O.Rent                           41176 non-null  float64 \n",
      " 16  Purp.Business Loan                 41176 non-null  float64 \n",
      " 17  Purp.Buy House                     41176 non-null  float64 \n",
      " 18  Purp.Buy a Car                     41176 non-null  float64 \n",
      " 19  Purp.Debt Consolidation            41176 non-null  float64 \n",
      " 20  Purp.Home Improvements             41176 non-null  float64 \n",
      " 21  Purp.Medical Bills                 41176 non-null  float64 \n",
      " 22  Purp.Other                         41176 non-null  float64 \n",
      "dtypes: category(1), float64(13), int64(9)\n",
      "memory usage: 7.3 MB\n"
     ]
    }
   ],
   "source": [
    "data.info()"
   ]
  },
  {
   "cell_type": "code",
<<<<<<< HEAD
   "execution_count": 4,
=======
   "execution_count": 5,
>>>>>>> 9696076df5745f74fba89ee1934b45f0acdcee76
   "metadata": {},
   "outputs": [],
   "source": [
    "data['Year.Credit.History.Labeled'] = data['Year.Credit.History.Labeled'].astype('int64')"
   ]
  },
  {
   "cell_type": "code",
<<<<<<< HEAD
   "execution_count": 5,
=======
   "execution_count": 6,
>>>>>>> 9696076df5745f74fba89ee1934b45f0acdcee76
   "metadata": {},
   "outputs": [
    {
     "data": {
      "text/plain": [
       "Index(['Loan.Status', 'Credit.Minus.Loan', 'Years.current_job_enc',\n",
       "       'Tax.Liens.Enc', 'Leverage', 'Bankruptcies.enc',\n",
       "       'Years.since.last.delinquent', 'Loan.vs.Income', 'Term.Encoded',\n",
       "       'Number.of.Open.Accounts.Labeled', 'Number.of.Credit.Problems.Labeled',\n",
       "       'Credit.Score.Labeled', 'Year.Credit.History.Labeled',\n",
       "       'H.O.Home Mortgage', 'H.O.Own Home', 'H.O.Rent', 'Purp.Business Loan',\n",
       "       'Purp.Buy House', 'Purp.Buy a Car', 'Purp.Debt Consolidation',\n",
       "       'Purp.Home Improvements', 'Purp.Medical Bills', 'Purp.Other'],\n",
       "      dtype='object')"
      ]
     },
<<<<<<< HEAD
     "execution_count": 5,
=======
     "execution_count": 6,
>>>>>>> 9696076df5745f74fba89ee1934b45f0acdcee76
     "metadata": {},
     "output_type": "execute_result"
    }
   ],
   "source": [
    "data.columns"
   ]
  },
  {
   "cell_type": "code",
<<<<<<< HEAD
   "execution_count": 6,
=======
   "execution_count": 7,
>>>>>>> 9696076df5745f74fba89ee1934b45f0acdcee76
   "metadata": {},
   "outputs": [
    {
     "data": {
      "text/plain": [
       "23"
      ]
     },
<<<<<<< HEAD
     "execution_count": 6,
=======
     "execution_count": 7,
>>>>>>> 9696076df5745f74fba89ee1934b45f0acdcee76
     "metadata": {},
     "output_type": "execute_result"
    }
   ],
   "source": [
    "len(data.columns)"
   ]
  },
  {
   "cell_type": "code",
<<<<<<< HEAD
   "execution_count": 7,
=======
   "execution_count": 8,
>>>>>>> 9696076df5745f74fba89ee1934b45f0acdcee76
   "metadata": {},
   "outputs": [],
   "source": [
    "columns_1 = ['Loan.Status', 'Credit.Minus.Loan', 'Years.current_job_enc',\n",
    "       'Tax.Liens.Enc', 'Leverage', 'Bankruptcies.enc',\n",
    "       'Years.since.last.delinquent', 'Loan.vs.Income', 'Term.Encoded',\n",
    "       'Number.of.Open.Accounts.Labeled', 'Number.of.Credit.Problems.Labeled']"
   ]
  },
  {
   "cell_type": "code",
<<<<<<< HEAD
   "execution_count": 8,
=======
   "execution_count": 9,
>>>>>>> 9696076df5745f74fba89ee1934b45f0acdcee76
   "metadata": {},
   "outputs": [],
   "source": [
    "columns_2 = ['Credit.Score.Labeled', 'Year.Credit.History.Labeled',\n",
    "       'H.O.Home Mortgage', 'H.O.Own Home', 'H.O.Rent', 'Purp.Business Loan',\n",
    "       'Purp.Buy House', 'Purp.Buy a Car', 'Purp.Debt Consolidation',\n",
    "       'Purp.Home Improvements', 'Purp.Medical Bills', 'Purp.Other']"
   ]
  },
  {
   "cell_type": "code",
<<<<<<< HEAD
   "execution_count": 9,
=======
   "execution_count": 10,
>>>>>>> 9696076df5745f74fba89ee1934b45f0acdcee76
   "metadata": {},
   "outputs": [
    {
     "data": {
      "text/html": [
       "<div>\n",
       "<style scoped>\n",
       "    .dataframe tbody tr th:only-of-type {\n",
       "        vertical-align: middle;\n",
       "    }\n",
       "\n",
       "    .dataframe tbody tr th {\n",
       "        vertical-align: top;\n",
       "    }\n",
       "\n",
       "    .dataframe thead th {\n",
       "        text-align: right;\n",
       "    }\n",
       "</style>\n",
       "<table border=\"1\" class=\"dataframe\">\n",
       "  <thead>\n",
       "    <tr style=\"text-align: right;\">\n",
       "      <th></th>\n",
       "      <th>Loan.Status</th>\n",
       "      <th>Credit.Minus.Loan</th>\n",
       "      <th>Years.current_job_enc</th>\n",
       "      <th>Tax.Liens.Enc</th>\n",
       "      <th>Leverage</th>\n",
       "      <th>Bankruptcies.enc</th>\n",
       "      <th>Years.since.last.delinquent</th>\n",
       "      <th>Loan.vs.Income</th>\n",
       "      <th>Term.Encoded</th>\n",
       "      <th>Number.of.Open.Accounts.Labeled</th>\n",
       "      <th>Number.of.Credit.Problems.Labeled</th>\n",
       "    </tr>\n",
       "  </thead>\n",
       "  <tbody>\n",
       "    <tr>\n",
       "      <th>count</th>\n",
       "      <td>41176.000000</td>\n",
       "      <td>41176.000000</td>\n",
       "      <td>41176.000000</td>\n",
       "      <td>41176.000000</td>\n",
       "      <td>41176.000000</td>\n",
       "      <td>41176.000000</td>\n",
       "      <td>41176.000000</td>\n",
       "      <td>41176.000000</td>\n",
       "      <td>41176.000000</td>\n",
       "      <td>41176.000000</td>\n",
       "      <td>41176.000000</td>\n",
       "    </tr>\n",
       "    <tr>\n",
       "      <th>mean</th>\n",
       "      <td>0.728191</td>\n",
       "      <td>0.439722</td>\n",
       "      <td>5.648047</td>\n",
       "      <td>0.019210</td>\n",
       "      <td>0.173078</td>\n",
       "      <td>0.107733</td>\n",
       "      <td>0.267899</td>\n",
       "      <td>0.219072</td>\n",
       "      <td>0.295366</td>\n",
       "      <td>0.624757</td>\n",
       "      <td>0.155795</td>\n",
       "    </tr>\n",
       "    <tr>\n",
       "      <th>std</th>\n",
       "      <td>0.444897</td>\n",
       "      <td>0.496359</td>\n",
       "      <td>3.744751</td>\n",
       "      <td>0.137265</td>\n",
       "      <td>0.080029</td>\n",
       "      <td>0.310046</td>\n",
       "      <td>0.442870</td>\n",
       "      <td>0.112643</td>\n",
       "      <td>0.456213</td>\n",
       "      <td>0.574612</td>\n",
       "      <td>0.410594</td>\n",
       "    </tr>\n",
       "    <tr>\n",
       "      <th>min</th>\n",
       "      <td>0.000000</td>\n",
       "      <td>0.000000</td>\n",
       "      <td>0.000000</td>\n",
       "      <td>0.000000</td>\n",
       "      <td>0.000000</td>\n",
       "      <td>0.000000</td>\n",
       "      <td>0.000000</td>\n",
       "      <td>0.004032</td>\n",
       "      <td>0.000000</td>\n",
       "      <td>0.000000</td>\n",
       "      <td>0.000000</td>\n",
       "    </tr>\n",
       "    <tr>\n",
       "      <th>25%</th>\n",
       "      <td>0.000000</td>\n",
       "      <td>0.000000</td>\n",
       "      <td>2.000000</td>\n",
       "      <td>0.000000</td>\n",
       "      <td>0.113002</td>\n",
       "      <td>0.000000</td>\n",
       "      <td>0.000000</td>\n",
       "      <td>0.130230</td>\n",
       "      <td>0.000000</td>\n",
       "      <td>0.000000</td>\n",
       "      <td>0.000000</td>\n",
       "    </tr>\n",
       "    <tr>\n",
       "      <th>50%</th>\n",
       "      <td>1.000000</td>\n",
       "      <td>0.000000</td>\n",
       "      <td>6.000000</td>\n",
       "      <td>0.000000</td>\n",
       "      <td>0.170000</td>\n",
       "      <td>0.000000</td>\n",
       "      <td>0.000000</td>\n",
       "      <td>0.204964</td>\n",
       "      <td>0.000000</td>\n",
       "      <td>1.000000</td>\n",
       "      <td>0.000000</td>\n",
       "    </tr>\n",
       "    <tr>\n",
       "      <th>75%</th>\n",
       "      <td>1.000000</td>\n",
       "      <td>1.000000</td>\n",
       "      <td>10.000000</td>\n",
       "      <td>0.000000</td>\n",
       "      <td>0.228999</td>\n",
       "      <td>0.000000</td>\n",
       "      <td>1.000000</td>\n",
       "      <td>0.299996</td>\n",
       "      <td>1.000000</td>\n",
       "      <td>1.000000</td>\n",
       "      <td>0.000000</td>\n",
       "    </tr>\n",
       "    <tr>\n",
       "      <th>max</th>\n",
       "      <td>1.000000</td>\n",
       "      <td>1.000000</td>\n",
       "      <td>10.000000</td>\n",
       "      <td>1.000000</td>\n",
       "      <td>0.400000</td>\n",
       "      <td>1.000000</td>\n",
       "      <td>1.000000</td>\n",
       "      <td>0.980012</td>\n",
       "      <td>1.000000</td>\n",
       "      <td>2.000000</td>\n",
       "      <td>2.000000</td>\n",
       "    </tr>\n",
       "  </tbody>\n",
       "</table>\n",
       "</div>"
      ],
      "text/plain": [
       "        Loan.Status  Credit.Minus.Loan  Years.current_job_enc  Tax.Liens.Enc  \\\n",
       "count  41176.000000       41176.000000           41176.000000   41176.000000   \n",
       "mean       0.728191           0.439722               5.648047       0.019210   \n",
       "std        0.444897           0.496359               3.744751       0.137265   \n",
       "min        0.000000           0.000000               0.000000       0.000000   \n",
       "25%        0.000000           0.000000               2.000000       0.000000   \n",
       "50%        1.000000           0.000000               6.000000       0.000000   \n",
       "75%        1.000000           1.000000              10.000000       0.000000   \n",
       "max        1.000000           1.000000              10.000000       1.000000   \n",
       "\n",
       "           Leverage  Bankruptcies.enc  Years.since.last.delinquent  \\\n",
       "count  41176.000000      41176.000000                 41176.000000   \n",
       "mean       0.173078          0.107733                     0.267899   \n",
       "std        0.080029          0.310046                     0.442870   \n",
       "min        0.000000          0.000000                     0.000000   \n",
       "25%        0.113002          0.000000                     0.000000   \n",
       "50%        0.170000          0.000000                     0.000000   \n",
       "75%        0.228999          0.000000                     1.000000   \n",
       "max        0.400000          1.000000                     1.000000   \n",
       "\n",
       "       Loan.vs.Income  Term.Encoded  Number.of.Open.Accounts.Labeled  \\\n",
       "count    41176.000000  41176.000000                     41176.000000   \n",
       "mean         0.219072      0.295366                         0.624757   \n",
       "std          0.112643      0.456213                         0.574612   \n",
       "min          0.004032      0.000000                         0.000000   \n",
       "25%          0.130230      0.000000                         0.000000   \n",
       "50%          0.204964      0.000000                         1.000000   \n",
       "75%          0.299996      1.000000                         1.000000   \n",
       "max          0.980012      1.000000                         2.000000   \n",
       "\n",
       "       Number.of.Credit.Problems.Labeled  \n",
       "count                       41176.000000  \n",
       "mean                            0.155795  \n",
       "std                             0.410594  \n",
       "min                             0.000000  \n",
       "25%                             0.000000  \n",
       "50%                             0.000000  \n",
       "75%                             0.000000  \n",
       "max                             2.000000  "
      ]
     },
<<<<<<< HEAD
     "execution_count": 9,
=======
     "execution_count": 10,
>>>>>>> 9696076df5745f74fba89ee1934b45f0acdcee76
     "metadata": {},
     "output_type": "execute_result"
    }
   ],
   "source": [
    "data[columns_1].describe()"
   ]
  },
  {
   "cell_type": "code",
<<<<<<< HEAD
   "execution_count": 10,
=======
   "execution_count": 11,
>>>>>>> 9696076df5745f74fba89ee1934b45f0acdcee76
   "metadata": {},
   "outputs": [
    {
     "data": {
      "text/html": [
       "<div>\n",
       "<style scoped>\n",
       "    .dataframe tbody tr th:only-of-type {\n",
       "        vertical-align: middle;\n",
       "    }\n",
       "\n",
       "    .dataframe tbody tr th {\n",
       "        vertical-align: top;\n",
       "    }\n",
       "\n",
       "    .dataframe thead th {\n",
       "        text-align: right;\n",
       "    }\n",
       "</style>\n",
       "<table border=\"1\" class=\"dataframe\">\n",
       "  <thead>\n",
       "    <tr style=\"text-align: right;\">\n",
       "      <th></th>\n",
       "      <th>Credit.Score.Labeled</th>\n",
       "      <th>Year.Credit.History.Labeled</th>\n",
       "      <th>H.O.Home Mortgage</th>\n",
       "      <th>H.O.Own Home</th>\n",
       "      <th>H.O.Rent</th>\n",
       "      <th>Purp.Business Loan</th>\n",
       "      <th>Purp.Buy House</th>\n",
       "      <th>Purp.Buy a Car</th>\n",
       "      <th>Purp.Debt Consolidation</th>\n",
       "      <th>Purp.Home Improvements</th>\n",
       "      <th>Purp.Medical Bills</th>\n",
       "      <th>Purp.Other</th>\n",
       "    </tr>\n",
       "  </thead>\n",
       "  <tbody>\n",
       "    <tr>\n",
       "      <th>count</th>\n",
       "      <td>41176.000000</td>\n",
       "      <td>41176.000000</td>\n",
       "      <td>41176.000000</td>\n",
       "      <td>41176.000000</td>\n",
       "      <td>41176.000000</td>\n",
       "      <td>41176.000000</td>\n",
       "      <td>41176.000000</td>\n",
       "      <td>41176.000000</td>\n",
       "      <td>41176.000000</td>\n",
       "      <td>41176.000000</td>\n",
       "      <td>41176.000000</td>\n",
       "      <td>41176.000000</td>\n",
       "    </tr>\n",
       "    <tr>\n",
       "      <th>mean</th>\n",
       "      <td>1.134642</td>\n",
       "      <td>1.292428</td>\n",
       "      <td>0.481227</td>\n",
       "      <td>0.091680</td>\n",
       "      <td>0.427093</td>\n",
       "      <td>0.015737</td>\n",
       "      <td>0.007310</td>\n",
       "      <td>0.012507</td>\n",
       "      <td>0.783855</td>\n",
       "      <td>0.057194</td>\n",
       "      <td>0.011609</td>\n",
       "      <td>0.111788</td>\n",
       "    </tr>\n",
       "    <tr>\n",
       "      <th>std</th>\n",
       "      <td>0.783769</td>\n",
       "      <td>0.725189</td>\n",
       "      <td>0.499654</td>\n",
       "      <td>0.288577</td>\n",
       "      <td>0.494662</td>\n",
       "      <td>0.124459</td>\n",
       "      <td>0.085187</td>\n",
       "      <td>0.111136</td>\n",
       "      <td>0.411620</td>\n",
       "      <td>0.232215</td>\n",
       "      <td>0.107118</td>\n",
       "      <td>0.315110</td>\n",
       "    </tr>\n",
       "    <tr>\n",
       "      <th>min</th>\n",
       "      <td>0.000000</td>\n",
       "      <td>0.000000</td>\n",
       "      <td>0.000000</td>\n",
       "      <td>0.000000</td>\n",
       "      <td>0.000000</td>\n",
       "      <td>0.000000</td>\n",
       "      <td>0.000000</td>\n",
       "      <td>0.000000</td>\n",
       "      <td>0.000000</td>\n",
       "      <td>0.000000</td>\n",
       "      <td>0.000000</td>\n",
       "      <td>0.000000</td>\n",
       "    </tr>\n",
       "    <tr>\n",
       "      <th>25%</th>\n",
       "      <td>1.000000</td>\n",
       "      <td>1.000000</td>\n",
       "      <td>0.000000</td>\n",
       "      <td>0.000000</td>\n",
       "      <td>0.000000</td>\n",
       "      <td>0.000000</td>\n",
       "      <td>0.000000</td>\n",
       "      <td>0.000000</td>\n",
       "      <td>1.000000</td>\n",
       "      <td>0.000000</td>\n",
       "      <td>0.000000</td>\n",
       "      <td>0.000000</td>\n",
       "    </tr>\n",
       "    <tr>\n",
       "      <th>50%</th>\n",
       "      <td>1.000000</td>\n",
       "      <td>1.000000</td>\n",
       "      <td>0.000000</td>\n",
       "      <td>0.000000</td>\n",
       "      <td>0.000000</td>\n",
       "      <td>0.000000</td>\n",
       "      <td>0.000000</td>\n",
       "      <td>0.000000</td>\n",
       "      <td>1.000000</td>\n",
       "      <td>0.000000</td>\n",
       "      <td>0.000000</td>\n",
       "      <td>0.000000</td>\n",
       "    </tr>\n",
       "    <tr>\n",
       "      <th>75%</th>\n",
       "      <td>2.000000</td>\n",
       "      <td>2.000000</td>\n",
       "      <td>1.000000</td>\n",
       "      <td>0.000000</td>\n",
       "      <td>1.000000</td>\n",
       "      <td>0.000000</td>\n",
       "      <td>0.000000</td>\n",
       "      <td>0.000000</td>\n",
       "      <td>1.000000</td>\n",
       "      <td>0.000000</td>\n",
       "      <td>0.000000</td>\n",
       "      <td>0.000000</td>\n",
       "    </tr>\n",
       "    <tr>\n",
       "      <th>max</th>\n",
       "      <td>2.000000</td>\n",
       "      <td>3.000000</td>\n",
       "      <td>1.000000</td>\n",
       "      <td>1.000000</td>\n",
       "      <td>1.000000</td>\n",
       "      <td>1.000000</td>\n",
       "      <td>1.000000</td>\n",
       "      <td>1.000000</td>\n",
       "      <td>1.000000</td>\n",
       "      <td>1.000000</td>\n",
       "      <td>1.000000</td>\n",
       "      <td>1.000000</td>\n",
       "    </tr>\n",
       "  </tbody>\n",
       "</table>\n",
       "</div>"
      ],
      "text/plain": [
       "       Credit.Score.Labeled  Year.Credit.History.Labeled  H.O.Home Mortgage  \\\n",
       "count          41176.000000                 41176.000000       41176.000000   \n",
       "mean               1.134642                     1.292428           0.481227   \n",
       "std                0.783769                     0.725189           0.499654   \n",
       "min                0.000000                     0.000000           0.000000   \n",
       "25%                1.000000                     1.000000           0.000000   \n",
       "50%                1.000000                     1.000000           0.000000   \n",
       "75%                2.000000                     2.000000           1.000000   \n",
       "max                2.000000                     3.000000           1.000000   \n",
       "\n",
       "       H.O.Own Home      H.O.Rent  Purp.Business Loan  Purp.Buy House  \\\n",
       "count  41176.000000  41176.000000        41176.000000    41176.000000   \n",
       "mean       0.091680      0.427093            0.015737        0.007310   \n",
       "std        0.288577      0.494662            0.124459        0.085187   \n",
       "min        0.000000      0.000000            0.000000        0.000000   \n",
       "25%        0.000000      0.000000            0.000000        0.000000   \n",
       "50%        0.000000      0.000000            0.000000        0.000000   \n",
       "75%        0.000000      1.000000            0.000000        0.000000   \n",
       "max        1.000000      1.000000            1.000000        1.000000   \n",
       "\n",
       "       Purp.Buy a Car  Purp.Debt Consolidation  Purp.Home Improvements  \\\n",
       "count    41176.000000             41176.000000            41176.000000   \n",
       "mean         0.012507                 0.783855                0.057194   \n",
       "std          0.111136                 0.411620                0.232215   \n",
       "min          0.000000                 0.000000                0.000000   \n",
       "25%          0.000000                 1.000000                0.000000   \n",
       "50%          0.000000                 1.000000                0.000000   \n",
       "75%          0.000000                 1.000000                0.000000   \n",
       "max          1.000000                 1.000000                1.000000   \n",
       "\n",
       "       Purp.Medical Bills    Purp.Other  \n",
       "count        41176.000000  41176.000000  \n",
       "mean             0.011609      0.111788  \n",
       "std              0.107118      0.315110  \n",
       "min              0.000000      0.000000  \n",
       "25%              0.000000      0.000000  \n",
       "50%              0.000000      0.000000  \n",
       "75%              0.000000      0.000000  \n",
       "max              1.000000      1.000000  "
      ]
     },
<<<<<<< HEAD
     "execution_count": 10,
=======
     "execution_count": 11,
>>>>>>> 9696076df5745f74fba89ee1934b45f0acdcee76
     "metadata": {},
     "output_type": "execute_result"
    }
   ],
   "source": [
    "data[columns_2].describe()"
   ]
  },
  {
   "cell_type": "code",
<<<<<<< HEAD
   "execution_count": 11,
=======
   "execution_count": 12,
>>>>>>> 9696076df5745f74fba89ee1934b45f0acdcee76
   "metadata": {},
   "outputs": [],
   "source": [
    "X = data.drop(columns=['Loan.Status'])\n",
    "y = data[['Loan.Status']]"
   ]
  },
  {
   "cell_type": "code",
<<<<<<< HEAD
   "execution_count": 12,
=======
   "execution_count": 13,
>>>>>>> 9696076df5745f74fba89ee1934b45f0acdcee76
   "metadata": {},
   "outputs": [],
   "source": [
    "X_train, X_test, y_train, y_test = train_test_split(X, y, test_size=0.3, random_state=42)"
   ]
  },
  {
   "cell_type": "code",
<<<<<<< HEAD
   "execution_count": 13,
=======
   "execution_count": null,
   "metadata": {},
   "outputs": [],
   "source": []
  },
  {
   "cell_type": "code",
   "execution_count": 16,
>>>>>>> 9696076df5745f74fba89ee1934b45f0acdcee76
   "metadata": {},
   "outputs": [],
   "source": [
    "# GERACAO DE DADOS ARTIFICIAIS PARA A CATEGORIA DO TARGET MINORITARIO 0 A PARTIR DOS DADOS EXISTENTES\n",
    "\n",
    "sm = SMOTE(random_state=42)\n",
<<<<<<< HEAD
    "X_train_bal, y_train_bal = sm.fit_resample(X_train, y_train)"
=======
    "X_train_bal, y_train_bal = sm.fit_resample(np.array(X_train), y_train)"
>>>>>>> 9696076df5745f74fba89ee1934b45f0acdcee76
   ]
  },
  {
   "cell_type": "code",
   "execution_count": 14,
   "metadata": {},
   "outputs": [
    {
     "data": {
      "text/plain": [
       "1    21004\n",
       "0     7819\n",
       "Name: Loan.Status, dtype: int64"
      ]
     },
     "execution_count": 14,
     "metadata": {},
     "output_type": "execute_result"
    }
   ],
   "source": [
    "y_train['Loan.Status'].value_counts()"
   ]
  },
  {
   "cell_type": "code",
   "execution_count": 15,
   "metadata": {},
   "outputs": [
    {
     "data": {
      "text/plain": [
       "1    21004\n",
       "0    21004\n",
       "Name: Loan.Status, dtype: int64"
      ]
     },
     "execution_count": 15,
     "metadata": {},
     "output_type": "execute_result"
    }
   ],
   "source": [
    "y_train_bal['Loan.Status'].value_counts()"
   ]
  },
  {
   "cell_type": "code",
   "execution_count": 16,
   "metadata": {},
   "outputs": [
    {
     "data": {
      "text/plain": [
       "1    8980\n",
       "0    3373\n",
       "Name: Loan.Status, dtype: int64"
      ]
     },
     "execution_count": 16,
     "metadata": {},
     "output_type": "execute_result"
    }
   ],
   "source": [
    "y_test['Loan.Status'].value_counts()"
   ]
  },
  {
   "cell_type": "code",
   "execution_count": 17,
   "metadata": {},
   "outputs": [
    {
     "name": "stdout",
     "output_type": "stream",
     "text": [
      "<class 'pandas.core.frame.DataFrame'>\n",
      "RangeIndex: 42008 entries, 0 to 42007\n",
      "Data columns (total 22 columns):\n",
      " #   Column                             Non-Null Count  Dtype  \n",
      "---  ------                             --------------  -----  \n",
      " 0   Credit.Minus.Loan                  42008 non-null  int64  \n",
      " 1   Years.current_job_enc              42008 non-null  int64  \n",
      " 2   Tax.Liens.Enc                      42008 non-null  int64  \n",
      " 3   Leverage                           42008 non-null  float64\n",
      " 4   Bankruptcies.enc                   42008 non-null  int64  \n",
      " 5   Years.since.last.delinquent        42008 non-null  int64  \n",
      " 6   Loan.vs.Income                     42008 non-null  float64\n",
      " 7   Term.Encoded                       42008 non-null  float64\n",
      " 8   Number.of.Open.Accounts.Labeled    42008 non-null  int64  \n",
      " 9   Number.of.Credit.Problems.Labeled  42008 non-null  int64  \n",
      " 10  Credit.Score.Labeled               42008 non-null  int64  \n",
      " 11  Year.Credit.History.Labeled        42008 non-null  int64  \n",
      " 12  H.O.Home Mortgage                  42008 non-null  float64\n",
      " 13  H.O.Own Home                       42008 non-null  float64\n",
      " 14  H.O.Rent                           42008 non-null  float64\n",
      " 15  Purp.Business Loan                 42008 non-null  float64\n",
      " 16  Purp.Buy House                     42008 non-null  float64\n",
      " 17  Purp.Buy a Car                     42008 non-null  float64\n",
      " 18  Purp.Debt Consolidation            42008 non-null  float64\n",
      " 19  Purp.Home Improvements             42008 non-null  float64\n",
      " 20  Purp.Medical Bills                 42008 non-null  float64\n",
      " 21  Purp.Other                         42008 non-null  float64\n",
      "dtypes: float64(13), int64(9)\n",
      "memory usage: 7.1 MB\n"
     ]
    }
   ],
   "source": [
    "X_train_bal.info()"
   ]
  },
  {
   "cell_type": "code",
   "execution_count": 18,
   "metadata": {},
   "outputs": [
    {
     "name": "stdout",
     "output_type": "stream",
     "text": [
      "<class 'pandas.core.frame.DataFrame'>\n",
      "RangeIndex: 42008 entries, 0 to 42007\n",
      "Data columns (total 1 columns):\n",
      " #   Column       Non-Null Count  Dtype\n",
      "---  ------       --------------  -----\n",
      " 0   Loan.Status  42008 non-null  int64\n",
      "dtypes: int64(1)\n",
      "memory usage: 328.3 KB\n"
     ]
    }
   ],
   "source": [
    "y_train_bal.info()"
   ]
  },
  {
   "cell_type": "markdown",
   "metadata": {},
   "source": [
    "# Metric"
   ]
  },
  {
   "cell_type": "code",
   "execution_count": 19,
   "metadata": {},
   "outputs": [],
   "source": [
<<<<<<< HEAD
    "# metric = 'f1'"
=======
    "# METRIC P/ USO NO SKLEAN\n",
    "\n",
    "metric = 'f1_weighted'"
>>>>>>> 9696076df5745f74fba89ee1934b45f0acdcee76
   ]
  },
  {
   "cell_type": "code",
   "execution_count": 20,
   "metadata": {},
   "outputs": [],
   "source": [
<<<<<<< HEAD
=======
    "# FUNCAO DA CUSTOM METRIC F1 P/ USO NO DEEP LEARN\n",
    "\n",
    "from keras.callbacks import Callback, ModelCheckpoint\n",
    "from keras.models import Sequential, load_model\n",
    "from keras.layers import Dense, Dropout\n",
    "from keras.wrappers.scikit_learn import KerasClassifier\n",
    "import keras.backend as K\n",
    "\n",
    "def get_f1(y_true, y_pred):\n",
    "    true_positives = K.sum(K.round(K.clip(y_true * y_pred, 0, 1)))\n",
    "    possible_positives = K.sum(K.round(K.clip(y_true, 0, 1)))\n",
    "    predicted_positives = K.sum(K.round(K.clip(y_pred, 0, 1)))\n",
    "    precision = true_positives / (predicted_positives + K.epsilon())\n",
    "    recall = true_positives / (possible_positives + K.epsilon())\n",
    "    f1_val = 2*(precision*recall)/(precision+recall+K.epsilon())\n",
    "    return f1_val"
   ]
  },
  {
   "cell_type": "code",
   "execution_count": 21,
   "metadata": {},
   "outputs": [],
   "source": [
    "# CUSTOM METRIC P/ USO NO SKLEARN\n",
    "\n",
>>>>>>> 9696076df5745f74fba89ee1934b45f0acdcee76
    "# Customized metric - recall0= TP0/(TP0+FN0)\n",
    "\n",
    "# def custom_metric(y_true, y_pred):\n",
    "    \n",
    "#     tp = 0\n",
    "#     fp = 0\n",
    "#     tn = 0\n",
    "#     fn = 0\n",
    "    \n",
    "#     for pred, real in zip(y_pred, y_true):\n",
    "#         if pred == 0:\n",
    "#             if real == 0: \n",
    "#                 tp += 1 #acertei TP\n",
    "#             else:\n",
    "#                 fp += 1 #errei FP\n",
    "#         else:\n",
    "#             if real == 1: \n",
    "#                 tn += 1 #acertei TN\n",
    "#             else: \n",
    "#                 fn += 1 #errei FN\n",
    "    \n",
    "#     if (tp + fn) == 0:\n",
    "#         return 0\n",
    "#     else:\n",
    "#         return tp / (tp + fn)\n",
    "\n",
    "# metric = make_scorer(custom_metric)"
   ]
  },
  {
   "cell_type": "code",
<<<<<<< HEAD
   "execution_count": 21,
   "metadata": {},
   "outputs": [],
   "source": [
    "# Customized metric - recall0= TP0/(TP0+FN0); precision0= TP0/(TP0+FP0)\n",
    "# F1 0 = 2 * ((precision * recall) / (precision + recall)\n",
    "\n",
    "def custom_metric(y_true, y_pred):\n",
    "    \n",
    "    tp = 0\n",
    "    fp = 0\n",
    "    tn = 0\n",
    "    fn = 0\n",
    "    \n",
    "    for pred, real in zip(y_pred, y_true):\n",
    "        if pred == 0:\n",
    "            if real == 0: \n",
    "                tp += 1 #acertei TP\n",
    "            else:\n",
    "                fp += 1 #errei FP\n",
    "        else:\n",
    "            if real == 1: \n",
    "                tn += 1 #acertei TN\n",
    "            else: \n",
    "                fn += 1 #errei FN\n",
    "    \n",
    "    if (tp + fn) == 0 or (tp + fp) == 0:\n",
    "        return 0\n",
    "    else:\n",
    "        return 2 * ((tp / (tp + fn) * (tp / (tp+fp))) / ((tp / (tp + fn)) + (tp / (tp+fp))))\n",
    "\n",
    "metric = make_scorer(custom_metric)"
=======
   "execution_count": 22,
   "metadata": {},
   "outputs": [],
   "source": [
    "# CUSTOM METRIC P/ USO NO SKLEARN\n",
    "\n",
    "# Customized metric - recall0= TP0/(TP0+FN0); precision0= TP0/(TP0+FP0)\n",
    "# F1 0 = 2 * ((precision * recall) / (precision + recall)\n",
    "\n",
    "# def custom_metric(y_true, y_pred):\n",
    "    \n",
    "#     tp = 0\n",
    "#     fp = 0\n",
    "#     tn = 0\n",
    "#     fn = 0\n",
    "    \n",
    "#     for pred, real in zip(y_pred, y_true):\n",
    "#         if pred == 0:\n",
    "#             if real == 0: \n",
    "#                 tp += 1 #acertei TP\n",
    "#             else:\n",
    "#                 fp += 1 #errei FP\n",
    "#         else:\n",
    "#             if real == 1: \n",
    "#                 tn += 1 #acertei TN\n",
    "#             else: \n",
    "#                 fn += 1 #errei FN\n",
    "    \n",
    "#     if (tp + fn) == 0 or (tp + fp) == 0:\n",
    "#         return 0\n",
    "#     else:\n",
    "#         return 2 * ((tp / (tp + fn) * (tp / (tp+fp))) / ((tp / (tp + fn)) + (tp / (tp+fp))))\n",
    "\n",
    "# metric = make_scorer(custom_metric)"
>>>>>>> 9696076df5745f74fba89ee1934b45f0acdcee76
   ]
  },
  {
   "cell_type": "markdown",
   "metadata": {},
   "source": [
    "# 2. KNN Classifier"
   ]
  },
  {
   "cell_type": "markdown",
   "metadata": {},
   "source": [
    "# 2. KNN Classifier - 1. Exploracao SEM Balanceamento de Target"
   ]
  },
  {
   "cell_type": "code",
<<<<<<< HEAD
   "execution_count": 22,
   "metadata": {},
   "outputs": [
    {
     "name": "stderr",
     "output_type": "stream",
     "text": [
      "c:\\users\\solano\\.venvs\\lewagon\\lib\\site-packages\\sklearn\\model_selection\\_search.py:765: DataConversionWarning: A column-vector y was passed when a 1d array was expected. Please change the shape of y to (n_samples, ), for example using ravel().\n",
      "  self.best_estimator_.fit(X, y, **fit_params)\n"
     ]
    },
    {
     "data": {
      "text/plain": [
       "GridSearchCV(cv=5, estimator=KNeighborsClassifier(), n_jobs=-1,\n",
       "             param_grid={'n_neighbors': range(120, 130), 'p': [1, 2]},\n",
       "             scoring=make_scorer(custom_metric))"
      ]
     },
     "execution_count": 22,
     "metadata": {},
     "output_type": "execute_result"
    }
   ],
=======
   "execution_count": 23,
   "metadata": {},
   "outputs": [],
>>>>>>> 9696076df5745f74fba89ee1934b45f0acdcee76
   "source": [
    "# param_grid_knn_1 = {'n_neighbors': range(120, 130), 'p': [1, 2]}\n",
    "\n",
    "# knn_model_1 = KNeighborsClassifier()\n",
    "# grid_search_knn_1 = GridSearchCV(knn_model_1, param_grid_knn_1, scoring=metric, cv=5, n_jobs=-1) \n",
    "# grid_search_knn_1.fit(X_train, y_train)"
   ]
  },
  {
   "cell_type": "code",
<<<<<<< HEAD
   "execution_count": 23,
   "metadata": {},
   "outputs": [
    {
     "data": {
      "text/plain": [
       "{'n_neighbors': 120, 'p': 1}"
      ]
     },
     "execution_count": 23,
     "metadata": {},
     "output_type": "execute_result"
    }
   ],
=======
   "execution_count": 24,
   "metadata": {},
   "outputs": [],
>>>>>>> 9696076df5745f74fba89ee1934b45f0acdcee76
   "source": [
    "# grid_search_knn_1.best_params_"
   ]
  },
  {
   "cell_type": "code",
<<<<<<< HEAD
   "execution_count": 24,
   "metadata": {},
   "outputs": [
    {
     "data": {
      "text/plain": [
       "0.0"
      ]
     },
     "execution_count": 24,
     "metadata": {},
     "output_type": "execute_result"
    }
   ],
=======
   "execution_count": 25,
   "metadata": {},
   "outputs": [],
>>>>>>> 9696076df5745f74fba89ee1934b45f0acdcee76
   "source": [
    "# grid_search_knn_1.best_score_"
   ]
  },
  {
   "cell_type": "code",
<<<<<<< HEAD
   "execution_count": 25,
   "metadata": {},
   "outputs": [
    {
     "name": "stdout",
     "output_type": "stream",
     "text": [
      "***   KNN - SEM BALANCEAMENTO TARGET - THRESHOLD = 0.5   ***\n",
      "\n",
      "              precision    recall  f1-score   support\n",
      "\n",
      "           0       0.44      0.01      0.01      3373\n",
      "           1       0.73      1.00      0.84      8980\n",
      "\n",
      "    accuracy                           0.73     12353\n",
      "   macro avg       0.58      0.50      0.43     12353\n",
      "weighted avg       0.65      0.73      0.61     12353\n",
      "\n"
     ]
    }
   ],
=======
   "execution_count": 26,
   "metadata": {},
   "outputs": [],
>>>>>>> 9696076df5745f74fba89ee1934b45f0acdcee76
   "source": [
    "# y_pred_knn_1 = grid_search_knn_1.best_estimator_.predict(X_test)\n",
    "\n",
    "# print('***   KNN - SEM BALANCEAMENTO TARGET - THRESHOLD = 0.5   ***')\n",
    "# print('')\n",
    "# print(classification_report(y_true=y_test, y_pred=y_pred_knn_1))"
   ]
  },
  {
   "cell_type": "code",
<<<<<<< HEAD
   "execution_count": 26,
   "metadata": {},
   "outputs": [
    {
     "data": {
      "text/plain": [
       "1    12312\n",
       "0       41\n",
       "dtype: int64"
      ]
     },
     "execution_count": 26,
     "metadata": {},
     "output_type": "execute_result"
    }
   ],
=======
   "execution_count": 27,
   "metadata": {},
   "outputs": [],
>>>>>>> 9696076df5745f74fba89ee1934b45f0acdcee76
   "source": [
    "# pd.DataFrame(y_pred_knn_1).value_counts()"
   ]
  },
  {
   "cell_type": "markdown",
   "metadata": {},
   "source": [
    "# 2. KNN Classifier - 2. Exploracao COM Balanceamento de Target"
   ]
  },
  {
   "cell_type": "code",
<<<<<<< HEAD
   "execution_count": 27,
=======
   "execution_count": 28,
>>>>>>> 9696076df5745f74fba89ee1934b45f0acdcee76
   "metadata": {},
   "outputs": [
    {
     "name": "stderr",
     "output_type": "stream",
     "text": [
      "c:\\users\\solano\\.venvs\\lewagon\\lib\\site-packages\\sklearn\\model_selection\\_search.py:765: DataConversionWarning: A column-vector y was passed when a 1d array was expected. Please change the shape of y to (n_samples, ), for example using ravel().\n",
      "  self.best_estimator_.fit(X, y, **fit_params)\n"
     ]
    },
    {
     "data": {
      "text/plain": [
       "GridSearchCV(cv=5, estimator=KNeighborsClassifier(), n_jobs=-1,\n",
       "             param_grid={'n_neighbors': range(120, 130), 'p': [1, 2]},\n",
<<<<<<< HEAD
       "             scoring=make_scorer(custom_metric))"
      ]
     },
     "execution_count": 27,
=======
       "             scoring='f1_weighted')"
      ]
     },
     "execution_count": 28,
>>>>>>> 9696076df5745f74fba89ee1934b45f0acdcee76
     "metadata": {},
     "output_type": "execute_result"
    }
   ],
   "source": [
    "param_grid_knn_2 = {'n_neighbors': range(120, 130), 'p': [1, 2]}\n",
    "\n",
    "knn_model_2 = KNeighborsClassifier()\n",
    "grid_search_knn_2 = GridSearchCV(knn_model_2, param_grid_knn_2, scoring=metric, cv=5, n_jobs=-1) \n",
    "grid_search_knn_2.fit(X_train_bal, y_train_bal)"
   ]
  },
  {
   "cell_type": "code",
<<<<<<< HEAD
   "execution_count": 28,
=======
   "execution_count": 29,
>>>>>>> 9696076df5745f74fba89ee1934b45f0acdcee76
   "metadata": {},
   "outputs": [
    {
     "data": {
      "text/plain": [
<<<<<<< HEAD
       "{'n_neighbors': 120, 'p': 1}"
      ]
     },
     "execution_count": 28,
=======
       "{'n_neighbors': 121, 'p': 1}"
      ]
     },
     "execution_count": 29,
>>>>>>> 9696076df5745f74fba89ee1934b45f0acdcee76
     "metadata": {},
     "output_type": "execute_result"
    }
   ],
   "source": [
    "grid_search_knn_2.best_params_"
   ]
  },
  {
   "cell_type": "code",
<<<<<<< HEAD
   "execution_count": 29,
=======
   "execution_count": 30,
>>>>>>> 9696076df5745f74fba89ee1934b45f0acdcee76
   "metadata": {},
   "outputs": [
    {
     "data": {
      "text/plain": [
<<<<<<< HEAD
       "0.0"
      ]
     },
     "execution_count": 29,
=======
       "0.5915272319944381"
      ]
     },
     "execution_count": 30,
>>>>>>> 9696076df5745f74fba89ee1934b45f0acdcee76
     "metadata": {},
     "output_type": "execute_result"
    }
   ],
   "source": [
    "grid_search_knn_2.best_score_"
   ]
  },
  {
   "cell_type": "code",
<<<<<<< HEAD
   "execution_count": 30,
=======
   "execution_count": 31,
>>>>>>> 9696076df5745f74fba89ee1934b45f0acdcee76
   "metadata": {},
   "outputs": [
    {
     "name": "stdout",
     "output_type": "stream",
     "text": [
      "***   KNN - COM BALANCEAMENTO TARGET - THRESHOLD = 0.5   ***\n",
      "\n",
      "              precision    recall  f1-score   support\n",
      "\n",
<<<<<<< HEAD
      "           0       0.32      0.59      0.41      3373\n",
      "           1       0.77      0.52      0.62      8980\n",
      "\n",
      "    accuracy                           0.54     12353\n",
      "   macro avg       0.54      0.56      0.52     12353\n",
      "weighted avg       0.65      0.54      0.56     12353\n",
=======
      "           0       0.32      0.58      0.41      3373\n",
      "           1       0.77      0.53      0.63      8980\n",
      "\n",
      "    accuracy                           0.55     12353\n",
      "   macro avg       0.54      0.56      0.52     12353\n",
      "weighted avg       0.65      0.55      0.57     12353\n",
>>>>>>> 9696076df5745f74fba89ee1934b45f0acdcee76
      "\n"
     ]
    }
   ],
   "source": [
    "y_pred_knn_2_1 = grid_search_knn_2.best_estimator_.predict(X_test)\n",
    "\n",
    "print('***   KNN - COM BALANCEAMENTO TARGET - THRESHOLD = 0.5   ***')\n",
    "print('')\n",
    "print(classification_report(y_true=y_test, y_pred=y_pred_knn_2_1))"
   ]
  },
  {
   "cell_type": "code",
<<<<<<< HEAD
   "execution_count": 31,
=======
   "execution_count": 32,
>>>>>>> 9696076df5745f74fba89ee1934b45f0acdcee76
   "metadata": {},
   "outputs": [
    {
     "data": {
      "text/plain": [
<<<<<<< HEAD
       "0    6321\n",
       "1    6032\n",
       "dtype: int64"
      ]
     },
     "execution_count": 31,
=======
       "1    6232\n",
       "0    6121\n",
       "dtype: int64"
      ]
     },
     "execution_count": 32,
>>>>>>> 9696076df5745f74fba89ee1934b45f0acdcee76
     "metadata": {},
     "output_type": "execute_result"
    }
   ],
   "source": [
    "pd.DataFrame(y_pred_knn_2_1).value_counts()"
   ]
  },
  {
   "cell_type": "code",
<<<<<<< HEAD
   "execution_count": 32,
=======
   "execution_count": 33,
>>>>>>> 9696076df5745f74fba89ee1934b45f0acdcee76
   "metadata": {},
   "outputs": [],
   "source": [
    "y_pred_proba_knn_2 = grid_search_knn_2.best_estimator_.predict_proba(X_test)\n",
    "y_pred_proba_knn_2 = np.delete(y_pred_proba_knn_2, 0, 1)"
   ]
  },
  {
   "cell_type": "code",
<<<<<<< HEAD
   "execution_count": 33,
=======
   "execution_count": 34,
>>>>>>> 9696076df5745f74fba89ee1934b45f0acdcee76
   "metadata": {},
   "outputs": [
    {
     "name": "stdout",
     "output_type": "stream",
     "text": [
      "***   KNN - COM BALANCEAMENTO TARGET - THRESHOLD = 0.6   ***\n",
      "\n",
      "              precision    recall  f1-score   support\n",
      "\n",
<<<<<<< HEAD
      "           0       0.29      0.87      0.43      3373\n",
      "           1       0.80      0.19      0.31      8980\n",
      "\n",
      "    accuracy                           0.38     12353\n",
      "   macro avg       0.54      0.53      0.37     12353\n",
      "weighted avg       0.66      0.38      0.35     12353\n",
=======
      "           0       0.29      0.86      0.43      3373\n",
      "           1       0.80      0.21      0.33      8980\n",
      "\n",
      "    accuracy                           0.38     12353\n",
      "   macro avg       0.54      0.53      0.38     12353\n",
      "weighted avg       0.66      0.38      0.36     12353\n",
>>>>>>> 9696076df5745f74fba89ee1934b45f0acdcee76
      "\n"
     ]
    }
   ],
   "source": [
    "threshold = 0.6\n",
    "\n",
    "y_pred_knn_2_2 = y_pred_proba_knn_2.copy()\n",
    "\n",
    "for row in range(len(y_pred_knn_2_2)):\n",
    "    if y_pred_knn_2_2[row] > threshold:\n",
    "        y_pred_knn_2_2[row] = 1\n",
    "    else:\n",
    "        y_pred_knn_2_2[row] = 0\n",
    "\n",
    "print(f'***   KNN - COM BALANCEAMENTO TARGET - THRESHOLD = {threshold}   ***')\n",
    "print('')\n",
    "print(classification_report(y_true=y_test, y_pred=y_pred_knn_2_2))"
   ]
  },
  {
   "cell_type": "code",
<<<<<<< HEAD
   "execution_count": 34,
=======
   "execution_count": 35,
>>>>>>> 9696076df5745f74fba89ee1934b45f0acdcee76
   "metadata": {},
   "outputs": [
    {
     "data": {
      "text/plain": [
<<<<<<< HEAD
       "0.0    10165\n",
       "1.0     2188\n",
       "dtype: int64"
      ]
     },
     "execution_count": 34,
=======
       "0.0    10029\n",
       "1.0     2324\n",
       "dtype: int64"
      ]
     },
     "execution_count": 35,
>>>>>>> 9696076df5745f74fba89ee1934b45f0acdcee76
     "metadata": {},
     "output_type": "execute_result"
    }
   ],
   "source": [
    "pd.DataFrame(y_pred_knn_2_2).value_counts()"
   ]
  },
  {
   "cell_type": "code",
<<<<<<< HEAD
   "execution_count": 35,
=======
   "execution_count": 36,
>>>>>>> 9696076df5745f74fba89ee1934b45f0acdcee76
   "metadata": {},
   "outputs": [
    {
     "name": "stderr",
     "output_type": "stream",
     "text": [
      "c:\\users\\solano\\.venvs\\lewagon\\lib\\site-packages\\sklearn\\metrics\\_classification.py:1221: UndefinedMetricWarning: Precision and F-score are ill-defined and being set to 0.0 in labels with no predicted samples. Use `zero_division` parameter to control this behavior.\n",
      "  _warn_prf(average, modifier, msg_start, len(result))\n"
     ]
    }
   ],
   "source": [
    "thresholds = np.arange(0.0, 1.05, 0.05)\n",
    "\n",
    "metrics_per_threshold_knn_2 = []\n",
    "\n",
    "for threshold in thresholds:\n",
    "    y_pred_knn_2 = y_pred_proba_knn_2.copy()\n",
    "    for row in range(len(y_pred_knn_2)):\n",
    "        if y_pred_knn_2[row] > threshold:\n",
    "            y_pred_knn_2[row] = 1\n",
    "        else:\n",
    "            y_pred_knn_2[row] = 0\n",
    "    precision_0 = classification_report(y_true=y_test, y_pred=y_pred_knn_2, output_dict=True)['0']['precision']\n",
    "    recall_0 = classification_report(y_true=y_test, y_pred=y_pred_knn_2, output_dict=True)['0']['recall']\n",
    "    metrics_per_threshold_knn_2.append([threshold, precision_0, recall_0])"
   ]
  },
  {
   "cell_type": "code",
<<<<<<< HEAD
   "execution_count": 36,
=======
   "execution_count": 37,
>>>>>>> 9696076df5745f74fba89ee1934b45f0acdcee76
   "metadata": {},
   "outputs": [
    {
     "name": "stdout",
     "output_type": "stream",
     "text": [
      "***   KNN - COM BALANCEAMENTO TARGET - THRESHOLD = 0 ~ 1   ***\n"
     ]
    },
    {
     "data": {
<<<<<<< HEAD
      "image/png": "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\n",
=======
      "image/png": "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\n",
>>>>>>> 9696076df5745f74fba89ee1934b45f0acdcee76
      "text/plain": [
       "<Figure size 432x288 with 1 Axes>"
      ]
     },
     "metadata": {
      "needs_background": "light"
     },
     "output_type": "display_data"
    }
   ],
   "source": [
    "print('***   KNN - COM BALANCEAMENTO TARGET - THRESHOLD = 0 ~ 1   ***')\n",
    "plt.plot(np.array(metrics_per_threshold_knn_2)[:,0], np.array(metrics_per_threshold_knn_2)[:,1])\n",
    "plt.plot(np.array(metrics_per_threshold_knn_2)[:,0], np.array(metrics_per_threshold_knn_2)[:,2])\n",
    "plt.title('Metrics X Threshold')\n",
    "plt.ylabel('Metric')\n",
    "plt.xlabel('Threshold')\n",
    "plt.legend(['Precision 0', 'Recall 0'], loc='best')\n",
    "plt.show()"
   ]
  },
  {
<<<<<<< HEAD
   "cell_type": "markdown",
   "metadata": {},
   "source": [
    "# 3. SGD Classifier"
   ]
  },
  {
   "cell_type": "markdown",
   "metadata": {},
   "source": [
    "# 3. SGD Classifier - 1. Explocacao SEM Balanceamento de Target"
   ]
  },
  {
   "cell_type": "code",
   "execution_count": 37,
   "metadata": {},
   "outputs": [
    {
     "name": "stderr",
     "output_type": "stream",
     "text": [
      "c:\\users\\solano\\.venvs\\lewagon\\lib\\site-packages\\sklearn\\utils\\validation.py:72: DataConversionWarning: A column-vector y was passed when a 1d array was expected. Please change the shape of y to (n_samples, ), for example using ravel().\n",
      "  return f(**kwargs)\n"
     ]
    },
    {
     "data": {
      "text/plain": [
       "GridSearchCV(cv=5, estimator=SGDClassifier(), n_jobs=-1,\n",
       "             param_grid={'alpha': [1e-05, 0.0001, 0.001, 0.01, 0.1, 1],\n",
       "                         'epsilon': [0.001, 0.01, 0.1, 1, 10, 100],\n",
       "                         'loss': ['log', 'hinge'],\n",
       "                         'penalty': ['l2', 'l1', 'elasticnet']},\n",
       "             scoring=make_scorer(custom_metric))"
      ]
     },
     "execution_count": 37,
     "metadata": {},
     "output_type": "execute_result"
    }
   ],
   "source": [
    "# param_grid_sgd_1 = {'loss': ['log', 'hinge'],\n",
    "#                     'penalty': ['l2', 'l1', 'elasticnet'],\n",
    "#                     'alpha': [0.00001, 0.0001, 0.001, 0.01, 0.1, 1],\n",
    "#                     'epsilon': [0.001, 0.01, 0.1, 1, 10, 100]}\n",
    "\n",
    "# sgd_model_1 = SGDClassifier()\n",
    "# grid_search_sgd_1 = GridSearchCV(sgd_model_1, param_grid_sgd_1, scoring=metric, cv=5, n_jobs=-1) \n",
    "# grid_search_sgd_1.fit(X_train, y_train)"
   ]
  },
  {
   "cell_type": "code",
   "execution_count": 38,
   "metadata": {},
   "outputs": [
    {
     "data": {
      "text/plain": [
       "{'alpha': 1e-05, 'epsilon': 0.001, 'loss': 'log', 'penalty': 'l2'}"
      ]
     },
     "execution_count": 38,
     "metadata": {},
     "output_type": "execute_result"
    }
   ],
   "source": [
    "# grid_search_sgd_1.best_params_"
=======
   "cell_type": "code",
   "execution_count": 38,
   "metadata": {},
   "outputs": [],
   "source": [
    "permutation_score_knn_2 = permutation_importance(grid_search_knn_2.best_estimator_,\n",
    "                                                 X_train_bal, y_train_bal,\n",
    "                                                 n_repeats=1, random_state=42)"
>>>>>>> 9696076df5745f74fba89ee1934b45f0acdcee76
   ]
  },
  {
   "cell_type": "code",
   "execution_count": 39,
   "metadata": {},
   "outputs": [
    {
     "data": {
      "text/plain": [
<<<<<<< HEAD
       "0.0"
=======
       "array([['Credit.Minus.Loan', -0.001856789183012797],\n",
       "       ['Years.current_job_enc', 0.029399162064368656],\n",
       "       ['Tax.Liens.Enc', 0.0],\n",
       "       ['Leverage', 0.008807846124547769],\n",
       "       ['Bankruptcies.enc', 0.00019043991620648626],\n",
       "       ['Years.since.last.delinquent', 0.002404303942106223],\n",
       "       ['Loan.vs.Income', 0.006427347171967246],\n",
       "       ['Term.Encoded', 0.0064749571510188675],\n",
       "       ['Number.of.Open.Accounts.Labeled', 0.0009045896019805877],\n",
       "       ['Number.of.Credit.Problems.Labeled', -9.521995810324313e-05],\n",
       "       ['Credit.Score.Labeled', 0.011878689773376472],\n",
       "       ['Year.Credit.History.Labeled', 0.008165111407350989],\n",
       "       ['H.O.Home Mortgage', -0.00097600457055802],\n",
       "       ['H.O.Own Home', 0.0012854694343934492],\n",
       "       ['H.O.Rent', -0.0010712245286611521],\n",
       "       ['Purp.Business Loan', -0.0001428299371548647],\n",
       "       ['Purp.Buy House', 0.00021424490573229704],\n",
       "       ['Purp.Buy a Car', 7.141496857743235e-05],\n",
       "       ['Purp.Debt Consolidation', -0.0008569796229289661],\n",
       "       ['Purp.Home Improvements', 0.0005237097695677262],\n",
       "       ['Purp.Medical Bills', -2.3804989525810782e-05],\n",
       "       ['Purp.Other', -0.0014282993715483139]], dtype=object)"
>>>>>>> 9696076df5745f74fba89ee1934b45f0acdcee76
      ]
     },
     "execution_count": 39,
     "metadata": {},
     "output_type": "execute_result"
    }
   ],
   "source": [
<<<<<<< HEAD
    "# grid_search_sgd_1.best_score_"
=======
    "features_importance_knn_2 = np.vstack((X_train_bal.columns, permutation_score_knn_2['importances_mean'])).T\n",
    "features_importance_knn_2"
>>>>>>> 9696076df5745f74fba89ee1934b45f0acdcee76
   ]
  },
  {
   "cell_type": "code",
   "execution_count": 40,
   "metadata": {},
   "outputs": [
    {
<<<<<<< HEAD
     "name": "stdout",
     "output_type": "stream",
     "text": [
      "***   SGD - SEM BALANCEAMENTO TARGET - THRESHOLD = 0.5   ***\n",
      "\n",
      "              precision    recall  f1-score   support\n",
      "\n",
      "           0       0.59      0.00      0.01      3373\n",
      "           1       0.73      1.00      0.84      8980\n",
      "\n",
      "    accuracy                           0.73     12353\n",
      "   macro avg       0.66      0.50      0.42     12353\n",
      "weighted avg       0.69      0.73      0.61     12353\n",
      "\n"
     ]
    }
   ],
   "source": [
    "# y_pred_sgd_1 = grid_search_sgd_1.best_estimator_.predict(X_test)\n",
    "\n",
    "# print('***   SGD - SEM BALANCEAMENTO TARGET - THRESHOLD = 0.5   ***')\n",
    "# print('')\n",
    "# print(classification_report(y_true=y_test, y_pred=y_pred_sgd_1))"
   ]
  },
=======
     "data": {
      "text/html": [
       "<div>\n",
       "<style scoped>\n",
       "    .dataframe tbody tr th:only-of-type {\n",
       "        vertical-align: middle;\n",
       "    }\n",
       "\n",
       "    .dataframe tbody tr th {\n",
       "        vertical-align: top;\n",
       "    }\n",
       "\n",
       "    .dataframe thead th {\n",
       "        text-align: right;\n",
       "    }\n",
       "</style>\n",
       "<table border=\"1\" class=\"dataframe\">\n",
       "  <thead>\n",
       "    <tr style=\"text-align: right;\">\n",
       "      <th></th>\n",
       "      <th>0</th>\n",
       "      <th>1</th>\n",
       "    </tr>\n",
       "  </thead>\n",
       "  <tbody>\n",
       "    <tr>\n",
       "      <th>0</th>\n",
       "      <td>Years.current_job_enc</td>\n",
       "      <td>0.0293992</td>\n",
       "    </tr>\n",
       "    <tr>\n",
       "      <th>1</th>\n",
       "      <td>Credit.Score.Labeled</td>\n",
       "      <td>0.0118787</td>\n",
       "    </tr>\n",
       "    <tr>\n",
       "      <th>2</th>\n",
       "      <td>Leverage</td>\n",
       "      <td>0.00880785</td>\n",
       "    </tr>\n",
       "    <tr>\n",
       "      <th>3</th>\n",
       "      <td>Year.Credit.History.Labeled</td>\n",
       "      <td>0.00816511</td>\n",
       "    </tr>\n",
       "    <tr>\n",
       "      <th>4</th>\n",
       "      <td>Term.Encoded</td>\n",
       "      <td>0.00647496</td>\n",
       "    </tr>\n",
       "    <tr>\n",
       "      <th>5</th>\n",
       "      <td>Loan.vs.Income</td>\n",
       "      <td>0.00642735</td>\n",
       "    </tr>\n",
       "    <tr>\n",
       "      <th>6</th>\n",
       "      <td>Years.since.last.delinquent</td>\n",
       "      <td>0.0024043</td>\n",
       "    </tr>\n",
       "    <tr>\n",
       "      <th>7</th>\n",
       "      <td>H.O.Own Home</td>\n",
       "      <td>0.00128547</td>\n",
       "    </tr>\n",
       "    <tr>\n",
       "      <th>8</th>\n",
       "      <td>Number.of.Open.Accounts.Labeled</td>\n",
       "      <td>0.00090459</td>\n",
       "    </tr>\n",
       "    <tr>\n",
       "      <th>9</th>\n",
       "      <td>Purp.Home Improvements</td>\n",
       "      <td>0.00052371</td>\n",
       "    </tr>\n",
       "    <tr>\n",
       "      <th>10</th>\n",
       "      <td>Purp.Buy House</td>\n",
       "      <td>0.000214245</td>\n",
       "    </tr>\n",
       "    <tr>\n",
       "      <th>11</th>\n",
       "      <td>Bankruptcies.enc</td>\n",
       "      <td>0.00019044</td>\n",
       "    </tr>\n",
       "    <tr>\n",
       "      <th>12</th>\n",
       "      <td>Purp.Buy a Car</td>\n",
       "      <td>7.1415e-05</td>\n",
       "    </tr>\n",
       "    <tr>\n",
       "      <th>13</th>\n",
       "      <td>Tax.Liens.Enc</td>\n",
       "      <td>0</td>\n",
       "    </tr>\n",
       "    <tr>\n",
       "      <th>14</th>\n",
       "      <td>Purp.Medical Bills</td>\n",
       "      <td>-2.3805e-05</td>\n",
       "    </tr>\n",
       "    <tr>\n",
       "      <th>15</th>\n",
       "      <td>Number.of.Credit.Problems.Labeled</td>\n",
       "      <td>-9.522e-05</td>\n",
       "    </tr>\n",
       "    <tr>\n",
       "      <th>16</th>\n",
       "      <td>Purp.Business Loan</td>\n",
       "      <td>-0.00014283</td>\n",
       "    </tr>\n",
       "    <tr>\n",
       "      <th>17</th>\n",
       "      <td>Purp.Debt Consolidation</td>\n",
       "      <td>-0.00085698</td>\n",
       "    </tr>\n",
       "    <tr>\n",
       "      <th>18</th>\n",
       "      <td>H.O.Home Mortgage</td>\n",
       "      <td>-0.000976005</td>\n",
       "    </tr>\n",
       "    <tr>\n",
       "      <th>19</th>\n",
       "      <td>H.O.Rent</td>\n",
       "      <td>-0.00107122</td>\n",
       "    </tr>\n",
       "    <tr>\n",
       "      <th>20</th>\n",
       "      <td>Purp.Other</td>\n",
       "      <td>-0.0014283</td>\n",
       "    </tr>\n",
       "    <tr>\n",
       "      <th>21</th>\n",
       "      <td>Credit.Minus.Loan</td>\n",
       "      <td>-0.00185679</td>\n",
       "    </tr>\n",
       "  </tbody>\n",
       "</table>\n",
       "</div>"
      ],
      "text/plain": [
       "                                    0            1\n",
       "0               Years.current_job_enc    0.0293992\n",
       "1                Credit.Score.Labeled    0.0118787\n",
       "2                            Leverage   0.00880785\n",
       "3         Year.Credit.History.Labeled   0.00816511\n",
       "4                        Term.Encoded   0.00647496\n",
       "5                      Loan.vs.Income   0.00642735\n",
       "6         Years.since.last.delinquent    0.0024043\n",
       "7                        H.O.Own Home   0.00128547\n",
       "8     Number.of.Open.Accounts.Labeled   0.00090459\n",
       "9              Purp.Home Improvements   0.00052371\n",
       "10                     Purp.Buy House  0.000214245\n",
       "11                   Bankruptcies.enc   0.00019044\n",
       "12                     Purp.Buy a Car   7.1415e-05\n",
       "13                      Tax.Liens.Enc            0\n",
       "14                 Purp.Medical Bills  -2.3805e-05\n",
       "15  Number.of.Credit.Problems.Labeled   -9.522e-05\n",
       "16                 Purp.Business Loan  -0.00014283\n",
       "17            Purp.Debt Consolidation  -0.00085698\n",
       "18                  H.O.Home Mortgage -0.000976005\n",
       "19                           H.O.Rent  -0.00107122\n",
       "20                         Purp.Other   -0.0014283\n",
       "21                  Credit.Minus.Loan  -0.00185679"
      ]
     },
     "execution_count": 40,
     "metadata": {},
     "output_type": "execute_result"
    }
   ],
   "source": [
    "pd.DataFrame(np.vstack((X_train_bal.columns, permutation_score_knn_2['importances_mean'])).T).sort_values(by=[1], ascending=False).reset_index(drop=True)"
   ]
  },
>>>>>>> 9696076df5745f74fba89ee1934b45f0acdcee76
  {
   "cell_type": "code",
   "execution_count": 41,
   "metadata": {},
   "outputs": [
    {
     "data": {
      "text/plain": [
<<<<<<< HEAD
       "1    12336\n",
       "0       17\n",
       "dtype: int64"
=======
       "['Years.current_job_enc',\n",
       " 'Leverage',\n",
       " 'Bankruptcies.enc',\n",
       " 'Years.since.last.delinquent',\n",
       " 'Loan.vs.Income',\n",
       " 'Term.Encoded',\n",
       " 'Number.of.Open.Accounts.Labeled',\n",
       " 'Credit.Score.Labeled',\n",
       " 'Year.Credit.History.Labeled',\n",
       " 'H.O.Own Home',\n",
       " 'Purp.Buy House',\n",
       " 'Purp.Buy a Car',\n",
       " 'Purp.Home Improvements']"
>>>>>>> 9696076df5745f74fba89ee1934b45f0acdcee76
      ]
     },
     "execution_count": 41,
     "metadata": {},
     "output_type": "execute_result"
    }
   ],
   "source": [
<<<<<<< HEAD
    "# pd.DataFrame(y_pred_sgd_1).value_counts()"
   ]
  },
  {
   "cell_type": "markdown",
   "metadata": {},
   "source": [
    "# 3. SGD Classifier - 2. Explocacao COM Balanceamento de Target"
=======
    "min_importance = 1e-10\n",
    "\n",
    "final_features_knn_2 = []\n",
    "\n",
    "for importance in features_importance_knn_2:\n",
    "    if importance[1] >= min_importance:\n",
    "        final_features_knn_2.append(importance[0])\n",
    "\n",
    "final_features_knn_2"
   ]
  },
  {
   "cell_type": "code",
   "execution_count": 42,
   "metadata": {},
   "outputs": [],
   "source": [
    "X_train_bal_knn_2 = X_train_bal[final_features_knn_2]\n",
    "X_test_knn_2 = X_test[final_features_knn_2]"
   ]
  },
  {
   "cell_type": "code",
   "execution_count": 43,
   "metadata": {},
   "outputs": [
    {
     "name": "stderr",
     "output_type": "stream",
     "text": [
      "c:\\users\\solano\\.venvs\\lewagon\\lib\\site-packages\\sklearn\\model_selection\\_search.py:765: DataConversionWarning: A column-vector y was passed when a 1d array was expected. Please change the shape of y to (n_samples, ), for example using ravel().\n",
      "  self.best_estimator_.fit(X, y, **fit_params)\n"
     ]
    },
    {
     "data": {
      "text/plain": [
       "GridSearchCV(cv=5, estimator=KNeighborsClassifier(), n_jobs=-1,\n",
       "             param_grid={'n_neighbors': range(120, 130), 'p': [1, 2]},\n",
       "             scoring='f1_weighted')"
      ]
     },
     "execution_count": 43,
     "metadata": {},
     "output_type": "execute_result"
    }
   ],
   "source": [
    "param_grid_knn_2f = {'n_neighbors': range(120, 130), 'p': [1, 2]}\n",
    "\n",
    "knn_model_2f = KNeighborsClassifier()\n",
    "grid_search_knn_2f = GridSearchCV(knn_model_2f, param_grid_knn_2f, scoring=metric, cv=5, n_jobs=-1) \n",
    "grid_search_knn_2f.fit(X_train_bal_knn_2, y_train_bal)"
   ]
  },
  {
   "cell_type": "code",
   "execution_count": 44,
   "metadata": {},
   "outputs": [
    {
     "data": {
      "text/plain": [
       "{'n_neighbors': 123, 'p': 1}"
      ]
     },
     "execution_count": 44,
     "metadata": {},
     "output_type": "execute_result"
    }
   ],
   "source": [
    "grid_search_knn_2f.best_params_"
   ]
  },
  {
   "cell_type": "code",
   "execution_count": 45,
   "metadata": {},
   "outputs": [
    {
     "data": {
      "text/plain": [
       "0.5956750149591727"
      ]
     },
     "execution_count": 45,
     "metadata": {},
     "output_type": "execute_result"
    }
   ],
   "source": [
    "grid_search_knn_2f.best_score_"
   ]
  },
  {
   "cell_type": "code",
   "execution_count": 46,
   "metadata": {},
   "outputs": [
    {
     "name": "stdout",
     "output_type": "stream",
     "text": [
      "***   KNN - COM BALANCEAMENTO TARGET - THRESHOLD = 0.5   ***\n",
      "\n",
      "              precision    recall  f1-score   support\n",
      "\n",
      "           0       0.32      0.57      0.41      3373\n",
      "           1       0.77      0.54      0.63      8980\n",
      "\n",
      "    accuracy                           0.55     12353\n",
      "   macro avg       0.54      0.55      0.52     12353\n",
      "weighted avg       0.65      0.55      0.57     12353\n",
      "\n"
     ]
    }
   ],
   "source": [
    "y_pred_knn_2f_1 = grid_search_knn_2f.best_estimator_.predict(X_test_knn_2)\n",
    "\n",
    "print('***   KNN - COM BALANCEAMENTO TARGET - THRESHOLD = 0.5   ***')\n",
    "print('')\n",
    "print(classification_report(y_true=y_test, y_pred=y_pred_knn_2f_1))"
   ]
  },
  {
   "cell_type": "code",
   "execution_count": 47,
   "metadata": {},
   "outputs": [
    {
     "data": {
      "text/plain": [
       "1    6247\n",
       "0    6106\n",
       "dtype: int64"
      ]
     },
     "execution_count": 47,
     "metadata": {},
     "output_type": "execute_result"
    }
   ],
   "source": [
    "pd.DataFrame(y_pred_knn_2f_1).value_counts()"
   ]
  },
  {
   "cell_type": "markdown",
   "metadata": {},
   "source": [
    "# 3. SGD Classifier"
   ]
  },
  {
   "cell_type": "markdown",
   "metadata": {},
   "source": [
    "# 3. SGD Classifier - 1. Explocacao SEM Balanceamento de Target"
   ]
  },
  {
   "cell_type": "code",
   "execution_count": 48,
   "metadata": {},
   "outputs": [],
   "source": [
    "# param_grid_sgd_1 = {'loss': ['log'], # , 'hinge'\n",
    "#                     'penalty': ['l2', 'l1', 'elasticnet'],\n",
    "#                     'alpha': [0.00001, 0.0001, 0.001, 0.01, 0.1, 1],\n",
    "#                     'epsilon': [0.001, 0.01, 0.1, 1, 10, 100]}\n",
    "\n",
    "# sgd_model_1 = SGDClassifier()\n",
    "# grid_search_sgd_1 = GridSearchCV(sgd_model_1, param_grid_sgd_1, scoring=metric, cv=5, n_jobs=-1) \n",
    "# grid_search_sgd_1.fit(X_train, y_train)"
   ]
  },
  {
   "cell_type": "code",
   "execution_count": 49,
   "metadata": {},
   "outputs": [],
   "source": [
    "# grid_search_sgd_1.best_params_"
   ]
  },
  {
   "cell_type": "code",
   "execution_count": 50,
   "metadata": {},
   "outputs": [],
   "source": [
    "# grid_search_sgd_1.best_score_"
   ]
  },
  {
   "cell_type": "code",
   "execution_count": 51,
   "metadata": {},
   "outputs": [],
   "source": [
    "# y_pred_sgd_1 = grid_search_sgd_1.best_estimator_.predict(X_test)\n",
    "\n",
    "# print('***   SGD - SEM BALANCEAMENTO TARGET - THRESHOLD = 0.5   ***')\n",
    "# print('')\n",
    "# print(classification_report(y_true=y_test, y_pred=y_pred_sgd_1))"
   ]
  },
  {
   "cell_type": "code",
   "execution_count": 52,
   "metadata": {},
   "outputs": [],
   "source": [
    "# pd.DataFrame(y_pred_sgd_1).value_counts()"
   ]
  },
  {
   "cell_type": "markdown",
   "metadata": {},
   "source": [
    "# 3. SGD Classifier - 2. Explocacao COM Balanceamento de Target"
   ]
  },
  {
   "cell_type": "code",
   "execution_count": 59,
   "metadata": {},
   "outputs": [
    {
     "name": "stderr",
     "output_type": "stream",
     "text": [
      "c:\\users\\solano\\.venvs\\lewagon\\lib\\site-packages\\sklearn\\utils\\validation.py:72: DataConversionWarning: A column-vector y was passed when a 1d array was expected. Please change the shape of y to (n_samples, ), for example using ravel().\n",
      "  return f(**kwargs)\n"
     ]
    },
    {
     "data": {
      "text/plain": [
       "GridSearchCV(cv=5, estimator=SGDClassifier(), n_jobs=-1,\n",
       "             param_grid={'alpha': [1e-05, 0.0001, 0.001, 0.01, 0.1, 1],\n",
       "                         'epsilon': [0.001, 0.01, 0.1, 1, 10, 100],\n",
       "                         'loss': ['log'],\n",
       "                         'penalty': ['l2', 'l1', 'elasticnet']},\n",
       "             scoring='f1_weighted')"
      ]
     },
     "execution_count": 59,
     "metadata": {},
     "output_type": "execute_result"
    }
   ],
   "source": [
    "param_grid_sgd_2 = {'loss': ['log'], # , 'hinge'\n",
    "                    'penalty': ['l2', 'l1', 'elasticnet'],\n",
    "                    'alpha': [0.00001, 0.0001, 0.001, 0.01, 0.1, 1],\n",
    "                    'epsilon': [0.001, 0.01, 0.1, 1, 10, 100]}\n",
    "\n",
    "sgd_model_2 = SGDClassifier()\n",
    "grid_search_sgd_2 = GridSearchCV(sgd_model_2, param_grid_sgd_2, scoring=metric, cv=5, n_jobs=-1) \n",
    "grid_search_sgd_2.fit(X_train_bal, y_train_bal)"
   ]
  },
  {
   "cell_type": "code",
   "execution_count": 60,
   "metadata": {},
   "outputs": [
    {
     "data": {
      "text/plain": [
       "{'alpha': 0.0001, 'epsilon': 0.01, 'loss': 'log', 'penalty': 'elasticnet'}"
      ]
     },
     "execution_count": 60,
     "metadata": {},
     "output_type": "execute_result"
    }
   ],
   "source": [
    "grid_search_sgd_2.best_params_"
   ]
  },
  {
   "cell_type": "code",
   "execution_count": 61,
   "metadata": {},
   "outputs": [
    {
     "data": {
      "text/plain": [
       "0.5923336789035891"
      ]
     },
     "execution_count": 61,
     "metadata": {},
     "output_type": "execute_result"
    }
   ],
   "source": [
    "grid_search_sgd_2.best_score_"
   ]
  },
  {
   "cell_type": "code",
   "execution_count": 62,
   "metadata": {},
   "outputs": [
    {
     "name": "stdout",
     "output_type": "stream",
     "text": [
      "***   SGD - COM BALANCEAMENTO TARGET - THRESHOLD = 0.5   ***\n",
      "\n",
      "              precision    recall  f1-score   support\n",
      "\n",
      "           0       0.34      0.51      0.41      3373\n",
      "           1       0.77      0.63      0.70      8980\n",
      "\n",
      "    accuracy                           0.60     12353\n",
      "   macro avg       0.56      0.57      0.55     12353\n",
      "weighted avg       0.66      0.60      0.62     12353\n",
      "\n"
     ]
    }
   ],
   "source": [
    "y_pred_sgd_2_1 = grid_search_sgd_2.best_estimator_.predict(X_test)\n",
    "\n",
    "print('***   SGD - COM BALANCEAMENTO TARGET - THRESHOLD = 0.5   ***')\n",
    "print('')\n",
    "print(classification_report(y_true=y_test, y_pred=y_pred_sgd_2_1))"
   ]
  },
  {
   "cell_type": "code",
   "execution_count": 63,
   "metadata": {},
   "outputs": [
    {
     "data": {
      "text/plain": [
       "1    7347\n",
       "0    5006\n",
       "dtype: int64"
      ]
     },
     "execution_count": 63,
     "metadata": {},
     "output_type": "execute_result"
    }
   ],
   "source": [
    "pd.DataFrame(y_pred_sgd_2_1).value_counts()"
   ]
  },
  {
   "cell_type": "code",
   "execution_count": 64,
   "metadata": {},
   "outputs": [],
   "source": [
    "y_pred_proba_sgd_2 = grid_search_sgd_2.best_estimator_.predict_proba(X_test)\n",
    "y_pred_proba_sgd_2 = np.delete(y_pred_proba_sgd_2, 0, 1)"
   ]
  },
  {
   "cell_type": "code",
   "execution_count": 65,
   "metadata": {},
   "outputs": [
    {
     "name": "stdout",
     "output_type": "stream",
     "text": [
      "***   SGD - COM BALANCEAMENTO TARGET - THRESHOLD = 0.7   ***\n",
      "\n",
      "              precision    recall  f1-score   support\n",
      "\n",
      "           0       0.28      0.96      0.44      3373\n",
      "           1       0.84      0.09      0.15      8980\n",
      "\n",
      "    accuracy                           0.32     12353\n",
      "   macro avg       0.56      0.52      0.30     12353\n",
      "weighted avg       0.69      0.32      0.23     12353\n",
      "\n"
     ]
    }
   ],
   "source": [
    "threshold = 0.7\n",
    "\n",
    "y_pred_sgd_2_2 = y_pred_proba_sgd_2.copy()\n",
    "\n",
    "for row in range(len(y_pred_sgd_2_2)):\n",
    "    if y_pred_sgd_2_2[row] > threshold:\n",
    "        y_pred_sgd_2_2[row] = 1\n",
    "    else:\n",
    "        y_pred_sgd_2_2[row] = 0\n",
    "\n",
    "print(f'***   SGD - COM BALANCEAMENTO TARGET - THRESHOLD = {threshold}   ***')\n",
    "print('')\n",
    "print(classification_report(y_true=y_test, y_pred=y_pred_sgd_2_2))"
   ]
  },
  {
   "cell_type": "code",
   "execution_count": 66,
   "metadata": {},
   "outputs": [
    {
     "data": {
      "text/plain": [
       "0.0    11446\n",
       "1.0      907\n",
       "dtype: int64"
      ]
     },
     "execution_count": 66,
     "metadata": {},
     "output_type": "execute_result"
    }
   ],
   "source": [
    "pd.DataFrame(y_pred_sgd_2_2).value_counts()"
   ]
  },
  {
   "cell_type": "code",
   "execution_count": 67,
   "metadata": {},
   "outputs": [
    {
     "name": "stderr",
     "output_type": "stream",
     "text": [
      "c:\\users\\solano\\.venvs\\lewagon\\lib\\site-packages\\sklearn\\metrics\\_classification.py:1221: UndefinedMetricWarning: Precision and F-score are ill-defined and being set to 0.0 in labels with no predicted samples. Use `zero_division` parameter to control this behavior.\n",
      "  _warn_prf(average, modifier, msg_start, len(result))\n"
     ]
    }
   ],
   "source": [
    "thresholds = np.arange(0, 1.05, 0.05)\n",
    "\n",
    "metrics_per_threshold_sgd_2 = []\n",
    "\n",
    "for threshold in thresholds:\n",
    "    y_pred_sgd_2 = y_pred_proba_sgd_2.copy()\n",
    "    for row in range(len(y_pred_sgd_2)):\n",
    "        if y_pred_sgd_2[row] > threshold:\n",
    "            y_pred_sgd_2[row] = 1\n",
    "        else:\n",
    "            y_pred_sgd_2[row] = 0\n",
    "    precision_0 = classification_report(y_true=y_test, y_pred=y_pred_sgd_2, output_dict=True)['0']['precision']\n",
    "    recall_0 = classification_report(y_true=y_test, y_pred=y_pred_sgd_2, output_dict=True)['0']['recall']\n",
    "    metrics_per_threshold_sgd_2.append([threshold, precision_0, recall_0])"
   ]
  },
  {
   "cell_type": "code",
   "execution_count": 68,
   "metadata": {
    "scrolled": true
   },
   "outputs": [
    {
     "name": "stdout",
     "output_type": "stream",
     "text": [
      "***   SGD - COM BALANCEAMENTO TARGET - THRESHOLD = 0 ~ 1   ***\n"
     ]
    },
    {
     "data": {
      "image/png": "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\n",
      "text/plain": [
       "<Figure size 432x288 with 1 Axes>"
      ]
     },
     "metadata": {
      "needs_background": "light"
     },
     "output_type": "display_data"
    }
   ],
   "source": [
    "print('***   SGD - COM BALANCEAMENTO TARGET - THRESHOLD = 0 ~ 1   ***')\n",
    "plt.plot(np.array(metrics_per_threshold_sgd_2)[:,0], np.array(metrics_per_threshold_sgd_2)[:,1])\n",
    "plt.plot(np.array(metrics_per_threshold_sgd_2)[:,0], np.array(metrics_per_threshold_sgd_2)[:,2])\n",
    "plt.title('Metrics X Threshold')\n",
    "plt.ylabel('Metric')\n",
    "plt.xlabel('Threshold')\n",
    "plt.legend(['Precision 0', 'Recall 0'], loc='best')\n",
    "plt.show()"
   ]
  },
  {
   "cell_type": "code",
   "execution_count": 69,
   "metadata": {},
   "outputs": [],
   "source": [
    "permutation_score_sgd_2 = permutation_importance(grid_search_sgd_2.best_estimator_,\n",
    "                                                 X_train_bal, y_train_bal,\n",
    "                                                 n_repeats=1, random_state=42)"
>>>>>>> 9696076df5745f74fba89ee1934b45f0acdcee76
   ]
  },
  {
   "cell_type": "code",
<<<<<<< HEAD
   "execution_count": 42,
   "metadata": {},
   "outputs": [
    {
     "name": "stderr",
     "output_type": "stream",
     "text": [
      "c:\\users\\solano\\.venvs\\lewagon\\lib\\site-packages\\sklearn\\utils\\validation.py:72: DataConversionWarning: A column-vector y was passed when a 1d array was expected. Please change the shape of y to (n_samples, ), for example using ravel().\n",
      "  return f(**kwargs)\n"
     ]
    },
    {
     "data": {
      "text/plain": [
       "GridSearchCV(cv=5, estimator=SGDClassifier(), n_jobs=-1,\n",
       "             param_grid={'alpha': [1e-05, 0.0001, 0.001, 0.01, 0.1, 1],\n",
       "                         'epsilon': [0.001, 0.01, 0.1, 1, 10, 100],\n",
       "                         'loss': ['log', 'hinge'],\n",
       "                         'penalty': ['l2', 'l1', 'elasticnet']},\n",
       "             scoring=make_scorer(custom_metric))"
      ]
     },
     "execution_count": 42,
=======
   "execution_count": 70,
   "metadata": {},
   "outputs": [
    {
     "data": {
      "text/plain": [
       "array([['Credit.Minus.Loan', 0.0016901542563321215],\n",
       "       ['Years.current_job_enc', -0.00011902494762905391],\n",
       "       ['Tax.Liens.Enc', 7.141496857743235e-05],\n",
       "       ['Leverage', 0.022114835269472444],\n",
       "       ['Bankruptcies.enc', 7.141496857743235e-05],\n",
       "       ['Years.since.last.delinquent', -0.0003570748428870507],\n",
       "       ['Loan.vs.Income', 0.012664254427728006],\n",
       "       ['Term.Encoded', 0.009807655684631489],\n",
       "       ['Number.of.Open.Accounts.Labeled', 0.0029756236907255706],\n",
       "       ['Number.of.Credit.Problems.Labeled', 0.0004760997905161046],\n",
       "       ['Credit.Score.Labeled', 0.0014282993715483139],\n",
       "       ['Year.Credit.History.Labeled', 0.00016663492668067548],\n",
       "       ['H.O.Home Mortgage', 0.0],\n",
       "       ['H.O.Own Home', 0.0],\n",
       "       ['H.O.Rent', 0.002713768805941763],\n",
       "       ['Purp.Business Loan', -0.000547514759093537],\n",
       "       ['Purp.Buy House', 0.0009045896019805877],\n",
       "       ['Purp.Buy a Car', 0.00042848981146448306],\n",
       "       ['Purp.Debt Consolidation', 0.0],\n",
       "       ['Purp.Home Improvements', 0.0],\n",
       "       ['Purp.Medical Bills', 9.521995810324313e-05],\n",
       "       ['Purp.Other', -0.00021424490573229704]], dtype=object)"
      ]
     },
     "execution_count": 70,
>>>>>>> 9696076df5745f74fba89ee1934b45f0acdcee76
     "metadata": {},
     "output_type": "execute_result"
    }
   ],
   "source": [
<<<<<<< HEAD
    "param_grid_sgd_2 = {'loss': ['log', 'hinge'],\n",
    "                    'penalty': ['l2', 'l1', 'elasticnet'],\n",
    "                    'alpha': [0.00001, 0.0001, 0.001, 0.01, 0.1, 1],\n",
    "                    'epsilon': [0.001, 0.01, 0.1, 1, 10, 100]}\n",
    "\n",
    "sgd_model_2 = SGDClassifier()\n",
    "grid_search_sgd_2 = GridSearchCV(sgd_model_2, param_grid_sgd_2, scoring=metric, cv=5, n_jobs=-1) \n",
    "grid_search_sgd_2.fit(X_train_bal, y_train_bal)"
=======
    "features_importance_sgd_2 = np.vstack((X_train_bal.columns, permutation_score_sgd_2['importances_mean'])).T\n",
    "features_importance_sgd_2"
>>>>>>> 9696076df5745f74fba89ee1934b45f0acdcee76
   ]
  },
  {
   "cell_type": "code",
<<<<<<< HEAD
   "execution_count": 43,
=======
   "execution_count": 71,
>>>>>>> 9696076df5745f74fba89ee1934b45f0acdcee76
   "metadata": {},
   "outputs": [
    {
     "data": {
<<<<<<< HEAD
      "text/plain": [
       "{'alpha': 1e-05, 'epsilon': 0.001, 'loss': 'log', 'penalty': 'l2'}"
      ]
     },
     "execution_count": 43,
=======
      "text/html": [
       "<div>\n",
       "<style scoped>\n",
       "    .dataframe tbody tr th:only-of-type {\n",
       "        vertical-align: middle;\n",
       "    }\n",
       "\n",
       "    .dataframe tbody tr th {\n",
       "        vertical-align: top;\n",
       "    }\n",
       "\n",
       "    .dataframe thead th {\n",
       "        text-align: right;\n",
       "    }\n",
       "</style>\n",
       "<table border=\"1\" class=\"dataframe\">\n",
       "  <thead>\n",
       "    <tr style=\"text-align: right;\">\n",
       "      <th></th>\n",
       "      <th>0</th>\n",
       "      <th>1</th>\n",
       "    </tr>\n",
       "  </thead>\n",
       "  <tbody>\n",
       "    <tr>\n",
       "      <th>0</th>\n",
       "      <td>Leverage</td>\n",
       "      <td>0.0221148</td>\n",
       "    </tr>\n",
       "    <tr>\n",
       "      <th>1</th>\n",
       "      <td>Loan.vs.Income</td>\n",
       "      <td>0.0126643</td>\n",
       "    </tr>\n",
       "    <tr>\n",
       "      <th>2</th>\n",
       "      <td>Term.Encoded</td>\n",
       "      <td>0.00980766</td>\n",
       "    </tr>\n",
       "    <tr>\n",
       "      <th>3</th>\n",
       "      <td>Number.of.Open.Accounts.Labeled</td>\n",
       "      <td>0.00297562</td>\n",
       "    </tr>\n",
       "    <tr>\n",
       "      <th>4</th>\n",
       "      <td>H.O.Rent</td>\n",
       "      <td>0.00271377</td>\n",
       "    </tr>\n",
       "    <tr>\n",
       "      <th>5</th>\n",
       "      <td>Credit.Minus.Loan</td>\n",
       "      <td>0.00169015</td>\n",
       "    </tr>\n",
       "    <tr>\n",
       "      <th>6</th>\n",
       "      <td>Credit.Score.Labeled</td>\n",
       "      <td>0.0014283</td>\n",
       "    </tr>\n",
       "    <tr>\n",
       "      <th>7</th>\n",
       "      <td>Purp.Buy House</td>\n",
       "      <td>0.00090459</td>\n",
       "    </tr>\n",
       "    <tr>\n",
       "      <th>8</th>\n",
       "      <td>Number.of.Credit.Problems.Labeled</td>\n",
       "      <td>0.0004761</td>\n",
       "    </tr>\n",
       "    <tr>\n",
       "      <th>9</th>\n",
       "      <td>Purp.Buy a Car</td>\n",
       "      <td>0.00042849</td>\n",
       "    </tr>\n",
       "    <tr>\n",
       "      <th>10</th>\n",
       "      <td>Year.Credit.History.Labeled</td>\n",
       "      <td>0.000166635</td>\n",
       "    </tr>\n",
       "    <tr>\n",
       "      <th>11</th>\n",
       "      <td>Purp.Medical Bills</td>\n",
       "      <td>9.522e-05</td>\n",
       "    </tr>\n",
       "    <tr>\n",
       "      <th>12</th>\n",
       "      <td>Bankruptcies.enc</td>\n",
       "      <td>7.1415e-05</td>\n",
       "    </tr>\n",
       "    <tr>\n",
       "      <th>13</th>\n",
       "      <td>Tax.Liens.Enc</td>\n",
       "      <td>7.1415e-05</td>\n",
       "    </tr>\n",
       "    <tr>\n",
       "      <th>14</th>\n",
       "      <td>H.O.Home Mortgage</td>\n",
       "      <td>0</td>\n",
       "    </tr>\n",
       "    <tr>\n",
       "      <th>15</th>\n",
       "      <td>H.O.Own Home</td>\n",
       "      <td>0</td>\n",
       "    </tr>\n",
       "    <tr>\n",
       "      <th>16</th>\n",
       "      <td>Purp.Debt Consolidation</td>\n",
       "      <td>0</td>\n",
       "    </tr>\n",
       "    <tr>\n",
       "      <th>17</th>\n",
       "      <td>Purp.Home Improvements</td>\n",
       "      <td>0</td>\n",
       "    </tr>\n",
       "    <tr>\n",
       "      <th>18</th>\n",
       "      <td>Years.current_job_enc</td>\n",
       "      <td>-0.000119025</td>\n",
       "    </tr>\n",
       "    <tr>\n",
       "      <th>19</th>\n",
       "      <td>Purp.Other</td>\n",
       "      <td>-0.000214245</td>\n",
       "    </tr>\n",
       "    <tr>\n",
       "      <th>20</th>\n",
       "      <td>Years.since.last.delinquent</td>\n",
       "      <td>-0.000357075</td>\n",
       "    </tr>\n",
       "    <tr>\n",
       "      <th>21</th>\n",
       "      <td>Purp.Business Loan</td>\n",
       "      <td>-0.000547515</td>\n",
       "    </tr>\n",
       "  </tbody>\n",
       "</table>\n",
       "</div>"
      ],
      "text/plain": [
       "                                    0            1\n",
       "0                            Leverage    0.0221148\n",
       "1                      Loan.vs.Income    0.0126643\n",
       "2                        Term.Encoded   0.00980766\n",
       "3     Number.of.Open.Accounts.Labeled   0.00297562\n",
       "4                            H.O.Rent   0.00271377\n",
       "5                   Credit.Minus.Loan   0.00169015\n",
       "6                Credit.Score.Labeled    0.0014283\n",
       "7                      Purp.Buy House   0.00090459\n",
       "8   Number.of.Credit.Problems.Labeled    0.0004761\n",
       "9                      Purp.Buy a Car   0.00042849\n",
       "10        Year.Credit.History.Labeled  0.000166635\n",
       "11                 Purp.Medical Bills    9.522e-05\n",
       "12                   Bankruptcies.enc   7.1415e-05\n",
       "13                      Tax.Liens.Enc   7.1415e-05\n",
       "14                  H.O.Home Mortgage            0\n",
       "15                       H.O.Own Home            0\n",
       "16            Purp.Debt Consolidation            0\n",
       "17             Purp.Home Improvements            0\n",
       "18              Years.current_job_enc -0.000119025\n",
       "19                         Purp.Other -0.000214245\n",
       "20        Years.since.last.delinquent -0.000357075\n",
       "21                 Purp.Business Loan -0.000547515"
      ]
     },
     "execution_count": 71,
>>>>>>> 9696076df5745f74fba89ee1934b45f0acdcee76
     "metadata": {},
     "output_type": "execute_result"
    }
   ],
   "source": [
<<<<<<< HEAD
    "grid_search_sgd_2.best_params_"
=======
    "pd.DataFrame(np.vstack((X_train_bal.columns, permutation_score_sgd_2['importances_mean'])).T).sort_values(by=[1], ascending=False).reset_index(drop=True)"
>>>>>>> 9696076df5745f74fba89ee1934b45f0acdcee76
   ]
  },
  {
   "cell_type": "code",
<<<<<<< HEAD
   "execution_count": 44,
=======
   "execution_count": 72,
>>>>>>> 9696076df5745f74fba89ee1934b45f0acdcee76
   "metadata": {},
   "outputs": [
    {
     "data": {
      "text/plain": [
<<<<<<< HEAD
       "0.0"
      ]
     },
     "execution_count": 44,
=======
       "['Credit.Minus.Loan',\n",
       " 'Tax.Liens.Enc',\n",
       " 'Leverage',\n",
       " 'Bankruptcies.enc',\n",
       " 'Loan.vs.Income',\n",
       " 'Term.Encoded',\n",
       " 'Number.of.Open.Accounts.Labeled',\n",
       " 'Number.of.Credit.Problems.Labeled',\n",
       " 'Credit.Score.Labeled',\n",
       " 'Year.Credit.History.Labeled',\n",
       " 'H.O.Rent',\n",
       " 'Purp.Buy House',\n",
       " 'Purp.Buy a Car',\n",
       " 'Purp.Medical Bills']"
      ]
     },
     "execution_count": 72,
>>>>>>> 9696076df5745f74fba89ee1934b45f0acdcee76
     "metadata": {},
     "output_type": "execute_result"
    }
   ],
   "source": [
<<<<<<< HEAD
    "grid_search_sgd_2.best_score_"
=======
    "min_importance = 1e-10\n",
    "\n",
    "final_features_sgd_2 = []\n",
    "\n",
    "for importance in features_importance_sgd_2:\n",
    "    if importance[1] >= min_importance:\n",
    "        final_features_sgd_2.append(importance[0])\n",
    "\n",
    "final_features_sgd_2"
>>>>>>> 9696076df5745f74fba89ee1934b45f0acdcee76
   ]
  },
  {
   "cell_type": "code",
<<<<<<< HEAD
   "execution_count": 45,
   "metadata": {},
   "outputs": [
    {
     "name": "stdout",
     "output_type": "stream",
     "text": [
      "***   SGD - COM BALANCEAMENTO TARGET - THRESHOLD = 0.5   ***\n",
      "\n",
      "              precision    recall  f1-score   support\n",
      "\n",
      "           0       0.28      0.93      0.44      3373\n",
      "           1       0.82      0.12      0.20      8980\n",
      "\n",
      "    accuracy                           0.34     12353\n",
      "   macro avg       0.55      0.52      0.32     12353\n",
      "weighted avg       0.67      0.34      0.27     12353\n",
      "\n"
     ]
    }
   ],
   "source": [
    "y_pred_sgd_2_1 = grid_search_sgd_2.best_estimator_.predict(X_test)\n",
    "\n",
    "print('***   SGD - COM BALANCEAMENTO TARGET - THRESHOLD = 0.5   ***')\n",
    "print('')\n",
    "print(classification_report(y_true=y_test, y_pred=y_pred_sgd_2_1))"
=======
   "execution_count": 73,
   "metadata": {},
   "outputs": [],
   "source": [
    "X_train_bal_sgd_2 = X_train_bal[final_features_sgd_2]\n",
    "X_test_sgd_2 = X_test[final_features_sgd_2]"
>>>>>>> 9696076df5745f74fba89ee1934b45f0acdcee76
   ]
  },
  {
   "cell_type": "code",
<<<<<<< HEAD
   "execution_count": 46,
   "metadata": {},
   "outputs": [
    {
     "data": {
      "text/plain": [
       "0    11081\n",
       "1     1272\n",
       "dtype: int64"
      ]
     },
     "execution_count": 46,
=======
   "execution_count": 89,
   "metadata": {},
   "outputs": [
    {
     "name": "stderr",
     "output_type": "stream",
     "text": [
      "c:\\users\\solano\\.venvs\\lewagon\\lib\\site-packages\\sklearn\\utils\\validation.py:72: DataConversionWarning: A column-vector y was passed when a 1d array was expected. Please change the shape of y to (n_samples, ), for example using ravel().\n",
      "  return f(**kwargs)\n"
     ]
    },
    {
     "data": {
      "text/plain": [
       "GridSearchCV(cv=5, estimator=SGDClassifier(), n_jobs=-1,\n",
       "             param_grid={'alpha': [1e-05, 0.0001, 0.001, 0.01, 0.1, 1],\n",
       "                         'epsilon': [0.001, 0.01, 0.1, 1, 10, 100],\n",
       "                         'loss': ['log'],\n",
       "                         'penalty': ['l2', 'l1', 'elasticnet']},\n",
       "             scoring='f1_weighted')"
      ]
     },
     "execution_count": 89,
>>>>>>> 9696076df5745f74fba89ee1934b45f0acdcee76
     "metadata": {},
     "output_type": "execute_result"
    }
   ],
   "source": [
<<<<<<< HEAD
    "pd.DataFrame(y_pred_sgd_2_1).value_counts()"
   ]
  },
  {
   "cell_type": "code",
   "execution_count": 47,
   "metadata": {},
   "outputs": [],
   "source": [
    "y_pred_proba_sgd_2 = grid_search_sgd_2.best_estimator_.predict_proba(X_test)\n",
    "y_pred_proba_sgd_2 = np.delete(y_pred_proba_sgd_2, 0, 1)"
=======
    "param_grid_sgd_2f = {'loss': ['log'], # , 'hinge'\n",
    "                     'penalty': ['l2', 'l1', 'elasticnet'],\n",
    "                     'alpha': [0.00001, 0.0001, 0.001, 0.01, 0.1, 1],\n",
    "                     'epsilon': [0.001, 0.01, 0.1, 1, 10, 100]}\n",
    "\n",
    "sgd_model_2f = SGDClassifier()\n",
    "grid_search_sgd_2f = GridSearchCV(sgd_model_2f, param_grid_sgd_2f, scoring=metric, cv=5, n_jobs=-1) \n",
    "grid_search_sgd_2f.fit(X_train_bal_sgd_2, y_train_bal)"
>>>>>>> 9696076df5745f74fba89ee1934b45f0acdcee76
   ]
  },
  {
   "cell_type": "code",
<<<<<<< HEAD
   "execution_count": 48,
   "metadata": {},
   "outputs": [
    {
     "name": "stdout",
     "output_type": "stream",
     "text": [
      "***   SGD - COM BALANCEAMENTO TARGET - THRESHOLD = 0.7   ***\n",
      "\n",
      "              precision    recall  f1-score   support\n",
      "\n",
      "           0       0.27      1.00      0.43      3373\n",
      "           1       0.75      0.00      0.00      8980\n",
      "\n",
      "    accuracy                           0.27     12353\n",
      "   macro avg       0.51      0.50      0.21     12353\n",
      "weighted avg       0.62      0.27      0.12     12353\n",
      "\n"
     ]
    }
   ],
   "source": [
    "threshold = 0.7\n",
    "\n",
    "y_pred_sgd_2_2 = y_pred_proba_sgd_2.copy()\n",
    "\n",
    "for row in range(len(y_pred_sgd_2_2)):\n",
    "    if y_pred_sgd_2_2[row] > threshold:\n",
    "        y_pred_sgd_2_2[row] = 1\n",
    "    else:\n",
    "        y_pred_sgd_2_2[row] = 0\n",
    "\n",
    "print(f'***   SGD - COM BALANCEAMENTO TARGET - THRESHOLD = {threshold}   ***')\n",
    "print('')\n",
    "print(classification_report(y_true=y_test, y_pred=y_pred_sgd_2_2))"
=======
   "execution_count": 90,
   "metadata": {},
   "outputs": [
    {
     "data": {
      "text/plain": [
       "{'alpha': 0.0001, 'epsilon': 100, 'loss': 'log', 'penalty': 'l1'}"
      ]
     },
     "execution_count": 90,
     "metadata": {},
     "output_type": "execute_result"
    }
   ],
   "source": [
    "grid_search_sgd_2f.best_params_"
>>>>>>> 9696076df5745f74fba89ee1934b45f0acdcee76
   ]
  },
  {
   "cell_type": "code",
<<<<<<< HEAD
   "execution_count": 49,
=======
   "execution_count": 91,
>>>>>>> 9696076df5745f74fba89ee1934b45f0acdcee76
   "metadata": {},
   "outputs": [
    {
     "data": {
      "text/plain": [
<<<<<<< HEAD
       "0.0    12349\n",
       "1.0        4\n",
       "dtype: int64"
      ]
     },
     "execution_count": 49,
=======
       "0.5922278602222044"
      ]
     },
     "execution_count": 91,
>>>>>>> 9696076df5745f74fba89ee1934b45f0acdcee76
     "metadata": {},
     "output_type": "execute_result"
    }
   ],
   "source": [
<<<<<<< HEAD
    "pd.DataFrame(y_pred_sgd_2_2).value_counts()"
=======
    "grid_search_sgd_2f.best_score_"
>>>>>>> 9696076df5745f74fba89ee1934b45f0acdcee76
   ]
  },
  {
   "cell_type": "code",
<<<<<<< HEAD
   "execution_count": 50,
   "metadata": {},
   "outputs": [
    {
     "name": "stderr",
     "output_type": "stream",
     "text": [
      "c:\\users\\solano\\.venvs\\lewagon\\lib\\site-packages\\sklearn\\metrics\\_classification.py:1221: UndefinedMetricWarning: Precision and F-score are ill-defined and being set to 0.0 in labels with no predicted samples. Use `zero_division` parameter to control this behavior.\n",
      "  _warn_prf(average, modifier, msg_start, len(result))\n"
=======
   "execution_count": 92,
   "metadata": {},
   "outputs": [
    {
     "name": "stdout",
     "output_type": "stream",
     "text": [
      "***   SGD - COM BALANCEAMENTO TARGET - THRESHOLD = 0.5   ***\n",
      "\n",
      "              precision    recall  f1-score   support\n",
      "\n",
      "           0       0.33      0.54      0.41      3373\n",
      "           1       0.77      0.59      0.67      8980\n",
      "\n",
      "    accuracy                           0.58     12353\n",
      "   macro avg       0.55      0.56      0.54     12353\n",
      "weighted avg       0.65      0.58      0.60     12353\n",
      "\n"
>>>>>>> 9696076df5745f74fba89ee1934b45f0acdcee76
     ]
    }
   ],
   "source": [
<<<<<<< HEAD
    "thresholds = np.arange(0, 1.05, 0.05)\n",
    "\n",
    "metrics_per_threshold_sgd_2 = []\n",
    "\n",
    "for threshold in thresholds:\n",
    "    y_pred_sgd_2 = y_pred_proba_sgd_2.copy()\n",
    "    for row in range(len(y_pred_sgd_2)):\n",
    "        if y_pred_sgd_2[row] > threshold:\n",
    "            y_pred_sgd_2[row] = 1\n",
    "        else:\n",
    "            y_pred_sgd_2[row] = 0\n",
    "    precision_0 = classification_report(y_true=y_test, y_pred=y_pred_sgd_2, output_dict=True)['0']['precision']\n",
    "    recall_0 = classification_report(y_true=y_test, y_pred=y_pred_sgd_2, output_dict=True)['0']['recall']\n",
    "    metrics_per_threshold_sgd_2.append([threshold, precision_0, recall_0])"
=======
    "y_pred_sgd_2f_1 = grid_search_sgd_2f.best_estimator_.predict(X_test_sgd_2)\n",
    "\n",
    "print('***   SGD - COM BALANCEAMENTO TARGET - THRESHOLD = 0.5   ***')\n",
    "print('')\n",
    "print(classification_report(y_true=y_test, y_pred=y_pred_sgd_2f_1))"
>>>>>>> 9696076df5745f74fba89ee1934b45f0acdcee76
   ]
  },
  {
   "cell_type": "code",
<<<<<<< HEAD
   "execution_count": 51,
   "metadata": {},
   "outputs": [
    {
     "name": "stdout",
     "output_type": "stream",
     "text": [
      "***   SGD - COM BALANCEAMENTO TARGET - THRESHOLD = 0 ~ 1   ***\n"
     ]
    },
    {
     "data": {
      "image/png": "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\n",
      "text/plain": [
       "<Figure size 432x288 with 1 Axes>"
      ]
     },
     "metadata": {
      "needs_background": "light"
     },
     "output_type": "display_data"
    }
   ],
   "source": [
    "print('***   SGD - COM BALANCEAMENTO TARGET - THRESHOLD = 0 ~ 1   ***')\n",
    "plt.plot(np.array(metrics_per_threshold_sgd_2)[:,0], np.array(metrics_per_threshold_sgd_2)[:,1])\n",
    "plt.plot(np.array(metrics_per_threshold_sgd_2)[:,0], np.array(metrics_per_threshold_sgd_2)[:,2])\n",
    "plt.title('Metrics X Threshold')\n",
    "plt.ylabel('Metric')\n",
    "plt.xlabel('Threshold')\n",
    "plt.legend(['Precision 0', 'Recall 0'], loc='best')\n",
    "plt.show()"
=======
   "execution_count": 93,
   "metadata": {},
   "outputs": [
    {
     "data": {
      "text/plain": [
       "1    6905\n",
       "0    5448\n",
       "dtype: int64"
      ]
     },
     "execution_count": 93,
     "metadata": {},
     "output_type": "execute_result"
    }
   ],
   "source": [
    "pd.DataFrame(y_pred_sgd_2f_1).value_counts()"
>>>>>>> 9696076df5745f74fba89ee1934b45f0acdcee76
   ]
  },
  {
   "cell_type": "markdown",
   "metadata": {},
   "source": [
    "# Extra. Deep Learning - Explocacao COM Balanceamento de Target"
   ]
  },
  {
   "cell_type": "code",
<<<<<<< HEAD
   "execution_count": 52,
=======
   "execution_count": 94,
>>>>>>> 9696076df5745f74fba89ee1934b45f0acdcee76
   "metadata": {},
   "outputs": [
    {
     "data": {
      "text/plain": [
       "(42008, 22)"
      ]
     },
<<<<<<< HEAD
     "execution_count": 52,
=======
     "execution_count": 94,
>>>>>>> 9696076df5745f74fba89ee1934b45f0acdcee76
     "metadata": {},
     "output_type": "execute_result"
    }
   ],
   "source": [
    "X_train_bal.shape"
   ]
  },
  {
   "cell_type": "code",
<<<<<<< HEAD
   "execution_count": 53,
=======
   "execution_count": 109,
>>>>>>> 9696076df5745f74fba89ee1934b45f0acdcee76
   "metadata": {},
   "outputs": [
    {
     "name": "stdout",
     "output_type": "stream",
     "text": [
      "Epoch 1/100\n",
<<<<<<< HEAD
      "1051/1051 [==============================] - 1s 1ms/step - loss: 0.6535 - auc: 0.5806 - val_loss: 0.9220 - val_auc: 0.0000e+00\n",
      "Epoch 2/100\n",
      "1051/1051 [==============================] - 1s 1ms/step - loss: 0.6445 - auc: 0.6084 - val_loss: 0.9405 - val_auc: 0.0000e+00\n",
      "Epoch 3/100\n",
      "1051/1051 [==============================] - 1s 1ms/step - loss: 0.6414 - auc: 0.6170 - val_loss: 0.8954 - val_auc: 0.0000e+00\n",
      "Epoch 4/100\n",
      "1051/1051 [==============================] - 1s 1ms/step - loss: 0.6384 - auc: 0.6261 - val_loss: 0.9326 - val_auc: 0.0000e+00\n",
      "Epoch 5/100\n",
      "1051/1051 [==============================] - 1s 1ms/step - loss: 0.6369 - auc: 0.6303 - val_loss: 0.9535 - val_auc: 0.0000e+00\n",
      "Epoch 6/100\n",
      "1051/1051 [==============================] - 1s 1ms/step - loss: 0.6363 - auc: 0.6317 - val_loss: 0.9613 - val_auc: 0.0000e+00\n",
      "Epoch 7/100\n",
      "1051/1051 [==============================] - 1s 1ms/step - loss: 0.6351 - auc: 0.6349 - val_loss: 0.9492 - val_auc: 0.0000e+00\n",
      "Epoch 8/100\n",
      "1051/1051 [==============================] - 1s 1ms/step - loss: 0.6344 - auc: 0.6366 - val_loss: 1.0044 - val_auc: 0.0000e+00\n",
      "Epoch 9/100\n",
      "1051/1051 [==============================] - 1s 1ms/step - loss: 0.6342 - auc: 0.6366 - val_loss: 0.9264 - val_auc: 0.0000e+00\n",
      "Epoch 10/100\n",
      "1051/1051 [==============================] - 1s 1ms/step - loss: 0.6336 - auc: 0.6382 - val_loss: 0.8844 - val_auc: 0.0000e+00\n",
      "Epoch 11/100\n",
      "1051/1051 [==============================] - 1s 1ms/step - loss: 0.6335 - auc: 0.6381 - val_loss: 0.9414 - val_auc: 0.0000e+00\n",
      "Epoch 12/100\n",
      "1051/1051 [==============================] - 1s 1ms/step - loss: 0.6327 - auc: 0.6405 - val_loss: 0.8936 - val_auc: 0.0000e+00\n",
      "Epoch 13/100\n",
      "1051/1051 [==============================] - 1s 1ms/step - loss: 0.6324 - auc: 0.6405 - val_loss: 0.9675 - val_auc: 0.0000e+00\n",
      "Epoch 14/100\n",
      "1051/1051 [==============================] - 1s 1ms/step - loss: 0.6320 - auc: 0.6419 - val_loss: 0.8124 - val_auc: 0.0000e+00\n",
      "Epoch 15/100\n",
      "1051/1051 [==============================] - 1s 1ms/step - loss: 0.6315 - auc: 0.6431 - val_loss: 0.8940 - val_auc: 0.0000e+00\n",
      "Epoch 16/100\n",
      "1051/1051 [==============================] - 1s 1ms/step - loss: 0.6314 - auc: 0.6431 - val_loss: 0.9066 - val_auc: 0.0000e+00\n",
      "Epoch 17/100\n",
      "1051/1051 [==============================] - 1s 1ms/step - loss: 0.6308 - auc: 0.6446 - val_loss: 0.8708 - val_auc: 0.0000e+00\n",
      "Epoch 18/100\n",
      "1051/1051 [==============================] - 1s 1ms/step - loss: 0.6311 - auc: 0.6431 - val_loss: 0.8198 - val_auc: 0.0000e+00\n",
      "Epoch 19/100\n",
      "1051/1051 [==============================] - 1s 1ms/step - loss: 0.6304 - auc: 0.6451 - val_loss: 0.9179 - val_auc: 0.0000e+00\n",
      "Epoch 20/100\n",
      "1051/1051 [==============================] - 1s 1ms/step - loss: 0.6300 - auc: 0.6460 - val_loss: 0.9301 - val_auc: 0.0000e+00\n",
      "Epoch 21/100\n",
      "1051/1051 [==============================] - 1s 1ms/step - loss: 0.6295 - auc: 0.6469 - val_loss: 0.8135 - val_auc: 0.0000e+00\n",
      "Epoch 22/100\n",
      "1051/1051 [==============================] - 1s 1ms/step - loss: 0.6291 - auc: 0.6476 - val_loss: 0.9557 - val_auc: 0.0000e+00\n",
      "Epoch 23/100\n",
      "1051/1051 [==============================] - 1s 1ms/step - loss: 0.6288 - auc: 0.6484 - val_loss: 0.9147 - val_auc: 0.0000e+00\n",
      "Epoch 24/100\n",
      "1051/1051 [==============================] - 1s 1ms/step - loss: 0.6283 - auc: 0.6495 - val_loss: 0.8807 - val_auc: 0.0000e+00\n"
=======
      "1051/1051 [==============================] - 1s 1ms/step - loss: 0.6498 - get_f1: 0.7568 - val_loss: 0.9691 - val_get_f1: 0.0000e+00\n",
      "Epoch 2/100\n",
      "1051/1051 [==============================] - 1s 1ms/step - loss: 0.6426 - get_f1: 0.7519 - val_loss: 0.9935 - val_get_f1: 0.0000e+00\n",
      "Epoch 3/100\n",
      "1051/1051 [==============================] - 1s 1ms/step - loss: 0.6390 - get_f1: 0.7519 - val_loss: 0.8859 - val_get_f1: 0.0000e+00\n",
      "Epoch 4/100\n",
      "1051/1051 [==============================] - 1s 1ms/step - loss: 0.6364 - get_f1: 0.7510 - val_loss: 0.9853 - val_get_f1: 0.0000e+00\n",
      "Epoch 5/100\n",
      "1051/1051 [==============================] - 1s 1ms/step - loss: 0.6346 - get_f1: 0.7518 - val_loss: 0.9208 - val_get_f1: 0.0000e+00\n",
      "Epoch 6/100\n",
      "1051/1051 [==============================] - 1s 1ms/step - loss: 0.6326 - get_f1: 0.7502 - val_loss: 0.9101 - val_get_f1: 0.0000e+00\n",
      "Epoch 7/100\n",
      "1051/1051 [==============================] - 1s 1ms/step - loss: 0.6315 - get_f1: 0.7491 - val_loss: 1.0736 - val_get_f1: 0.0000e+00\n",
      "Epoch 8/100\n",
      "1051/1051 [==============================] - 1s 1ms/step - loss: 0.6303 - get_f1: 0.7516 - val_loss: 0.8120 - val_get_f1: 0.0000e+00\n",
      "Epoch 9/100\n",
      "1051/1051 [==============================] - 1s 1ms/step - loss: 0.6291 - get_f1: 0.7516 - val_loss: 0.9606 - val_get_f1: 0.0000e+00\n",
      "Epoch 10/100\n",
      "1051/1051 [==============================] - 1s 1ms/step - loss: 0.6273 - get_f1: 0.7515 - val_loss: 0.9552 - val_get_f1: 0.0000e+00\n",
      "Epoch 11/100\n",
      "1051/1051 [==============================] - 1s 1ms/step - loss: 0.6260 - get_f1: 0.7534 - val_loss: 0.9158 - val_get_f1: 0.0000e+00\n",
      "Epoch 12/100\n",
      "1051/1051 [==============================] - 1s 1ms/step - loss: 0.6251 - get_f1: 0.7525 - val_loss: 0.8456 - val_get_f1: 0.0000e+00\n",
      "Epoch 13/100\n",
      "1051/1051 [==============================] - 1s 1ms/step - loss: 0.6234 - get_f1: 0.7554 - val_loss: 0.9437 - val_get_f1: 0.0000e+00\n",
      "Epoch 14/100\n",
      "1051/1051 [==============================] - 1s 1ms/step - loss: 0.6217 - get_f1: 0.7576 - val_loss: 0.7801 - val_get_f1: 0.0000e+00\n",
      "Epoch 15/100\n",
      "1051/1051 [==============================] - 1s 1ms/step - loss: 0.6202 - get_f1: 0.7573 - val_loss: 0.8614 - val_get_f1: 0.0000e+00\n",
      "Epoch 16/100\n",
      "1051/1051 [==============================] - 1s 1ms/step - loss: 0.6192 - get_f1: 0.7585 - val_loss: 0.8813 - val_get_f1: 0.0000e+00\n",
      "Epoch 17/100\n",
      "1051/1051 [==============================] - 1s 1ms/step - loss: 0.6177 - get_f1: 0.7575 - val_loss: 0.9233 - val_get_f1: 0.0000e+00\n",
      "Epoch 18/100\n",
      "1051/1051 [==============================] - 1s 1ms/step - loss: 0.6160 - get_f1: 0.7603 - val_loss: 0.8778 - val_get_f1: 0.0000e+00\n",
      "Epoch 19/100\n",
      "1051/1051 [==============================] - 1s 1ms/step - loss: 0.6149 - get_f1: 0.7608 - val_loss: 0.8993 - val_get_f1: 0.0000e+00\n",
      "Epoch 20/100\n",
      "1051/1051 [==============================] - 1s 1ms/step - loss: 0.6130 - get_f1: 0.7606 - val_loss: 0.7969 - val_get_f1: 0.0000e+00\n",
      "Epoch 21/100\n",
      "1051/1051 [==============================] - 1s 1ms/step - loss: 0.6115 - get_f1: 0.7628 - val_loss: 0.8446 - val_get_f1: 0.0000e+00\n",
      "Epoch 22/100\n",
      "1051/1051 [==============================] - 1s 1ms/step - loss: 0.6096 - get_f1: 0.7610 - val_loss: 0.9153 - val_get_f1: 0.0000e+00\n",
      "Epoch 23/100\n",
      "1051/1051 [==============================] - 1s 1ms/step - loss: 0.6092 - get_f1: 0.7624 - val_loss: 0.8519 - val_get_f1: 0.0000e+00\n",
      "Epoch 24/100\n",
      "1051/1051 [==============================] - 1s 1ms/step - loss: 0.6073 - get_f1: 0.7625 - val_loss: 0.8572 - val_get_f1: 0.0000e+00\n"
>>>>>>> 9696076df5745f74fba89ee1934b45f0acdcee76
     ]
    }
   ],
   "source": [
    "from tensorflow.keras.models import Sequential\n",
    "from tensorflow.keras import layers\n",
    "from tensorflow.keras.callbacks import EarlyStopping\n",
    "\n",
<<<<<<< HEAD
    "dl_model = Sequential()\n",
    "dl_model.add(layers.Dense(32, input_shape=(22,), activation='relu'))\n",
=======
    "# dl_model = Sequential()\n",
    "# dl_model.add(layers.Dense(32, input_shape=(22,), activation='relu'))\n",
    "# dl_model.add(layers.Dense(8, activation='relu'))\n",
    "# dl_model.add(layers.Dense(1, activation='sigmoid'))\n",
    "\n",
    "dl_model = Sequential()\n",
    "dl_model.add(layers.Dense(64, input_shape=(22,), activation='relu'))\n",
    "dl_model.add(layers.Dense(32, activation='relu'))\n",
    "dl_model.add(layers.Dense(16, activation='relu'))\n",
>>>>>>> 9696076df5745f74fba89ee1934b45f0acdcee76
    "dl_model.add(layers.Dense(8, activation='relu'))\n",
    "dl_model.add(layers.Dense(1, activation='sigmoid'))\n",
    "\n",
    "dl_model.compile(loss='binary_crossentropy',\n",
    "                 optimizer='adam',\n",
<<<<<<< HEAD
    "                 metrics=['AUC'])\n",
=======
    "                 metrics=[get_f1])\n",
>>>>>>> 9696076df5745f74fba89ee1934b45f0acdcee76
    "\n",
    "es = EarlyStopping(patience=10, restore_best_weights=True)\n",
    "\n",
    "history = dl_model.fit(X_train_bal, y_train_bal,\n",
    "                       validation_split=0.2,\n",
    "                       epochs=100,\n",
    "                       batch_size=32,\n",
    "                       verbose=1,\n",
    "                       callbacks=[es])"
   ]
  },
  {
   "cell_type": "code",
<<<<<<< HEAD
   "execution_count": 54,
=======
   "execution_count": 110,
>>>>>>> 9696076df5745f74fba89ee1934b45f0acdcee76
   "metadata": {},
   "outputs": [
    {
     "data": {
      "text/plain": [
<<<<<<< HEAD
       "0.6075400114059448"
      ]
     },
     "execution_count": 54,
=======
       "0.7839080095291138"
      ]
     },
     "execution_count": 110,
>>>>>>> 9696076df5745f74fba89ee1934b45f0acdcee76
     "metadata": {},
     "output_type": "execute_result"
    }
   ],
   "source": [
    "results = dl_model.evaluate(X_test, y_test, verbose=0)\n",
    "results[1]"
   ]
  },
  {
   "cell_type": "code",
<<<<<<< HEAD
   "execution_count": 55,
=======
   "execution_count": 111,
>>>>>>> 9696076df5745f74fba89ee1934b45f0acdcee76
   "metadata": {},
   "outputs": [
    {
     "data": {
      "text/plain": [
<<<<<<< HEAD
       "array([[0.78009236],\n",
       "       [0.52294457],\n",
       "       [0.48534435],\n",
       "       ...,\n",
       "       [0.4985668 ],\n",
       "       [0.79349875],\n",
       "       [0.45437142]], dtype=float32)"
      ]
     },
     "execution_count": 55,
=======
       "array([[0.7588431 ],\n",
       "       [0.4924844 ],\n",
       "       [0.35437787],\n",
       "       ...,\n",
       "       [0.5202172 ],\n",
       "       [0.7958801 ],\n",
       "       [0.5870952 ]], dtype=float32)"
      ]
     },
     "execution_count": 111,
>>>>>>> 9696076df5745f74fba89ee1934b45f0acdcee76
     "metadata": {},
     "output_type": "execute_result"
    }
   ],
   "source": [
    "y_pred_proba_dl = dl_model.predict(X_test)\n",
    "y_pred_proba_dl"
   ]
  },
  {
   "cell_type": "code",
<<<<<<< HEAD
   "execution_count": 56,
=======
   "execution_count": 112,
>>>>>>> 9696076df5745f74fba89ee1934b45f0acdcee76
   "metadata": {},
   "outputs": [
    {
     "name": "stdout",
     "output_type": "stream",
     "text": [
      "***   DL - COM BALANCEAMENTO TARGET - THRESHOLD = 0.5   ***\n",
      "\n",
      "              precision    recall  f1-score   support\n",
      "\n",
<<<<<<< HEAD
      "           0       0.38      0.32      0.35      3373\n",
      "           1       0.76      0.80      0.78      8980\n",
      "\n",
      "    accuracy                           0.67     12353\n",
      "   macro avg       0.57      0.56      0.56     12353\n",
      "weighted avg       0.66      0.67      0.66     12353\n",
=======
      "           0       0.38      0.30      0.34      3373\n",
      "           1       0.76      0.82      0.79      8980\n",
      "\n",
      "    accuracy                           0.68     12353\n",
      "   macro avg       0.57      0.56      0.56     12353\n",
      "weighted avg       0.66      0.68      0.66     12353\n",
>>>>>>> 9696076df5745f74fba89ee1934b45f0acdcee76
      "\n"
     ]
    }
   ],
   "source": [
    "y_pred_dl_1 = y_pred_proba_dl.copy()\n",
    "\n",
    "for row in range(len(y_pred_dl_1)):\n",
    "    if y_pred_dl_1[row] > 0.5:\n",
    "        y_pred_dl_1[row] = 1\n",
    "    else:\n",
    "        y_pred_dl_1[row] = 0\n",
    "\n",
    "print('***   DL - COM BALANCEAMENTO TARGET - THRESHOLD = 0.5   ***')\n",
    "print('')\n",
    "print(classification_report(y_true=y_test, y_pred=y_pred_dl_1))"
   ]
  },
  {
   "cell_type": "code",
<<<<<<< HEAD
   "execution_count": 57,
=======
   "execution_count": 113,
>>>>>>> 9696076df5745f74fba89ee1934b45f0acdcee76
   "metadata": {},
   "outputs": [
    {
     "data": {
      "text/plain": [
<<<<<<< HEAD
       "1.0    9506\n",
       "0.0    2847\n",
       "dtype: int64"
      ]
     },
     "execution_count": 57,
=======
       "1.0    9706\n",
       "0.0    2647\n",
       "dtype: int64"
      ]
     },
     "execution_count": 113,
>>>>>>> 9696076df5745f74fba89ee1934b45f0acdcee76
     "metadata": {},
     "output_type": "execute_result"
    }
   ],
   "source": [
    "pd.DataFrame(y_pred_dl_1).value_counts()"
   ]
  },
  {
   "cell_type": "code",
<<<<<<< HEAD
   "execution_count": 58,
=======
   "execution_count": 100,
>>>>>>> 9696076df5745f74fba89ee1934b45f0acdcee76
   "metadata": {},
   "outputs": [
    {
     "name": "stdout",
     "output_type": "stream",
     "text": [
      "***   DL - COM BALANCEAMENTO TARGET - THRESHOLD = 0.6   ***\n",
      "\n",
      "              precision    recall  f1-score   support\n",
      "\n",
<<<<<<< HEAD
      "           0       0.33      0.63      0.43      3373\n",
      "           1       0.79      0.52      0.63      8980\n",
      "\n",
      "    accuracy                           0.55     12353\n",
      "   macro avg       0.56      0.57      0.53     12353\n",
      "weighted avg       0.66      0.55      0.57     12353\n",
=======
      "           0       0.34      0.52      0.41      3373\n",
      "           1       0.78      0.62      0.69      8980\n",
      "\n",
      "    accuracy                           0.59     12353\n",
      "   macro avg       0.56      0.57      0.55     12353\n",
      "weighted avg       0.66      0.59      0.61     12353\n",
>>>>>>> 9696076df5745f74fba89ee1934b45f0acdcee76
      "\n"
     ]
    }
   ],
   "source": [
    "threshold = 0.6\n",
    "\n",
    "y_pred_dl_2 = y_pred_proba_dl.copy()\n",
    "\n",
    "for row in range(len(y_pred_dl_2)):\n",
    "    if y_pred_dl_2[row] > threshold:\n",
    "        y_pred_dl_2[row] = 1\n",
    "    else:\n",
    "        y_pred_dl_2[row] = 0\n",
    "\n",
    "print(f'***   DL - COM BALANCEAMENTO TARGET - THRESHOLD = {threshold}   ***')\n",
    "print('')\n",
    "print(classification_report(y_true=y_test, y_pred=y_pred_dl_2))"
   ]
  },
  {
   "cell_type": "code",
<<<<<<< HEAD
   "execution_count": 59,
=======
   "execution_count": 101,
>>>>>>> 9696076df5745f74fba89ee1934b45f0acdcee76
   "metadata": {},
   "outputs": [
    {
     "data": {
      "text/plain": [
<<<<<<< HEAD
       "0.0    6425\n",
       "1.0    5928\n",
       "dtype: int64"
      ]
     },
     "execution_count": 59,
=======
       "1.0    7176\n",
       "0.0    5177\n",
       "dtype: int64"
      ]
     },
     "execution_count": 101,
>>>>>>> 9696076df5745f74fba89ee1934b45f0acdcee76
     "metadata": {},
     "output_type": "execute_result"
    }
   ],
   "source": [
    "pd.DataFrame(y_pred_dl_2).value_counts()"
   ]
  },
  {
   "cell_type": "code",
<<<<<<< HEAD
   "execution_count": 60,
=======
   "execution_count": 102,
>>>>>>> 9696076df5745f74fba89ee1934b45f0acdcee76
   "metadata": {},
   "outputs": [
    {
     "name": "stderr",
     "output_type": "stream",
     "text": [
      "c:\\users\\solano\\.venvs\\lewagon\\lib\\site-packages\\sklearn\\metrics\\_classification.py:1221: UndefinedMetricWarning: Precision and F-score are ill-defined and being set to 0.0 in labels with no predicted samples. Use `zero_division` parameter to control this behavior.\n",
      "  _warn_prf(average, modifier, msg_start, len(result))\n"
     ]
    }
   ],
   "source": [
    "thresholds = np.arange(0, 1.05, 0.05)\n",
    "\n",
    "metrics_per_threshold_dl = []\n",
    "\n",
    "for threshold in thresholds:\n",
    "    y_pred_dl = y_pred_proba_dl.copy()\n",
    "    for row in range(len(y_pred_dl)):\n",
    "        if y_pred_dl[row] > threshold:\n",
    "            y_pred_dl[row] = 1\n",
    "        else:\n",
    "            y_pred_dl[row] = 0\n",
    "    precision_0 = classification_report(y_true=y_test, y_pred=y_pred_dl, output_dict=True)['0']['precision']\n",
    "    recall_0 = classification_report(y_true=y_test, y_pred=y_pred_dl, output_dict=True)['0']['recall']\n",
    "    metrics_per_threshold_dl.append([threshold, precision_0, recall_0])"
   ]
  },
  {
   "cell_type": "code",
<<<<<<< HEAD
   "execution_count": 61,
=======
   "execution_count": 103,
>>>>>>> 9696076df5745f74fba89ee1934b45f0acdcee76
   "metadata": {},
   "outputs": [
    {
     "name": "stdout",
     "output_type": "stream",
     "text": [
      "***   DL - COM BALANCEAMENTO TARGET - THRESHOLD = 0 ~ 1   ***\n"
     ]
    },
    {
     "data": {
<<<<<<< HEAD
      "image/png": "iVBORw0KGgoAAAANSUhEUgAAAYIAAAEWCAYAAABrDZDcAAAAOXRFWHRTb2Z0d2FyZQBNYXRwbG90bGliIHZlcnNpb24zLjMuMiwgaHR0cHM6Ly9tYXRwbG90bGliLm9yZy8vihELAAAACXBIWXMAAAsTAAALEwEAmpwYAAA2zklEQVR4nO3deXxU5fX48c/JTgiEkASQsG/KJltArSIoIkgVtCqudaOida/alv7ca2vFVtuiVNS66xdcqoiKggJBK7IEWcoOCQgBhRAgkAAJSc7vj3uDIQQYyMzczMx5v17zmpl7b+49N5A589znuecRVcUYY0zkivI6AGOMMd6yRGCMMRHOEoExxkQ4SwTGGBPhLBEYY0yEs0RgjDERzhKBCSsi8v9E5N9ex3EkIrJBRM4LwnGyRORXJ/izR4xRRAaKSF7tojN1jSUCE3DuB0upiKRVW75IRFRE2viwD58+gFT1CVU9oQ/AIxz3ThFZJiJxVZbd48YeU23ba0SkyH3sE5GKKu+L/BWTMf5micAEy3rgqso3ItIdSPTnAap/MPvJeGAX8IB7jHbAY8AoVS2ruqGqvq2qSaqaBFwAbKl87y47LgE6H2MOY4nABMubwHVV3l8PvFF1AxGJF5G/ichGEdkqIhNEpJ6I1Ac+A5pX+YbdXEQeFZH3ReQtEdkN3OAue6vKPs8SkTkisktENonIDe7yYSKyQkT2iMhmEbm/pqBVtQIYBfzGTV4vAf9S1e9q8bvoKSJLRaRQRN4RkQQ3poEikicivxeRH4FXRSRKRMaISI6IFIjIuyLS2N0+wT33Avf8FohI0yrHaS0i37jnOL1qi0xEhovIcvfnskSkc02Bur//10Rkp4isAPrW4rxNHWWJwATLXKChiHQWkWjgSuCtats8CXQCegIdgAzgYVUt5vBv2FvcnxkBvA80At6uujMRaY2TQJ4F0t39LnZXvwzcoqoNgG7AzCMFrqqrgb8As4AWOC2C2hgJDAXaAqcCN1RZ1wxoDLQGRgN3AhcDA4DmwE6cVgo4yTQZaAmkArcC+6rs62rgRqAJEAfcDyAinYCJwD04v5epwMdVL39V8QjQ3n0McY9pwowlAhNMla2CwcBKYHPlChERnA++36jqDlXdAzyBkzCO5ltVnayqFaq6r9q6q4EvVXWiqh5Q1QJVXeyuOwB0EZGGqrrTh2/4X+N82L6vqvt9ONejGaeqW1R1B/AxToKqVAE8oqol7vncCjygqnmqWgI8ClzmXjY64MbUQVXLVXWhqu6usq9XVXWNu593qxznCuBTVf1CVQ8AfwPqAT+rIdaRwJ/df5NNwLhanrupgywRmGB6E+fD+QaqXRbC+WaaCCx0L1fsAj53lx/NpqOsawnkHGHdpcAw4HsRmS0iZxxpJ+435RdwWhZ3uP0EtfFjldd7gar9B/nVEk1r4MMqv5OVQDnQFOf3OQ2YJCJbROQpEYn14TjNge8rV7iXvzbhtMCqa86hv+Pva9jGhDhLBCZoVPV7nE7jYcAH1VZvx7ms0VVVG7mP5CqdrEcqk3u08rmbcC5p1BTLAlUdgXPZZDLON+YjeQjYBtwNTMBJCoFS/Xw2ARdU+Z00UtUEVd3stnIeU9UuON/mL+TQfpgj2YKTYICDrbGWVGmhVfGDu65Sq+M5GRMaLBGYYBsFnOte9z/I/Vb6EvB3EWkCICIZIjLE3WQrkCoiycdxrLeB80RkpIjEiEiqiPQUkTh3qGeye2lkN84lmcOISA/gLuBmdWq2Pwq0EZEbjyOO2pgA/Nnt70BE0kVkhPv6HBHp7va57Ma5VFTjeVTzLvBzERnktiDuA0qAOUfY9g8ikiIiLXD6LEyYsURggkpVc1Q1+wirfw+sA+a6o4C+BE52f24VTgdnrnuZpLkPx9qI0/q4D9iB01Hcw139S2CDe5xbgWuq/7z7AfsyzjXyde4+9wE3A3+tNkInUP4JTAGmi8genE7309x1zXA6ynfjXDKajXO56Kjczu9rcS51bQcuAi5S1dIaNn8M53LQemC6L/s3oUdsYhpjjIls1iIwxpgIZ4nAGGMinCUCY4yJcJYIjDEmwoVcUau0tDRt06aN12EYY0xIWbhw4XZVrfEGzZBLBG3atCE7+0ijD40xxtRERI54V7hdGjLGmAhnicAYYyKcJQJjjIlwIddHUJMDBw6Ql5fH/v21rQ5sjiQhIYEWLVoQGxt77I2NMSElLBJBXl4eDRo0oE2bNjiFFI0/qSoFBQXk5eXRtm1br8MxxvhZwC4NicgrIrJNRJYdYb2IyDgRWedO29f7RI+1f/9+UlNTLQkEiIiQmppqLS5jwlQg+whew5mO70guADq6j9HA87U5mCWBwLLfrzHhK2CXhlT1KxFpc5RNRgBvuDXe54pIIxE5SVV/CFRMxpgIVVYKhZtg10bnsb8QUFA9wjNHWe+hk4dCRh+/79bLPoIMDp0CL89ddlgiEJHROK0GWrWqmxMkRUdH0717d8rKyujcuTOvv/46iYmJtdrnww8/zNlnn815551X4/oJEyaQmJjIddf5MinV0b3++uv86U9/AuDBBx/k+uttjnITQsrLYM8W2Pm9+2HvPu/83nm9ewtHn8zueHjYOm7QLCCJIKDzEbgtgk9UtVsN6z4BnlTV/7rvZwC/P8qkJQBkZmZq9TuLV65cSefOnf0W94lISkqiqKgIgGuuuYY+ffpw7733HlxfVlZGTEzd7JvfsWMHmZmZZGdnIyL06dOHhQsXkpKScsh2deH3bAx7d8DSd2Drsp8++HdvhoqyKhsJNMyAlNbQqBU0cp8r39dLcbYR8f05xC+PishCVc2saZ2Xn0ybOXQu1BbUPGdqyOnfvz9Lly4lKyuLhx56iJSUFFatWsXKlSsZM2YMWVlZlJSUcPvtt3PLLbcAMHbsWN566y2ioqK44IILePLJJ7nhhhu48MILueyyyxgzZgxTpkwhJiaG888/n7/97W88+uijJCUlcf/997N48WJuvfVW9u7dS/v27XnllVdISUlh4MCBnHbaacyaNYtdu3bx8ssv079//0PinTZtGoMHD6Zx48YADB48mM8//5yrrroq6L87Y45o2yqYNwGWTIKyfZDUzPlgb9nv8A/6hi0gJs7riEOGl4lgCnCHiEzCmXqv0B/9A499vJwVW3bXOriqujRvyCMXdfVp27KyMj777DOGDnX6yb/77juWLVtG27ZtefHFF0lOTmbBggWUlJRw5plncv7557Nq1So++ugj5s2bR2JiIjt27DhknwUFBXz44YesWrUKEWHXrl2HHfe6667j2WefZcCAATz88MM89thj/OMf/zgY0/z585k6dSqPPfYYX3755SE/u3nzZlq2/Cknt2jRgs2bwyInm1BXUQE5M2DuvyBnJkTHw6kj4bRbodlhFxrMCQpYIhCRicBAIE1E8oBHgFgAVZ0ATMWZT3YdsBcI1mTgAbFv3z569uwJOC2CUaNGMWfOHPr163dw7P306dNZunQp77//PgCFhYWsXbuWL7/8khtvvPFgn0LlN/NKycnJJCQkMGrUKC688EIuvPDCQ9YXFhaya9cuBgwYAMD111/P5ZdffnD9L37xCwD69OnDhg0b/H7uxvhdSREsmei0AArWQYOT4NwHoc+NUD/N6+jCTiBHDR31uoI7Wuh2fx/X12/u/lavXj0WL1582PL69esffK2qPPvsswwZMuSQbaZNm3bUfcfExDB//nxmzJjB+++/z3PPPcfMmTN9ji0+Ph5wOrTLysoOW5+RkUFWVtbB93l5eQwcONDn/RvjNzu/h/kvwndvQkmh0zF66cvQebhd6gkgqzUUREOGDOH555/nwIEDAKxZs4bi4mIGDx7Mq6++yt69ewEOuzRUVFREYWEhw4YN4+9//ztLliw5ZH1ycjIpKSl8/fXXALz55psHWwe+xjV9+nR27tzJzp07mT59+mHJypiAUYXv58A718K4njD3eegwCEZ9CTfPhO6XWRIIsLo5jCVM/epXv2LDhg307t0bVSU9PZ3JkyczdOhQFi9eTGZmJnFxcQwbNownnnji4M/t2bOHESNGsH//flSVZ5555rB9v/766wc7i9u1a8err77qc1yNGzfmoYceom/fvoAzbLX65Slj/K6sBJZ94Fz//3GpM5LnzLuh768guYXX0UWUgA4fDYS6Onw0Etjv2fjNxrnw7vVQ9COkn+J0/p56BcTV7t4bc2R1dfioMSYSrfoU3r/J+dZ/yWRoNzDkx+iHOksExpjgWfgafPIbaN4Lrn4P6qd6HZHBEoExJhhUYfZTkPUEdBgMI1+HuPrH/jkTFJYIjDGBVVEOU++H7Fegx9UwfBxE2wRHdYklAmNM4BzYD/8ZBas+gbN+A4Mesf6AOsgSgTEmMPbthIlXw8ZvYehYOP1WryMyR2A3lPlJdHQ0PXv2pFu3blx00UU11gOqjTZt2rB9+3bAqXRak88//5yTTz6ZDh068OSTT/r1+MYcl8LN8OowyFsAl71sSaCOs0TgJ5UlJpYtW0bjxo0ZP358UI9fXl7O7bffzmeffcaKFSuYOHEiK1asCGoMxgCQvxpePh92bYJr/wPdLvU6InMMlggC4IwzzjhYvTMnJ4ehQ4fSp08f+vfvz6pVqwDYunUrl1xyCT169KBHjx7MmTMHgIsvvpg+ffrQtWtXXnzxRZ+POX/+fDp06EC7du2Ii4vjyiuv5KOPPvL/yRlzNBvnOUmgvBRu/BTa+V7qxHgn/PoIPhsDP/7Pv/ts1h0u8O1SS3l5OTNmzGDUqFEAjB49mgkTJtCxY0fmzZvHbbfdxsyZM7nrrrsYMGAAH374IeXl5QcntXnllVdo3Lgx+/bto2/fvlx66aWkph57rHVNpaTnzZt3AidrzAla/Rm8dyM0PAmu/QAat/U6IuOj8EsEHqksQ71582Y6d+7M4MGDKSoqYs6cOYeUhC4pKQFg5syZvPHGG4DTv5CcnAzAuHHj+PDDDwHYtGkTa9eu9SkRGOOp796Aj++Bk051bhRLSvc6InMcwi8R+PjN3d8q+wj27t3LkCFDGD9+PDfccAONGjWqsTx1TbKysvjyyy/59ttvSUxMZODAgezfv9+nn83IyGDTpp+mgM7LyyMjI+NETsUY36nC13+DmX+C9oNg5BsQX/NgBlN3WR+BnyUmJjJu3DiefvppEhMTadu2Le+99x7gzEdQWUJ60KBBPP/884BzOamwsJDCwkJSUlJITExk1apVzJ071+fj9u3bl7Vr17J+/XpKS0uZNGkSw4cP9/8JGlOpohym/tZJAqdeAVdNsiQQoiwRBECvXr049dRTmThxIm+//TYvv/wyPXr0oGvXrgc7cP/5z38ya9YsunfvTp8+fVixYgVDhw6lrKyMzp07M2bMGE4//XSfjxkTE8Nzzz3HkCFD6Ny5MyNHjqRrV28m6TERIutJWPAS/OwuuHiCzRkQwqwMtfGZ/Z7NQZsXwr8HOy2BS573Ohrjg6OVobYWgTHm+BzYD5Nvg6SmMPQvXkdj/CD8OouNMYGV9QTkr4Jr/gP1GnkdjfGDsGkRhNolrlBjv18DwKb5MOdZ6H09dDzP62iMn4RFIkhISKCgoMA+rAJEVSkoKCAhIcHrUIyXSvfCh7dCwxYw5M9eR2P8KCwuDbVo0YK8vDzy8/O9DiVsJSQk0KKFTSge0WY+Djty4LopEN/A62iMH4VFIoiNjaVtW7ud3ZiA2fANzH0e+t5s9YPCUFhcGjLGBFBJEXx0G6S0hsGPeR2NCYCwaBEYYwLoy0dg5/dw41SbZzhMWYvAGHNkuVmw4N9w+m3Q+mdeR2MCxBKBMaZm+3fDR3dAagcY9JDX0ZgAsktDxpiaTX8Adm+Gm6ZDbD2vozEBZC0CY8zh1n7hzDHws7ugZV+vozEBZonAGHOofTthyp2QfgoM/IPX0ZggCGgiEJGhIrJaRNaJyJga1rcSkVkiskhElorIsEDGY4zxwed/gKJtcMkEiLW7ySNBwBKBiEQD44ELgC7AVSLSpdpmDwLvqmov4ErgX4GKxxjjg1VTYclE6H8fNO/ldTQmSALZIugHrFPVXFUtBSYBI6pto0BD93UysCWA8RhjjmbvDvj4bmjaHc7+rdfRmCAK5KihDGBTlfd5wGnVtnkUmC4idwL1gRrLGYrIaGA0QKtWrfweqDEGmHq/0z/wyw9strEI43Vn8VXAa6raAhgGvCkih8Wkqi+qaqaqZqanpwc9SGPC3vLJsOw/MOD30Ky719GYIAtkItgMtKzyvoW7rKpRwLsAqvotkACkBTAmY0x1Rfnw6b1wUk846x6vozEeCGQiWAB0FJG2IhKH0xk8pdo2G4FBACLSGScRWC1pY4JFFT79DZTscUYJRcd6HZHxQMASgaqWAXcA04CVOKODlovIH0VkuLvZfcDNIrIEmAjcoDa7jDHBs+w/sPJjOOf/QZPOXkdjPCKh9rmbmZmp2dnZXodhTOg7sA+e7QNJTeBXMyAq2uuITACJyEJVzaxpndUaMiZSLfi3U0vokhcsCUQ4r0cNGWO8sL8Qvn4a2g+Ctv29jsZ4zBKBMZHom3HOPQPnPeJ1JKYOsERgTKTZ8yPM/Rd0uxRO6uF1NKYOsERgTKT56q9QXgrnPOB1JKaOsERgTCQpyIGFr0Hv6yG1vdfRmDrCEoExkWTWExAdBwN+53Ukpg6xRGBMpPhhCSx7H07/NTRo5nU0pg6xRGBMpJjxR6iXAmfe7XUkpo6xRGBMJFj/Naz7Es66FxKSvY7G1DGWCIwJd6rw5aPQMAP63ex1NKYOskRgTLhb9QlszoaBYyC2ntfRmDrIEoEx4ay8DGY8DmmdoMfVXkdj6igrOmdMOFsyEbavhpFvQrT9uZuaWYvAmHB1YD9k/QUy+kDni7yOxtRh9hXBmHC14CW3zPQEEPE6GlOHWYvAmHB0SJnps72OxtRxlgiMCUdWZtocB0sExoSbPVutzLQ5LpYIjAk3Xz1lZabNcbFEYEw42ZFrZabNcbNEYEw4mflnKzNtjpslAmPCxQ9Lrcy0OSGWCIwJFzMeg4RG8LO7vI7EhBhLBMaEg8oy0/3vg3qNvI7GhBhLBMaEOiszbWrJEoExoW7Vp1Zm2tSKJQJjQllFBcy0MtOmdqzonDGhbMVkyF8Fl71iZabNCbMWgTGhqqICvvorpJ0MXS72OhoTwgKaCERkqIisFpF1IjLmCNuMFJEVIrJcRP4vkPEYE1ZWfQzbVsDZv4WoaK+jMSEsYG1JEYkGxgODgTxggYhMUdUVVbbpCPwBOFNVd4pIk0DFY0xYqaiA2U9Bakfo9guvozEhLpAtgn7AOlXNVdVSYBIwoto2NwPjVXUngKpuC2A8xoSP1VNh6zJrDRi/CGQiyAA2VXmf5y6rqhPQSUS+EZG5IjK0ph2JyGgRyRaR7Pz8/ACFa0yIUIXZY6FxO6fUtDG15HVncQzQERgIXAW8JCKNqm+kqi+qaqaqZqanpwc3QmPqmtWfwY9LndaAjRQyfhDIRLAZaFnlfQt3WVV5wBRVPaCq64E1OInBGFOTytZAShvoPtLraEyYCGQiWAB0FJG2IhIHXAlMqbbNZJzWACKShnOpKDeAMRkT2tZOhx8WQ//7rTVg/CZgiUBVy4A7gGnASuBdVV0uIn8UkeHuZtOAAhFZAcwCfquqBYGKyZiQVtkaaNQKelzpdTQmjAT0K4WqTgWmVlv2cJXXCtzrPkyY2LC9mL98tpJfD+xAz5aNvA4nfKybAZsXwkX/hOhYr6MxYcTalsavVv6wm1++PJ/tRSUs2riLj+88i6YNE7wOK/SpwuwnIbml1RQyfufTpSERuUREkqu8byQiFwcsKhOSsjfsYOQL3xIbLTx/TW+KSsq45c2F7D9Q7nVooS93FuQtgP73Qkyc19GYMONrH8EjqlpY+UZVdwGPBCQiE5KyVm/j2pfnkZ4Uz/u//hkXdD+JZ0b2ZPGmXTw0eRnOVUBzQlQha6wz30DPa7yOxoQhXxNBTdvZZSUDwJQlW/jV69m0T0/i3VvPIKORUxN/aLdm3DWoI+8tzOP1ORu8DTKUrZ8Nm+bCWb+BmHivozFhyNdEkC0iz4hIe/fxDLAwkIGZ0PDW3O+5e9IierdOYeLo00lLOvSD6p5BHRncpSmPf7qSOTnbPYoyxM1+Cho0h97XeR2JCVO+JoI7gVLgHfdRAtweqKBM3aeqjJ+1jgcnL+Pck5vwxk39aJhw+EiWqCjhmZE9aJtWn9vf/o5NO/Z6EG0IW/81fP8NnHWPtQZMwPiUCFS1WFXHVJZ5UNU/qGpxoIMzdZOq8udPV/LXaau5pFcGE37Zh4TYIxc+a5AQy0vXZVJeoYx+cyF7S8uCGG2Imz0WkppB7+u9jsSEsaMmAhH5h/v8sYhMqf4ISoSmTikrr+B37y/l3/9dzw0/a8PTl/cgNvrY3yfaptVn3FW9WP3jbn73/lLrPPbFhm9gw9dw5t0Qa0NwTeAcq8P3Tff5b4EOxNR9+w+Uc/ekRUxbvpW7B3XknvM6IiI+//zAk5vwu6Gn8ORnq+jSvCG3DewQwGjDwOyxUL8JZN7odSQmzB01EajqQneCmdGqauPWIlhRSRmj38hmTk4Bj1zUhRvPbHtC+7nl7Has2LKbv05bTedmDTnnFJuLqEYb5zqjhc7/M8TW8zoaE+aO2aZX1XKgtVs4zkSgncWlXPPSXOat38EzI3uccBIAEBHGXnoqXU5qyF2TFpGbX+THSMPI7LGQmGatARMUvo4aygW+EZGHROTeykcgAzN1ww+F+7j8hW9Z+eMeXri2D7/o3aLW+6wXF80Lv+xDbHQUN7+RzZ79B/wQaRjZtAByZsKZd0Fcfa+jMRHA10SQA3zibt/AfSQFKihTN6zfXsxlz3/Lj4X7eeOmfpzXpanf9t0iJZF/XdObDQV7+c07i6mosM7jg2aPhcRUyBzldSQmQvh6d/AKVX2v6gIRuTwA8Zg6YtOOvVw+YQ6qMGn06XTLSD72Dx2n09ul8vCFXXhkynL+/uUa7jv/ZL8fI+TkLYR1X8CgRyDevmuZ4PC1RfAHH5eZMDFt+Y9sLyrl7ZtPC0gSqHTdGa0ZmdmCZ2eu47P//RCw44SM2WOhXgr0u9nrSEwEOWqLQEQuAIYBGSIyrsqqhoDdFRTGcrcX0ygxllOaNQzocUSExy/uxtptRdz33hLaptcP+DHrrC2LYO00OPchiG/gdTQmghyrRbAFyAb249QWqnxMAYYENjTjpZxtRbRPD86lifiYaCZc24ek+BhufiObncWlQTlunTP7KUhoBP1Gex2JiTBHTQSqukRVXwc6AO8Cc1X1dVX9QFV3BiVC44nc7cW0SwveiJWmDRN44Zd92FpYwp0TF1FWXhG0Y9cJPyyB1VPhjNshIUJbRMYzvvYRDAUWA58DiEhPKzERvnbvP0D+nhLaNwluZ2WvVin86ZJu/Hfdds59ejZ3/N93TJidw3/Xbg//VsLspyA+2VoDxhO+jhp6FOgHZAGo6mIROfG7ikydlpvv1BMMZoug0sjMlgDMWLmVRRt38cnSnzqQMxrVo2vzhnRtnky3jIZ0y0imSYP44ypzUSf9+D9Y9QkMGAP1GnkdjYlAviaCA6paWO0PzgZ+h6nKu32D3SKoNDKz5cGEsLO4lBU/7GbZ5kKWbdnN8i2FfLFyK5U169KS4ujaPJmuzZ3E0K15Mi0b1wut5JD1pNMaOP3XXkdiIpSviWC5iFwNRItIR+AuYE7gwjJeyskvIiZKaNU40etQSKkfx5kd0jizQ9rBZcUlZaw8JDns5puvcilzb0prnZrI7QM7cEnvDJ8qo3pqyyKnNXDOA9YaMJ7xNRHcCTyAMyHNRGAa8HiggjLeys0vplXjxDr7IVo/PobMNo3JbNP44LL9B8pZu7WIpZt3MWn+Jn73n6X8c8Zafj2wPZdntiA+5sjzJXgq60lnpNBpt3odiYlgPiUCVd2LkwgeCGw4pi7IyS+iXZCGjvpLQmw03Vsk071FMlf3a0XW6nzGzVzLg5OX8dzMddw6oB1X9mt11Al0gm7zQljzuXPfgI0UMh461g1lRx0ZpKrD/RuO8Vp5hbKhYC/nnBy65aFFhHNOacLAk9P5Zl0B42as5dGPVzA+K4dbzm7H1ae1IjHO18ZwAM36C9RrDKfd4nUkJsId66/hDGATzuWgeUAI9cCZE7F55z5KyyqCdjNZIIkIZ3VM46yOaczNdRLCnz5dyfNZOfyqfzt+eUZrkuI9SgibFjg1hc571O4iNp471l9BM2AwcBVwNfApMFFVlwc6MOONHHfEULv08Cp/fHq7VE5vl0r2hh2Mm7mOsZ+v4oWvchh1ZluuP7MNDRNigxtQ1hNOhdG+VlPIeO9YdxaXq+rnqno9cDqwDsgSkTuCEp0JuspEEA4tgppktmnMGzf1Y/LtZ9KnVQpPf7GGM5+cyTPTV7Nrb5BuWts4151v4B6rMGrqhGO2i0UkHvg5TqugDTAO+DCwYRmv5OQXk5IYS0r98J6QrmfLRrx8Q1+WbS7kuZnrGDdzHS//dz03nNmGWwa0D2wLYdYTzlzEfX8VuGMYcxyO1Vn8BtANmAo8pqrLghKV8UxuCI4Yqo1uGclM+GUfVv24m+dmrmP8rBwmzd/EbwZ34sq+LYnx9xDaDd84cxEPeQLivL9Pwxg4dq2ha4GOwN3AHBHZ7T72iMjuwIdngi0nv5j2YdY/4ItTmjXkuat78/EdZ9E+PYkHJy9j2Liv+WpNvn8PlPUXSGoKmTf5d7/G1MKx+giiVLWB+2hY5dFAVY858FlEhorIahFZJyJjjrLdpSKiIpJ5Iidh/GP3/gNsLyqJqBZBdd1bJPPOLacz4dre7D9QwXWvzOeGV+ezbtue2u98/Vew4Ws4616IrVf7/RnjJwG7dVREooHxwAVAF+AqEelSw3YNcFoc8wIVi/FNZbG5cO0o9pWIMLTbSXxx79n8v2GnsHDDTob842se/mgZO060Cqqqc99Ag5Ogzw1+jdeY2gpkDYF+wDpVzVXVUmASMKKG7R4HxuJMfmM8lLMtPIeOnqj4mGhGn92erN8O5Op+rXh73kYG/HUWL32VS0lZ+fHtLDcLNs6B/vdBbEJA4jXmRAUyEWTg3IxWKc9ddpCI9AZaquqnR9uRiIwWkWwRyc7P9/M1W3NQ7va6U2yuLklNiufxi7vx+d396dM6hT9PXcn5f/+Kz5f9gKoPRXhVnZFCDTOg93WBD9iY4+RZVTERiQKeAe471raq+qKqZqpqZnp6euCDi1A524pplVp3i815rWPTBrx2Yz9ev6kfcdFR3PrWd1zx4lz+l1d49B/MmQF58+Hs+yEmPjjBGnMcAvkXvxloWeV9C3dZpQY4Q1OzRGQDzg1rU6zD2Du524tolxbZ/QO+GNApnc/u7s+fLu7Gum1FDB//X+57dwk/FtZwdbOyNZDcCnpeG/xgjfFBIAutLAA6ujOZbQauxClTAYCqFgIHi8yLSBZwv6pmBzAmcwTlFcqG7Xs555TQLTYXTDHRUVx7emuG92zO+JnrePWbDXz6vy0M7dqMi3tlcFaHNOcehLVfOFVGLxoHMeF9k54JXQFLBKpa5paimAZEA6+o6nIR+SOQrao253EdkrdzL6XlFbS3FsFxaZgQyx+Gdeaa01oz4ascPl36A5MXbyEtKY6LTj2J3258nHqNWiM9rz72zozxSEBLL6rqVJy7kqsue/gI2w4MZCzm6A4OHW1iI4ZORKvURJ64pDuPXNSFrNX5TF60mS3zJ5MYs5SnEu6kXtYGLu6VQUvriDd1UB0oym7qgoNVR61FUCvxMdEM6dqMIV2aUv783ewpasmihkP59os1PP3FGjJbp3Bxrwx+3v2ksK/nZEKHJQIDRE6xuaBZ9QnR2/5Hg4snMLHnWWzetY+PFm/mw+828+DkZTz28XIGntyEi3tmMKhzk7o1c5qJOJYIDOC0CCL9jmK/qahw5iJO7QDdLwcgo1E9bhvYgV8PaM+KH3YzedFmpizZwhcrttIgPoYLujdjaLdmnNEujXpxlhRMcFkiMIDTR3DuKXaPhl+snAJbl8EvXoLoQ//ERISuzZPp2jyZMRd0Zm5uAR8u2szU//3Iu9l5xMdEcUb7VM49pQnnnNzE+hRMUFgiMBTuc4rNWYvADypbA2mdoNulR900Oko4s0MaZ3ZI48+XdGNe7g5mrd7GrFXbePij5cByOjRJ4lx3/uW+bRrbzX4mICwRGHIPTk9piaDWVnwI+Svh0pchyvdLPPEx0ZzdKZ2zO6XzyEVdWb+9mJmrnKTw6jfrefGrXBrEx9C/UxoDT3YSQ5MGVrPI+IclAlOl6qgNHa2VinKnNZDeGbpeUqtdtU2rz6iz2jLqrLYUlZTxzbrtzFq1jVmrtzH1fz8C0D0jmXNOacI5J6fTo0UjoqLEH2dhIpAlAkNOvlNszq5H19KyD2D7Grj89eNqDRxLUnyMMyS1azNUlRU/7HaTQj7PzVzLuBlraZAQQ2brFPq2bUy/No3p3iKZ+BjrdDa+sURgyM23YnO1Vl4Gs5+Ept2g8/CAHaZqZ/Md53ZkZ3EpX63NZ25uAfPX72DWaqc6b1xMFD1bNKJv2xT6tmlM79YpgZ2H2YQ0SwTGho76w+K3oGAdjHwTooKXUFPqxzGiZwYjejoV3guKSliwYScLNuwge8MOJszOZfysHKLEmY6zX9vG9G3TmL5tUmjS0PoYjMMSQYQrr1C+L9jLuZ2t2NwJ27cTZvwRWv0MOl/kaSipSfEM7ebckwBQXFLGoo27WLBhBws27OCdBZt4bc4GAFqnJh5MCr1bpdA+Pcn6GSKUJYIId7DYnLUITlzWk04yuGAsSN36IK0fH8NZHdM4q6NT6PdAeQXLNheSvWEn8zfsYMbKrby/MA+Ahgkx9GyVQq+WjejdOoWeLRuRXM8uJ0UCSwQRrrLGkI0YOkFbV8D8l6DPjXDSqV5Hc0yx0VH0apVCr1Yp3Hx2OyoqlNztxXy3cSeLNu5i0cadjJu5FlUnp3VIT6J3qxR6t25krYYwZokgwlUOHbVicydAFT77HSQ0hHMf9DqaExIVJXRokkSHJkmMzHTmkdqz/wBLNhXy3cadfLdxJ58v/5F3sp1ZZytbDb1bOYmhh7UawoIlggiXk19E4/pxVmzuRKyYDBu+hp8/DYmNvY7GbxokxB5yOenQVoPTcvjnDKfVANA8OYGOTRvQqWmS+9yAjk2SqB9vHy+hwv6lIlxOfjHt0uyy0HEr3QvTHoSm3Z3LQmHsaK2GJXm7WLt1D2u2FvFtbgGlZRUHfy6jUT06NU2ik5scOjVtQIcmSVZUrw6yRBDhcvOLGWTTUx6/b/4Bu/Pg0pf8evNYqKjeagBnBNrGHXtZs3XPweSwZusevllXQGm5kyBEoGVKIp2aJtGhSQOaNYwnNSme1KQ40pLiSa0fR6PEOKKtHyKoLBFEsMpic+2so/j47NwA//0HdLsMWv/M62jqjOgooW1afdqm1WdI12YHl5eVV7ChYO9PyWGbkyiyVudTVqGH7SdKoHH9OFLrOwki1U0QqfXjqiSNOBJio4mNjiImSpznaCE6SoiNcl5XrouOEqSOjeaqaywRRLDcgyOGrKP4uEx7AKJi4PzHvY4kJMRERx28tHRB95+WV1Qou/YdoKCohO1FpRQUl1BQVOq8L3aeC4pKWb65kO1FJezeX3biMUSJkxyifkoYIkKUgOA+iyACUe7yKBGo8l5w1osIXqWV28/pwM9PPcnv+7VEEMFyKkcMWYvAdzkzYdUnMOhhaNjc62hCWlSU0Lh+HI3rx9Gx6bG3LykrZ2ex04otKC5lX2k55RVKWUUFB8qVsvIKDlQ4z2XlSllFtWUVygF3XbkqqqCqVLivK9z3ClSoUqHOM1r5/qftvFI/PjCXIS0RRLBcKzZ3fMoPwGe/h5S2cMYdXkcTceJjommWHE2zZCuN4W+WCCJYTn4Rra3YnO/mveBUF73qHYiJ9zoaY/zGPgEiWG5+sU1G46s9W51SEh0GQ6chXkdjjF9ZIohQZeUVfF+w1zqKfTXjj1C2H4Y+WefqCRlTW5YIIlTezn2UlldYR7Ev8rKdMtNn3AZpHbyOxhi/s0QQoXK329BRn1RUwNTfQlIzOPu3XkdjTEBYZ3GEytlm8xT7ZPHbsOU7uORFiG/gdTTGBIS1CCJU7nan2FyjRCs2d0T7dsGXj0LL0+DUkV5HY0zAWIsgQuXkF1tr4FhmPwV7C+Da/1gHsQlr1iKIULn5RTYHwdFsWwXzX4A+10Pznl5HY0xABTQRiMhQEVktIutEZEwN6+8VkRUislREZohI60DGYxyFew+wvaiU9k2sRVCjygln4urDuQ97HY0xARewRCAi0cB44AKgC3CViHSpttkiIFNVTwXeB54KVDzmJznuiCFrERzByo9h/Ww450Gon+p1NMYEXCBbBP2Adaqaq6qlwCRgRNUNVHWWqu51384FWgQwHuPKtWJzR3Zgn1NdtElXyLzJ62iMCYpAJoIMYFOV93nusiMZBXxW0woRGS0i2SKSnZ+f78cQI1NOfhGx0VZsrkbfjIPCjXDBWIi2sRQmMtSJzmIRuRbIBP5a03pVfVFVM1U1Mz09PbjBhaHc/CJaNbZic4fZtRH++wx0vQTa9vc6GmOCJpBfeTYDLau8b+EuO4SInAc8AAxQ1ZIAxmNcufnFdkdxdRUV8PHdIFFw/p+8jsaYoArkV8IFQEcRaSsiccCVwJSqG4hIL+AFYLiqbgtgLMblTBtoVUcPs+DfzqQz5z8OydZVZSJLwBKBqpYBdwDTgJXAu6q6XET+KCLD3c3+CiQB74nIYhGZcoTdGT/J27mPA+VqN5NVlb8avngIOp4PmaO8jsaYoAtob5iqTgWmVlv2cJXX5wXy+OZwOe48xdYicJWVwgc3Q2wiDH/O7iA2EcmGRUSYyqGj1iJwzR4LPyyBK96CBj5MnGtMGLJhIxEmd3sRqVZszrFxnjNKqOe10Pkir6MxxjOWCCJMzrZiu5EMoGQPfDgaklvCBU96HY0xnrJEEGFytxfZ0FGAz//g3DfwC5tnwBhLBBGksthcxLcIVn4Ci96EM++BVqd7HY0xnrNEEEGs2BywZyt8fBec1AMG/sHraIypEywRRJCcbe48xU0iNBGowpQ7oLTYmXoyxjrMjQEbPhpRcrcXO8XmUup5HYo3Fr4Ka6fD0LHQ5BSvozGmzrAWQQTJzS+idWp9YiKx2Nz2dU556XbnQL/RXkdjTJ0SgZ8IkSsnv5h2aRHYUVx+wBkqGh0HF/8Louy/vTFV2V9EhCgrr+D7guLI7B/4+mnYvBAu/Ds0bO51NMbUOZYIIsQmt9hcxLUI8rJh9lNw6hXQ7RdeR2NMnWSJIELkRmKxudJi+GC00woYVuOcR8YYbNRQxKisOhpRxeamPwg7cuGGTyAh2etojKmzrEUQIXLziyOr2NyaaZD9CvzsDmhzltfRGFOnWSKIEBE1PWXxdvjoDmjaDc59yOtojKnzLBFEiJz8osioMaQKU+6C/bucgnIx8V5HZEydZ4kgAuzaW0pBcWlktAiyX4HVn8Kgh6FpV6+jMSYkWGdxBMhxZyUL6xaBKnz9N5j5J2h/Lpx+u9cRGRMyLBFEgLAfOnpgP0y5E/73LnQfCcOftbuHjTkOlggiQFgXmyvaBpOugbz5Tsdw//tsAnpjjpMlggiQsy1Mi81tXQ7/d4UzSmjkG9BlhNcRGROSLBFEgNztxeF3I9nqz+E/o5xpJm/6DJr38joiY0JWmH1FNNVVFpsLm/4BVZjzHEy8ElI7wM0zLQkYU0vWIghzYVVsrqwUpt4H370BnYfDJS9AXKLXURkT8iwRhLmwmZ5y7w549zrY8LXTIXzOgzYyyBg/sUQQ5nLdCevbh/KE9flrYOIVUJjnzDXc4wqvIzImrFgiCHO5+cWkJcWRnBjrdSgnJmcWvHs9RMfC9Z9Aq9O8jsiYsGNt6zCXk19Eu1BtDSz4N7x1KSRnOJ3ClgSMCQhLBGEuN7+Y9k1CrKO4vAym/g4+vQ86nAc3TYOU1l5HZUzYsktDYayy2FydbxEUF0D+Kti+GvJXw8Zv4YclTr2g8x+HqGivIzQmrAU0EYjIUOCfQDTwb1V9str6eOANoA9QAFyhqhsCGVMkqVPF5lRh95afPuzzV8P2NU4C2Fvw03ax9SGtI4wYD72u9S5eYyJIwBKBiEQD44HBQB6wQESmqOqKKpuNAnaqagcRuRIYC9iQED/JPTg9pZ9aBBUVUF4C5aXOmP7yEiirfF/1uQQO7IOCnJ8+7PPXQOmen/aV0AjST4FTfg5pJzuv0ztBwxY2LNSYIAtki6AfsE5VcwFEZBIwAqiaCEYAj7qv3weeExFRVfV3MAs++Cfpy17y927rtN4VypfxSuuJ9QF1HnqkZw5fru4Hf+WHfkXZ8QeR1Mz5gO95FaR1cj/wT4b66VYczpg6IpCJIAPYVOV9HlB92MfBbVS1TEQKgVRge9WNRGQ0MBqgVatWJxRMTFIqOxLbntDPhrLkenFIepL7oSvH8QxIFETHO7N8Rccd/nzYsniIiXOeYxOgUWuo18i7kzfG+CQkOotV9UXgRYDMzMwTai30Ov9aON+uORtjTHWBvBi7GWhZ5X0Ld1mN24hIDJCM02lsjDEmSAKZCBYAHUWkrYjEAVcCU6ptMwW43n19GTAzEP0Dxhhjjixgl4bca/53ANNwho++oqrLReSPQLaqTgFeBt4UkXXADpxkYYwxJogC2kegqlOBqdWWPVzl9X7g8kDGYIwx5uhswLYxxkQ4SwTGGBPhLBEYY0yEs0RgjDERTkJttKaI5APfn+CPp1HtruUIYOccGeycI0Ntzrm1qqbXtCLkEkFtiEi2qmZ6HUcw2TlHBjvnyBCoc7ZLQ8YYE+EsERhjTISLtETwotcBeMDOOTLYOUeGgJxzRPURGGOMOVyktQiMMcZUY4nAGGMiXFgmAhEZKiKrRWSdiIypYX28iLzjrp8nIm08CNOvfDjne0VkhYgsFZEZItLaizj96VjnXGW7S0VERSTkhxr6cs4iMtL9t14uIv8X7Bj9zYf/261EZJaILHL/fw/zIk5/EZFXRGSbiCw7wnoRkXHu72OpiPSu9UFVNaweOCWvc4B2QBywBOhSbZvbgAnu6yuBd7yOOwjnfA6Q6L7+dSScs7tdA+ArYC6Q6XXcQfh37ggsAlLc9028jjsI5/wi8Gv3dRdgg9dx1/KczwZ6A8uOsH4Y8BnOhLKnA/Nqe8xwbBH0A9apaq6qlgKTgBHVthkBvO6+fh8YJBLSM6kf85xVdZaq7nXfzsWZMS6U+fLvDPA4MBbYH8zgAsSXc74ZGK+qOwFUdVuQY/Q3X85ZgYbu62RgSxDj8ztV/QpnfpYjGQG8oY65QCMROak2xwzHRJABbKryPs9dVuM2qloGFAKpQYkuMHw556pG4XyjCGXHPGe3ydxSVT8NZmAB5Mu/cyegk4h8IyJzRWRo0KILDF/O+VHgWhHJw5n/5M7ghOaZ4/17P6aQmLze+I+IXAtkAgO8jiWQRCQKeAa4weNQgi0G5/LQQJxW31ci0l1Vd3kZVIBdBbymqk+LyBk4sx52U9UKrwMLFeHYItgMtKzyvoW7rMZtRCQGpzlZEJToAsOXc0ZEzgMeAIarakmQYguUY51zA6AbkCUiG3CupU4J8Q5jX/6d84ApqnpAVdcDa3ASQ6jy5ZxHAe8CqOq3QAJOcbZw5dPf+/EIx0SwAOgoIm1FJA6nM3hKtW2mANe7ry8DZqrbCxOijnnOItILeAEnCYT6dWM4xjmraqGqpqlqG1Vtg9MvMlxVs70J1y98+b89Gac1gIik4Vwqyg1ijP7myzlvBAYBiEhnnESQH9Qog2sKcJ07euh0oFBVf6jNDsPu0pCqlonIHcA0nBEHr6jqchH5I5CtqlOAl3Gaj+twOmWu9C7i2vPxnP8KJAHvuf3iG1V1uGdB15KP5xxWfDznacD5IrICKAd+q6oh29r18ZzvA14Skd/gdBzfEMpf7ERkIk4yT3P7PR4BYgFUdQJOP8gwYB2wF7ix1scM4d+XMcYYPwjHS0PGGGOOgyUCY4yJcJYIjDEmwlkiMMaYCGeJwBhjIpwlAhMxRCRVRBa7jx9FZLP7epc73NLfx3tURO4/zp8pOsLy10TkMv9EZsyhLBGYiKGqBaraU1V7AhOAv7uvewLHLEfg3oVuTNixRGCMI1pEXnJr+E8XkXoAIpIlIv8QkWzgbhHpIyKzRWShiEyrrPooIndVme9hUpX9dnH3kSsid1UuFGd+iGXu457qwbh3jT7n1uH/EmgS2NM3kcy+4Rjj6Ahcpao3i8i7wKXAW+66OFXNFJFYYDYwQlXzReQK4M/ATcAYoK2qlohIoyr7PQVnLogGwGoReR44Fedu0NNwasrPE5HZqrqoys9dApyMU1+/KbACeCUQJ26MJQJjHOtVdbH7eiHQpsq6d9znk3EK2X3hlumIBiprvCwF3haRyTj1fip96hb4KxGRbTgf6mcBH6pqMYCIfAD0x5lQptLZwERVLQe2iMjM2p+iMTWzRGCMo2o11nKgXpX3xe6zAMtV9Ywafv7nOB/eFwEPiEj3I+zX/uZMnWN9BMb4bjWQ7ta8R0RiRaSrO/dBS1WdBfwep6x50lH28zVwsYgkikh9nMtAX1fb5ivgChGJdvshzvH3yRhTyb6dGOMjVS11h3COE5FknL+ff+DU/H/LXSbAOFXddaTZT1X1OxF5DZjvLvp3tf4BgA+Bc3H6BjYC3/r5dIw5yKqPGmNMhLNLQ8YYE+EsERhjTISzRGCMMRHOEoExxkQ4SwTGGBPhLBEYY0yEs0RgjDER7v8DybxcNyVyxRUAAAAASUVORK5CYII=\n",
=======
      "image/png": "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\n",
>>>>>>> 9696076df5745f74fba89ee1934b45f0acdcee76
      "text/plain": [
       "<Figure size 432x288 with 1 Axes>"
      ]
     },
     "metadata": {
      "needs_background": "light"
     },
     "output_type": "display_data"
    }
   ],
   "source": [
    "print('***   DL - COM BALANCEAMENTO TARGET - THRESHOLD = 0 ~ 1   ***')\n",
    "plt.plot(np.array(metrics_per_threshold_dl)[:,0], np.array(metrics_per_threshold_dl)[:,1])\n",
    "plt.plot(np.array(metrics_per_threshold_dl)[:,0], np.array(metrics_per_threshold_dl)[:,2])\n",
    "plt.title('Metrics X Threshold')\n",
    "plt.ylabel('Metric')\n",
    "plt.xlabel('Threshold')\n",
    "plt.legend(['Precision 0', 'Recall 0'], loc='best')\n",
    "plt.show()"
   ]
  }
 ],
 "metadata": {
  "kernelspec": {
   "display_name": "Python 3",
   "language": "python",
   "name": "python3"
  },
  "language_info": {
   "codemirror_mode": {
    "name": "ipython",
    "version": 3
   },
   "file_extension": ".py",
   "mimetype": "text/x-python",
   "name": "python",
   "nbconvert_exporter": "python",
   "pygments_lexer": "ipython3",
   "version": "3.7.7"
  }
 },
 "nbformat": 4,
 "nbformat_minor": 4
}
