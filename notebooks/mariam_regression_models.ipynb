{
 "cells": [
  {
   "cell_type": "markdown",
   "metadata": {},
   "source": [
    "## Resultados:\n",
    "Para todos, Precision 1 entre 0.73 e 0.74.\n",
    "\n",
    "1. Random forest:   \n",
    "Recall 0:  0.10\n",
    "\n",
    "2. Random forest pos-feature selection:\n",
    "Recall 0: 0.10\n",
    "\n",
    "3. Random forest pos-feature selection and with gridsearch best_params_: {'max_features': 'log2', 'n_estimators': 100}\n",
    "Recall 0:  0.10\n",
    "\n",
    "4. Ada Boost:\n",
    "Recall 0: 0.29\n",
    "\n",
    "5. Ada Boost with gridsearch best_params_: {'learning_rate': 0.0001, 'n_estimators': 25, 'random_state': 10}\n",
    "Recall 0: 0.00 \n",
    "\n",
    "6. XGBoost\n",
    "Recall 0: 0.08\n",
    "\n",
    "7. XGBoost with gridsearch best_params_: {'booster': 'gbtree', 'gamma': 0.0001, 'learning_rate': 0.1}\n",
    "Recall 0:  0.04"
   ]
  },
  {
   "cell_type": "markdown",
   "metadata": {},
   "source": [
    "# Objetivo: Focar no recall do zero - minimizar false positive (dar credito para 0)"
   ]
  },
  {
   "cell_type": "code",
   "execution_count": 1,
   "metadata": {},
   "outputs": [],
   "source": [
    "import sys\n",
    "import os\n",
    "sys.path.append(os.path.dirname(os.getcwd()))\n",
    "from wanna_buy_house.data import final_treatment\n",
    "from wanna_buy_house.utils import final_transformer"
   ]
  },
  {
   "cell_type": "code",
   "execution_count": 2,
   "metadata": {},
   "outputs": [],
   "source": [
    "import numpy as np\n",
    "import pandas as pd"
   ]
  },
  {
   "cell_type": "code",
   "execution_count": 3,
   "metadata": {},
   "outputs": [],
   "source": [
    "from sklearn.model_selection import train_test_split, cross_validate\n",
    "from sklearn.ensemble import RandomForestClassifier \n",
    "from sklearn import metrics\n",
    "from sklearn.metrics import classification_report\n",
    "from sklearn.inspection import permutation_importance\n",
    "from sklearn.model_selection import GridSearchCV\n",
    "from sklearn.tree import DecisionTreeClassifier\n",
    "from sklearn.ensemble import AdaBoostClassifier\n",
    "from xgboost import XGBClassifier\n",
    "from sklearn.ensemble import GradientBoostingClassifier"
   ]
  },
  {
   "cell_type": "code",
   "execution_count": 4,
   "metadata": {
    "scrolled": true
   },
   "outputs": [
    {
     "name": "stdout",
     "output_type": "stream",
     "text": [
      "get_data 0.17\n"
     ]
    },
    {
     "data": {
      "text/html": [
       "<div>\n",
       "<style scoped>\n",
       "    .dataframe tbody tr th:only-of-type {\n",
       "        vertical-align: middle;\n",
       "    }\n",
       "\n",
       "    .dataframe tbody tr th {\n",
       "        vertical-align: top;\n",
       "    }\n",
       "\n",
       "    .dataframe thead th {\n",
       "        text-align: right;\n",
       "    }\n",
       "</style>\n",
       "<table border=\"1\" class=\"dataframe\">\n",
       "  <thead>\n",
       "    <tr style=\"text-align: right;\">\n",
       "      <th></th>\n",
       "      <th>Loan.Status</th>\n",
       "      <th>Credit.Minus.Loan</th>\n",
       "      <th>Years.current_job_enc</th>\n",
       "      <th>Tax.Liens.Enc</th>\n",
       "      <th>leverage</th>\n",
       "      <th>Bankruptcies.enc</th>\n",
       "      <th>Years.since.last.delinquent</th>\n",
       "      <th>Loan.vs.Income</th>\n",
       "      <th>Current.Loan.Amount.Scaled</th>\n",
       "      <th>Annual.Income.Scaled</th>\n",
       "      <th>...</th>\n",
       "      <th>H.O.Home Mortgage</th>\n",
       "      <th>H.O.Own Home</th>\n",
       "      <th>H.O.Rent</th>\n",
       "      <th>Purp.Business Loan</th>\n",
       "      <th>Purp.Buy House</th>\n",
       "      <th>Purp.Buy a Car</th>\n",
       "      <th>Purp.Debt Consolidation</th>\n",
       "      <th>Purp.Home Improvements</th>\n",
       "      <th>Purp.Medical Bills</th>\n",
       "      <th>Purp.Other</th>\n",
       "    </tr>\n",
       "  </thead>\n",
       "  <tbody>\n",
       "    <tr>\n",
       "      <th>0</th>\n",
       "      <td>1</td>\n",
       "      <td>1</td>\n",
       "      <td>6</td>\n",
       "      <td>0</td>\n",
       "      <td>0.190000</td>\n",
       "      <td>0</td>\n",
       "      <td>1</td>\n",
       "      <td>0.187495</td>\n",
       "      <td>0.480640</td>\n",
       "      <td>0.812322</td>\n",
       "      <td>...</td>\n",
       "      <td>1.0</td>\n",
       "      <td>0.0</td>\n",
       "      <td>0.0</td>\n",
       "      <td>0.0</td>\n",
       "      <td>0.0</td>\n",
       "      <td>0.0</td>\n",
       "      <td>1.0</td>\n",
       "      <td>0.0</td>\n",
       "      <td>0.0</td>\n",
       "      <td>0.0</td>\n",
       "    </tr>\n",
       "    <tr>\n",
       "      <th>3</th>\n",
       "      <td>1</td>\n",
       "      <td>1</td>\n",
       "      <td>4</td>\n",
       "      <td>0</td>\n",
       "      <td>0.301998</td>\n",
       "      <td>1</td>\n",
       "      <td>0</td>\n",
       "      <td>0.207542</td>\n",
       "      <td>-0.081566</td>\n",
       "      <td>-0.177278</td>\n",
       "      <td>...</td>\n",
       "      <td>0.0</td>\n",
       "      <td>0.0</td>\n",
       "      <td>1.0</td>\n",
       "      <td>0.0</td>\n",
       "      <td>0.0</td>\n",
       "      <td>0.0</td>\n",
       "      <td>1.0</td>\n",
       "      <td>0.0</td>\n",
       "      <td>0.0</td>\n",
       "      <td>0.0</td>\n",
       "    </tr>\n",
       "    <tr>\n",
       "      <th>4</th>\n",
       "      <td>1</td>\n",
       "      <td>1</td>\n",
       "      <td>10</td>\n",
       "      <td>0</td>\n",
       "      <td>0.085501</td>\n",
       "      <td>0</td>\n",
       "      <td>0</td>\n",
       "      <td>0.075625</td>\n",
       "      <td>-0.720623</td>\n",
       "      <td>-0.326846</td>\n",
       "      <td>...</td>\n",
       "      <td>1.0</td>\n",
       "      <td>0.0</td>\n",
       "      <td>0.0</td>\n",
       "      <td>0.0</td>\n",
       "      <td>0.0</td>\n",
       "      <td>0.0</td>\n",
       "      <td>0.0</td>\n",
       "      <td>1.0</td>\n",
       "      <td>0.0</td>\n",
       "      <td>0.0</td>\n",
       "    </tr>\n",
       "    <tr>\n",
       "      <th>5</th>\n",
       "      <td>1</td>\n",
       "      <td>0</td>\n",
       "      <td>5</td>\n",
       "      <td>0</td>\n",
       "      <td>0.127000</td>\n",
       "      <td>1</td>\n",
       "      <td>0</td>\n",
       "      <td>0.165112</td>\n",
       "      <td>-0.361279</td>\n",
       "      <td>-0.326894</td>\n",
       "      <td>...</td>\n",
       "      <td>1.0</td>\n",
       "      <td>0.0</td>\n",
       "      <td>0.0</td>\n",
       "      <td>0.0</td>\n",
       "      <td>0.0</td>\n",
       "      <td>0.0</td>\n",
       "      <td>0.0</td>\n",
       "      <td>1.0</td>\n",
       "      <td>0.0</td>\n",
       "      <td>0.0</td>\n",
       "    </tr>\n",
       "    <tr>\n",
       "      <th>6</th>\n",
       "      <td>0</td>\n",
       "      <td>0</td>\n",
       "      <td>10</td>\n",
       "      <td>0</td>\n",
       "      <td>0.056798</td>\n",
       "      <td>0</td>\n",
       "      <td>0</td>\n",
       "      <td>0.075445</td>\n",
       "      <td>-0.626010</td>\n",
       "      <td>0.032061</td>\n",
       "      <td>...</td>\n",
       "      <td>0.0</td>\n",
       "      <td>0.0</td>\n",
       "      <td>1.0</td>\n",
       "      <td>0.0</td>\n",
       "      <td>0.0</td>\n",
       "      <td>0.0</td>\n",
       "      <td>0.0</td>\n",
       "      <td>0.0</td>\n",
       "      <td>0.0</td>\n",
       "      <td>1.0</td>\n",
       "    </tr>\n",
       "    <tr>\n",
       "      <th>...</th>\n",
       "      <td>...</td>\n",
       "      <td>...</td>\n",
       "      <td>...</td>\n",
       "      <td>...</td>\n",
       "      <td>...</td>\n",
       "      <td>...</td>\n",
       "      <td>...</td>\n",
       "      <td>...</td>\n",
       "      <td>...</td>\n",
       "      <td>...</td>\n",
       "      <td>...</td>\n",
       "      <td>...</td>\n",
       "      <td>...</td>\n",
       "      <td>...</td>\n",
       "      <td>...</td>\n",
       "      <td>...</td>\n",
       "      <td>...</td>\n",
       "      <td>...</td>\n",
       "      <td>...</td>\n",
       "      <td>...</td>\n",
       "      <td>...</td>\n",
       "    </tr>\n",
       "    <tr>\n",
       "      <th>60794</th>\n",
       "      <td>1</td>\n",
       "      <td>0</td>\n",
       "      <td>6</td>\n",
       "      <td>0</td>\n",
       "      <td>0.047101</td>\n",
       "      <td>0</td>\n",
       "      <td>0</td>\n",
       "      <td>0.119199</td>\n",
       "      <td>0.228620</td>\n",
       "      <td>1.518039</td>\n",
       "      <td>...</td>\n",
       "      <td>0.0</td>\n",
       "      <td>0.0</td>\n",
       "      <td>1.0</td>\n",
       "      <td>0.0</td>\n",
       "      <td>0.0</td>\n",
       "      <td>0.0</td>\n",
       "      <td>1.0</td>\n",
       "      <td>0.0</td>\n",
       "      <td>0.0</td>\n",
       "      <td>0.0</td>\n",
       "    </tr>\n",
       "    <tr>\n",
       "      <th>60795</th>\n",
       "      <td>1</td>\n",
       "      <td>1</td>\n",
       "      <td>1</td>\n",
       "      <td>0</td>\n",
       "      <td>0.197000</td>\n",
       "      <td>0</td>\n",
       "      <td>0</td>\n",
       "      <td>0.100010</td>\n",
       "      <td>-0.596212</td>\n",
       "      <td>-0.251632</td>\n",
       "      <td>...</td>\n",
       "      <td>1.0</td>\n",
       "      <td>0.0</td>\n",
       "      <td>0.0</td>\n",
       "      <td>0.0</td>\n",
       "      <td>0.0</td>\n",
       "      <td>0.0</td>\n",
       "      <td>1.0</td>\n",
       "      <td>0.0</td>\n",
       "      <td>0.0</td>\n",
       "      <td>0.0</td>\n",
       "    </tr>\n",
       "    <tr>\n",
       "      <th>60797</th>\n",
       "      <td>1</td>\n",
       "      <td>1</td>\n",
       "      <td>10</td>\n",
       "      <td>0</td>\n",
       "      <td>0.292000</td>\n",
       "      <td>0</td>\n",
       "      <td>0</td>\n",
       "      <td>0.279996</td>\n",
       "      <td>1.319108</td>\n",
       "      <td>0.909699</td>\n",
       "      <td>...</td>\n",
       "      <td>1.0</td>\n",
       "      <td>0.0</td>\n",
       "      <td>0.0</td>\n",
       "      <td>0.0</td>\n",
       "      <td>0.0</td>\n",
       "      <td>0.0</td>\n",
       "      <td>1.0</td>\n",
       "      <td>0.0</td>\n",
       "      <td>0.0</td>\n",
       "      <td>0.0</td>\n",
       "    </tr>\n",
       "    <tr>\n",
       "      <th>60800</th>\n",
       "      <td>0</td>\n",
       "      <td>0</td>\n",
       "      <td>3</td>\n",
       "      <td>0</td>\n",
       "      <td>0.103000</td>\n",
       "      <td>0</td>\n",
       "      <td>1</td>\n",
       "      <td>0.200004</td>\n",
       "      <td>0.510101</td>\n",
       "      <td>0.711574</td>\n",
       "      <td>...</td>\n",
       "      <td>0.0</td>\n",
       "      <td>0.0</td>\n",
       "      <td>1.0</td>\n",
       "      <td>0.0</td>\n",
       "      <td>0.0</td>\n",
       "      <td>0.0</td>\n",
       "      <td>1.0</td>\n",
       "      <td>0.0</td>\n",
       "      <td>0.0</td>\n",
       "      <td>0.0</td>\n",
       "    </tr>\n",
       "    <tr>\n",
       "      <th>60803</th>\n",
       "      <td>1</td>\n",
       "      <td>0</td>\n",
       "      <td>8</td>\n",
       "      <td>0</td>\n",
       "      <td>0.325003</td>\n",
       "      <td>0</td>\n",
       "      <td>0</td>\n",
       "      <td>0.066665</td>\n",
       "      <td>-0.783081</td>\n",
       "      <td>-0.439644</td>\n",
       "      <td>...</td>\n",
       "      <td>1.0</td>\n",
       "      <td>0.0</td>\n",
       "      <td>0.0</td>\n",
       "      <td>0.0</td>\n",
       "      <td>0.0</td>\n",
       "      <td>0.0</td>\n",
       "      <td>1.0</td>\n",
       "      <td>0.0</td>\n",
       "      <td>0.0</td>\n",
       "      <td>0.0</td>\n",
       "    </tr>\n",
       "  </tbody>\n",
       "</table>\n",
       "<p>41176 rows × 25 columns</p>\n",
       "</div>"
      ],
      "text/plain": [
       "       Loan.Status  Credit.Minus.Loan  Years.current_job_enc  Tax.Liens.Enc  \\\n",
       "0                1                  1                      6              0   \n",
       "3                1                  1                      4              0   \n",
       "4                1                  1                     10              0   \n",
       "5                1                  0                      5              0   \n",
       "6                0                  0                     10              0   \n",
       "...            ...                ...                    ...            ...   \n",
       "60794            1                  0                      6              0   \n",
       "60795            1                  1                      1              0   \n",
       "60797            1                  1                     10              0   \n",
       "60800            0                  0                      3              0   \n",
       "60803            1                  0                      8              0   \n",
       "\n",
       "       leverage  Bankruptcies.enc  Years.since.last.delinquent  \\\n",
       "0      0.190000                 0                            1   \n",
       "3      0.301998                 1                            0   \n",
       "4      0.085501                 0                            0   \n",
       "5      0.127000                 1                            0   \n",
       "6      0.056798                 0                            0   \n",
       "...         ...               ...                          ...   \n",
       "60794  0.047101                 0                            0   \n",
       "60795  0.197000                 0                            0   \n",
       "60797  0.292000                 0                            0   \n",
       "60800  0.103000                 0                            1   \n",
       "60803  0.325003                 0                            0   \n",
       "\n",
       "       Loan.vs.Income  Current.Loan.Amount.Scaled  Annual.Income.Scaled  ...  \\\n",
       "0            0.187495                    0.480640              0.812322  ...   \n",
       "3            0.207542                   -0.081566             -0.177278  ...   \n",
       "4            0.075625                   -0.720623             -0.326846  ...   \n",
       "5            0.165112                   -0.361279             -0.326894  ...   \n",
       "6            0.075445                   -0.626010              0.032061  ...   \n",
       "...               ...                         ...                   ...  ...   \n",
       "60794        0.119199                    0.228620              1.518039  ...   \n",
       "60795        0.100010                   -0.596212             -0.251632  ...   \n",
       "60797        0.279996                    1.319108              0.909699  ...   \n",
       "60800        0.200004                    0.510101              0.711574  ...   \n",
       "60803        0.066665                   -0.783081             -0.439644  ...   \n",
       "\n",
       "       H.O.Home Mortgage  H.O.Own Home  H.O.Rent  Purp.Business Loan  \\\n",
       "0                    1.0           0.0       0.0                 0.0   \n",
       "3                    0.0           0.0       1.0                 0.0   \n",
       "4                    1.0           0.0       0.0                 0.0   \n",
       "5                    1.0           0.0       0.0                 0.0   \n",
       "6                    0.0           0.0       1.0                 0.0   \n",
       "...                  ...           ...       ...                 ...   \n",
       "60794                0.0           0.0       1.0                 0.0   \n",
       "60795                1.0           0.0       0.0                 0.0   \n",
       "60797                1.0           0.0       0.0                 0.0   \n",
       "60800                0.0           0.0       1.0                 0.0   \n",
       "60803                1.0           0.0       0.0                 0.0   \n",
       "\n",
       "      Purp.Buy House  Purp.Buy a Car  Purp.Debt Consolidation  \\\n",
       "0                0.0             0.0                      1.0   \n",
       "3                0.0             0.0                      1.0   \n",
       "4                0.0             0.0                      0.0   \n",
       "5                0.0             0.0                      0.0   \n",
       "6                0.0             0.0                      0.0   \n",
       "...              ...             ...                      ...   \n",
       "60794            0.0             0.0                      1.0   \n",
       "60795            0.0             0.0                      1.0   \n",
       "60797            0.0             0.0                      1.0   \n",
       "60800            0.0             0.0                      1.0   \n",
       "60803            0.0             0.0                      1.0   \n",
       "\n",
       "       Purp.Home Improvements  Purp.Medical Bills  Purp.Other  \n",
       "0                         0.0                 0.0         0.0  \n",
       "3                         0.0                 0.0         0.0  \n",
       "4                         1.0                 0.0         0.0  \n",
       "5                         1.0                 0.0         0.0  \n",
       "6                         0.0                 0.0         1.0  \n",
       "...                       ...                 ...         ...  \n",
       "60794                     0.0                 0.0         0.0  \n",
       "60795                     0.0                 0.0         0.0  \n",
       "60797                     0.0                 0.0         0.0  \n",
       "60800                     0.0                 0.0         0.0  \n",
       "60803                     0.0                 0.0         0.0  \n",
       "\n",
       "[41176 rows x 25 columns]"
      ]
     },
     "execution_count": 4,
     "metadata": {},
     "output_type": "execute_result"
    }
   ],
   "source": [
    "data_cleaned = final_treatment()\n",
    "data = final_transformer(data_cleaned)\n",
    "data"
   ]
  },
  {
   "cell_type": "code",
   "execution_count": 5,
   "metadata": {},
   "outputs": [],
   "source": [
    "#XGBoost Model complained Year.Credit.History.Labeled was category dtype\n",
    "#Converted Year.Credit.History.Labeled from category to int64\n",
    "\n",
    "data['Year.Credit.History.Labeled'] = data['Year.Credit.History.Labeled'].astype('int64')"
   ]
  },
  {
   "cell_type": "code",
   "execution_count": 28,
   "metadata": {},
   "outputs": [],
   "source": [
    "# Customized metric - recall0= TP0/(TP0+FN0); precision0= TP0/(TP0+FP0)\n",
    "# F1 0 = 2 * ((precision * recall) / (precision + recall)\n",
    "\n",
    "def custom_metric(y_true, y_pred):\n",
    "    \n",
    "    tp = 0\n",
    "    fp = 0\n",
    "    tn = 0\n",
    "    fn = 0\n",
    "    \n",
    "    for pred, real in zip(y_pred, y_true):\n",
    "        if pred == 0:\n",
    "            if real == 0: \n",
    "                tp += 1 #acertei TP\n",
    "            else:\n",
    "                fp += 1 #errei FP\n",
    "        else:\n",
    "            if real == 1: \n",
    "                tn += 1 #acertei TN\n",
    "            else: \n",
    "                fn += 1 #errei FN\n",
    "    \n",
    "    if (tp + fn) == 0 or (tp + fp) == 0:\n",
    "        return 0\n",
    "    else:\n",
    "        return 2 * ((tp / (tp + fn) * (tp / (tp+fp))) / ((tp / (tp + fn)) + (tp / (tp+fp))))"
   ]
  },
  {
   "cell_type": "code",
   "execution_count": 29,
   "metadata": {},
   "outputs": [],
   "source": [
    "from sklearn.metrics import make_scorer\n",
    "\n",
    "custom_metric = make_scorer(custom_metric)"
   ]
  },
  {
   "cell_type": "code",
   "execution_count": 8,
   "metadata": {},
   "outputs": [
    {
     "data": {
      "text/plain": [
       "0.7281911793277638"
      ]
     },
     "execution_count": 8,
     "metadata": {},
     "output_type": "execute_result"
    }
   ],
   "source": [
    "#Baseline\n",
    "29984/(29984+11192)"
   ]
  },
  {
   "cell_type": "code",
   "execution_count": 9,
   "metadata": {},
   "outputs": [],
   "source": [
    "# Defining variables\n",
    "# For X, also dropped Annual.Income.Scaled and Current.Loan.Amount.Scaled --> \n",
    "# as they are embedded in the Loan.vs.Income ratio\n",
    "\n",
    "X = data.drop(columns=['Loan.Status', 'Annual.Income.Scaled', 'Current.Loan.Amount.Scaled'])\n",
    "y = data['Loan.Status'] \n",
    "\n",
    "# Train Test Split both datasets\n",
    "X_train, X_test, y_train, y_test = train_test_split(X, y, test_size=0.3, random_state=42)"
   ]
  },
  {
   "cell_type": "markdown",
   "metadata": {},
   "source": [
    "# 1. Random Forest Model"
   ]
  },
  {
   "cell_type": "markdown",
   "metadata": {},
   "source": [
    "## 1.1 The model"
   ]
  },
  {
   "cell_type": "code",
   "execution_count": 40,
   "metadata": {
    "scrolled": true
   },
   "outputs": [
    {
     "name": "stdout",
     "output_type": "stream",
     "text": [
      "F1 score:  0.6462058279378036\n",
      "              precision    recall  f1-score   support\n",
      "\n",
      "           0       0.39      0.11      0.17      3373\n",
      "           1       0.74      0.94      0.82      8980\n",
      "\n",
      "    accuracy                           0.71     12353\n",
      "   macro avg       0.57      0.52      0.50     12353\n",
      "weighted avg       0.64      0.71      0.65     12353\n",
      "\n"
     ]
    }
   ],
   "source": [
    "# Random forest model\n",
    "#class_weight='balanced' pela sugestao do Prof. Filipe para o Armando\n",
    "forest = RandomForestClassifier(class_weight='balanced')\n",
    "\n",
    "forest_cv = cross_validate(forest,\n",
    "                          X_train,\n",
    "                          y_train,\n",
    "                          scoring=custom_metric,\n",
    "                          cv=10)\n",
    "#scoring alternativo: f1_weighted\n",
    "\n",
    "# Model fit, score and score metrics\n",
    "forest.fit(X_train, y_train)\n",
    "forest.score(X_test, y_test)\n",
    "y_pred_forest = forest.predict(X_test)\n",
    "\n",
    "print(\"F1 score: \",metrics.f1_score(y_test, y_pred_forest, average='weighted'))\n",
    "#print(\"Recall: \",metrics.recall_score(y_test, y_pred_forest))\n",
    "print(classification_report(y_test, y_pred_forest))"
   ]
  },
  {
   "cell_type": "code",
   "execution_count": 32,
   "metadata": {},
   "outputs": [
    {
     "data": {
      "text/plain": [
       "1    11444\n",
       "0      909\n",
       "dtype: int64"
      ]
     },
     "execution_count": 32,
     "metadata": {},
     "output_type": "execute_result"
    }
   ],
   "source": [
    "df = pd.DataFrame(y_pred_forest)\n",
    "df.value_counts()"
   ]
  },
  {
   "cell_type": "code",
   "execution_count": 33,
   "metadata": {},
   "outputs": [
    {
     "data": {
      "text/plain": [
       "array([[ 358, 3015],\n",
       "       [ 551, 8429]], dtype=int64)"
      ]
     },
     "execution_count": 33,
     "metadata": {},
     "output_type": "execute_result"
    }
   ],
   "source": [
    "from sklearn.metrics import confusion_matrix\n",
    "confusion_matrix(y_test, y_pred_forest)"
   ]
  },
  {
   "cell_type": "markdown",
   "metadata": {},
   "source": [
    "## 1.2. Feature selection"
   ]
  },
  {
   "cell_type": "code",
   "execution_count": 13,
   "metadata": {},
   "outputs": [
    {
     "data": {
      "text/html": [
       "<div>\n",
       "<style scoped>\n",
       "    .dataframe tbody tr th:only-of-type {\n",
       "        vertical-align: middle;\n",
       "    }\n",
       "\n",
       "    .dataframe tbody tr th {\n",
       "        vertical-align: top;\n",
       "    }\n",
       "\n",
       "    .dataframe thead th {\n",
       "        text-align: right;\n",
       "    }\n",
       "</style>\n",
       "<table border=\"1\" class=\"dataframe\">\n",
       "  <thead>\n",
       "    <tr style=\"text-align: right;\">\n",
       "      <th></th>\n",
       "      <th>variable</th>\n",
       "      <th>value</th>\n",
       "    </tr>\n",
       "  </thead>\n",
       "  <tbody>\n",
       "    <tr>\n",
       "      <th>6</th>\n",
       "      <td>Loan.vs.Income</td>\n",
       "      <td>0.211914</td>\n",
       "    </tr>\n",
       "    <tr>\n",
       "      <th>3</th>\n",
       "      <td>leverage</td>\n",
       "      <td>0.200847</td>\n",
       "    </tr>\n",
       "    <tr>\n",
       "      <th>1</th>\n",
       "      <td>Years.current_job_enc</td>\n",
       "      <td>0.148701</td>\n",
       "    </tr>\n",
       "    <tr>\n",
       "      <th>10</th>\n",
       "      <td>Credit.Score.Labeled</td>\n",
       "      <td>0.143254</td>\n",
       "    </tr>\n",
       "    <tr>\n",
       "      <th>7</th>\n",
       "      <td>Term.Encoded</td>\n",
       "      <td>0.115845</td>\n",
       "    </tr>\n",
       "    <tr>\n",
       "      <th>11</th>\n",
       "      <td>Year.Credit.History.Labeled</td>\n",
       "      <td>0.0972487</td>\n",
       "    </tr>\n",
       "    <tr>\n",
       "      <th>8</th>\n",
       "      <td>Number.of.Open.Accounts.Labeled</td>\n",
       "      <td>0.0845852</td>\n",
       "    </tr>\n",
       "    <tr>\n",
       "      <th>0</th>\n",
       "      <td>Credit.Minus.Loan</td>\n",
       "      <td>0.0845852</td>\n",
       "    </tr>\n",
       "    <tr>\n",
       "      <th>14</th>\n",
       "      <td>H.O.Rent</td>\n",
       "      <td>0.0732401</td>\n",
       "    </tr>\n",
       "    <tr>\n",
       "      <th>5</th>\n",
       "      <td>Years.since.last.delinquent</td>\n",
       "      <td>0.068487</td>\n",
       "    </tr>\n",
       "    <tr>\n",
       "      <th>12</th>\n",
       "      <td>H.O.Home Mortgage</td>\n",
       "      <td>0.0646706</td>\n",
       "    </tr>\n",
       "    <tr>\n",
       "      <th>18</th>\n",
       "      <td>Purp.Debt Consolidation</td>\n",
       "      <td>0.0321618</td>\n",
       "    </tr>\n",
       "    <tr>\n",
       "      <th>9</th>\n",
       "      <td>Number.of.Credit.Problems.Labeled</td>\n",
       "      <td>0.0187697</td>\n",
       "    </tr>\n",
       "    <tr>\n",
       "      <th>21</th>\n",
       "      <td>Purp.Other</td>\n",
       "      <td>0.0168268</td>\n",
       "    </tr>\n",
       "    <tr>\n",
       "      <th>4</th>\n",
       "      <td>Bankruptcies.enc</td>\n",
       "      <td>0.0163758</td>\n",
       "    </tr>\n",
       "    <tr>\n",
       "      <th>19</th>\n",
       "      <td>Purp.Home Improvements</td>\n",
       "      <td>0.00773688</td>\n",
       "    </tr>\n",
       "    <tr>\n",
       "      <th>13</th>\n",
       "      <td>H.O.Own Home</td>\n",
       "      <td>0.00478784</td>\n",
       "    </tr>\n",
       "    <tr>\n",
       "      <th>15</th>\n",
       "      <td>Purp.Business Loan</td>\n",
       "      <td>0.00371231</td>\n",
       "    </tr>\n",
       "    <tr>\n",
       "      <th>2</th>\n",
       "      <td>Tax.Liens.Enc</td>\n",
       "      <td>0.00301842</td>\n",
       "    </tr>\n",
       "    <tr>\n",
       "      <th>20</th>\n",
       "      <td>Purp.Medical Bills</td>\n",
       "      <td>0.00211637</td>\n",
       "    </tr>\n",
       "    <tr>\n",
       "      <th>17</th>\n",
       "      <td>Purp.Buy a Car</td>\n",
       "      <td>0.00166534</td>\n",
       "    </tr>\n",
       "    <tr>\n",
       "      <th>16</th>\n",
       "      <td>Purp.Buy House</td>\n",
       "      <td>0.00111022</td>\n",
       "    </tr>\n",
       "  </tbody>\n",
       "</table>\n",
       "</div>"
      ],
      "text/plain": [
       "                             variable       value\n",
       "6                      Loan.vs.Income    0.211914\n",
       "3                            leverage    0.200847\n",
       "1               Years.current_job_enc    0.148701\n",
       "10               Credit.Score.Labeled    0.143254\n",
       "7                        Term.Encoded    0.115845\n",
       "11        Year.Credit.History.Labeled   0.0972487\n",
       "8     Number.of.Open.Accounts.Labeled   0.0845852\n",
       "0                   Credit.Minus.Loan   0.0845852\n",
       "14                           H.O.Rent   0.0732401\n",
       "5         Years.since.last.delinquent    0.068487\n",
       "12                  H.O.Home Mortgage   0.0646706\n",
       "18            Purp.Debt Consolidation   0.0321618\n",
       "9   Number.of.Credit.Problems.Labeled   0.0187697\n",
       "21                         Purp.Other   0.0168268\n",
       "4                    Bankruptcies.enc   0.0163758\n",
       "19             Purp.Home Improvements  0.00773688\n",
       "13                       H.O.Own Home  0.00478784\n",
       "15                 Purp.Business Loan  0.00371231\n",
       "2                       Tax.Liens.Enc  0.00301842\n",
       "20                 Purp.Medical Bills  0.00211637\n",
       "17                     Purp.Buy a Car  0.00166534\n",
       "16                     Purp.Buy House  0.00111022"
      ]
     },
     "execution_count": 13,
     "metadata": {},
     "output_type": "execute_result"
    }
   ],
   "source": [
    "# Feature selection\n",
    "\n",
    "permutation_score = permutation_importance(forest, X_train, y_train, n_repeats=1)\n",
    "\n",
    "importance = np.vstack((X.columns, permutation_score.importances_mean)).T\n",
    "importance_df = pd.DataFrame(data=importance)\n",
    "importance_df.columns=['variable', 'value'] \n",
    "importance_df\n",
    "df = importance_df.sort_values(by=['value'], ascending=False)\n",
    "df"
   ]
  },
  {
   "cell_type": "code",
   "execution_count": 14,
   "metadata": {},
   "outputs": [],
   "source": [
    "# Dropping three additional variables to generate X_fs:\n",
    "# (1) Tax.Liens.Enc, (2) H.O.Own Home, (3)Bankruptcies.enc, (4) Number.of.Credit.Problems.Labeled\n",
    "X_fs = data.drop(columns=['Loan.Status', 'Annual.Income.Scaled', \n",
    "                          'Current.Loan.Amount.Scaled', 'Tax.Liens.Enc', \n",
    "                          'H.O.Own Home', 'Bankruptcies.enc', \n",
    "                         'Number.of.Credit.Problems.Labeled'])\n",
    "y = data['Loan.Status']"
   ]
  },
  {
   "cell_type": "code",
   "execution_count": 34,
   "metadata": {},
   "outputs": [
    {
     "name": "stdout",
     "output_type": "stream",
     "text": [
      "              precision    recall  f1-score   support\n",
      "\n",
      "           0       0.39      0.11      0.17      3373\n",
      "           1       0.74      0.94      0.83      8980\n",
      "\n",
      "    accuracy                           0.71     12353\n",
      "   macro avg       0.57      0.52      0.50     12353\n",
      "weighted avg       0.64      0.71      0.65     12353\n",
      "\n"
     ]
    }
   ],
   "source": [
    "X_train_fs, X_test_fs, y_train, y_test = train_test_split(X_fs, y, test_size=0.3, random_state=42)\n",
    "\n",
    "# Random forest model\n",
    "forest_fs = RandomForestClassifier(class_weight='balanced', n_jobs=-1)\n",
    "\n",
    "forest_cv_fs = cross_validate(forest_fs,\n",
    "                          X_train_fs,\n",
    "                          y_train,\n",
    "                          scoring=custom_metric,\n",
    "                          cv=10)\n",
    "\n",
    "forest_fs.fit(X_train_fs, y_train)\n",
    "forest_fs.score(X_test_fs, y_test)\n",
    "y_pred_forest_fs = forest_fs.predict(X_test_fs)\n",
    "\n",
    "#print(\"F1 score: \",metrics.f1_score(y_test, y_pred_forest_fs))\n",
    "#print(\"Recall: \",metrics.recall_score(y_test, y_pred_forest_fs))\n",
    "print(classification_report(y_test, y_pred_forest))"
   ]
  },
  {
   "cell_type": "markdown",
   "metadata": {},
   "source": [
    "## 1.3. GridSearch for Random Forest"
   ]
  },
  {
   "cell_type": "code",
   "execution_count": 16,
   "metadata": {},
   "outputs": [],
   "source": [
    "#GridSearch for forest_fs model\n",
    "\n",
    "#param_grid = {'n_estimators':[100, 1000, 2000],\n",
    "#               'max_features': [\"auto\", \"sqrt\", \"log2\"],    \n",
    "#}\n",
    "\n",
    "#CV_forest_fs = GridSearchCV(estimator=forest_fs, scoring=custom_metric, param_grid=param_grid, cv=10, verbose=1, n_jobs=-1)\n",
    "#CV_forest_fs.fit(X_train_fs, y_train)\n",
    "#print(CV_forest_fs.best_params_)"
   ]
  },
  {
   "cell_type": "markdown",
   "metadata": {},
   "source": [
    "## 1.4. Model with best_params_"
   ]
  },
  {
   "cell_type": "code",
   "execution_count": 17,
   "metadata": {},
   "outputs": [
    {
     "name": "stdout",
     "output_type": "stream",
     "text": [
      "              precision    recall  f1-score   support\n",
      "\n",
      "           0       0.39      0.11      0.17      3373\n",
      "           1       0.74      0.94      0.82      8980\n",
      "\n",
      "    accuracy                           0.71     12353\n",
      "   macro avg       0.56      0.52      0.50     12353\n",
      "weighted avg       0.64      0.71      0.65     12353\n",
      "\n"
     ]
    }
   ],
   "source": [
    "#Applied GridSearch (gs) --> best_params = {'log2', 'n_estimators': 100}\n",
    "\n",
    "forest_fs_gs = RandomForestClassifier(class_weight='balanced', n_jobs=-1, \n",
    "                                   max_features='log2', n_estimators=100)\n",
    "\n",
    "forest_cv_fs_gs = cross_validate(forest_fs_gs,\n",
    "                          X_train_fs,\n",
    "                          y_train,\n",
    "                          scoring=custom_metric,\n",
    "                          cv=10)\n",
    "\n",
    "forest_fs_gs.fit(X_train_fs, y_train)\n",
    "forest_fs_gs.score(X_test_fs, y_test)\n",
    "y_pred_forest_fs_gs = forest_fs_gs.predict(X_test_fs)\n",
    "\n",
    "#print(\"F1 score: \",metrics.f1_score(y_test, y_pred_forest_fs_gs))\n",
    "#print(\"Recall: \",metrics.recall_score(y_test, y_pred_forest_fs_gs))\n",
    "print(classification_report(y_test, y_pred_forest))"
   ]
  },
  {
   "cell_type": "markdown",
   "metadata": {},
   "source": [
    "# 2. AdaBoost Model"
   ]
  },
  {
   "cell_type": "markdown",
   "metadata": {},
   "source": [
    "## 2.1. The model"
   ]
  },
  {
   "cell_type": "code",
   "execution_count": 35,
   "metadata": {},
   "outputs": [
    {
     "name": "stdout",
     "output_type": "stream",
     "text": [
      "              precision    recall  f1-score   support\n",
      "\n",
      "           0       0.32      0.31      0.32      3373\n",
      "           1       0.74      0.76      0.75      8980\n",
      "\n",
      "    accuracy                           0.63     12353\n",
      "   macro avg       0.53      0.53      0.53     12353\n",
      "weighted avg       0.63      0.63      0.63     12353\n",
      "\n"
     ]
    }
   ],
   "source": [
    "# AdaBoostClassifier model\n",
    "\n",
    "DTC = DecisionTreeClassifier(class_weight = \"balanced\", splitter='random', criterion='entropy', max_features = \"auto\", max_depth = None)\n",
    "\n",
    "ada_model = AdaBoostClassifier(base_estimator=DTC)\n",
    "\n",
    "ada_model.fit(X_train, y_train)\n",
    "ada_model.score(X_test, y_test)\n",
    "\n",
    "y_pred_ada = ada_model.predict(X_test)\n",
    "\n",
    "#print(\"F1 score: \",metrics.f1_score(y_test, y_pred_ada))\n",
    "#print(\"Recall: \",metrics.recall_score(y_test, y_pred_ada))\n",
    "\n",
    "print(classification_report(y_test, y_pred_ada))"
   ]
  },
  {
   "cell_type": "code",
   "execution_count": 19,
   "metadata": {},
   "outputs": [
    {
     "data": {
      "text/plain": [
       "1    9079\n",
       "0    3274\n",
       "dtype: int64"
      ]
     },
     "execution_count": 19,
     "metadata": {},
     "output_type": "execute_result"
    }
   ],
   "source": [
    "df1= pd.DataFrame(y_pred_ada)\n",
    "df1.value_counts()"
   ]
  },
  {
   "cell_type": "markdown",
   "metadata": {},
   "source": [
    "## 2.2. GridSearch for AdaBoost"
   ]
  },
  {
   "cell_type": "code",
   "execution_count": 20,
   "metadata": {},
   "outputs": [],
   "source": [
    "#GridSearch for ada_model\n",
    "\n",
    "#param_grid_ada = {'n_estimators':[25, 50, 75, 100],\n",
    "#                 'learning_rate':[0.0001, 0.001, 0.01, 0.1, 0.2, 0.3, 0.5, 1.0],\n",
    "#                  'random_state':[0, 10, 20, 42],\n",
    "#                 }\n",
    "\n",
    "#CV_ada = GridSearchCV(estimator=ada_model, param_grid=param_grid_ada, \n",
    "#                      cv=10, verbose=1, n_jobs=-1)\n",
    "#CV_ada.fit(X_train, y_train)\n",
    "#print(CV_ada.best_params_)"
   ]
  },
  {
   "cell_type": "markdown",
   "metadata": {},
   "source": [
    "## 2.3. AdaBoost model with best_params_"
   ]
  },
  {
   "cell_type": "code",
   "execution_count": 36,
   "metadata": {},
   "outputs": [
    {
     "name": "stdout",
     "output_type": "stream",
     "text": [
      "              precision    recall  f1-score   support\n",
      "\n",
      "           0       0.00      0.00      0.00      3373\n",
      "           1       0.73      1.00      0.84      8980\n",
      "\n",
      "    accuracy                           0.73     12353\n",
      "   macro avg       0.36      0.50      0.42     12353\n",
      "weighted avg       0.53      0.73      0.61     12353\n",
      "\n"
     ]
    },
    {
     "name": "stderr",
     "output_type": "stream",
     "text": [
      "c:\\users\\m_day\\.venvs\\lewagon\\lib\\site-packages\\sklearn\\metrics\\_classification.py:1221: UndefinedMetricWarning: Precision and F-score are ill-defined and being set to 0.0 in labels with no predicted samples. Use `zero_division` parameter to control this behavior.\n",
      "  _warn_prf(average, modifier, msg_start, len(result))\n"
     ]
    }
   ],
   "source": [
    "#Applied GridSearch (gs) --> best_params = {'learning_rate': 0.0001, 'n_estimators': 25, 'random_state': 10}\n",
    "\n",
    "ada_model_gs = AdaBoostClassifier(learning_rate=0.0001, n_estimators=25, random_state=10)\n",
    "\n",
    "ada_model_gs.fit(X_train, y_train)\n",
    "ada_model_gs.score(X_test, y_test)\n",
    "\n",
    "y_pred_ada_gs = ada_model_gs.predict(X_test)\n",
    "\n",
    "#print(\"F1 score: \",metrics.f1_score(y_test, y_pred_ada_gs))\n",
    "#print(\"Recall: \",metrics.recall_score(y_test, y_pred_ada_gs))\n",
    "print(classification_report(y_test, y_pred_ada_gs))"
   ]
  },
  {
   "cell_type": "markdown",
   "metadata": {},
   "source": [
    "# 3. XGBoost"
   ]
  },
  {
   "cell_type": "markdown",
   "metadata": {},
   "source": [
    "## 3.1. The model"
   ]
  },
  {
   "cell_type": "code",
   "execution_count": 37,
   "metadata": {},
   "outputs": [
    {
     "name": "stdout",
     "output_type": "stream",
     "text": [
      "              precision    recall  f1-score   support\n",
      "\n",
      "           0       0.46      0.08      0.14      3373\n",
      "           1       0.74      0.96      0.83      8980\n",
      "\n",
      "    accuracy                           0.72     12353\n",
      "   macro avg       0.60      0.52      0.49     12353\n",
      "weighted avg       0.66      0.72      0.64     12353\n",
      "\n"
     ]
    }
   ],
   "source": [
    "xgb_model = XGBClassifier()\n",
    "\n",
    "xgb_model.fit(X_train, y_train)\n",
    "xgb_model.score(X_test, y_test)\n",
    "\n",
    "y_pred_xgb = xgb_model.predict(X_test)\n",
    "\n",
    "print(classification_report(y_test, y_pred_xgb))"
   ]
  },
  {
   "cell_type": "code",
   "execution_count": 39,
   "metadata": {},
   "outputs": [
    {
     "data": {
      "text/plain": [
       "1    11751\n",
       "0      602\n",
       "dtype: int64"
      ]
     },
     "execution_count": 39,
     "metadata": {},
     "output_type": "execute_result"
    }
   ],
   "source": [
    "df2= pd.DataFrame(y_pred_xgb)\n",
    "df2.value_counts()"
   ]
  },
  {
   "cell_type": "markdown",
   "metadata": {},
   "source": [
    "## 3.2. Hyperparameter tuning for XGBoost"
   ]
  },
  {
   "cell_type": "code",
   "execution_count": 23,
   "metadata": {},
   "outputs": [],
   "source": [
    "#param_grid_xgb = {'learning_rate':[0.0001, 0.001, 0.01, 0.1, 0.5, 1.0],\n",
    "#                  'booster':['gbtree', 'gblinear', 'dart'],\n",
    "#                  'gamma': [0.0001, 0.001, 0.01, 0.1, 1.0]\n",
    "#                 }\n",
    "\n",
    "#CV_xgb = GridSearchCV(estimator=xgb_model, param_grid=param_grid_xgb, \n",
    "#                      cv=10, verbose=1, n_jobs=-1)\n",
    "#CV_xgb.fit(X_train, y_train)\n",
    "#print(CV_xgb.best_params_)"
   ]
  },
  {
   "cell_type": "markdown",
   "metadata": {},
   "source": [
    "## 3.3. XGBoost optimized"
   ]
  }
 ],
 "metadata": {
  "kernelspec": {
   "display_name": "Python 3",
   "language": "python",
   "name": "python3"
  },
  "language_info": {
   "codemirror_mode": {
    "name": "ipython",
    "version": 3
   },
   "file_extension": ".py",
   "mimetype": "text/x-python",
   "name": "python",
   "nbconvert_exporter": "python",
   "pygments_lexer": "ipython3",
   "version": "3.7.7"
  }
 },
 "nbformat": 4,
 "nbformat_minor": 4
}
