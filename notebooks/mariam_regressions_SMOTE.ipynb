{
 "cells": [
  {
   "cell_type": "code",
   "execution_count": 1,
   "metadata": {},
   "outputs": [],
   "source": [
    "import sys\n",
    "import os\n",
    "sys.path.append(os.path.dirname(os.getcwd()))\n",
    "from wanna_buy_house.data import final_treatment\n",
    "from wanna_buy_house.utils import final_transformer"
   ]
  },
  {
   "cell_type": "code",
   "execution_count": 2,
   "metadata": {},
   "outputs": [],
   "source": [
    "import numpy as np\n",
    "import pandas as pd\n",
    "import matplotlib.pyplot as plt"
   ]
  },
  {
   "cell_type": "code",
   "execution_count": 3,
   "metadata": {},
   "outputs": [],
   "source": [
    "from sklearn.model_selection import train_test_split, cross_validate\n",
    "from sklearn.ensemble import RandomForestClassifier\n",
    "from sklearn.inspection import permutation_importance\n",
    "from sklearn import metrics\n",
    "from sklearn.metrics import classification_report\n",
    "from sklearn.inspection import permutation_importance\n",
    "from sklearn.model_selection import GridSearchCV\n",
    "from sklearn.tree import DecisionTreeClassifier\n",
    "from sklearn.ensemble import AdaBoostClassifier\n",
    "from xgboost import XGBClassifier\n",
    "from sklearn.ensemble import GradientBoostingClassifier\n",
    "from imblearn.over_sampling import SMOTE\n",
    "from sklearn.model_selection import cross_val_predict\n",
    "from sklearn.metrics import precision_recall_curve\n",
    "from sklearn.model_selection import RandomizedSearchCV\n",
    "from sklearn.metrics import roc_curve\n",
    "from sklearn.metrics import roc_auc_score"
   ]
  },
  {
   "cell_type": "code",
   "execution_count": 4,
   "metadata": {},
   "outputs": [
    {
     "name": "stdout",
     "output_type": "stream",
     "text": [
      "get_data 0.28\n"
     ]
    },
    {
     "data": {
      "text/html": [
       "<div>\n",
       "<style scoped>\n",
       "    .dataframe tbody tr th:only-of-type {\n",
       "        vertical-align: middle;\n",
       "    }\n",
       "\n",
       "    .dataframe tbody tr th {\n",
       "        vertical-align: top;\n",
       "    }\n",
       "\n",
       "    .dataframe thead th {\n",
       "        text-align: right;\n",
       "    }\n",
       "</style>\n",
       "<table border=\"1\" class=\"dataframe\">\n",
       "  <thead>\n",
       "    <tr style=\"text-align: right;\">\n",
       "      <th></th>\n",
       "      <th>Loan.Status</th>\n",
       "      <th>Credit.Minus.Loan</th>\n",
       "      <th>Years.current_job_enc</th>\n",
       "      <th>Tax.Liens.Enc</th>\n",
       "      <th>Leverage</th>\n",
       "      <th>Bankruptcies.enc</th>\n",
       "      <th>Years.since.last.delinquent</th>\n",
       "      <th>Loan.vs.Income</th>\n",
       "      <th>Term.Encoded</th>\n",
       "      <th>Number.of.Open.Accounts.Labeled</th>\n",
       "      <th>...</th>\n",
       "      <th>H.O.Home Mortgage</th>\n",
       "      <th>H.O.Own Home</th>\n",
       "      <th>H.O.Rent</th>\n",
       "      <th>Purp.Business Loan</th>\n",
       "      <th>Purp.Buy House</th>\n",
       "      <th>Purp.Buy a Car</th>\n",
       "      <th>Purp.Debt Consolidation</th>\n",
       "      <th>Purp.Home Improvements</th>\n",
       "      <th>Purp.Medical Bills</th>\n",
       "      <th>Purp.Other</th>\n",
       "    </tr>\n",
       "  </thead>\n",
       "  <tbody>\n",
       "    <tr>\n",
       "      <th>0</th>\n",
       "      <td>1</td>\n",
       "      <td>1</td>\n",
       "      <td>6</td>\n",
       "      <td>0</td>\n",
       "      <td>0.190000</td>\n",
       "      <td>0</td>\n",
       "      <td>1</td>\n",
       "      <td>0.187495</td>\n",
       "      <td>0.0</td>\n",
       "      <td>2</td>\n",
       "      <td>...</td>\n",
       "      <td>1.0</td>\n",
       "      <td>0.0</td>\n",
       "      <td>0.0</td>\n",
       "      <td>0.0</td>\n",
       "      <td>0.0</td>\n",
       "      <td>0.0</td>\n",
       "      <td>1.0</td>\n",
       "      <td>0.0</td>\n",
       "      <td>0.0</td>\n",
       "      <td>0.0</td>\n",
       "    </tr>\n",
       "    <tr>\n",
       "      <th>3</th>\n",
       "      <td>1</td>\n",
       "      <td>1</td>\n",
       "      <td>4</td>\n",
       "      <td>0</td>\n",
       "      <td>0.301998</td>\n",
       "      <td>1</td>\n",
       "      <td>0</td>\n",
       "      <td>0.207542</td>\n",
       "      <td>0.0</td>\n",
       "      <td>0</td>\n",
       "      <td>...</td>\n",
       "      <td>0.0</td>\n",
       "      <td>0.0</td>\n",
       "      <td>1.0</td>\n",
       "      <td>0.0</td>\n",
       "      <td>0.0</td>\n",
       "      <td>0.0</td>\n",
       "      <td>1.0</td>\n",
       "      <td>0.0</td>\n",
       "      <td>0.0</td>\n",
       "      <td>0.0</td>\n",
       "    </tr>\n",
       "    <tr>\n",
       "      <th>4</th>\n",
       "      <td>1</td>\n",
       "      <td>1</td>\n",
       "      <td>10</td>\n",
       "      <td>0</td>\n",
       "      <td>0.085501</td>\n",
       "      <td>0</td>\n",
       "      <td>0</td>\n",
       "      <td>0.075625</td>\n",
       "      <td>0.0</td>\n",
       "      <td>0</td>\n",
       "      <td>...</td>\n",
       "      <td>1.0</td>\n",
       "      <td>0.0</td>\n",
       "      <td>0.0</td>\n",
       "      <td>0.0</td>\n",
       "      <td>0.0</td>\n",
       "      <td>0.0</td>\n",
       "      <td>0.0</td>\n",
       "      <td>1.0</td>\n",
       "      <td>0.0</td>\n",
       "      <td>0.0</td>\n",
       "    </tr>\n",
       "    <tr>\n",
       "      <th>5</th>\n",
       "      <td>1</td>\n",
       "      <td>0</td>\n",
       "      <td>5</td>\n",
       "      <td>0</td>\n",
       "      <td>0.127000</td>\n",
       "      <td>1</td>\n",
       "      <td>0</td>\n",
       "      <td>0.165112</td>\n",
       "      <td>0.0</td>\n",
       "      <td>1</td>\n",
       "      <td>...</td>\n",
       "      <td>1.0</td>\n",
       "      <td>0.0</td>\n",
       "      <td>0.0</td>\n",
       "      <td>0.0</td>\n",
       "      <td>0.0</td>\n",
       "      <td>0.0</td>\n",
       "      <td>0.0</td>\n",
       "      <td>1.0</td>\n",
       "      <td>0.0</td>\n",
       "      <td>0.0</td>\n",
       "    </tr>\n",
       "    <tr>\n",
       "      <th>6</th>\n",
       "      <td>0</td>\n",
       "      <td>0</td>\n",
       "      <td>10</td>\n",
       "      <td>0</td>\n",
       "      <td>0.056798</td>\n",
       "      <td>0</td>\n",
       "      <td>0</td>\n",
       "      <td>0.075445</td>\n",
       "      <td>1.0</td>\n",
       "      <td>0</td>\n",
       "      <td>...</td>\n",
       "      <td>0.0</td>\n",
       "      <td>0.0</td>\n",
       "      <td>1.0</td>\n",
       "      <td>0.0</td>\n",
       "      <td>0.0</td>\n",
       "      <td>0.0</td>\n",
       "      <td>0.0</td>\n",
       "      <td>0.0</td>\n",
       "      <td>0.0</td>\n",
       "      <td>1.0</td>\n",
       "    </tr>\n",
       "    <tr>\n",
       "      <th>...</th>\n",
       "      <td>...</td>\n",
       "      <td>...</td>\n",
       "      <td>...</td>\n",
       "      <td>...</td>\n",
       "      <td>...</td>\n",
       "      <td>...</td>\n",
       "      <td>...</td>\n",
       "      <td>...</td>\n",
       "      <td>...</td>\n",
       "      <td>...</td>\n",
       "      <td>...</td>\n",
       "      <td>...</td>\n",
       "      <td>...</td>\n",
       "      <td>...</td>\n",
       "      <td>...</td>\n",
       "      <td>...</td>\n",
       "      <td>...</td>\n",
       "      <td>...</td>\n",
       "      <td>...</td>\n",
       "      <td>...</td>\n",
       "      <td>...</td>\n",
       "    </tr>\n",
       "    <tr>\n",
       "      <th>60794</th>\n",
       "      <td>1</td>\n",
       "      <td>0</td>\n",
       "      <td>6</td>\n",
       "      <td>0</td>\n",
       "      <td>0.047101</td>\n",
       "      <td>0</td>\n",
       "      <td>0</td>\n",
       "      <td>0.119199</td>\n",
       "      <td>0.0</td>\n",
       "      <td>1</td>\n",
       "      <td>...</td>\n",
       "      <td>0.0</td>\n",
       "      <td>0.0</td>\n",
       "      <td>1.0</td>\n",
       "      <td>0.0</td>\n",
       "      <td>0.0</td>\n",
       "      <td>0.0</td>\n",
       "      <td>1.0</td>\n",
       "      <td>0.0</td>\n",
       "      <td>0.0</td>\n",
       "      <td>0.0</td>\n",
       "    </tr>\n",
       "    <tr>\n",
       "      <th>60795</th>\n",
       "      <td>1</td>\n",
       "      <td>1</td>\n",
       "      <td>1</td>\n",
       "      <td>0</td>\n",
       "      <td>0.197000</td>\n",
       "      <td>0</td>\n",
       "      <td>0</td>\n",
       "      <td>0.100010</td>\n",
       "      <td>0.0</td>\n",
       "      <td>1</td>\n",
       "      <td>...</td>\n",
       "      <td>1.0</td>\n",
       "      <td>0.0</td>\n",
       "      <td>0.0</td>\n",
       "      <td>0.0</td>\n",
       "      <td>0.0</td>\n",
       "      <td>0.0</td>\n",
       "      <td>1.0</td>\n",
       "      <td>0.0</td>\n",
       "      <td>0.0</td>\n",
       "      <td>0.0</td>\n",
       "    </tr>\n",
       "    <tr>\n",
       "      <th>60797</th>\n",
       "      <td>1</td>\n",
       "      <td>1</td>\n",
       "      <td>10</td>\n",
       "      <td>0</td>\n",
       "      <td>0.292000</td>\n",
       "      <td>0</td>\n",
       "      <td>0</td>\n",
       "      <td>0.279996</td>\n",
       "      <td>1.0</td>\n",
       "      <td>2</td>\n",
       "      <td>...</td>\n",
       "      <td>1.0</td>\n",
       "      <td>0.0</td>\n",
       "      <td>0.0</td>\n",
       "      <td>0.0</td>\n",
       "      <td>0.0</td>\n",
       "      <td>0.0</td>\n",
       "      <td>1.0</td>\n",
       "      <td>0.0</td>\n",
       "      <td>0.0</td>\n",
       "      <td>0.0</td>\n",
       "    </tr>\n",
       "    <tr>\n",
       "      <th>60800</th>\n",
       "      <td>0</td>\n",
       "      <td>0</td>\n",
       "      <td>3</td>\n",
       "      <td>0</td>\n",
       "      <td>0.103000</td>\n",
       "      <td>0</td>\n",
       "      <td>1</td>\n",
       "      <td>0.200004</td>\n",
       "      <td>0.0</td>\n",
       "      <td>1</td>\n",
       "      <td>...</td>\n",
       "      <td>0.0</td>\n",
       "      <td>0.0</td>\n",
       "      <td>1.0</td>\n",
       "      <td>0.0</td>\n",
       "      <td>0.0</td>\n",
       "      <td>0.0</td>\n",
       "      <td>1.0</td>\n",
       "      <td>0.0</td>\n",
       "      <td>0.0</td>\n",
       "      <td>0.0</td>\n",
       "    </tr>\n",
       "    <tr>\n",
       "      <th>60803</th>\n",
       "      <td>1</td>\n",
       "      <td>0</td>\n",
       "      <td>8</td>\n",
       "      <td>0</td>\n",
       "      <td>0.325003</td>\n",
       "      <td>0</td>\n",
       "      <td>0</td>\n",
       "      <td>0.066665</td>\n",
       "      <td>0.0</td>\n",
       "      <td>0</td>\n",
       "      <td>...</td>\n",
       "      <td>1.0</td>\n",
       "      <td>0.0</td>\n",
       "      <td>0.0</td>\n",
       "      <td>0.0</td>\n",
       "      <td>0.0</td>\n",
       "      <td>0.0</td>\n",
       "      <td>1.0</td>\n",
       "      <td>0.0</td>\n",
       "      <td>0.0</td>\n",
       "      <td>0.0</td>\n",
       "    </tr>\n",
       "  </tbody>\n",
       "</table>\n",
       "<p>41176 rows × 23 columns</p>\n",
       "</div>"
      ],
      "text/plain": [
       "       Loan.Status  Credit.Minus.Loan  Years.current_job_enc  Tax.Liens.Enc  \\\n",
       "0                1                  1                      6              0   \n",
       "3                1                  1                      4              0   \n",
       "4                1                  1                     10              0   \n",
       "5                1                  0                      5              0   \n",
       "6                0                  0                     10              0   \n",
       "...            ...                ...                    ...            ...   \n",
       "60794            1                  0                      6              0   \n",
       "60795            1                  1                      1              0   \n",
       "60797            1                  1                     10              0   \n",
       "60800            0                  0                      3              0   \n",
       "60803            1                  0                      8              0   \n",
       "\n",
       "       Leverage  Bankruptcies.enc  Years.since.last.delinquent  \\\n",
       "0      0.190000                 0                            1   \n",
       "3      0.301998                 1                            0   \n",
       "4      0.085501                 0                            0   \n",
       "5      0.127000                 1                            0   \n",
       "6      0.056798                 0                            0   \n",
       "...         ...               ...                          ...   \n",
       "60794  0.047101                 0                            0   \n",
       "60795  0.197000                 0                            0   \n",
       "60797  0.292000                 0                            0   \n",
       "60800  0.103000                 0                            1   \n",
       "60803  0.325003                 0                            0   \n",
       "\n",
       "       Loan.vs.Income  Term.Encoded  Number.of.Open.Accounts.Labeled  ...  \\\n",
       "0            0.187495           0.0                                2  ...   \n",
       "3            0.207542           0.0                                0  ...   \n",
       "4            0.075625           0.0                                0  ...   \n",
       "5            0.165112           0.0                                1  ...   \n",
       "6            0.075445           1.0                                0  ...   \n",
       "...               ...           ...                              ...  ...   \n",
       "60794        0.119199           0.0                                1  ...   \n",
       "60795        0.100010           0.0                                1  ...   \n",
       "60797        0.279996           1.0                                2  ...   \n",
       "60800        0.200004           0.0                                1  ...   \n",
       "60803        0.066665           0.0                                0  ...   \n",
       "\n",
       "       H.O.Home Mortgage  H.O.Own Home H.O.Rent  Purp.Business Loan  \\\n",
       "0                    1.0           0.0      0.0                 0.0   \n",
       "3                    0.0           0.0      1.0                 0.0   \n",
       "4                    1.0           0.0      0.0                 0.0   \n",
       "5                    1.0           0.0      0.0                 0.0   \n",
       "6                    0.0           0.0      1.0                 0.0   \n",
       "...                  ...           ...      ...                 ...   \n",
       "60794                0.0           0.0      1.0                 0.0   \n",
       "60795                1.0           0.0      0.0                 0.0   \n",
       "60797                1.0           0.0      0.0                 0.0   \n",
       "60800                0.0           0.0      1.0                 0.0   \n",
       "60803                1.0           0.0      0.0                 0.0   \n",
       "\n",
       "       Purp.Buy House  Purp.Buy a Car  Purp.Debt Consolidation  \\\n",
       "0                 0.0             0.0                      1.0   \n",
       "3                 0.0             0.0                      1.0   \n",
       "4                 0.0             0.0                      0.0   \n",
       "5                 0.0             0.0                      0.0   \n",
       "6                 0.0             0.0                      0.0   \n",
       "...               ...             ...                      ...   \n",
       "60794             0.0             0.0                      1.0   \n",
       "60795             0.0             0.0                      1.0   \n",
       "60797             0.0             0.0                      1.0   \n",
       "60800             0.0             0.0                      1.0   \n",
       "60803             0.0             0.0                      1.0   \n",
       "\n",
       "       Purp.Home Improvements  Purp.Medical Bills  Purp.Other  \n",
       "0                         0.0                 0.0         0.0  \n",
       "3                         0.0                 0.0         0.0  \n",
       "4                         1.0                 0.0         0.0  \n",
       "5                         1.0                 0.0         0.0  \n",
       "6                         0.0                 0.0         1.0  \n",
       "...                       ...                 ...         ...  \n",
       "60794                     0.0                 0.0         0.0  \n",
       "60795                     0.0                 0.0         0.0  \n",
       "60797                     0.0                 0.0         0.0  \n",
       "60800                     0.0                 0.0         0.0  \n",
       "60803                     0.0                 0.0         0.0  \n",
       "\n",
       "[41176 rows x 23 columns]"
      ]
     },
     "execution_count": 4,
     "metadata": {},
     "output_type": "execute_result"
    }
   ],
   "source": [
    "data_cleaned = final_treatment()\n",
    "data = final_transformer(data_cleaned)\n",
    "data"
   ]
  },
  {
   "cell_type": "code",
   "execution_count": 5,
   "metadata": {},
   "outputs": [],
   "source": [
    "#Converted Year.Credit.History.Labeled from category to int64\n",
    "\n",
    "data['Year.Credit.History.Labeled'] = data['Year.Credit.History.Labeled'].astype('int64')"
   ]
  },
  {
   "cell_type": "code",
   "execution_count": 6,
   "metadata": {},
   "outputs": [],
   "source": [
    "# Defining variables considering results of feature selection\n",
    "\n",
    "X = data.drop(columns=['Loan.Status', 'Tax.Liens.Enc',\n",
    "                      'Bankruptcies.enc', 'Number.of.Open.Accounts.Labeled'])\n",
    "y = data['Loan.Status'] \n",
    "\n",
    "# Train Test Split both datasets\n",
    "X_train, X_test, y_train, y_test = train_test_split(X, y, test_size=0.3, random_state=42)\n",
    "\n",
    "# GERACAO DE DADOS ARTIFICIAIS PARA A CATEGORIA DO TARGET MINORITARIO 0 A PARTIR DOS DADOS EXISTENTES\n",
    "sm = SMOTE()\n",
    "X_train_bal, y_train_bal = sm.fit_resample(X_train, y_train)"
   ]
  },
  {
   "cell_type": "markdown",
   "metadata": {},
   "source": [
    "## 1. Random Forest"
   ]
  },
  {
   "cell_type": "markdown",
   "metadata": {},
   "source": [
    "## 1.1. The model"
   ]
  },
  {
   "cell_type": "code",
   "execution_count": 7,
   "metadata": {},
   "outputs": [
    {
     "name": "stdout",
     "output_type": "stream",
     "text": [
      "F1 score=  0.74\n",
      "RANDOM FOREST W/ FEATURE SELECTION - CLASSIFICATION REPORT\n",
      "              precision    recall  f1-score   support\n",
      "\n",
      "           0       0.35      0.38      0.36      3373\n",
      "           1       0.76      0.74      0.75      8980\n",
      "\n",
      "    accuracy                           0.64     12353\n",
      "   macro avg       0.55      0.56      0.56     12353\n",
      "weighted avg       0.65      0.64      0.64     12353\n",
      "\n"
     ]
    }
   ],
   "source": [
    "# Random forest model with feature selection\n",
    "forest = RandomForestClassifier()\n",
    "\n",
    "# Model fit, score and score metrics\n",
    "forest.fit(X_train_bal, y_train_bal)\n",
    "forest.score(X_test, y_test)\n",
    "y_pred_forest = forest.predict(X_test)\n",
    "\n",
    "# Cross validate model\n",
    "cv_forest = cross_validate(forest,\n",
    "                          X_train_bal,\n",
    "                          y_train_bal,\n",
    "                          scoring='f1_weighted',\n",
    "                          cv=10)\n",
    "\n",
    "# Making predictions based on the baseline model\n",
    "#data['predictions_forest'] = cross_val_predict(forest, X, y, cv=5)\n",
    "\n",
    "print('F1 score= ', round(cv_forest['test_score'].mean(), 2))\n",
    "print('RANDOM FOREST W/ FEATURE SELECTION - CLASSIFICATION REPORT')\n",
    "print(classification_report(y_test, y_pred_forest))"
   ]
  },
  {
   "cell_type": "code",
   "execution_count": 8,
   "metadata": {
    "scrolled": true
   },
   "outputs": [
    {
     "data": {
      "text/plain": [
       "1    8697\n",
       "0    3656\n",
       "dtype: int64"
      ]
     },
     "execution_count": 8,
     "metadata": {},
     "output_type": "execute_result"
    }
   ],
   "source": [
    "pd.DataFrame(y_pred_forest).value_counts()"
   ]
  },
  {
   "cell_type": "markdown",
   "metadata": {},
   "source": [
    "## 1.2. Feature selection"
   ]
  },
  {
   "cell_type": "code",
   "execution_count": 63,
   "metadata": {},
   "outputs": [
    {
     "data": {
      "text/html": [
       "<div>\n",
       "<style scoped>\n",
       "    .dataframe tbody tr th:only-of-type {\n",
       "        vertical-align: middle;\n",
       "    }\n",
       "\n",
       "    .dataframe tbody tr th {\n",
       "        vertical-align: top;\n",
       "    }\n",
       "\n",
       "    .dataframe thead th {\n",
       "        text-align: right;\n",
       "    }\n",
       "</style>\n",
       "<table border=\"1\" class=\"dataframe\">\n",
       "  <thead>\n",
       "    <tr style=\"text-align: right;\">\n",
       "      <th></th>\n",
       "      <th>features</th>\n",
       "      <th>importance_mean</th>\n",
       "    </tr>\n",
       "  </thead>\n",
       "  <tbody>\n",
       "    <tr>\n",
       "      <th>14</th>\n",
       "      <td>Purp.Buy a Car</td>\n",
       "      <td>0.000738</td>\n",
       "    </tr>\n",
       "    <tr>\n",
       "      <th>13</th>\n",
       "      <td>Purp.Buy House</td>\n",
       "      <td>0.000738</td>\n",
       "    </tr>\n",
       "    <tr>\n",
       "      <th>17</th>\n",
       "      <td>Purp.Medical Bills</td>\n",
       "      <td>0.000881</td>\n",
       "    </tr>\n",
       "    <tr>\n",
       "      <th>12</th>\n",
       "      <td>Purp.Business Loan</td>\n",
       "      <td>0.002309</td>\n",
       "    </tr>\n",
       "    <tr>\n",
       "      <th>16</th>\n",
       "      <td>Purp.Home Improvements</td>\n",
       "      <td>0.003547</td>\n",
       "    </tr>\n",
       "    <tr>\n",
       "      <th>10</th>\n",
       "      <td>H.O.Own Home</td>\n",
       "      <td>0.003999</td>\n",
       "    </tr>\n",
       "    <tr>\n",
       "      <th>18</th>\n",
       "      <td>Purp.Other</td>\n",
       "      <td>0.009950</td>\n",
       "    </tr>\n",
       "    <tr>\n",
       "      <th>15</th>\n",
       "      <td>Purp.Debt Consolidation</td>\n",
       "      <td>0.029780</td>\n",
       "    </tr>\n",
       "    <tr>\n",
       "      <th>9</th>\n",
       "      <td>H.O.Home Mortgage</td>\n",
       "      <td>0.030899</td>\n",
       "    </tr>\n",
       "    <tr>\n",
       "      <th>6</th>\n",
       "      <td>Number.of.Credit.Problems.Labeled</td>\n",
       "      <td>0.046729</td>\n",
       "    </tr>\n",
       "    <tr>\n",
       "      <th>11</th>\n",
       "      <td>H.O.Rent</td>\n",
       "      <td>0.061441</td>\n",
       "    </tr>\n",
       "    <tr>\n",
       "      <th>3</th>\n",
       "      <td>Years.since.last.delinquent</td>\n",
       "      <td>0.092744</td>\n",
       "    </tr>\n",
       "    <tr>\n",
       "      <th>0</th>\n",
       "      <td>Credit.Minus.Loan</td>\n",
       "      <td>0.116835</td>\n",
       "    </tr>\n",
       "    <tr>\n",
       "      <th>8</th>\n",
       "      <td>Year.Credit.History.Labeled</td>\n",
       "      <td>0.133379</td>\n",
       "    </tr>\n",
       "    <tr>\n",
       "      <th>5</th>\n",
       "      <td>Term.Encoded</td>\n",
       "      <td>0.172896</td>\n",
       "    </tr>\n",
       "    <tr>\n",
       "      <th>7</th>\n",
       "      <td>Credit.Score.Labeled</td>\n",
       "      <td>0.185750</td>\n",
       "    </tr>\n",
       "    <tr>\n",
       "      <th>1</th>\n",
       "      <td>Years.current_job_enc</td>\n",
       "      <td>0.200105</td>\n",
       "    </tr>\n",
       "    <tr>\n",
       "      <th>2</th>\n",
       "      <td>Leverage</td>\n",
       "      <td>0.281256</td>\n",
       "    </tr>\n",
       "    <tr>\n",
       "      <th>4</th>\n",
       "      <td>Loan.vs.Income</td>\n",
       "      <td>0.297134</td>\n",
       "    </tr>\n",
       "  </tbody>\n",
       "</table>\n",
       "</div>"
      ],
      "text/plain": [
       "                             features  importance_mean\n",
       "14                     Purp.Buy a Car         0.000738\n",
       "13                     Purp.Buy House         0.000738\n",
       "17                 Purp.Medical Bills         0.000881\n",
       "12                 Purp.Business Loan         0.002309\n",
       "16             Purp.Home Improvements         0.003547\n",
       "10                       H.O.Own Home         0.003999\n",
       "18                         Purp.Other         0.009950\n",
       "15            Purp.Debt Consolidation         0.029780\n",
       "9                   H.O.Home Mortgage         0.030899\n",
       "6   Number.of.Credit.Problems.Labeled         0.046729\n",
       "11                           H.O.Rent         0.061441\n",
       "3         Years.since.last.delinquent         0.092744\n",
       "0                   Credit.Minus.Loan         0.116835\n",
       "8         Year.Credit.History.Labeled         0.133379\n",
       "5                        Term.Encoded         0.172896\n",
       "7                Credit.Score.Labeled         0.185750\n",
       "1               Years.current_job_enc         0.200105\n",
       "2                            Leverage         0.281256\n",
       "4                      Loan.vs.Income         0.297134"
      ]
     },
     "execution_count": 63,
     "metadata": {},
     "output_type": "execute_result"
    }
   ],
   "source": [
    "#Feature selection using permutation importance\n",
    "\n",
    "perm_score = permutation_importance(forest, X_train_bal, y_train_bal, random_state=42, n_repeats=1)\n",
    "perm_score['importances_mean']\n",
    "pd.DataFrame({'features': X.columns, 'importance_mean': perm_score['importances_mean']}).sort_values('importance_mean')"
   ]
  },
  {
   "cell_type": "markdown",
   "metadata": {},
   "source": [
    "## 1.3.GridSearchCV"
   ]
  },
  {
   "cell_type": "code",
   "execution_count": 12,
   "metadata": {},
   "outputs": [
    {
     "name": "stdout",
     "output_type": "stream",
     "text": [
      "Fitting 3 folds for each of 36 candidates, totalling 108 fits\n"
     ]
    },
    {
     "name": "stderr",
     "output_type": "stream",
     "text": [
      "[Parallel(n_jobs=-1)]: Using backend LokyBackend with 8 concurrent workers.\n",
      "[Parallel(n_jobs=-1)]: Done  34 tasks      | elapsed: 10.8min\n",
      "[Parallel(n_jobs=-1)]: Done 108 out of 108 | elapsed: 29.2min finished\n"
     ]
    },
    {
     "name": "stdout",
     "output_type": "stream",
     "text": [
      "{'max_depth': 32, 'max_features': 'log2', 'min_samples_leaf': 1, 'min_samples_split': 2, 'n_estimators': 1200, 'random_state': 11}\n"
     ]
    }
   ],
   "source": [
    "#GridSearch for random forest model\n",
    "\n",
    "#param_grid = {'n_estimators': [1200, 1225, 1250],\n",
    "#              'max_features': ['log2'],\n",
    "#              'max_depth': [28,30,32],\n",
    "#              'min_samples_split': [2],\n",
    "#              'min_samples_leaf': [1],\n",
    "#              'random_state': [0, 11, 13, 42]\n",
    "#}\n",
    "\n",
    "#CV_forest_rs = GridSearchCV(forest, \n",
    "#                            param_grid,\n",
    "#                            scoring='f1_weighted', \n",
    "#                            cv=3, verbose=1, n_jobs=-1)\n",
    "#CV_forest_rs.fit(X_train_bal, y_train_bal)\n",
    "#print(CV_forest_rs.best_params_)"
   ]
  },
  {
   "cell_type": "markdown",
   "metadata": {},
   "source": [
    "## 1.4. Model with best_params_"
   ]
  },
  {
   "cell_type": "code",
   "execution_count": 13,
   "metadata": {},
   "outputs": [
    {
     "name": "stdout",
     "output_type": "stream",
     "text": [
      "RANDOM FOREST W/ FEATURE SELECTION & RANDOM SEARCH- CLASSIFICATION REPORT\n",
      "              precision    recall  f1-score   support\n",
      "\n",
      "           0       0.36      0.37      0.36      3373\n",
      "           1       0.76      0.75      0.75      8980\n",
      "\n",
      "    accuracy                           0.64     12353\n",
      "   macro avg       0.56      0.56      0.56     12353\n",
      "weighted avg       0.65      0.64      0.65     12353\n",
      "\n"
     ]
    }
   ],
   "source": [
    "#Applied GridSearchCV (rs)\n",
    "forest_rs = RandomForestClassifier(n_jobs=-1,\n",
    "                                   max_features='log2',\n",
    "                                   n_estimators=1200,\n",
    "                                   max_depth=32,\n",
    "                                   min_samples_split=2,\n",
    "                                   min_samples_leaf=1,\n",
    "                                   random_state=11)\n",
    "\n",
    "# Model fit, score and score metrics\n",
    "forest_rs.fit(X_train_bal, y_train_bal)\n",
    "forest_rs.score(X_test, y_test)\n",
    "y_pred_forest_rs = forest_rs.predict(X_test)\n",
    "\n",
    "cv_forest_rs = cross_validate(forest_rs,\n",
    "                          X_train_bal,\n",
    "                          y_train_bal,\n",
    "                          scoring='f1_weighted',\n",
    "                          cv=10)\n",
    "\n",
    "print('RANDOM FOREST W/ FEATURE SELECTION & RANDOM SEARCH- CLASSIFICATION REPORT')\n",
    "print(classification_report(y_test, y_pred_forest_rs))"
   ]
  },
  {
   "cell_type": "code",
   "execution_count": 15,
   "metadata": {},
   "outputs": [
    {
     "name": "stderr",
     "output_type": "stream",
     "text": [
      "c:\\users\\m_day\\.venvs\\lewagon\\lib\\site-packages\\sklearn\\metrics\\_classification.py:1221: UndefinedMetricWarning: Precision and F-score are ill-defined and being set to 0.0 in labels with no predicted samples. Use `zero_division` parameter to control this behavior.\n",
      "  _warn_prf(average, modifier, msg_start, len(result))\n"
     ]
    },
    {
     "name": "stdout",
     "output_type": "stream",
     "text": [
      "***   FOREST - COM SMOTE TARGET - THRESHOLD = 0 ~ 1   ***\n"
     ]
    },
    {
     "data": {
      "image/png": "[encoded data removed]",
      "text/plain": [
       "<Figure size 432x288 with 1 Axes>"
      ]
     },
     "metadata": {
      "needs_background": "light"
     },
     "output_type": "display_data"
    }
   ],
   "source": [
    "y_pred_proba_forest_rs = CV_forest_rs.best_estimator_.predict_proba(X_test)\n",
    "y_pred_proba_forest_rs = np.delete(y_pred_proba_forest_rs, 0, 1)\n",
    "thresholds = np.arange(0.0, 1.05, 0.05)\n",
    "metrics_per_threshold_forest_rs = []\n",
    "\n",
    "for threshold in thresholds:\n",
    "    y_pred_forest_rs = y_pred_proba_forest_rs.copy()\n",
    "    for row in range(len(y_pred_forest_rs)):\n",
    "        if y_pred_forest_rs[row] > threshold:\n",
    "            y_pred_forest_rs[row] = 1\n",
    "        else:\n",
    "            y_pred_forest_rs[row] = 0\n",
    "    precision_0 = classification_report(y_true=y_test, y_pred=y_pred_forest_rs, output_dict=True)['0']['precision']\n",
    "    recall_0 = classification_report(y_true=y_test, y_pred=y_pred_forest_rs, output_dict=True)['0']['recall']\n",
    "    metrics_per_threshold_forest_rs.append([threshold, precision_0, recall_0])\n",
    "metrics_per_threshold_forest_rs\n",
    "\n",
    "print('***   FOREST - COM SMOTE TARGET - THRESHOLD = 0 ~ 1   ***')\n",
    "plt.plot(np.array(metrics_per_threshold_forest_rs)[:,0], np.array(metrics_per_threshold_forest_rs)[:,1])\n",
    "plt.plot(np.array(metrics_per_threshold_forest_rs)[:,0], np.array(metrics_per_threshold_forest_rs)[:,2])\n",
    "plt.title('Metrics X Threshold')\n",
    "plt.ylabel('Metric')\n",
    "plt.xlabel('Threshold')\n",
    "plt.legend(['Precision 0', 'Recall 0'], loc='best')\n",
    "plt.show()"
   ]
  },
  {
   "cell_type": "code",
   "execution_count": 30,
   "metadata": {},
   "outputs": [
    {
     "name": "stdout",
     "output_type": "stream",
     "text": [
      "No Skill: ROC AUC=0.500\n",
      "Logistic: ROC AUC=0.613\n"
     ]
    },
    {
     "data": {
      "image/png": "[encoded data removed]",
      "text/plain": [
       "<Figure size 432x288 with 1 Axes>"
      ]
     },
     "metadata": {
      "needs_background": "light"
     },
     "output_type": "display_data"
    }
   ],
   "source": [
    "from sklearn.metrics import roc_curve\n",
    "from sklearn.metrics import roc_auc_score\n",
    "\n",
    "#It returns the AUC score between 0.0 and 1.0 for no skill and perfect skill respectively.\n",
    "\n",
    "# ROC AUC for Random Forest with RandomSearch\n",
    "# generate a no skill prediction (majority class)\n",
    "ns_probs = [0 for _ in range(len(y_test))]\n",
    "# predict probabilities\n",
    "lr_probs = forest_rs.predict_proba(X_test)\n",
    "# keep probabilities for the positive outcome only\n",
    "lr_probs = lr_probs[:, 1]\n",
    "# calculate scores\n",
    "ns_auc = roc_auc_score(y_test, ns_probs)\n",
    "lr_auc = roc_auc_score(y_test, lr_probs)\n",
    "# summarize scores\n",
    "print('No Skill: ROC AUC=%.3f' % (ns_auc))\n",
    "print('Logistic: ROC AUC=%.3f' % (lr_auc))\n",
    "# calculate roc curves\n",
    "ns_fpr, ns_tpr, _ = roc_curve(y_test, ns_probs)\n",
    "lr_fpr, lr_tpr, _ = roc_curve(y_test, lr_probs)\n",
    "# plot the roc curve for the model\n",
    "plt.plot(ns_fpr, ns_tpr, linestyle='--', label='No Skill Classifier')\n",
    "plt.plot(lr_fpr, lr_tpr, marker='.', label='Forest_GridSearch')\n",
    "# axis labels\n",
    "plt.xlabel('False Positive Rate')\n",
    "plt.ylabel('True Positive Rate')\n",
    "# show the legend\n",
    "plt.legend()\n",
    "# show the plot\n",
    "plt.show()"
   ]
  },
  {
   "cell_type": "markdown",
   "metadata": {},
   "source": [
    "## 2. AdaBoost"
   ]
  },
  {
   "cell_type": "markdown",
   "metadata": {},
   "source": [
    "## 2.1. The model"
   ]
  },
  {
   "cell_type": "code",
   "execution_count": 20,
   "metadata": {},
   "outputs": [],
   "source": [
    "Xa = data.drop(columns=['Loan.Status', 'Years.since.last.delinquent',\n",
    "                      'Credit.Minus.Loan', 'Bankruptcies.enc', 'Tax.Liens.Enc'])\n",
    "ya = data['Loan.Status'] \n",
    "\n",
    "# Train Test Split both datasets\n",
    "Xa_train, Xa_test, ya_train, ya_test = train_test_split(Xa, ya, test_size=0.3, random_state=42)\n",
    "\n",
    "# GERACAO DE DADOS ARTIFICIAIS PARA A CATEGORIA DO TARGET MINORITARIO 0 A PARTIR DOS DADOS EXISTENTES\n",
    "sm = SMOTE()\n",
    "Xa_train_bal, ya_train_bal = sm.fit_resample(Xa_train, ya_train)"
   ]
  },
  {
   "cell_type": "code",
   "execution_count": 21,
   "metadata": {},
   "outputs": [
    {
     "name": "stdout",
     "output_type": "stream",
     "text": [
      "ADABOOST - CLASSIFICATION REPORT\n",
      "              precision    recall  f1-score   support\n",
      "\n",
      "           0       0.33      0.47      0.38      3373\n",
      "           1       0.76      0.64      0.69      8980\n",
      "\n",
      "    accuracy                           0.59     12353\n",
      "   macro avg       0.54      0.55      0.54     12353\n",
      "weighted avg       0.64      0.59      0.61     12353\n",
      "\n"
     ]
    }
   ],
   "source": [
    "# AdaBoostClassifier model\n",
    "\n",
    "DTC = DecisionTreeClassifier(max_depth = None)\n",
    "\n",
    "ada = AdaBoostClassifier(base_estimator=DTC)\n",
    "\n",
    "ada_cv = cross_validate(ada,\n",
    "                          Xa_train_bal,\n",
    "                          ya_train_bal,\n",
    "                          scoring='f1_weighted',\n",
    "                          cv=10)\n",
    "\n",
    "ada.fit(Xa_train_bal, ya_train_bal)\n",
    "ada.score(Xa_test, ya_test)\n",
    "\n",
    "y_pred_ada = ada.predict(Xa_test)\n",
    "\n",
    "print('ADABOOST - CLASSIFICATION REPORT')\n",
    "print(classification_report(ya_test, y_pred_ada))"
   ]
  },
  {
   "cell_type": "code",
   "execution_count": 22,
   "metadata": {},
   "outputs": [
    {
     "data": {
      "text/plain": [
       "1    7507\n",
       "0    4846\n",
       "dtype: int64"
      ]
     },
     "execution_count": 22,
     "metadata": {},
     "output_type": "execute_result"
    }
   ],
   "source": [
    "pd.DataFrame(y_pred_ada).value_counts()"
   ]
  },
  {
   "cell_type": "markdown",
   "metadata": {},
   "source": [
    "## 2.2. Feature selection"
   ]
  },
  {
   "cell_type": "code",
   "execution_count": 23,
   "metadata": {},
   "outputs": [],
   "source": [
    "#Feature selection using permutation importance\n",
    "\n",
    "#perm_score_ada = permutation_importance(ada, Xa_train_bal, ya_train_bal, random_state=42, n_repeats=10)\n",
    "#perm_score_ada['importances_mean']\n",
    "#pd.DataFrame({'features': Xa.columns, 'importance_mean': perm_score_ada['importances_mean']}).sort_values('importance_mean')"
   ]
  },
  {
   "cell_type": "markdown",
   "metadata": {},
   "source": [
    "## 2.3. GridSearch"
   ]
  },
  {
   "cell_type": "code",
   "execution_count": 25,
   "metadata": {},
   "outputs": [
    {
     "name": "stdout",
     "output_type": "stream",
     "text": [
      "Fitting 10 folds for each of 12 candidates, totalling 120 fits\n"
     ]
    },
    {
     "name": "stderr",
     "output_type": "stream",
     "text": [
      "[Parallel(n_jobs=-1)]: Using backend LokyBackend with 8 concurrent workers.\n",
      "[Parallel(n_jobs=-1)]: Done  34 tasks      | elapsed:    7.2s\n",
      "[Parallel(n_jobs=-1)]: Done 120 out of 120 | elapsed:   12.4s finished\n"
     ]
    },
    {
     "name": "stdout",
     "output_type": "stream",
     "text": [
      "{'base_estimator__criterion': 'gini', 'base_estimator__random_state': 42, 'base_estimator__splitter': 'random', 'learning_rate': 0.1, 'n_estimators': 500, 'random_state': 0}\n"
     ]
    }
   ],
   "source": [
    "#RandomSearch for ada_model\n",
    "\n",
    "DTC = DecisionTreeClassifier(max_depth = None)\n",
    "\n",
    "ada = AdaBoostClassifier(base_estimator=DTC)\n",
    "\n",
    "param_grid_ada = {'base_estimator__criterion': ['gini', 'entropy'],\n",
    "                  'base_estimator__splitter': ['random'],\n",
    "                  'base_estimator__random_state':[42],\n",
    "                  'n_estimators':[500, 750, 1000],\n",
    "                  'learning_rate':[0.1, 0.5],\n",
    "                  'random_state':[0],\n",
    "                 }\n",
    "\n",
    "CV_ada = GridSearchCV(ada, param_grid_ada,cv=10, \n",
    "                            verbose=1, n_jobs=-1)\n",
    "CV_ada.fit(Xa_train_bal, ya_train_bal)\n",
    "print(CV_ada.best_params_)"
   ]
  },
  {
   "cell_type": "markdown",
   "metadata": {},
   "source": [
    "## 2.4. Model with best_params_"
   ]
  },
  {
   "cell_type": "code",
   "execution_count": 32,
   "metadata": {},
   "outputs": [
    {
     "name": "stdout",
     "output_type": "stream",
     "text": [
      "ADABOOST  W/ FEATURE SELECTION & RANDOM SEARCH - CLASSIFICATION REPORT\n",
      "              precision    recall  f1-score   support\n",
      "\n",
      "           0       0.31      0.41      0.35      3373\n",
      "           1       0.75      0.66      0.70      8980\n",
      "\n",
      "    accuracy                           0.59     12353\n",
      "   macro avg       0.53      0.53      0.53     12353\n",
      "weighted avg       0.63      0.59      0.60     12353\n",
      "\n"
     ]
    }
   ],
   "source": [
    "#Applied GridSearchCV (rs)\n",
    "DTC_rs = DecisionTreeClassifier(random_state=42,\n",
    "                             criterion='gini',\n",
    "                             splitter='random',\n",
    "                             max_depth = None)\n",
    "\n",
    "ada_rs = AdaBoostClassifier(base_estimator=DTC_rs,\n",
    "                            random_state=0,\n",
    "                            n_estimators=500,\n",
    "                            learning_rate=0.1)\n",
    "\n",
    "cv_ada_rs = cross_validate(ada_rs,\n",
    "                          Xa_train_bal,\n",
    "                          ya_train_bal,\n",
    "                          scoring='f1_weighted',\n",
    "                          cv=10)\n",
    "\n",
    "# Model fit, score and score metrics\n",
    "ada_rs.fit(Xa_train_bal, ya_train_bal)\n",
    "ada_rs.score(Xa_test, ya_test)\n",
    "y_pred_ada_rs = ada_rs.predict(Xa_test)\n",
    "\n",
    "print('ADABOOST  W/ FEATURE SELECTION & RANDOM SEARCH - CLASSIFICATION REPORT')\n",
    "print(classification_report(ya_test, y_pred_ada_rs))"
   ]
  },
  {
   "cell_type": "code",
   "execution_count": 33,
   "metadata": {},
   "outputs": [
    {
     "name": "stderr",
     "output_type": "stream",
     "text": [
      "c:\\users\\m_day\\.venvs\\lewagon\\lib\\site-packages\\sklearn\\metrics\\_classification.py:1221: UndefinedMetricWarning: Precision and F-score are ill-defined and being set to 0.0 in labels with no predicted samples. Use `zero_division` parameter to control this behavior.\n",
      "  _warn_prf(average, modifier, msg_start, len(result))\n"
     ]
    },
    {
     "name": "stdout",
     "output_type": "stream",
     "text": [
      "***   ADABOOST - COM SMOTE TARGET - THRESHOLD = 0 ~ 1   ***\n"
     ]
    },
    {
     "data": {
      "image/png": "[encoded data removed]",
      "text/plain": [
       "<Figure size 432x288 with 1 Axes>"
      ]
     },
     "metadata": {
      "needs_background": "light"
     },
     "output_type": "display_data"
    }
   ],
   "source": [
    "y_pred_proba_ada_rs = CV_ada.best_estimator_.predict_proba(Xa_test)\n",
    "y_pred_proba_ada_rs = np.delete(y_pred_proba_ada_rs, 0, 1)\n",
    "thresholds = np.arange(0.0, 1.05, 0.05)\n",
    "metrics_per_threshold_ada_rs = []\n",
    "\n",
    "for threshold in thresholds:\n",
    "    y_pred_ada_rs = y_pred_proba_ada_rs.copy()\n",
    "    for row in range(len(y_pred_ada_rs)):\n",
    "        if y_pred_ada_rs[row] > threshold:\n",
    "            y_pred_ada_rs[row] = 1\n",
    "        else:\n",
    "            y_pred_ada_rs[row] = 0\n",
    "    precision_0 = classification_report(y_true=ya_test, y_pred=y_pred_ada_rs, output_dict=True)['0']['precision']\n",
    "    recall_0 = classification_report(y_true=ya_test, y_pred=y_pred_ada_rs, output_dict=True)['0']['recall']\n",
    "    metrics_per_threshold_ada_rs.append([threshold, precision_0, recall_0])\n",
    "metrics_per_threshold_ada_rs\n",
    "\n",
    "print('***   ADABOOST - COM SMOTE TARGET - THRESHOLD = 0 ~ 1   ***')\n",
    "plt.plot(np.array(metrics_per_threshold_ada_rs)[:,0], np.array(metrics_per_threshold_ada_rs)[:,1])\n",
    "plt.plot(np.array(metrics_per_threshold_ada_rs)[:,0], np.array(metrics_per_threshold_ada_rs)[:,2])\n",
    "plt.title('Metrics X Threshold')\n",
    "plt.ylabel('Metric')\n",
    "plt.xlabel('Threshold')\n",
    "plt.legend(['Precision 0', 'Recall 0'], loc='best')\n",
    "plt.show()"
   ]
  },
  {
   "cell_type": "code",
   "execution_count": 34,
   "metadata": {},
   "outputs": [
    {
     "name": "stdout",
     "output_type": "stream",
     "text": [
      "No Skill: ROC AUC=0.500\n",
      "Logistic: ROC AUC=0.533\n"
     ]
    },
    {
     "data": {
      "image/png": "[encoded data removed]",
      "text/plain": [
       "<Figure size 432x288 with 1 Axes>"
      ]
     },
     "metadata": {
      "needs_background": "light"
     },
     "output_type": "display_data"
    }
   ],
   "source": [
    "#It returns the AUC score between 0.0 and 1.0 for no skill and perfect skill respectively.\n",
    "\n",
    "# ROC AUC for Random Forest with RandomSearch\n",
    "# generate a no skill prediction (majority class)\n",
    "ns_probs = [0 for _ in range(len(ya_test))]\n",
    "# predict probabilities\n",
    "lr_probs = ada_rs.predict_proba(Xa_test)\n",
    "# keep probabilities for the positive outcome only\n",
    "lr_probs = lr_probs[:, 1]\n",
    "# calculate scores\n",
    "ns_auc = roc_auc_score(ya_test, ns_probs)\n",
    "lr_auc = roc_auc_score(ya_test, lr_probs)\n",
    "# summarize scores\n",
    "print('No Skill: ROC AUC=%.3f' % (ns_auc))\n",
    "print('Logistic: ROC AUC=%.3f' % (lr_auc))\n",
    "# calculate roc curves\n",
    "ns_fpr, ns_tpr, _ = roc_curve(ya_test, ns_probs)\n",
    "lr_fpr, lr_tpr, _ = roc_curve(ya_test, lr_probs)\n",
    "# plot the roc curve for the model\n",
    "plt.plot(ns_fpr, ns_tpr, linestyle='--', label='No Skill Classifier')\n",
    "plt.plot(lr_fpr, lr_tpr, marker='.', label='AdaBoost GridSearch')\n",
    "# axis labels\n",
    "plt.xlabel('False Positive Rate')\n",
    "plt.ylabel('True Positive Rate')\n",
    "# show the legend\n",
    "plt.legend()\n",
    "# show the plot\n",
    "plt.show()"
   ]
  },
  {
   "cell_type": "markdown",
   "metadata": {},
   "source": [
    "## 3. XGBoost"
   ]
  },
  {
   "cell_type": "markdown",
   "metadata": {},
   "source": [
    "## 3.1. The model"
   ]
  },
  {
   "cell_type": "code",
   "execution_count": 48,
   "metadata": {},
   "outputs": [],
   "source": [
    "Xx = data.drop(columns=['Loan.Status', 'Tax.Liens.Enc'])\n",
    "yx = data['Loan.Status'] \n",
    "\n",
    "# Train Test Split both datasets\n",
    "Xx_train, Xx_test, yx_train, yx_test = train_test_split(Xx, yx, test_size=0.3, random_state=42)\n",
    "\n",
    "# GERACAO DE DADOS ARTIFICIAIS PARA A CATEGORIA DO TARGET MINORITARIO 0 A PARTIR DOS DADOS EXISTENTES\n",
    "sm = SMOTE()\n",
    "Xx_train_bal, yx_train_bal = sm.fit_resample(Xx_train, yx_train)"
   ]
  },
  {
   "cell_type": "code",
   "execution_count": 49,
   "metadata": {},
   "outputs": [
    {
     "name": "stdout",
     "output_type": "stream",
     "text": [
      "XGBOOST - CLASSIFICATION REPORT\n",
      "              precision    recall  f1-score   support\n",
      "\n",
      "           0       0.34      0.41      0.37      3373\n",
      "           1       0.76      0.70      0.73      8980\n",
      "\n",
      "    accuracy                           0.62     12353\n",
      "   macro avg       0.55      0.55      0.55     12353\n",
      "weighted avg       0.64      0.62      0.63     12353\n",
      "\n"
     ]
    }
   ],
   "source": [
    "#XGBoost model\n",
    "xgb = XGBClassifier()\n",
    "\n",
    "xgb.fit(Xx_train_bal, yx_train_bal)\n",
    "xgb.score(Xx_test, yx_test)\n",
    "\n",
    "yx_pred_xgb = xgb.predict(Xx_test)\n",
    "print('XGBOOST - CLASSIFICATION REPORT')\n",
    "print(classification_report(yx_test, yx_pred_xgb))"
   ]
  },
  {
   "cell_type": "code",
   "execution_count": 50,
   "metadata": {},
   "outputs": [
    {
     "data": {
      "text/plain": [
       "1    8277\n",
       "0    4076\n",
       "dtype: int64"
      ]
     },
     "execution_count": 50,
     "metadata": {},
     "output_type": "execute_result"
    }
   ],
   "source": [
    "pd.DataFrame(y_pred_xgb).value_counts()"
   ]
  },
  {
   "cell_type": "markdown",
   "metadata": {},
   "source": [
    "## 3.2. Feature selection"
   ]
  },
  {
   "cell_type": "code",
   "execution_count": 47,
   "metadata": {},
   "outputs": [
    {
     "data": {
      "text/html": [
       "<div>\n",
       "<style scoped>\n",
       "    .dataframe tbody tr th:only-of-type {\n",
       "        vertical-align: middle;\n",
       "    }\n",
       "\n",
       "    .dataframe tbody tr th {\n",
       "        vertical-align: top;\n",
       "    }\n",
       "\n",
       "    .dataframe thead th {\n",
       "        text-align: right;\n",
       "    }\n",
       "</style>\n",
       "<table border=\"1\" class=\"dataframe\">\n",
       "  <thead>\n",
       "    <tr style=\"text-align: right;\">\n",
       "      <th></th>\n",
       "      <th>features</th>\n",
       "      <th>importance_mean</th>\n",
       "    </tr>\n",
       "  </thead>\n",
       "  <tbody>\n",
       "    <tr>\n",
       "      <th>2</th>\n",
       "      <td>Tax.Liens.Enc</td>\n",
       "      <td>0.000005</td>\n",
       "    </tr>\n",
       "    <tr>\n",
       "      <th>4</th>\n",
       "      <td>Bankruptcies.enc</td>\n",
       "      <td>0.001704</td>\n",
       "    </tr>\n",
       "    <tr>\n",
       "      <th>16</th>\n",
       "      <td>Purp.Buy House</td>\n",
       "      <td>0.002033</td>\n",
       "    </tr>\n",
       "    <tr>\n",
       "      <th>17</th>\n",
       "      <td>Purp.Buy a Car</td>\n",
       "      <td>0.002254</td>\n",
       "    </tr>\n",
       "    <tr>\n",
       "      <th>20</th>\n",
       "      <td>Purp.Medical Bills</td>\n",
       "      <td>0.002452</td>\n",
       "    </tr>\n",
       "    <tr>\n",
       "      <th>13</th>\n",
       "      <td>H.O.Own Home</td>\n",
       "      <td>0.002726</td>\n",
       "    </tr>\n",
       "    <tr>\n",
       "      <th>15</th>\n",
       "      <td>Purp.Business Loan</td>\n",
       "      <td>0.003556</td>\n",
       "    </tr>\n",
       "    <tr>\n",
       "      <th>19</th>\n",
       "      <td>Purp.Home Improvements</td>\n",
       "      <td>0.003833</td>\n",
       "    </tr>\n",
       "    <tr>\n",
       "      <th>9</th>\n",
       "      <td>Number.of.Credit.Problems.Labeled</td>\n",
       "      <td>0.004835</td>\n",
       "    </tr>\n",
       "    <tr>\n",
       "      <th>14</th>\n",
       "      <td>H.O.Rent</td>\n",
       "      <td>0.005297</td>\n",
       "    </tr>\n",
       "    <tr>\n",
       "      <th>5</th>\n",
       "      <td>Years.since.last.delinquent</td>\n",
       "      <td>0.005394</td>\n",
       "    </tr>\n",
       "    <tr>\n",
       "      <th>21</th>\n",
       "      <td>Purp.Other</td>\n",
       "      <td>0.005766</td>\n",
       "    </tr>\n",
       "    <tr>\n",
       "      <th>12</th>\n",
       "      <td>H.O.Home Mortgage</td>\n",
       "      <td>0.005813</td>\n",
       "    </tr>\n",
       "    <tr>\n",
       "      <th>18</th>\n",
       "      <td>Purp.Debt Consolidation</td>\n",
       "      <td>0.009305</td>\n",
       "    </tr>\n",
       "    <tr>\n",
       "      <th>0</th>\n",
       "      <td>Credit.Minus.Loan</td>\n",
       "      <td>0.009717</td>\n",
       "    </tr>\n",
       "    <tr>\n",
       "      <th>10</th>\n",
       "      <td>Credit.Score.Labeled</td>\n",
       "      <td>0.012248</td>\n",
       "    </tr>\n",
       "    <tr>\n",
       "      <th>11</th>\n",
       "      <td>Year.Credit.History.Labeled</td>\n",
       "      <td>0.013707</td>\n",
       "    </tr>\n",
       "    <tr>\n",
       "      <th>8</th>\n",
       "      <td>Number.of.Open.Accounts.Labeled</td>\n",
       "      <td>0.015347</td>\n",
       "    </tr>\n",
       "    <tr>\n",
       "      <th>7</th>\n",
       "      <td>Term.Encoded</td>\n",
       "      <td>0.023853</td>\n",
       "    </tr>\n",
       "    <tr>\n",
       "      <th>1</th>\n",
       "      <td>Years.current_job_enc</td>\n",
       "      <td>0.024145</td>\n",
       "    </tr>\n",
       "    <tr>\n",
       "      <th>6</th>\n",
       "      <td>Loan.vs.Income</td>\n",
       "      <td>0.092530</td>\n",
       "    </tr>\n",
       "    <tr>\n",
       "      <th>3</th>\n",
       "      <td>Leverage</td>\n",
       "      <td>0.124857</td>\n",
       "    </tr>\n",
       "  </tbody>\n",
       "</table>\n",
       "</div>"
      ],
      "text/plain": [
       "                             features  importance_mean\n",
       "2                       Tax.Liens.Enc         0.000005\n",
       "4                    Bankruptcies.enc         0.001704\n",
       "16                     Purp.Buy House         0.002033\n",
       "17                     Purp.Buy a Car         0.002254\n",
       "20                 Purp.Medical Bills         0.002452\n",
       "13                       H.O.Own Home         0.002726\n",
       "15                 Purp.Business Loan         0.003556\n",
       "19             Purp.Home Improvements         0.003833\n",
       "9   Number.of.Credit.Problems.Labeled         0.004835\n",
       "14                           H.O.Rent         0.005297\n",
       "5         Years.since.last.delinquent         0.005394\n",
       "21                         Purp.Other         0.005766\n",
       "12                  H.O.Home Mortgage         0.005813\n",
       "18            Purp.Debt Consolidation         0.009305\n",
       "0                   Credit.Minus.Loan         0.009717\n",
       "10               Credit.Score.Labeled         0.012248\n",
       "11        Year.Credit.History.Labeled         0.013707\n",
       "8     Number.of.Open.Accounts.Labeled         0.015347\n",
       "7                        Term.Encoded         0.023853\n",
       "1               Years.current_job_enc         0.024145\n",
       "6                      Loan.vs.Income         0.092530\n",
       "3                            Leverage         0.124857"
      ]
     },
     "execution_count": 47,
     "metadata": {},
     "output_type": "execute_result"
    }
   ],
   "source": [
    "#Feature selection using permutation importance\n",
    "\n",
    "#perm_score_xgb = permutation_importance(xgb, Xx_train_bal, yx_train_bal, random_state=42, n_repeats=10)\n",
    "#perm_score_xgb['importances_mean']\n",
    "#pd.DataFrame({'features': Xx.columns, 'importance_mean': perm_score_xgb['importances_mean']}).sort_values('importance_mean')"
   ]
  },
  {
   "cell_type": "markdown",
   "metadata": {},
   "source": [
    "## 3.3. GridSearch"
   ]
  },
  {
   "cell_type": "code",
   "execution_count": 58,
   "metadata": {
    "scrolled": true
   },
   "outputs": [
    {
     "name": "stdout",
     "output_type": "stream",
     "text": [
      "Fitting 10 folds for each of 4 candidates, totalling 40 fits\n"
     ]
    },
    {
     "name": "stderr",
     "output_type": "stream",
     "text": [
      "[Parallel(n_jobs=-1)]: Using backend LokyBackend with 8 concurrent workers.\n",
      "[Parallel(n_jobs=-1)]: Done  40 out of  40 | elapsed:  2.7min finished\n"
     ]
    },
    {
     "name": "stdout",
     "output_type": "stream",
     "text": [
      "{'booster': 'gbtree', 'gamma': 0.001, 'learning_rate': 0.5, 'n_estimators': 200}\n"
     ]
    }
   ],
   "source": [
    "#param_grid_xgb = {'learning_rate':[0.1, 0.5],\n",
    "#                  'booster':['gbtree'],\n",
    "#                  'gamma': [0.001],\n",
    "#                  'n_estimators': [150,200],\n",
    "#                }\n",
    "\n",
    "#CV_xgb = GridSearchCV(xgb_model, param_grid_xgb, \n",
    "#                      scoring='f1_weighted', \n",
    "#                      cv=10, verbose=1, n_jobs=-1)\n",
    "#CV_xgb.fit(Xx_train_bal, yx_train_bal)\n",
    "#print(CV_xgb.best_params_)"
   ]
  },
  {
   "cell_type": "markdown",
   "metadata": {},
   "source": [
    "## 3.4. Model with best_params_"
   ]
  },
  {
   "cell_type": "code",
   "execution_count": 59,
   "metadata": {},
   "outputs": [
    {
     "name": "stdout",
     "output_type": "stream",
     "text": [
      "XGBOOST - CLASSIFICATION REPORT\n",
      "              precision    recall  f1-score   support\n",
      "\n",
      "           0       0.34      0.33      0.33      3373\n",
      "           1       0.75      0.76      0.76      8980\n",
      "\n",
      "    accuracy                           0.64     12353\n",
      "   macro avg       0.54      0.54      0.54     12353\n",
      "weighted avg       0.64      0.64      0.64     12353\n",
      "\n"
     ]
    }
   ],
   "source": [
    "#Applied GridSearchCV (rs)\n",
    "xgb_rs = XGBClassifier(learning_rate=0.5,\n",
    "                      booster='gbtree',\n",
    "                      gamma=0.001,\n",
    "                      n_estimators=200)\n",
    "\n",
    "xgb_rs.fit(Xx_train_bal, yx_train_bal)\n",
    "xgb_rs.score(Xx_test, yx_test)\n",
    "yx_pred_xgb_rs = xgb_rs.predict(Xx_test)\n",
    "\n",
    "print('XGBOOST - CLASSIFICATION REPORT')\n",
    "print(classification_report(yx_test, yx_pred_xgb_rs))"
   ]
  },
  {
   "cell_type": "code",
   "execution_count": 60,
   "metadata": {},
   "outputs": [
    {
     "name": "stdout",
     "output_type": "stream",
     "text": [
      "***   XGB - COM SMOTE - THRESHOLD = 0 ~ 1   ***\n"
     ]
    },
    {
     "name": "stderr",
     "output_type": "stream",
     "text": [
      "c:\\users\\m_day\\.venvs\\lewagon\\lib\\site-packages\\sklearn\\metrics\\_classification.py:1221: UndefinedMetricWarning: Precision and F-score are ill-defined and being set to 0.0 in labels with no predicted samples. Use `zero_division` parameter to control this behavior.\n",
      "  _warn_prf(average, modifier, msg_start, len(result))\n"
     ]
    },
    {
     "data": {
      "image/png": "[encoded data removed]",
      "text/plain": [
       "<Figure size 432x288 with 1 Axes>"
      ]
     },
     "metadata": {
      "needs_background": "light"
     },
     "output_type": "display_data"
    }
   ],
   "source": [
    "y_pred_proba_xgb = CV_xgb.best_estimator_.predict_proba(Xx_test)\n",
    "y_pred_proba_xgb = np.delete(y_pred_proba_xgb, 0, 1)\n",
    "thresholds = np.arange(0.0, 1.05, 0.05)\n",
    "metrics_per_threshold_xgb = []\n",
    "\n",
    "for threshold in thresholds:\n",
    "    y_pred_xgb = y_pred_proba_xgb.copy()\n",
    "    for row in range(len(yx_pred_xgb)):\n",
    "        if yx_pred_xgb[row] > threshold:\n",
    "            yx_pred_xgb[row] = 1\n",
    "        else:\n",
    "            yx_pred_xgb[row] = 0\n",
    "    precision_0 = classification_report(y_true=yx_test, y_pred=yx_pred_xgb, output_dict=True)['0']['precision']\n",
    "    recall_0 = classification_report(y_true=yx_test, y_pred=yx_pred_xgb, output_dict=True)['0']['recall']\n",
    "    metrics_per_threshold_xgb.append([threshold, precision_0, recall_0])\n",
    "metrics_per_threshold_xgb\n",
    "\n",
    "print('***   XGB - COM SMOTE - THRESHOLD = 0 ~ 1   ***')\n",
    "plt.plot(np.array(metrics_per_threshold_xgb)[:,0], np.array(metrics_per_threshold_xgb)[:,1])\n",
    "plt.plot(np.array(metrics_per_threshold_xgb)[:,0], np.array(metrics_per_threshold_xgb)[:,2])\n",
    "plt.title('Metrics X Threshold')\n",
    "plt.ylabel('Metric')\n",
    "plt.xlabel('Threshold')\n",
    "plt.legend(['Precision 0', 'Recall 0'], loc='best')\n",
    "plt.show()"
   ]
  },
  {
   "cell_type": "code",
   "execution_count": 61,
   "metadata": {},
   "outputs": [
    {
     "name": "stdout",
     "output_type": "stream",
     "text": [
      "No Skill: ROC AUC=0.500\n",
      "Logistic: ROC AUC=0.568\n"
     ]
    },
    {
     "data": {
      "image/png": "[encoded data removed]",
      "text/plain": [
       "<Figure size 432x288 with 1 Axes>"
      ]
     },
     "metadata": {
      "needs_background": "light"
     },
     "output_type": "display_data"
    }
   ],
   "source": [
    "#It returns the AUC score between 0.0 and 1.0 for no skill and perfect skill respectively.\n",
    "\n",
    "# ROC AUC for Random Forest with RandomSearch\n",
    "# generate a no skill prediction (majority class)\n",
    "ns_probs = [0 for _ in range(len(yx_test))]\n",
    "# predict probabilities\n",
    "lr_probs = xgb_rs.predict_proba(Xx_test)\n",
    "# keep probabilities for the positive outcome only\n",
    "lr_probs = lr_probs[:, 1]\n",
    "# calculate scores\n",
    "ns_auc = roc_auc_score(yx_test, ns_probs)\n",
    "lr_auc = roc_auc_score(yx_test, lr_probs)\n",
    "# summarize scores\n",
    "print('No Skill: ROC AUC=%.3f' % (ns_auc))\n",
    "print('Logistic: ROC AUC=%.3f' % (lr_auc))\n",
    "# calculate roc curves\n",
    "ns_fpr, ns_tpr, _ = roc_curve(yx_test, ns_probs)\n",
    "lr_fpr, lr_tpr, _ = roc_curve(yx_test, lr_probs)\n",
    "# plot the roc curve for the model\n",
    "plt.plot(ns_fpr, ns_tpr, linestyle='--', label='No Skill Classifier')\n",
    "plt.plot(lr_fpr, lr_tpr, marker='.', label='AdaBoost GridSearch')\n",
    "# axis labels\n",
    "plt.xlabel('False Positive Rate')\n",
    "plt.ylabel('True Positive Rate')\n",
    "# show the legend\n",
    "plt.legend()\n",
    "# show the plot\n",
    "plt.show()"
   ]
  }
 ],
 "metadata": {
  "kernelspec": {
   "display_name": "Python 3",
   "language": "python",
   "name": "python3"
  },
  "language_info": {
   "codemirror_mode": {
    "name": "ipython",
    "version": 3
   },
   "file_extension": ".py",
   "mimetype": "text/x-python",
   "name": "python",
   "nbconvert_exporter": "python",
   "pygments_lexer": "ipython3",
   "version": "3.7.7"
  }
 },
 "nbformat": 4,
 "nbformat_minor": 4
}
